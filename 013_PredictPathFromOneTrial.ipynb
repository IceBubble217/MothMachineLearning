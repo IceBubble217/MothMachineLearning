{
 "cells": [
  {
   "cell_type": "markdown",
   "metadata": {},
   "source": [
    "## Callin Switzer\n",
    "## Try to follow a trajectory, based on nnet"
   ]
  },
  {
   "cell_type": "code",
   "execution_count": 1,
   "metadata": {},
   "outputs": [
    {
     "name": "stderr",
     "output_type": "stream",
     "text": [
      "C:\\Users\\calli\\Anaconda3\\envs\\deeplearning\\lib\\site-packages\\h5py\\__init__.py:36: FutureWarning: Conversion of the second argument of issubdtype from `float` to `np.floating` is deprecated. In future, it will be treated as `np.float64 == np.dtype(float).type`.\n",
      "  from ._conv import register_converters as _register_converters\n"
     ]
    },
    {
     "name": "stdout",
     "output_type": "stream",
     "text": [
      "TensorFlow successfully installed.\n",
      "The installed version of TensorFlow includes GPU support.\n",
      "3.6.4 |Anaconda custom (64-bit)| (default, Jan 16 2018, 10:22:32) [MSC v.1900 64 bit (AMD64)] \n",
      "\n",
      "last run on 2019-01-01 21:50:03.252415\n"
     ]
    }
   ],
   "source": [
    "import numpy as np\n",
    "from matplotlib import pyplot as plt\n",
    "%matplotlib inline\n",
    "\n",
    "import os\n",
    "import pandas as pd\n",
    "import time\n",
    "from datetime import datetime\n",
    "import sys\n",
    "import csv\n",
    "import seaborn as sns\n",
    "sns.set(style=\"ticks\")\n",
    "import scipy.io\n",
    "import subprocess\n",
    "import csv\n",
    "import pickle\n",
    "\n",
    "import tensorflow as tf\n",
    "print(\"TensorFlow successfully installed.\")\n",
    "if tf.test.is_built_with_cuda():\n",
    "    print(\"The installed version of TensorFlow includes GPU support.\")\n",
    "\n",
    "print(sys.version, \"\\n\")\n",
    "\n",
    "now = datetime.now()\n",
    "print(\"last run on \" + str(now))\n",
    "\n",
    "#%qtconsole\n",
    "\n",
    "# define directories\n",
    "baseDir = os.getcwd()\n",
    "dataDir = r'D:\\MothSimulations\\11c-AggressiveManeuver\\Qstore\\hws_am_con'\n",
    "figDir = r'D:\\Dropbox\\AcademiaDropbox\\mothMachineLearning_dataAndFigs\\Figs'\n",
    "dataOutput = r'D:\\Dropbox\\AcademiaDropbox\\mothMachineLearning_dataAndFigs\\DataOutput'\n",
    "savedModels = r'D:\\Dropbox\\AcademiaDropbox\\mothMachineLearning_dataAndFigs\\savedModels'\n",
    "randomRawData = r'D:/Dropbox/AcademiaDropbox/mothMachineLearning_dataAndFigs/PythonGeneratedData'\n",
    "\n",
    "if not os.path.exists(dataOutput):\n",
    "    os.mkdir(dataOutput)\n",
    "if not os.path.exists(savedModels):\n",
    "    os.mkdir(savedModels)\n",
    "    \n",
    "# open file explorer\n",
    "# aa = r'explorer /select,\"'\n",
    "# subprocess.Popen(str(aa + figDir + '\\\"'))\n",
    "# subprocess.Popen(str(aa + dataDir + '\\\"'))"
   ]
  },
  {
   "cell_type": "code",
   "execution_count": 2,
   "metadata": {},
   "outputs": [
    {
     "name": "stdout",
     "output_type": "stream",
     "text": [
      "TensorFlow successfully installed.\n",
      "The installed version of TensorFlow includes GPU support.\n",
      "3.6.4 |Anaconda custom (64-bit)| (default, Jan 16 2018, 10:22:32) [MSC v.1900 64 bit (AMD64)] \n",
      "\n",
      "last run on 2019-01-01 21:50:03.259366\n"
     ]
    }
   ],
   "source": [
    "# import custom Utils functions\n",
    "from DeepLearningUtils import *"
   ]
  },
  {
   "cell_type": "code",
   "execution_count": 3,
   "metadata": {},
   "outputs": [
    {
     "name": "stderr",
     "output_type": "stream",
     "text": [
      "Using TensorFlow backend.\n"
     ]
    }
   ],
   "source": [
    "from keras.layers import Input, Dense, Dropout, BatchNormalization\n",
    "from keras.models import Model\n",
    "from keras import regularizers\n",
    "\n",
    "# Keras callcacks\n",
    "from keras.callbacks import EarlyStopping, ReduceLROnPlateau\n",
    "import keras.backend as K"
   ]
  },
  {
   "cell_type": "code",
   "execution_count": 4,
   "metadata": {},
   "outputs": [],
   "source": [
    "# Load model\n",
    "K.clear_session()\n",
    "from keras.models import load_model\n",
    "model = load_model(os.path.join(savedModels, 'my_model_400Units.h5'))"
   ]
  },
  {
   "cell_type": "code",
   "execution_count": 5,
   "metadata": {},
   "outputs": [],
   "source": [
    "# Generate path to follow\n",
    "# 2 Hz sine wave, points 0.02 sec apart\n",
    "tsteps = np.linspace(0, 0.5, num = 26)\n",
    "sig = 10 * np.sin(2*np.pi* 2*tsteps)"
   ]
  },
  {
   "cell_type": "code",
   "execution_count": 13,
   "metadata": {},
   "outputs": [
    {
     "data": {
      "text/html": [
       "<div>\n",
       "<style scoped>\n",
       "    .dataframe tbody tr th:only-of-type {\n",
       "        vertical-align: middle;\n",
       "    }\n",
       "\n",
       "    .dataframe tbody tr th {\n",
       "        vertical-align: top;\n",
       "    }\n",
       "\n",
       "    .dataframe thead th {\n",
       "        text-align: right;\n",
       "    }\n",
       "</style>\n",
       "<table border=\"1\" class=\"dataframe\">\n",
       "  <thead>\n",
       "    <tr style=\"text-align: right;\">\n",
       "      <th></th>\n",
       "      <th>tsteps</th>\n",
       "      <th>signal</th>\n",
       "      <th>x_0</th>\n",
       "      <th>x_99</th>\n",
       "      <th>y_0</th>\n",
       "      <th>y_99</th>\n",
       "      <th>theta_0</th>\n",
       "      <th>theta_99</th>\n",
       "      <th>phi_0</th>\n",
       "      <th>phi_99</th>\n",
       "      <th>x_dot_0</th>\n",
       "      <th>y_dot_0</th>\n",
       "      <th>phi_dot_0</th>\n",
       "      <th>theta_dot_0</th>\n",
       "      <th>Fx</th>\n",
       "      <th>Fy</th>\n",
       "      <th>tau_pred</th>\n",
       "      <th>x_99_actual</th>\n",
       "      <th>xd_99_actual</th>\n",
       "      <th>y_99_actual</th>\n",
       "      <th>yd_99_actual</th>\n",
       "      <th>theta_99_actual</th>\n",
       "      <th>thetad_99_actual</th>\n",
       "      <th>phi_99_actual</th>\n",
       "      <th>phid_99_actual</th>\n",
       "      <th>F_pred</th>\n",
       "      <th>alpha_pred</th>\n",
       "    </tr>\n",
       "  </thead>\n",
       "  <tbody>\n",
       "    <tr>\n",
       "      <th>0</th>\n",
       "      <td>0.00</td>\n",
       "      <td>0.000000</td>\n",
       "      <td>0.0</td>\n",
       "      <td>0.0</td>\n",
       "      <td>0.0</td>\n",
       "      <td>NaN</td>\n",
       "      <td>0.785398</td>\n",
       "      <td>0.785398</td>\n",
       "      <td>3.926991</td>\n",
       "      <td>3.926991</td>\n",
       "      <td>0.0001</td>\n",
       "      <td>0.0001</td>\n",
       "      <td>0.0001</td>\n",
       "      <td>0.0001</td>\n",
       "      <td>0.0</td>\n",
       "      <td>0.0</td>\n",
       "      <td>0.0</td>\n",
       "      <td>0</td>\n",
       "      <td>0</td>\n",
       "      <td>0</td>\n",
       "      <td>0</td>\n",
       "      <td>0</td>\n",
       "      <td>0</td>\n",
       "      <td>0</td>\n",
       "      <td>0</td>\n",
       "      <td>0</td>\n",
       "      <td>0</td>\n",
       "    </tr>\n",
       "    <tr>\n",
       "      <th>1</th>\n",
       "      <td>0.02</td>\n",
       "      <td>2.486899</td>\n",
       "      <td>0.0</td>\n",
       "      <td>0.0</td>\n",
       "      <td>0.0</td>\n",
       "      <td>2.486899</td>\n",
       "      <td>0.785398</td>\n",
       "      <td>0.785398</td>\n",
       "      <td>3.926991</td>\n",
       "      <td>3.926991</td>\n",
       "      <td>0.0001</td>\n",
       "      <td>0.0001</td>\n",
       "      <td>0.0001</td>\n",
       "      <td>0.0001</td>\n",
       "      <td>0.0</td>\n",
       "      <td>0.0</td>\n",
       "      <td>0.0</td>\n",
       "      <td>0</td>\n",
       "      <td>0</td>\n",
       "      <td>0</td>\n",
       "      <td>0</td>\n",
       "      <td>0</td>\n",
       "      <td>0</td>\n",
       "      <td>0</td>\n",
       "      <td>0</td>\n",
       "      <td>0</td>\n",
       "      <td>0</td>\n",
       "    </tr>\n",
       "    <tr>\n",
       "      <th>2</th>\n",
       "      <td>0.04</td>\n",
       "      <td>4.817537</td>\n",
       "      <td>0.0</td>\n",
       "      <td>0.0</td>\n",
       "      <td>0.0</td>\n",
       "      <td>2.330638</td>\n",
       "      <td>0.785398</td>\n",
       "      <td>0.785398</td>\n",
       "      <td>3.926991</td>\n",
       "      <td>3.926991</td>\n",
       "      <td>0.0001</td>\n",
       "      <td>0.0001</td>\n",
       "      <td>0.0001</td>\n",
       "      <td>0.0001</td>\n",
       "      <td>0.0</td>\n",
       "      <td>0.0</td>\n",
       "      <td>0.0</td>\n",
       "      <td>0</td>\n",
       "      <td>0</td>\n",
       "      <td>0</td>\n",
       "      <td>0</td>\n",
       "      <td>0</td>\n",
       "      <td>0</td>\n",
       "      <td>0</td>\n",
       "      <td>0</td>\n",
       "      <td>0</td>\n",
       "      <td>0</td>\n",
       "    </tr>\n",
       "    <tr>\n",
       "      <th>3</th>\n",
       "      <td>0.06</td>\n",
       "      <td>6.845471</td>\n",
       "      <td>0.0</td>\n",
       "      <td>0.0</td>\n",
       "      <td>0.0</td>\n",
       "      <td>2.027934</td>\n",
       "      <td>0.785398</td>\n",
       "      <td>0.785398</td>\n",
       "      <td>3.926991</td>\n",
       "      <td>3.926991</td>\n",
       "      <td>0.0001</td>\n",
       "      <td>0.0001</td>\n",
       "      <td>0.0001</td>\n",
       "      <td>0.0001</td>\n",
       "      <td>0.0</td>\n",
       "      <td>0.0</td>\n",
       "      <td>0.0</td>\n",
       "      <td>0</td>\n",
       "      <td>0</td>\n",
       "      <td>0</td>\n",
       "      <td>0</td>\n",
       "      <td>0</td>\n",
       "      <td>0</td>\n",
       "      <td>0</td>\n",
       "      <td>0</td>\n",
       "      <td>0</td>\n",
       "      <td>0</td>\n",
       "    </tr>\n",
       "    <tr>\n",
       "      <th>4</th>\n",
       "      <td>0.08</td>\n",
       "      <td>8.443279</td>\n",
       "      <td>0.0</td>\n",
       "      <td>0.0</td>\n",
       "      <td>0.0</td>\n",
       "      <td>1.597808</td>\n",
       "      <td>0.785398</td>\n",
       "      <td>0.785398</td>\n",
       "      <td>3.926991</td>\n",
       "      <td>3.926991</td>\n",
       "      <td>0.0001</td>\n",
       "      <td>0.0001</td>\n",
       "      <td>0.0001</td>\n",
       "      <td>0.0001</td>\n",
       "      <td>0.0</td>\n",
       "      <td>0.0</td>\n",
       "      <td>0.0</td>\n",
       "      <td>0</td>\n",
       "      <td>0</td>\n",
       "      <td>0</td>\n",
       "      <td>0</td>\n",
       "      <td>0</td>\n",
       "      <td>0</td>\n",
       "      <td>0</td>\n",
       "      <td>0</td>\n",
       "      <td>0</td>\n",
       "      <td>0</td>\n",
       "    </tr>\n",
       "  </tbody>\n",
       "</table>\n",
       "</div>"
      ],
      "text/plain": [
       "   tsteps    signal  x_0  x_99  y_0      y_99   theta_0  theta_99     phi_0  \\\n",
       "0    0.00  0.000000  0.0   0.0  0.0       NaN  0.785398  0.785398  3.926991   \n",
       "1    0.02  2.486899  0.0   0.0  0.0  2.486899  0.785398  0.785398  3.926991   \n",
       "2    0.04  4.817537  0.0   0.0  0.0  2.330638  0.785398  0.785398  3.926991   \n",
       "3    0.06  6.845471  0.0   0.0  0.0  2.027934  0.785398  0.785398  3.926991   \n",
       "4    0.08  8.443279  0.0   0.0  0.0  1.597808  0.785398  0.785398  3.926991   \n",
       "\n",
       "     phi_99  x_dot_0  y_dot_0  phi_dot_0  theta_dot_0   Fx   Fy  tau_pred  \\\n",
       "0  3.926991   0.0001   0.0001     0.0001       0.0001  0.0  0.0       0.0   \n",
       "1  3.926991   0.0001   0.0001     0.0001       0.0001  0.0  0.0       0.0   \n",
       "2  3.926991   0.0001   0.0001     0.0001       0.0001  0.0  0.0       0.0   \n",
       "3  3.926991   0.0001   0.0001     0.0001       0.0001  0.0  0.0       0.0   \n",
       "4  3.926991   0.0001   0.0001     0.0001       0.0001  0.0  0.0       0.0   \n",
       "\n",
       "   x_99_actual  xd_99_actual  y_99_actual  yd_99_actual  theta_99_actual  \\\n",
       "0            0             0            0             0                0   \n",
       "1            0             0            0             0                0   \n",
       "2            0             0            0             0                0   \n",
       "3            0             0            0             0                0   \n",
       "4            0             0            0             0                0   \n",
       "\n",
       "   thetad_99_actual  phi_99_actual  phid_99_actual  F_pred  alpha_pred  \n",
       "0                 0              0               0       0           0  \n",
       "1                 0              0               0       0           0  \n",
       "2                 0              0               0       0           0  \n",
       "3                 0              0               0       0           0  \n",
       "4                 0              0               0       0           0  "
      ]
     },
     "execution_count": 13,
     "metadata": {},
     "output_type": "execute_result"
    }
   ],
   "source": [
    "# Predict steps with nnet (without feedback)\n",
    "x_0 = np.repeat(0, len(tsteps))\n",
    "x_f = x_0.copy()\n",
    "y_0 = x_0.copy()\n",
    "y_error = np.hstack([np.nan, np.diff(sig)])\n",
    "theta_0 = np.repeat(0.785398, len(tsteps))\n",
    "phi_0 = np.repeat(3.926991, len(tsteps))\n",
    "x_dot_0 = np.repeat(0.0001, len(tsteps))\n",
    "y_dot_0 = np.repeat(0.0001, len(tsteps))\n",
    "phi_dot_0 = np.repeat(0.0001, len(tsteps))\n",
    "theta_dot_0 = np.repeat(0.0001, len(tsteps))\n",
    "Fx = np.repeat(0, len(tsteps))\n",
    "Fy = np.repeat(0, len(tsteps))\n",
    "tau = np.repeat(0, len(tsteps))\n",
    "\n",
    "\n",
    "predDF = pd.DataFrame(np.transpose(np.array([tsteps, \n",
    "                                             sig, \n",
    "                                             x_0,\n",
    "                                             x_f,\n",
    "                                             y_0,\n",
    "                                             y_error,\n",
    "                                             theta_0,\n",
    "                                             theta_0,\n",
    "                                             phi_0, \n",
    "                                             phi_0, \n",
    "                                             x_dot_0, \n",
    "                                             y_dot_0, \n",
    "                                             phi_dot_0, \n",
    "                                             theta_dot_0, \n",
    "                                             Fx, \n",
    "                                             Fy, \n",
    "                                             tau\n",
    "                                            ])), \n",
    "                     columns=[\"tsteps\", \"signal\", \"x_0\", \"x_99\", \"y_0\", \"y_99\", \n",
    "                             \"theta_0\", \"theta_99\", \"phi_0\", \"phi_99\", \n",
    "                             \"x_dot_0\", \"y_dot_0\", \"phi_dot_0\", \"theta_dot_0\", \n",
    "                             \"Fx\", \"Fy\", \"tau_pred\"])\n",
    "\n",
    "\n",
    "\n",
    "predDF[\"x_99_actual\"] = 0\n",
    "predDF[\"xd_99_actual\"] = 0\n",
    "predDF[\"y_99_actual\"] = 0\n",
    "predDF[\"yd_99_actual\"] = 0\n",
    "\n",
    "predDF[\"theta_99_actual\"] = 0\n",
    "predDF[\"thetad_99_actual\"] = 0\n",
    "\n",
    "predDF[\"phi_99_actual\"] = 0\n",
    "predDF[\"phid_99_actual\"] = 0\n",
    "\n",
    "predDF[\"F_pred\"] = 0\n",
    "predDF[\"alpha_pred\"] = 0\n",
    "\n",
    "\n",
    "pd.set_option('display.max_columns', 500)\n",
    "predDF.head()\n",
    "\n",
    "# X = testDF.loc[:, [\"x_0\", \"y_0\", \"phi_0\", \"theta_0\", \n",
    "#                     \"x_99\", \"y_99\", \"phi_99\", \"theta_99\", \n",
    "#                    \"x_dot_0\", \"y_dot_0\", \"phi_dot_0\", \"theta_dot_0\"]]"
   ]
  },
  {
   "cell_type": "code",
   "execution_count": 14,
   "metadata": {},
   "outputs": [],
   "source": [
    "# scale data for nnet predictions\n",
    "X = predDF.loc[1:, [\"x_0\", \"y_0\", \"phi_0\", \"theta_0\", \n",
    "                    \"x_99\", \"y_99\", \"phi_99\", \"theta_99\", \n",
    "                   \"x_dot_0\", \"y_dot_0\", \"phi_dot_0\", \"theta_dot_0\"]]\n",
    "\n",
    "# scale data\n",
    "scalerfileX = 'scalerX.pkl'\n",
    "scalerfileY = 'scalerY.pkl'\n",
    "\n",
    "scalerX = pickle.load(open(os.path.join(dataOutput, scalerfileX), 'rb'))\n",
    "X_scaled = scalerX.transform(X)\n",
    "\n",
    "scalerY = pickle.load(open(os.path.join(dataOutput, scalerfileY), 'rb'))"
   ]
  },
  {
   "cell_type": "code",
   "execution_count": 15,
   "metadata": {},
   "outputs": [
    {
     "name": "stdout",
     "output_type": "stream",
     "text": [
      "[0.000000e+00 1.000000e-04 0.000000e+00 1.000000e-04 7.853980e-01\n",
      " 1.000000e-04 3.926991e+00 1.000000e-04]\n",
      "     x_dot_0     y_dot_0  phi_dot_0  theta_dot_0\n",
      "0 -89.186897  261.604553  -0.066532    -0.632923\n"
     ]
    }
   ],
   "source": [
    "# predict steps one at a time\n",
    "rowNum = 1\n",
    "\n",
    "nnpreds = model.predict(X_scaled[rowNum, :].reshape(-1,12))\n",
    "nnpreds_unscaled = scalerY.inverse_transform(nnpreds)\n",
    "\n",
    "# Y = testDF.loc[:, [\"Fx\", \"Fy\", \"tau\", \"x_dot_99\", \"y_dot_99\", \n",
    "#                    \"phi_dot_99\", \"theta_dot_99\"] ]\n",
    "\n",
    "\n",
    "# these are input values\n",
    "##         x,    xd,    y,   yd,    theta,  thetad,       phi,     phid,         F,          alpha,       tau0\n",
    "print(np.array(X.loc[rowNum, [\"x_0\", \"x_dot_0\", \"y_0\", \"y_dot_0\", \"theta_0\", \"theta_dot_0\", \"phi_0\", \"phi_dot_0\"]]))\n",
    "\n",
    "# this is for the next step -- they are predictions\n",
    "print(pd.DataFrame(np.array(nnpreds_unscaled[0, [3,4,5,6]]).reshape(1, -1), columns =[\"x_dot_0\", \"y_dot_0\", \"phi_dot_0\", \"theta_dot_0\"]))\n"
   ]
  },
  {
   "cell_type": "code",
   "execution_count": 18,
   "metadata": {},
   "outputs": [
    {
     "data": {
      "text/html": [
       "<div>\n",
       "<style scoped>\n",
       "    .dataframe tbody tr th:only-of-type {\n",
       "        vertical-align: middle;\n",
       "    }\n",
       "\n",
       "    .dataframe tbody tr th {\n",
       "        vertical-align: top;\n",
       "    }\n",
       "\n",
       "    .dataframe thead th {\n",
       "        text-align: right;\n",
       "    }\n",
       "</style>\n",
       "<table border=\"1\" class=\"dataframe\">\n",
       "  <thead>\n",
       "    <tr style=\"text-align: right;\">\n",
       "      <th></th>\n",
       "      <th>tsteps</th>\n",
       "      <th>signal</th>\n",
       "      <th>x_0</th>\n",
       "      <th>x_99</th>\n",
       "      <th>y_0</th>\n",
       "      <th>y_99</th>\n",
       "      <th>theta_0</th>\n",
       "      <th>theta_99</th>\n",
       "      <th>phi_0</th>\n",
       "      <th>phi_99</th>\n",
       "      <th>x_dot_0</th>\n",
       "      <th>y_dot_0</th>\n",
       "      <th>phi_dot_0</th>\n",
       "      <th>theta_dot_0</th>\n",
       "      <th>Fx</th>\n",
       "      <th>Fy</th>\n",
       "      <th>tau_pred</th>\n",
       "      <th>x_99_actual</th>\n",
       "      <th>xd_99_actual</th>\n",
       "      <th>y_99_actual</th>\n",
       "      <th>yd_99_actual</th>\n",
       "      <th>theta_99_actual</th>\n",
       "      <th>thetad_99_actual</th>\n",
       "      <th>phi_99_actual</th>\n",
       "      <th>phid_99_actual</th>\n",
       "      <th>F_pred</th>\n",
       "      <th>alpha_pred</th>\n",
       "    </tr>\n",
       "  </thead>\n",
       "  <tbody>\n",
       "    <tr>\n",
       "      <th>0</th>\n",
       "      <td>0.00</td>\n",
       "      <td>0.000000</td>\n",
       "      <td>0.0</td>\n",
       "      <td>0.0</td>\n",
       "      <td>0.0</td>\n",
       "      <td>NaN</td>\n",
       "      <td>0.785398</td>\n",
       "      <td>0.785398</td>\n",
       "      <td>3.926991</td>\n",
       "      <td>3.926991</td>\n",
       "      <td>0.0001</td>\n",
       "      <td>0.0001</td>\n",
       "      <td>0.0001</td>\n",
       "      <td>0.0001</td>\n",
       "      <td>0.0</td>\n",
       "      <td>0.0</td>\n",
       "      <td>0.000000</td>\n",
       "      <td>0</td>\n",
       "      <td>0</td>\n",
       "      <td>0</td>\n",
       "      <td>0</td>\n",
       "      <td>0</td>\n",
       "      <td>0</td>\n",
       "      <td>0</td>\n",
       "      <td>0</td>\n",
       "      <td>0.00000</td>\n",
       "      <td>0.000000</td>\n",
       "    </tr>\n",
       "    <tr>\n",
       "      <th>1</th>\n",
       "      <td>0.02</td>\n",
       "      <td>2.486899</td>\n",
       "      <td>0.0</td>\n",
       "      <td>0.0</td>\n",
       "      <td>0.0</td>\n",
       "      <td>2.486899</td>\n",
       "      <td>0.785398</td>\n",
       "      <td>0.785398</td>\n",
       "      <td>3.926991</td>\n",
       "      <td>3.926991</td>\n",
       "      <td>0.0001</td>\n",
       "      <td>0.0001</td>\n",
       "      <td>0.0001</td>\n",
       "      <td>0.0001</td>\n",
       "      <td>0.0</td>\n",
       "      <td>0.0</td>\n",
       "      <td>-3468.092041</td>\n",
       "      <td>0</td>\n",
       "      <td>0</td>\n",
       "      <td>0</td>\n",
       "      <td>0</td>\n",
       "      <td>0</td>\n",
       "      <td>0</td>\n",
       "      <td>0</td>\n",
       "      <td>0</td>\n",
       "      <td>14022.81543</td>\n",
       "      <td>1.174873</td>\n",
       "    </tr>\n",
       "    <tr>\n",
       "      <th>2</th>\n",
       "      <td>0.04</td>\n",
       "      <td>4.817537</td>\n",
       "      <td>0.0</td>\n",
       "      <td>0.0</td>\n",
       "      <td>0.0</td>\n",
       "      <td>2.330638</td>\n",
       "      <td>0.785398</td>\n",
       "      <td>0.785398</td>\n",
       "      <td>3.926991</td>\n",
       "      <td>3.926991</td>\n",
       "      <td>0.0001</td>\n",
       "      <td>0.0001</td>\n",
       "      <td>0.0001</td>\n",
       "      <td>0.0001</td>\n",
       "      <td>0.0</td>\n",
       "      <td>0.0</td>\n",
       "      <td>0.000000</td>\n",
       "      <td>0</td>\n",
       "      <td>0</td>\n",
       "      <td>0</td>\n",
       "      <td>0</td>\n",
       "      <td>0</td>\n",
       "      <td>0</td>\n",
       "      <td>0</td>\n",
       "      <td>0</td>\n",
       "      <td>0.00000</td>\n",
       "      <td>0.000000</td>\n",
       "    </tr>\n",
       "    <tr>\n",
       "      <th>3</th>\n",
       "      <td>0.06</td>\n",
       "      <td>6.845471</td>\n",
       "      <td>0.0</td>\n",
       "      <td>0.0</td>\n",
       "      <td>0.0</td>\n",
       "      <td>2.027934</td>\n",
       "      <td>0.785398</td>\n",
       "      <td>0.785398</td>\n",
       "      <td>3.926991</td>\n",
       "      <td>3.926991</td>\n",
       "      <td>0.0001</td>\n",
       "      <td>0.0001</td>\n",
       "      <td>0.0001</td>\n",
       "      <td>0.0001</td>\n",
       "      <td>0.0</td>\n",
       "      <td>0.0</td>\n",
       "      <td>0.000000</td>\n",
       "      <td>0</td>\n",
       "      <td>0</td>\n",
       "      <td>0</td>\n",
       "      <td>0</td>\n",
       "      <td>0</td>\n",
       "      <td>0</td>\n",
       "      <td>0</td>\n",
       "      <td>0</td>\n",
       "      <td>0.00000</td>\n",
       "      <td>0.000000</td>\n",
       "    </tr>\n",
       "    <tr>\n",
       "      <th>4</th>\n",
       "      <td>0.08</td>\n",
       "      <td>8.443279</td>\n",
       "      <td>0.0</td>\n",
       "      <td>0.0</td>\n",
       "      <td>0.0</td>\n",
       "      <td>1.597808</td>\n",
       "      <td>0.785398</td>\n",
       "      <td>0.785398</td>\n",
       "      <td>3.926991</td>\n",
       "      <td>3.926991</td>\n",
       "      <td>0.0001</td>\n",
       "      <td>0.0001</td>\n",
       "      <td>0.0001</td>\n",
       "      <td>0.0001</td>\n",
       "      <td>0.0</td>\n",
       "      <td>0.0</td>\n",
       "      <td>0.000000</td>\n",
       "      <td>0</td>\n",
       "      <td>0</td>\n",
       "      <td>0</td>\n",
       "      <td>0</td>\n",
       "      <td>0</td>\n",
       "      <td>0</td>\n",
       "      <td>0</td>\n",
       "      <td>0</td>\n",
       "      <td>0.00000</td>\n",
       "      <td>0.000000</td>\n",
       "    </tr>\n",
       "  </tbody>\n",
       "</table>\n",
       "</div>"
      ],
      "text/plain": [
       "   tsteps    signal  x_0  x_99  y_0      y_99   theta_0  theta_99     phi_0  \\\n",
       "0    0.00  0.000000  0.0   0.0  0.0       NaN  0.785398  0.785398  3.926991   \n",
       "1    0.02  2.486899  0.0   0.0  0.0  2.486899  0.785398  0.785398  3.926991   \n",
       "2    0.04  4.817537  0.0   0.0  0.0  2.330638  0.785398  0.785398  3.926991   \n",
       "3    0.06  6.845471  0.0   0.0  0.0  2.027934  0.785398  0.785398  3.926991   \n",
       "4    0.08  8.443279  0.0   0.0  0.0  1.597808  0.785398  0.785398  3.926991   \n",
       "\n",
       "     phi_99  x_dot_0  y_dot_0  phi_dot_0  theta_dot_0   Fx   Fy     tau_pred  \\\n",
       "0  3.926991   0.0001   0.0001     0.0001       0.0001  0.0  0.0     0.000000   \n",
       "1  3.926991   0.0001   0.0001     0.0001       0.0001  0.0  0.0 -3468.092041   \n",
       "2  3.926991   0.0001   0.0001     0.0001       0.0001  0.0  0.0     0.000000   \n",
       "3  3.926991   0.0001   0.0001     0.0001       0.0001  0.0  0.0     0.000000   \n",
       "4  3.926991   0.0001   0.0001     0.0001       0.0001  0.0  0.0     0.000000   \n",
       "\n",
       "   x_99_actual  xd_99_actual  y_99_actual  yd_99_actual  theta_99_actual  \\\n",
       "0            0             0            0             0                0   \n",
       "1            0             0            0             0                0   \n",
       "2            0             0            0             0                0   \n",
       "3            0             0            0             0                0   \n",
       "4            0             0            0             0                0   \n",
       "\n",
       "   thetad_99_actual  phi_99_actual  phid_99_actual       F_pred  alpha_pred  \n",
       "0                 0              0               0      0.00000    0.000000  \n",
       "1                 0              0               0  14022.81543    1.174873  \n",
       "2                 0              0               0      0.00000    0.000000  \n",
       "3                 0              0               0      0.00000    0.000000  \n",
       "4                 0              0               0      0.00000    0.000000  "
      ]
     },
     "execution_count": 18,
     "metadata": {},
     "output_type": "execute_result"
    }
   ],
   "source": [
    "PredControl = pd.DataFrame(np.array(nnpreds_unscaled[0, [0,1,2]]).reshape(1, -1), columns = [\"Fx\", \"Fy\", \"tau_pred\"])\n",
    "# convert to F, alpha, tau\n",
    "PredControl[\"F_pred\"] = np.sqrt(PredControl[\"Fx\"]**2 + PredControl[\"Fy\"]**2)\n",
    "\n",
    "# calculate alpha\n",
    "def quadrant(Fx, Fy):\n",
    "    if (Fx >= 0) & (Fy >= 0):\n",
    "        q = 1\n",
    "    elif (Fx < 0) & (Fy >= 0):\n",
    "        q = 2\n",
    "    elif (Fx < 0) & (Fy < 0):\n",
    "        q = 3\n",
    "    elif (Fx >= 0) & (Fy < 0):\n",
    "        q = 4\n",
    "    else:\n",
    "        q = 999999\n",
    "    return(q)\n",
    "\n",
    "PredControl[\"quadrant\"] = [quadrant(fx, fy) for fx,fy in zip(PredControl[\"Fx\"], PredControl[\"Fy\"])]\n",
    "\n",
    "def angleCalc(Fx, Fy, q):\n",
    "    fx = np.abs(Fx)\n",
    "    fy = np.abs(Fy)\n",
    "    \n",
    "    if q == 1:\n",
    "        alpha = np.arctan(fy/fx)\n",
    "    elif q == 2:\n",
    "        alpha = np.pi - np.arctan(fy/fx)\n",
    "    elif q == 3: \n",
    "        alpha = np.pi + np.arctan(fy/fx)\n",
    "    elif q == 4:\n",
    "        alpha = (2*np.pi) - np.arctan(fy/fx)\n",
    "    return(alpha)\n",
    "\n",
    "PredControl[\"alpha_pred\"] = [angleCalc(fx, fy, q) for fx, fy, q in zip(PredControl[\"Fx\"], PredControl[\"Fy\"], PredControl[\"quadrant\"])]\n",
    "\n",
    "predDF.loc[[rowNum], [\"F_pred\", \"alpha_pred\", \"tau_pred\"]] = np.array(PredControl.loc[:, [\"F_pred\", \"alpha_pred\", \"tau_pred\"]])\n",
    "predDF.head()"
   ]
  },
  {
   "cell_type": "code",
   "execution_count": 20,
   "metadata": {},
   "outputs": [],
   "source": [
    "predDF.to_csv(os.path.join(dataOutput, \"pathPrediction.csv\"), index = False)"
   ]
  },
  {
   "cell_type": "code",
   "execution_count": 19,
   "metadata": {},
   "outputs": [
    {
     "data": {
      "text/html": [
       "<div>\n",
       "<style scoped>\n",
       "    .dataframe tbody tr th:only-of-type {\n",
       "        vertical-align: middle;\n",
       "    }\n",
       "\n",
       "    .dataframe tbody tr th {\n",
       "        vertical-align: top;\n",
       "    }\n",
       "\n",
       "    .dataframe thead th {\n",
       "        text-align: right;\n",
       "    }\n",
       "</style>\n",
       "<table border=\"1\" class=\"dataframe\">\n",
       "  <thead>\n",
       "    <tr style=\"text-align: right;\">\n",
       "      <th></th>\n",
       "      <th>F_pred</th>\n",
       "      <th>alpha_pred</th>\n",
       "      <th>tau_pred</th>\n",
       "    </tr>\n",
       "  </thead>\n",
       "  <tbody>\n",
       "    <tr>\n",
       "      <th>0</th>\n",
       "      <td>14022.81543</td>\n",
       "      <td>1.174873</td>\n",
       "      <td>-3468.092041</td>\n",
       "    </tr>\n",
       "  </tbody>\n",
       "</table>\n",
       "</div>"
      ],
      "text/plain": [
       "        F_pred  alpha_pred     tau_pred\n",
       "0  14022.81543    1.174873 -3468.092041"
      ]
     },
     "execution_count": 19,
     "metadata": {},
     "output_type": "execute_result"
    }
   ],
   "source": [
    "PredControl.loc[:, [\"F_pred\", \"alpha_pred\", \"tau_pred\"]]"
   ]
  },
  {
   "cell_type": "markdown",
   "metadata": {},
   "source": [
    "___"
   ]
  },
  {
   "cell_type": "code",
   "execution_count": 48,
   "metadata": {},
   "outputs": [
    {
     "data": {
      "text/html": [
       "<div>\n",
       "<style scoped>\n",
       "    .dataframe tbody tr th:only-of-type {\n",
       "        vertical-align: middle;\n",
       "    }\n",
       "\n",
       "    .dataframe tbody tr th {\n",
       "        vertical-align: top;\n",
       "    }\n",
       "\n",
       "    .dataframe thead th {\n",
       "        text-align: right;\n",
       "    }\n",
       "</style>\n",
       "<table border=\"1\" class=\"dataframe\">\n",
       "  <thead>\n",
       "    <tr style=\"text-align: right;\">\n",
       "      <th></th>\n",
       "      <th>x_0</th>\n",
       "      <th>x_dot_0</th>\n",
       "      <th>y_0</th>\n",
       "      <th>y_dot_0</th>\n",
       "      <th>theta_0</th>\n",
       "      <th>theta_dot_0</th>\n",
       "      <th>phi_0</th>\n",
       "      <th>phi_dot_0</th>\n",
       "    </tr>\n",
       "  </thead>\n",
       "  <tbody>\n",
       "    <tr>\n",
       "      <th>0</th>\n",
       "      <td>-44.257763</td>\n",
       "      <td>-815.424549</td>\n",
       "      <td>55.146472</td>\n",
       "      <td>639.336816</td>\n",
       "      <td>2.049779</td>\n",
       "      <td>20.336941</td>\n",
       "      <td>5.231549</td>\n",
       "      <td>20.674704</td>\n",
       "    </tr>\n",
       "  </tbody>\n",
       "</table>\n",
       "</div>"
      ],
      "text/plain": [
       "         x_0     x_dot_0        y_0     y_dot_0   theta_0  theta_dot_0  \\\n",
       "0 -44.257763 -815.424549  55.146472  639.336816  2.049779    20.336941   \n",
       "\n",
       "      phi_0  phi_dot_0  \n",
       "0  5.231549  20.674704  "
      ]
     },
     "execution_count": 48,
     "metadata": {},
     "output_type": "execute_result"
    }
   ],
   "source": [
    "rowNum = 5\n",
    "\n",
    "newRow = pd.DataFrame(np.array([\n",
    "    -44.25776313553574,\n",
    " -815.4245488985321,\n",
    " 55.146471684974486,\n",
    " 639.3368156527224,\n",
    " 2.049779294815162,\n",
    " 20.336940630025254,\n",
    " 5.23154914477651,\n",
    " 20.674704195394455\n",
    "]).reshape(1, -1), \n",
    "            columns = [\"x_0\", \"x_dot_0\", \"y_0\", \"y_dot_0\", \"theta_0\", \"theta_dot_0\", \"phi_0\", \"phi_dot_0\"])\n",
    "newRow"
   ]
  },
  {
   "cell_type": "code",
   "execution_count": 49,
   "metadata": {},
   "outputs": [
    {
     "data": {
      "text/html": [
       "<div>\n",
       "<style scoped>\n",
       "    .dataframe tbody tr th:only-of-type {\n",
       "        vertical-align: middle;\n",
       "    }\n",
       "\n",
       "    .dataframe tbody tr th {\n",
       "        vertical-align: top;\n",
       "    }\n",
       "\n",
       "    .dataframe thead th {\n",
       "        text-align: right;\n",
       "    }\n",
       "</style>\n",
       "<table border=\"1\" class=\"dataframe\">\n",
       "  <thead>\n",
       "    <tr style=\"text-align: right;\">\n",
       "      <th></th>\n",
       "      <th>tsteps</th>\n",
       "      <th>signal</th>\n",
       "      <th>x_0</th>\n",
       "      <th>x_99</th>\n",
       "      <th>y_0</th>\n",
       "      <th>y_99</th>\n",
       "      <th>theta_0</th>\n",
       "      <th>theta_99</th>\n",
       "      <th>phi_0</th>\n",
       "      <th>phi_99</th>\n",
       "      <th>x_dot_0</th>\n",
       "      <th>y_dot_0</th>\n",
       "      <th>phi_dot_0</th>\n",
       "      <th>theta_dot_0</th>\n",
       "      <th>Fx</th>\n",
       "      <th>Fy</th>\n",
       "      <th>tau_pred</th>\n",
       "      <th>x_99_actual</th>\n",
       "      <th>xd_99_actual</th>\n",
       "      <th>y_99_actual</th>\n",
       "      <th>yd_99_actual</th>\n",
       "      <th>theta_99_actual</th>\n",
       "      <th>thetad_99_actual</th>\n",
       "      <th>phi_99_actual</th>\n",
       "      <th>phid_99_actual</th>\n",
       "      <th>F_pred</th>\n",
       "      <th>alpha_pred</th>\n",
       "    </tr>\n",
       "  </thead>\n",
       "  <tbody>\n",
       "    <tr>\n",
       "      <th>0</th>\n",
       "      <td>0.00</td>\n",
       "      <td>0.000000</td>\n",
       "      <td>0.000000</td>\n",
       "      <td>0.0</td>\n",
       "      <td>0.000000</td>\n",
       "      <td>NaN</td>\n",
       "      <td>0.785398</td>\n",
       "      <td>0.785398</td>\n",
       "      <td>3.926991</td>\n",
       "      <td>3.926991</td>\n",
       "      <td>0.000100</td>\n",
       "      <td>0.000100</td>\n",
       "      <td>0.000100</td>\n",
       "      <td>0.000100</td>\n",
       "      <td>0.0</td>\n",
       "      <td>0.0</td>\n",
       "      <td>0.000000</td>\n",
       "      <td>0</td>\n",
       "      <td>0</td>\n",
       "      <td>0</td>\n",
       "      <td>0</td>\n",
       "      <td>0</td>\n",
       "      <td>0</td>\n",
       "      <td>0</td>\n",
       "      <td>0</td>\n",
       "      <td>0.000000</td>\n",
       "      <td>0.000000</td>\n",
       "    </tr>\n",
       "    <tr>\n",
       "      <th>1</th>\n",
       "      <td>0.02</td>\n",
       "      <td>2.486899</td>\n",
       "      <td>0.000000</td>\n",
       "      <td>0.0</td>\n",
       "      <td>0.000000</td>\n",
       "      <td>2.486899</td>\n",
       "      <td>0.785398</td>\n",
       "      <td>0.785398</td>\n",
       "      <td>3.926991</td>\n",
       "      <td>3.926991</td>\n",
       "      <td>0.000100</td>\n",
       "      <td>0.000100</td>\n",
       "      <td>0.000100</td>\n",
       "      <td>0.000100</td>\n",
       "      <td>0.0</td>\n",
       "      <td>0.0</td>\n",
       "      <td>-3468.092041</td>\n",
       "      <td>0</td>\n",
       "      <td>0</td>\n",
       "      <td>0</td>\n",
       "      <td>0</td>\n",
       "      <td>0</td>\n",
       "      <td>0</td>\n",
       "      <td>0</td>\n",
       "      <td>0</td>\n",
       "      <td>14022.815430</td>\n",
       "      <td>1.174873</td>\n",
       "    </tr>\n",
       "    <tr>\n",
       "      <th>2</th>\n",
       "      <td>0.04</td>\n",
       "      <td>4.817537</td>\n",
       "      <td>-1.004802</td>\n",
       "      <td>0.0</td>\n",
       "      <td>2.192336</td>\n",
       "      <td>2.330638</td>\n",
       "      <td>0.820536</td>\n",
       "      <td>0.785398</td>\n",
       "      <td>3.968901</td>\n",
       "      <td>3.926991</td>\n",
       "      <td>-104.001496</td>\n",
       "      <td>221.031005</td>\n",
       "      <td>4.163187</td>\n",
       "      <td>3.817106</td>\n",
       "      <td>0.0</td>\n",
       "      <td>0.0</td>\n",
       "      <td>-3585.508545</td>\n",
       "      <td>0</td>\n",
       "      <td>0</td>\n",
       "      <td>0</td>\n",
       "      <td>0</td>\n",
       "      <td>0</td>\n",
       "      <td>0</td>\n",
       "      <td>0</td>\n",
       "      <td>0</td>\n",
       "      <td>12486.833008</td>\n",
       "      <td>1.206250</td>\n",
       "    </tr>\n",
       "    <tr>\n",
       "      <th>3</th>\n",
       "      <td>0.06</td>\n",
       "      <td>6.845471</td>\n",
       "      <td>-17.936405</td>\n",
       "      <td>0.0</td>\n",
       "      <td>29.150296</td>\n",
       "      <td>2.027934</td>\n",
       "      <td>1.360996</td>\n",
       "      <td>0.785398</td>\n",
       "      <td>4.529490</td>\n",
       "      <td>3.926991</td>\n",
       "      <td>-497.219047</td>\n",
       "      <td>623.503133</td>\n",
       "      <td>14.484268</td>\n",
       "      <td>14.143846</td>\n",
       "      <td>0.0</td>\n",
       "      <td>0.0</td>\n",
       "      <td>-3753.160400</td>\n",
       "      <td>0</td>\n",
       "      <td>0</td>\n",
       "      <td>0</td>\n",
       "      <td>0</td>\n",
       "      <td>0</td>\n",
       "      <td>0</td>\n",
       "      <td>0</td>\n",
       "      <td>0</td>\n",
       "      <td>10318.933594</td>\n",
       "      <td>1.265749</td>\n",
       "    </tr>\n",
       "    <tr>\n",
       "      <th>4</th>\n",
       "      <td>0.08</td>\n",
       "      <td>8.443279</td>\n",
       "      <td>-29.498495</td>\n",
       "      <td>0.0</td>\n",
       "      <td>42.071666</td>\n",
       "      <td>1.597808</td>\n",
       "      <td>1.674637</td>\n",
       "      <td>0.785398</td>\n",
       "      <td>4.849789</td>\n",
       "      <td>3.926991</td>\n",
       "      <td>-675.001114</td>\n",
       "      <td>671.938846</td>\n",
       "      <td>17.897622</td>\n",
       "      <td>17.558187</td>\n",
       "      <td>0.0</td>\n",
       "      <td>0.0</td>\n",
       "      <td>-3960.925049</td>\n",
       "      <td>0</td>\n",
       "      <td>0</td>\n",
       "      <td>0</td>\n",
       "      <td>0</td>\n",
       "      <td>0</td>\n",
       "      <td>0</td>\n",
       "      <td>0</td>\n",
       "      <td>0</td>\n",
       "      <td>7705.878906</td>\n",
       "      <td>1.383812</td>\n",
       "    </tr>\n",
       "  </tbody>\n",
       "</table>\n",
       "</div>"
      ],
      "text/plain": [
       "   tsteps    signal        x_0  x_99        y_0      y_99   theta_0  theta_99  \\\n",
       "0    0.00  0.000000   0.000000   0.0   0.000000       NaN  0.785398  0.785398   \n",
       "1    0.02  2.486899   0.000000   0.0   0.000000  2.486899  0.785398  0.785398   \n",
       "2    0.04  4.817537  -1.004802   0.0   2.192336  2.330638  0.820536  0.785398   \n",
       "3    0.06  6.845471 -17.936405   0.0  29.150296  2.027934  1.360996  0.785398   \n",
       "4    0.08  8.443279 -29.498495   0.0  42.071666  1.597808  1.674637  0.785398   \n",
       "\n",
       "      phi_0    phi_99     x_dot_0     y_dot_0  phi_dot_0  theta_dot_0   Fx  \\\n",
       "0  3.926991  3.926991    0.000100    0.000100   0.000100     0.000100  0.0   \n",
       "1  3.926991  3.926991    0.000100    0.000100   0.000100     0.000100  0.0   \n",
       "2  3.968901  3.926991 -104.001496  221.031005   4.163187     3.817106  0.0   \n",
       "3  4.529490  3.926991 -497.219047  623.503133  14.484268    14.143846  0.0   \n",
       "4  4.849789  3.926991 -675.001114  671.938846  17.897622    17.558187  0.0   \n",
       "\n",
       "    Fy     tau_pred  x_99_actual  xd_99_actual  y_99_actual  yd_99_actual  \\\n",
       "0  0.0     0.000000            0             0            0             0   \n",
       "1  0.0 -3468.092041            0             0            0             0   \n",
       "2  0.0 -3585.508545            0             0            0             0   \n",
       "3  0.0 -3753.160400            0             0            0             0   \n",
       "4  0.0 -3960.925049            0             0            0             0   \n",
       "\n",
       "   theta_99_actual  thetad_99_actual  phi_99_actual  phid_99_actual  \\\n",
       "0                0                 0              0               0   \n",
       "1                0                 0              0               0   \n",
       "2                0                 0              0               0   \n",
       "3                0                 0              0               0   \n",
       "4                0                 0              0               0   \n",
       "\n",
       "         F_pred  alpha_pred  \n",
       "0      0.000000    0.000000  \n",
       "1  14022.815430    1.174873  \n",
       "2  12486.833008    1.206250  \n",
       "3  10318.933594    1.265749  \n",
       "4   7705.878906    1.383812  "
      ]
     },
     "execution_count": 49,
     "metadata": {},
     "output_type": "execute_result"
    }
   ],
   "source": [
    "\n",
    "predDF.loc[[rowNum], [\"x_0\", \"x_dot_0\", \"y_0\", \"y_dot_0\", \"theta_0\", \"theta_dot_0\", \"phi_0\", \"phi_dot_0\"]] = np.array(newRow)\n",
    "predDF.head()"
   ]
  },
  {
   "cell_type": "code",
   "execution_count": 50,
   "metadata": {},
   "outputs": [
    {
     "name": "stdout",
     "output_type": "stream",
     "text": [
      "[0.000000e+00 1.000000e-04 0.000000e+00 1.000000e-04 7.853980e-01\n",
      " 1.000000e-04 3.926991e+00 1.000000e-04]\n",
      "     x_dot_0    y_dot_0  phi_dot_0  theta_dot_0\n",
      "0 -85.148544  64.816368  -0.096059    -0.636172\n"
     ]
    }
   ],
   "source": [
    "# predict\n",
    "\n",
    "nnpreds = model.predict(X_scaled[rowNum, :].reshape(-1,12))\n",
    "nnpreds_unscaled = scalerY.inverse_transform(nnpreds)\n",
    "\n",
    "# Y = testDF.loc[:, [\"Fx\", \"Fy\", \"tau\", \"x_dot_99\", \"y_dot_99\", \n",
    "#                    \"phi_dot_99\", \"theta_dot_99\"] ]\n",
    "\n",
    "\n",
    "# these are input values\n",
    "##         x,    xd,    y,   yd,    theta,  thetad,       phi,     phid,         F,          alpha,       tau0\n",
    "print(np.array(X.loc[rowNum, [\"x_0\", \"x_dot_0\", \"y_0\", \"y_dot_0\", \"theta_0\", \"theta_dot_0\", \"phi_0\", \"phi_dot_0\"]]))\n",
    "\n",
    "# this is for the next step -- they are predictions\n",
    "print(pd.DataFrame(np.array(nnpreds_unscaled[0, [3,4,5,6]]).reshape(1, -1), columns =[\"x_dot_0\", \"y_dot_0\", \"phi_dot_0\", \"theta_dot_0\"]))\n"
   ]
  },
  {
   "cell_type": "code",
   "execution_count": 53,
   "metadata": {},
   "outputs": [
    {
     "name": "stdout",
     "output_type": "stream",
     "text": [
      "           Fx           Fy       F_pred  alpha_pred     tau_pred\n",
      "0 -454.458527  4993.998047  5014.633301    1.661547 -4196.091797\n"
     ]
    },
    {
     "data": {
      "text/html": [
       "<div>\n",
       "<style scoped>\n",
       "    .dataframe tbody tr th:only-of-type {\n",
       "        vertical-align: middle;\n",
       "    }\n",
       "\n",
       "    .dataframe tbody tr th {\n",
       "        vertical-align: top;\n",
       "    }\n",
       "\n",
       "    .dataframe thead th {\n",
       "        text-align: right;\n",
       "    }\n",
       "</style>\n",
       "<table border=\"1\" class=\"dataframe\">\n",
       "  <thead>\n",
       "    <tr style=\"text-align: right;\">\n",
       "      <th></th>\n",
       "      <th>tsteps</th>\n",
       "      <th>signal</th>\n",
       "      <th>x_0</th>\n",
       "      <th>x_99</th>\n",
       "      <th>y_0</th>\n",
       "      <th>y_99</th>\n",
       "      <th>theta_0</th>\n",
       "      <th>theta_99</th>\n",
       "      <th>phi_0</th>\n",
       "      <th>phi_99</th>\n",
       "      <th>x_dot_0</th>\n",
       "      <th>y_dot_0</th>\n",
       "      <th>phi_dot_0</th>\n",
       "      <th>theta_dot_0</th>\n",
       "      <th>Fx</th>\n",
       "      <th>Fy</th>\n",
       "      <th>tau_pred</th>\n",
       "      <th>x_99_actual</th>\n",
       "      <th>xd_99_actual</th>\n",
       "      <th>y_99_actual</th>\n",
       "      <th>yd_99_actual</th>\n",
       "      <th>theta_99_actual</th>\n",
       "      <th>thetad_99_actual</th>\n",
       "      <th>phi_99_actual</th>\n",
       "      <th>phid_99_actual</th>\n",
       "      <th>F_pred</th>\n",
       "      <th>alpha_pred</th>\n",
       "    </tr>\n",
       "  </thead>\n",
       "  <tbody>\n",
       "    <tr>\n",
       "      <th>0</th>\n",
       "      <td>0.00</td>\n",
       "      <td>0.000000</td>\n",
       "      <td>0.000000</td>\n",
       "      <td>0.0</td>\n",
       "      <td>0.000000</td>\n",
       "      <td>NaN</td>\n",
       "      <td>0.785398</td>\n",
       "      <td>0.785398</td>\n",
       "      <td>3.926991</td>\n",
       "      <td>3.926991</td>\n",
       "      <td>0.000100</td>\n",
       "      <td>0.000100</td>\n",
       "      <td>0.000100</td>\n",
       "      <td>0.000100</td>\n",
       "      <td>0.0</td>\n",
       "      <td>0.0</td>\n",
       "      <td>0.000000</td>\n",
       "      <td>0</td>\n",
       "      <td>0</td>\n",
       "      <td>0</td>\n",
       "      <td>0</td>\n",
       "      <td>0</td>\n",
       "      <td>0</td>\n",
       "      <td>0</td>\n",
       "      <td>0</td>\n",
       "      <td>0.000000</td>\n",
       "      <td>0.000000</td>\n",
       "    </tr>\n",
       "    <tr>\n",
       "      <th>1</th>\n",
       "      <td>0.02</td>\n",
       "      <td>2.486899</td>\n",
       "      <td>0.000000</td>\n",
       "      <td>0.0</td>\n",
       "      <td>0.000000</td>\n",
       "      <td>2.486899</td>\n",
       "      <td>0.785398</td>\n",
       "      <td>0.785398</td>\n",
       "      <td>3.926991</td>\n",
       "      <td>3.926991</td>\n",
       "      <td>0.000100</td>\n",
       "      <td>0.000100</td>\n",
       "      <td>0.000100</td>\n",
       "      <td>0.000100</td>\n",
       "      <td>0.0</td>\n",
       "      <td>0.0</td>\n",
       "      <td>-3468.092041</td>\n",
       "      <td>0</td>\n",
       "      <td>0</td>\n",
       "      <td>0</td>\n",
       "      <td>0</td>\n",
       "      <td>0</td>\n",
       "      <td>0</td>\n",
       "      <td>0</td>\n",
       "      <td>0</td>\n",
       "      <td>14022.815430</td>\n",
       "      <td>1.174873</td>\n",
       "    </tr>\n",
       "    <tr>\n",
       "      <th>2</th>\n",
       "      <td>0.04</td>\n",
       "      <td>4.817537</td>\n",
       "      <td>-1.004802</td>\n",
       "      <td>0.0</td>\n",
       "      <td>2.192336</td>\n",
       "      <td>2.330638</td>\n",
       "      <td>0.820536</td>\n",
       "      <td>0.785398</td>\n",
       "      <td>3.968901</td>\n",
       "      <td>3.926991</td>\n",
       "      <td>-104.001496</td>\n",
       "      <td>221.031005</td>\n",
       "      <td>4.163187</td>\n",
       "      <td>3.817106</td>\n",
       "      <td>0.0</td>\n",
       "      <td>0.0</td>\n",
       "      <td>-3585.508545</td>\n",
       "      <td>0</td>\n",
       "      <td>0</td>\n",
       "      <td>0</td>\n",
       "      <td>0</td>\n",
       "      <td>0</td>\n",
       "      <td>0</td>\n",
       "      <td>0</td>\n",
       "      <td>0</td>\n",
       "      <td>12486.833008</td>\n",
       "      <td>1.206250</td>\n",
       "    </tr>\n",
       "    <tr>\n",
       "      <th>3</th>\n",
       "      <td>0.06</td>\n",
       "      <td>6.845471</td>\n",
       "      <td>-17.936405</td>\n",
       "      <td>0.0</td>\n",
       "      <td>29.150296</td>\n",
       "      <td>2.027934</td>\n",
       "      <td>1.360996</td>\n",
       "      <td>0.785398</td>\n",
       "      <td>4.529490</td>\n",
       "      <td>3.926991</td>\n",
       "      <td>-497.219047</td>\n",
       "      <td>623.503133</td>\n",
       "      <td>14.484268</td>\n",
       "      <td>14.143846</td>\n",
       "      <td>0.0</td>\n",
       "      <td>0.0</td>\n",
       "      <td>-3753.160400</td>\n",
       "      <td>0</td>\n",
       "      <td>0</td>\n",
       "      <td>0</td>\n",
       "      <td>0</td>\n",
       "      <td>0</td>\n",
       "      <td>0</td>\n",
       "      <td>0</td>\n",
       "      <td>0</td>\n",
       "      <td>10318.933594</td>\n",
       "      <td>1.265749</td>\n",
       "    </tr>\n",
       "    <tr>\n",
       "      <th>4</th>\n",
       "      <td>0.08</td>\n",
       "      <td>8.443279</td>\n",
       "      <td>-29.498495</td>\n",
       "      <td>0.0</td>\n",
       "      <td>42.071666</td>\n",
       "      <td>1.597808</td>\n",
       "      <td>1.674637</td>\n",
       "      <td>0.785398</td>\n",
       "      <td>4.849789</td>\n",
       "      <td>3.926991</td>\n",
       "      <td>-675.001114</td>\n",
       "      <td>671.938846</td>\n",
       "      <td>17.897622</td>\n",
       "      <td>17.558187</td>\n",
       "      <td>0.0</td>\n",
       "      <td>0.0</td>\n",
       "      <td>-3960.925049</td>\n",
       "      <td>0</td>\n",
       "      <td>0</td>\n",
       "      <td>0</td>\n",
       "      <td>0</td>\n",
       "      <td>0</td>\n",
       "      <td>0</td>\n",
       "      <td>0</td>\n",
       "      <td>0</td>\n",
       "      <td>7705.878906</td>\n",
       "      <td>1.383812</td>\n",
       "    </tr>\n",
       "  </tbody>\n",
       "</table>\n",
       "</div>"
      ],
      "text/plain": [
       "   tsteps    signal        x_0  x_99        y_0      y_99   theta_0  theta_99  \\\n",
       "0    0.00  0.000000   0.000000   0.0   0.000000       NaN  0.785398  0.785398   \n",
       "1    0.02  2.486899   0.000000   0.0   0.000000  2.486899  0.785398  0.785398   \n",
       "2    0.04  4.817537  -1.004802   0.0   2.192336  2.330638  0.820536  0.785398   \n",
       "3    0.06  6.845471 -17.936405   0.0  29.150296  2.027934  1.360996  0.785398   \n",
       "4    0.08  8.443279 -29.498495   0.0  42.071666  1.597808  1.674637  0.785398   \n",
       "\n",
       "      phi_0    phi_99     x_dot_0     y_dot_0  phi_dot_0  theta_dot_0   Fx  \\\n",
       "0  3.926991  3.926991    0.000100    0.000100   0.000100     0.000100  0.0   \n",
       "1  3.926991  3.926991    0.000100    0.000100   0.000100     0.000100  0.0   \n",
       "2  3.968901  3.926991 -104.001496  221.031005   4.163187     3.817106  0.0   \n",
       "3  4.529490  3.926991 -497.219047  623.503133  14.484268    14.143846  0.0   \n",
       "4  4.849789  3.926991 -675.001114  671.938846  17.897622    17.558187  0.0   \n",
       "\n",
       "    Fy     tau_pred  x_99_actual  xd_99_actual  y_99_actual  yd_99_actual  \\\n",
       "0  0.0     0.000000            0             0            0             0   \n",
       "1  0.0 -3468.092041            0             0            0             0   \n",
       "2  0.0 -3585.508545            0             0            0             0   \n",
       "3  0.0 -3753.160400            0             0            0             0   \n",
       "4  0.0 -3960.925049            0             0            0             0   \n",
       "\n",
       "   theta_99_actual  thetad_99_actual  phi_99_actual  phid_99_actual  \\\n",
       "0                0                 0              0               0   \n",
       "1                0                 0              0               0   \n",
       "2                0                 0              0               0   \n",
       "3                0                 0              0               0   \n",
       "4                0                 0              0               0   \n",
       "\n",
       "         F_pred  alpha_pred  \n",
       "0      0.000000    0.000000  \n",
       "1  14022.815430    1.174873  \n",
       "2  12486.833008    1.206250  \n",
       "3  10318.933594    1.265749  \n",
       "4   7705.878906    1.383812  "
      ]
     },
     "execution_count": 53,
     "metadata": {},
     "output_type": "execute_result"
    }
   ],
   "source": [
    "PredControl = pd.DataFrame(np.array(nnpreds_unscaled[0, [0,1,2]]).reshape(1, -1), columns = [\"Fx\", \"Fy\", \"tau_pred\"])\n",
    "# convert to F, alpha, tau\n",
    "PredControl[\"F_pred\"] = np.sqrt(PredControl[\"Fx\"]**2 + PredControl[\"Fy\"]**2)\n",
    "\n",
    "# calculate alpha\n",
    "def quadrant(Fx, Fy):\n",
    "    if (Fx >= 0) & (Fy >= 0):\n",
    "        q = 1\n",
    "    elif (Fx < 0) & (Fy >= 0):\n",
    "        q = 2\n",
    "    elif (Fx < 0) & (Fy < 0):\n",
    "        q = 3\n",
    "    elif (Fx >= 0) & (Fy < 0):\n",
    "        q = 4\n",
    "    else:\n",
    "        q = 999999\n",
    "    return(q)\n",
    "\n",
    "PredControl[\"quadrant\"] = [quadrant(fx, fy) for fx,fy in zip(PredControl[\"Fx\"], PredControl[\"Fy\"])]\n",
    "\n",
    "def angleCalc(Fx, Fy, q):\n",
    "    fx = np.abs(Fx)\n",
    "    fy = np.abs(Fy)\n",
    "    \n",
    "    if q == 1:\n",
    "        alpha = np.arctan(fy/fx)\n",
    "    elif q == 2:\n",
    "        alpha = np.pi - np.arctan(fy/fx)\n",
    "    elif q == 3: \n",
    "        alpha = np.pi + np.arctan(fy/fx)\n",
    "    elif q == 4:\n",
    "        alpha = (2*np.pi) - np.arctan(fy/fx)\n",
    "    return(alpha)\n",
    "\n",
    "PredControl[\"alpha_pred\"] = [angleCalc(fx, fy, q) for fx, fy, q in zip(PredControl[\"Fx\"], PredControl[\"Fy\"], PredControl[\"quadrant\"])]\n",
    "\n",
    "predDF.loc[[rowNum], [\"F_pred\", \"alpha_pred\", \"tau_pred\"]] = np.array(PredControl.loc[:, [\"F_pred\", \"alpha_pred\", \"tau_pred\"]])\n",
    "print(PredControl.loc[:, [\"Fx\", \"Fy\", \"F_pred\", \"alpha_pred\", \"tau_pred\"]])\n",
    "predDF.head()"
   ]
  },
  {
   "cell_type": "code",
   "execution_count": 54,
   "metadata": {},
   "outputs": [],
   "source": [
    "predDF.to_csv(os.path.join(dataOutput, \"pathPrediction.csv\"), index = False)"
   ]
  },
  {
   "cell_type": "markdown",
   "metadata": {},
   "source": [
    "___"
   ]
  },
  {
   "cell_type": "code",
   "execution_count": null,
   "metadata": {},
   "outputs": [],
   "source": [
    "# put predictions back into data frame\n",
    "\n",
    "\n",
    "predDF.head()"
   ]
  },
  {
   "cell_type": "code",
   "execution_count": null,
   "metadata": {},
   "outputs": [],
   "source": [
    "predDF.loc[ii + 1, [\"x_dot_0\", \"y_dot_0\", \"phi_dot_0\", \"theta_dot_0\"]] = nnpreds_unscaled[0, [3,4,5,6]]\n",
    "predDF.loc[ii, [\"Fx\", \"Fy\", \"tau_pred\"]] = nnpreds_unscaled[0, [0,1,2]]\n",
    "\n",
    "X = predDF.loc[1:, [\"x_0\", \"y_0\", \"phi_0\", \"theta_0\", \n",
    "            \"x_99\", \"y_99\", \"phi_99\", \"theta_99\", \n",
    "\n",
    "                    \"x_dot_0\", \"y_dot_0\", \"phi_dot_0\", \"theta_dot_0\"]]\n",
    "X_scaled = scalerX.transform(X)"
   ]
  },
  {
   "cell_type": "code",
   "execution_count": null,
   "metadata": {},
   "outputs": [],
   "source": [
    "# Predict steps with nnet, and reset at actual value (from simulation)\n",
    "for ii in range(1, len(tsteps)-1):\n",
    "    nnpreds = model.predict(X_scaled[ii, :].reshape(-1,12))\n",
    "    nnpreds_unscaled = scalerY.inverse_transform(nnpreds)\n",
    "\n",
    "    # Y = testDF.loc[:, [\"Fx\", \"Fy\", \"tau\", \"x_dot_99\", \"y_dot_99\", \n",
    "    #                    \"phi_dot_99\", \"theta_dot_99\"] ]\n",
    "    \n",
    "   \n",
    "    # put predictions back into data frame\n",
    "    predDF.loc[ii + 1, [\"x_dot_0\", \"y_dot_0\", \"phi_dot_0\", \"theta_dot_0\"]] = nnpreds_unscaled[0, [3,4,5,6]]\n",
    "    predDF.loc[ii, [\"Fx\", \"Fy\", \"tau_pred\"]] = nnpreds_unscaled[0, [0,1,2]]\n",
    "    \n",
    "    X = predDF.loc[1:, [\"x_0\", \"y_0\", \"phi_0\", \"theta_0\", \n",
    "                \"x_99\", \"y_99\", \"phi_99\", \"theta_99\", \n",
    "               \"x_dot_0\", \"y_dot_0\", \"phi_dot_0\", \"theta_dot_0\"]]\n",
    "    X_scaled = scalerX.transform(X)\n",
    "    "
   ]
  },
  {
   "cell_type": "code",
   "execution_count": null,
   "metadata": {},
   "outputs": [],
   "source": [
    "Xdf = pd.DataFrame(X_scaled, columns = [\"x_0\", \"y_0\", \"phi_0\", \"theta_0\", \n",
    "                \"x_99\", \"y_99\", \"phi_99\", \"theta_99\", \n",
    "               \"x_dot_0\", \"y_dot_0\", \"phi_dot_0\", \"theta_dot_0\"])"
   ]
  },
  {
   "cell_type": "code",
   "execution_count": null,
   "metadata": {},
   "outputs": [],
   "source": [
    "predDF.head()"
   ]
  },
  {
   "cell_type": "code",
   "execution_count": null,
   "metadata": {},
   "outputs": [],
   "source": [
    "# convert to F, alpha, tau\n",
    "predDF[\"F_pred\"] = np.sqrt(predDF[\"Fx\"]**2 + predDF[\"Fy\"]**2)\n",
    "\n",
    "# calculate alpha\n",
    "def quadrant(Fx, Fy):\n",
    "    if (Fx >= 0) & (Fy >= 0):\n",
    "        q = 1\n",
    "    elif (Fx < 0) & (Fy >= 0):\n",
    "        q = 2\n",
    "    elif (Fx < 0) & (Fy < 0):\n",
    "        q = 3\n",
    "    elif (Fx >= 0) & (Fy < 0):\n",
    "        q = 4\n",
    "    else:\n",
    "        q = 999999\n",
    "    return(q)\n",
    "\n",
    "predDF[\"quadrant\"] = [quadrant(fx, fy) for fx,fy in zip(predDF[\"Fx\"], predDF[\"Fy\"])]\n",
    "\n",
    "def angleCalc(Fx, Fy, q):\n",
    "    fx = np.abs(Fx)\n",
    "    fy = np.abs(Fy)\n",
    "    \n",
    "    if q == 1:\n",
    "        alpha = np.arctan(fy/fx)\n",
    "    elif q == 2:\n",
    "        alpha = np.pi - np.arctan(fy/fx)\n",
    "    elif q == 3: \n",
    "        alpha = np.pi + np.arctan(fy/fx)\n",
    "    elif q == 4:\n",
    "        alpha = (2*np.pi) - np.arctan(fy/fx)\n",
    "    return(alpha)\n",
    "\n",
    "predDF[\"alpha_pred\"] = [angleCalc(fx, fy, q) for fx, fy, q in zip(predDF[\"Fx\"], predDF[\"Fy\"], predDF[\"quadrant\"])]\n",
    "\n",
    "predDF.head()"
   ]
  },
  {
   "cell_type": "code",
   "execution_count": null,
   "metadata": {},
   "outputs": [],
   "source": [
    "# save predicted DF\n",
    "predDF.to_csv(os.path.join(dataOutput, \"PredictedTraj2.csv\"), index = False)\n"
   ]
  },
  {
   "cell_type": "code",
   "execution_count": null,
   "metadata": {},
   "outputs": [],
   "source": [
    "predDF.iloc[1, :]"
   ]
  },
  {
   "cell_type": "code",
   "execution_count": null,
   "metadata": {},
   "outputs": [],
   "source": []
  },
  {
   "cell_type": "code",
   "execution_count": null,
   "metadata": {},
   "outputs": [],
   "source": []
  },
  {
   "cell_type": "code",
   "execution_count": null,
   "metadata": {},
   "outputs": [],
   "source": []
  },
  {
   "cell_type": "code",
   "execution_count": null,
   "metadata": {},
   "outputs": [],
   "source": []
  },
  {
   "cell_type": "code",
   "execution_count": null,
   "metadata": {},
   "outputs": [],
   "source": []
  },
  {
   "cell_type": "code",
   "execution_count": null,
   "metadata": {},
   "outputs": [],
   "source": []
  },
  {
   "cell_type": "code",
   "execution_count": null,
   "metadata": {},
   "outputs": [],
   "source": []
  },
  {
   "cell_type": "code",
   "execution_count": null,
   "metadata": {},
   "outputs": [],
   "source": []
  },
  {
   "cell_type": "code",
   "execution_count": null,
   "metadata": {},
   "outputs": [],
   "source": []
  },
  {
   "cell_type": "code",
   "execution_count": null,
   "metadata": {},
   "outputs": [],
   "source": []
  },
  {
   "cell_type": "code",
   "execution_count": null,
   "metadata": {},
   "outputs": [],
   "source": [
    "trainDF2 = pd.read_csv(os.path.join(dataDir2, \"smallDF.csv\"))\n",
    "trainDF2.head()"
   ]
  },
  {
   "cell_type": "code",
   "execution_count": null,
   "metadata": {},
   "outputs": [],
   "source": [
    "# make dataset\n",
    "indexCut = int(0.9 * trainDF2.shape[0])\n",
    "trainDF2[\"Test_Set\"] = trainDF2.index > indexCut\n",
    "\n",
    "# refref: add dots as output\n",
    "\n",
    "X = trainDF2.loc[0:indexCut-1, [\"x_0\", \"y_0\", \"phi_0\", \"theta_0\", \n",
    "                    \"x_99\", \"y_99\", \"phi_99\", \"theta_99\", \n",
    "                   \"x_dot_0\", \"y_dot_0\", \"phi_dot_0\", \"theta_dot_0\"]]\n",
    "\n",
    "Y = trainDF2.loc[0:indexCut-1, [\"Fx\", \"Fy\", \"tau\", \"x_dot_99\", \"y_dot_99\", \n",
    "                    \"phi_dot_99\", \"theta_dot_99\"] ]\n",
    "\n",
    "# # # subtract x_0 and y_0 from everything\n",
    "# X.x_99 = X.x_99 - X.x_0\n",
    "# X.y_99 = X.y_99 - X.y_0\n",
    "\n",
    "# X.x_0 = X.y_0 = 0"
   ]
  },
  {
   "cell_type": "code",
   "execution_count": null,
   "metadata": {},
   "outputs": [],
   "source": [
    "# plot range of initial conditions (scatterplot matrix)\n",
    "sns.pairplot(trainDF2.loc[:, [\"x_0\", \"y_0\", \"phi_0\", \"theta_0\", \"Test_Set\"]].drop_duplicates(), \n",
    "             vars = [\"x_0\", \"y_0\", \"phi_0\", \"theta_0\"], \n",
    "             hue = \"Test_Set\", diag_kind = 'kde', \n",
    "            palette = 'viridis', plot_kws=dict(alpha = 0.5, s = 20, edgecolor=\"grey\", linewidth=0))\n",
    "plt.savefig(os.path.join(figDir, \"TrainingVSTestConditions.png\"), width = 10, height = 10, dpi = 120)"
   ]
  },
  {
   "cell_type": "code",
   "execution_count": null,
   "metadata": {},
   "outputs": [],
   "source": [
    "X.shape"
   ]
  },
  {
   "cell_type": "code",
   "execution_count": null,
   "metadata": {},
   "outputs": [],
   "source": [
    "XTEST = trainDF2.loc[indexCut:, [\"x_0\", \"y_0\", \"phi_0\", \"theta_0\", \n",
    "                    \"x_99\", \"y_99\", \"phi_99\", \"theta_99\", \n",
    "                   \"x_dot_0\", \"y_dot_0\", \"phi_dot_0\", \"theta_dot_0\"]]\n",
    "\n",
    "YTEST = trainDF2.loc[indexCut:, [\"Fx\", \"Fy\", \"tau\", \"x_dot_99\", \"y_dot_99\", \n",
    "                    \"phi_dot_99\", \"theta_dot_99\"] ]"
   ]
  },
  {
   "cell_type": "code",
   "execution_count": null,
   "metadata": {},
   "outputs": [],
   "source": [
    "# see how much test data is in the training data\n",
    "mergedDF = pd.merge(XTEST.iloc[:, 0:4].drop_duplicates(), X.iloc[:,0:4].drop_duplicates(), how= \"inner\")\n",
    "\n",
    "print(mergedDF.shape)\n",
    "\n",
    "mergedDF.head()"
   ]
  },
  {
   "cell_type": "code",
   "execution_count": null,
   "metadata": {},
   "outputs": [],
   "source": [
    "XTEST.shape"
   ]
  },
  {
   "cell_type": "code",
   "execution_count": null,
   "metadata": {},
   "outputs": [],
   "source": [
    "X.head()"
   ]
  },
  {
   "cell_type": "code",
   "execution_count": null,
   "metadata": {},
   "outputs": [],
   "source": [
    "Y.head()"
   ]
  },
  {
   "cell_type": "code",
   "execution_count": null,
   "metadata": {},
   "outputs": [],
   "source": [
    "from sklearn.model_selection import train_test_split\n",
    "Xtrain, Xtest, Ytrain, Ytest = train_test_split(X, Y, test_size=0.9, random_state = 123)"
   ]
  },
  {
   "cell_type": "code",
   "execution_count": null,
   "metadata": {},
   "outputs": [],
   "source": [
    "from sklearn.preprocessing import StandardScaler  \n",
    "scalerX = StandardScaler()  \n",
    "scalerY = StandardScaler()  \n",
    "\n",
    "# Don't cheat - fit only on training data\n",
    "scalerX.fit(Xtrain)  \n",
    "scalerY.fit(Ytrain) \n",
    "\n",
    "Xtrain_scaled = scalerX.transform(Xtrain)  \n",
    "Ytrain_scaled = scalerY.transform(Ytrain)  \n",
    "\n",
    "# apply same transformation to test data\n",
    "Xtest_scaled = scalerX.transform(Xtest)\n",
    "Ytest_scaled = scalerY.transform(Ytest)\n",
    "\n",
    "# apply to final test set (novel initial conditions)\n",
    "XTEST_scaled = scalerX.transform(XTEST)\n",
    "YTEST_scaled = scalerY.transform(YTEST)"
   ]
  },
  {
   "cell_type": "code",
   "execution_count": null,
   "metadata": {},
   "outputs": [],
   "source": [
    "print(Xtest.shape)\n",
    "pd.DataFrame(scalerY.inverse_transform(Ytrain_scaled)).head()"
   ]
  },
  {
   "cell_type": "code",
   "execution_count": null,
   "metadata": {},
   "outputs": [],
   "source": [
    "pd.DataFrame(Ytrain).reset_index(drop = True).head()"
   ]
  },
  {
   "cell_type": "code",
   "execution_count": null,
   "metadata": {},
   "outputs": [],
   "source": [
    "# from sklearn.preprocessing import MinMaxScaler  \n",
    "# scalerX = MinMaxScaler()  \n",
    "# scalerY = MinMaxScaler()  \n",
    "\n",
    "# # Don't cheat - fit only on training data\n",
    "# scalerX.fit(Xtrain)  \n",
    "# scalerY.fit(Ytrain) \n",
    "\n",
    "# Xtrain_scaled = scalerX.transform(Xtrain)  \n",
    "# Ytrain_scaled = scalerY.transform(Ytrain)  \n",
    "\n",
    "# # apply same transformation to test data\n",
    "# Xtest_scaled = scalerX.transform(Xtest)\n",
    "# Ytest_scaled = scalerY.transform(Ytest)"
   ]
  },
  {
   "cell_type": "code",
   "execution_count": null,
   "metadata": {},
   "outputs": [],
   "source": [
    "# build Keras model with functional API, instead of Sequential\n",
    "from keras.layers import Input, Dense\n",
    "from keras.models import Model\n",
    "\n",
    "# callcacks\n",
    "from keras.callbacks import EarlyStopping\n",
    "from keras.callbacks import ReduceLROnPlateau"
   ]
  },
  {
   "cell_type": "code",
   "execution_count": null,
   "metadata": {},
   "outputs": [],
   "source": [
    "inputs = Input(shape=(Xtrain_scaled.shape[1],))\n",
    "\n",
    "x = Dense(400, activation='tanh')(inputs)\n",
    "x = Dense(400, activation='tanh')(x)\n",
    "x = Dense(400, activation='tanh')(x)\n",
    "x = Dense(16, activation='tanh')(x)\n",
    "predictions = Dense(Ytrain_scaled.shape[1], activation='linear')(x)\n",
    "\n",
    "# This creates a model that includes\n",
    "# the Input layer and three Dense layers\n",
    "model = Model(inputs=inputs, outputs=predictions)\n",
    "model.compile(loss=\"mse\", optimizer=\"adam\", metrics = ['mse'])"
   ]
  },
  {
   "cell_type": "code",
   "execution_count": null,
   "metadata": {},
   "outputs": [],
   "source": [
    "earlystop = EarlyStopping(monitor='val_mean_squared_error', patience=50, \n",
    "                          verbose=1, mode='auto', min_delta = 0.0001)\n",
    "\n",
    "history = model.fit(Xtrain_scaled, Ytrain_scaled, validation_split = 0.7, \n",
    "                    verbose = 2, batch_size=2**14, epochs = 1000, \n",
    "                    callbacks = [earlystop])"
   ]
  },
  {
   "cell_type": "code",
   "execution_count": null,
   "metadata": {},
   "outputs": [],
   "source": [
    "def plot_model_history(model_history, saveFig = False):\n",
    "    fig, axs = plt.subplots(1,1,figsize=(10,5))\n",
    "    # summarize history for accuracy\n",
    "    axs.plot(range(1,len(model_history.history['mean_squared_error'])+1),\n",
    "             model_history.history['mean_squared_error'])\n",
    "    axs.plot(range(1,len(model_history.history['val_mean_squared_error'])+1),\n",
    "             model_history.history['val_mean_squared_error'])\n",
    "    axs.set_title('Model MSE')\n",
    "    axs.set_ylabel('mean_squared_error')\n",
    "    axs.set_xlabel('Epoch')\n",
    "    axs.set_xticks(np.arange(1,len(model_history.history['val_mean_squared_error'])+1),\n",
    "                   len(model_history.history['val_mean_squared_error'])/10)\n",
    "    axs.legend(['train', 'val'], loc='best')\n",
    "    if saveFig:\n",
    "        fig.savefig(os.path.join(figDir, \"ModelTraining_HoldoutData.png\"), dpi = 120, bbox_inches='tight')\n",
    "    plt.show()"
   ]
  },
  {
   "cell_type": "code",
   "execution_count": null,
   "metadata": {},
   "outputs": [],
   "source": [
    "plot_model_history(history, saveFig = False)"
   ]
  },
  {
   "cell_type": "code",
   "execution_count": null,
   "metadata": {},
   "outputs": [],
   "source": [
    "# save model\n",
    "# model.save(os.path.join(savedModels, 'my_model_dataHoldout.h5'))\n",
    "# aa = r'explorer /select,\"'\n",
    "# subprocess.Popen(str(aa + savedModels + '\\\"'))"
   ]
  },
  {
   "cell_type": "code",
   "execution_count": null,
   "metadata": {},
   "outputs": [],
   "source": [
    "# # load model\n",
    "from keras.models import load_model\n",
    "model = load_model(os.path.join(savedModels, 'my_model_dataHoldout.h5'))"
   ]
  },
  {
   "cell_type": "code",
   "execution_count": null,
   "metadata": {},
   "outputs": [],
   "source": [
    "nnpreds = model.predict(Xtest_scaled)"
   ]
  },
  {
   "cell_type": "code",
   "execution_count": null,
   "metadata": {},
   "outputs": [],
   "source": [
    "# rescale\n",
    "nnpreds_unscaled = scalerY.inverse_transform(nnpreds)"
   ]
  },
  {
   "cell_type": "markdown",
   "metadata": {},
   "source": [
    "# Plot on randomly-withheld data (initial conditions in the test data)"
   ]
  },
  {
   "cell_type": "code",
   "execution_count": null,
   "metadata": {},
   "outputs": [],
   "source": [
    "plt.close(\"all\")\n",
    "fig, axs = plt.subplots(2,4, figsize=(15, 10), facecolor='w', edgecolor='k')\n",
    "fig.subplots_adjust(hspace = 0.3, wspace=0.3)\n",
    "fig.suptitle('Predicted vs. acutal for randomly withheld data', fontsize=14, fontweight='bold')\n",
    "\n",
    "axs = axs.ravel()\n",
    "\n",
    "nms = Y.columns\n",
    "\n",
    "# replace lightest colors with white\n",
    "import matplotlib.colors\n",
    "\n",
    "cmap = plt.cm.magma_r\n",
    "cmaplist = np.array([cmap(i) for i in range(cmap.N)])\n",
    "#cmaplist[0:2] = np.repeat((0.0,0.0,0.0,0.0), 2).reshape(-1,4)\n",
    "cmaplist[:,0:3] = np.divide(cmaplist[:, 0:3], 1.1)\n",
    "#cmaplist[:,0:3] = np.transpose(np.vstack([np.linspace(1, 0, 256), np.linspace(1, 0, 256), np.linspace(1, 0, 256)]))\n",
    "cmaplist[0] = (1,1,1,0.5)\n",
    "cmap = matplotlib.colors.LinearSegmentedColormap.from_list('mcm',cmaplist, cmap.N)\n",
    "\n",
    "for ii in range(len(Y.columns)+1):\n",
    "    # read in image\n",
    "    \n",
    "    try:\n",
    "        axs[ii].hexbin(y = Ytest.iloc[:,ii],x = nnpreds_unscaled[:,ii], gridsize = 150, cmap = cmap)\n",
    "        axs[ii].set_xlabel(\"Predicted Value\\n(unscaled)\")\n",
    "        if(ii == 0):\n",
    "            axs[ii].set_ylabel(\"Actual Value\\n(unscaled)\")\n",
    "        axs[ii].set_title(nms[ii])\n",
    "        axs[ii].plot(Ytest.iloc[:,ii], Ytest.iloc[:,ii], 'grey', linewidth = 1, linestyle  = \"--\")\n",
    "    except:\n",
    "        pass\n",
    "    if ii == 7:\n",
    "        axs[ii].set_visible(False)\n",
    "\n",
    "fig.savefig(os.path.join(figDir, \"NNPreds_newData_control_bigbatch_FxFy_hexbin_holdoutData.png\"), dpi = 120, bbox_inches='tight')"
   ]
  },
  {
   "cell_type": "code",
   "execution_count": null,
   "metadata": {},
   "outputs": [],
   "source": [
    "# residual plots\n",
    "plt.close(\"all\")\n",
    "fig, axs = plt.subplots(2,4, figsize=(15, 10), facecolor='w', edgecolor='k')\n",
    "fig.subplots_adjust(hspace = 0.3, wspace=0.3)\n",
    "fig.suptitle('Residual Plots for randomly withheld data ', fontsize=14, fontweight='bold')\n",
    "\n",
    "axs = axs.ravel()\n",
    "\n",
    "nms = Y.columns\n",
    "\n",
    "# replace lightest colors with white\n",
    "import matplotlib.colors\n",
    "\n",
    "cmap = plt.cm.magma_r\n",
    "cmaplist = np.array([cmap(i) for i in range(cmap.N)])\n",
    "cmaplist[:,0:3] = np.divide(cmaplist[:, 0:3], 1.1)\n",
    "cmaplist[0] = (1,1,1,0.5)\n",
    "cmap = matplotlib.colors.LinearSegmentedColormap.from_list('mcm',cmaplist, cmap.N)\n",
    "\n",
    "for ii in range(len(Y.columns) + 1):\n",
    "    # read in image\n",
    "    \n",
    "    try:\n",
    "        axs[ii].hexbin(y = Ytest.iloc[:,ii] - nnpreds_unscaled[:,ii],x = nnpreds_unscaled[:,ii], gridsize = 150, cmap = cmap)\n",
    "        axs[ii].set_xlabel(\"Predicted Value\\n(unscaled)\")\n",
    "        if(ii == 0) or (ii == 4):\n",
    "            axs[ii].set_ylabel(\"Actual - Predicted Value\\n(unscaled)\")\n",
    "        axs[ii].set_title(nms[ii])\n",
    "        axs[ii].hlines(y = 0, xmin = np.min(nnpreds_unscaled[:,ii]), \n",
    "                       xmax = np.max(nnpreds_unscaled[:,ii]), linestyle =  \"--\", linewidth = 1)\n",
    "    except:\n",
    "        pass\n",
    "    if ii == 7:\n",
    "        axs[ii].set_visible(False)\n",
    "        \n",
    "fig.savefig(os.path.join(figDir, \"residual_Hexbin_holdoutData.png\"), dpi = 120, bbox_inches='tight')"
   ]
  },
  {
   "cell_type": "markdown",
   "metadata": {},
   "source": [
    "# Plot for novel test data (initial conditions not found in training, but coming from same distribution)\n",
    "\n",
    "\n"
   ]
  },
  {
   "cell_type": "code",
   "execution_count": null,
   "metadata": {},
   "outputs": [],
   "source": [
    "# predict on holdout data (novel initial conditions)\n",
    "nnpreds2 = model.predict(XTEST_scaled)"
   ]
  },
  {
   "cell_type": "code",
   "execution_count": null,
   "metadata": {},
   "outputs": [],
   "source": [
    "nnpreds_unscaled = scalerY.inverse_transform(nnpreds2)"
   ]
  },
  {
   "cell_type": "code",
   "execution_count": null,
   "metadata": {},
   "outputs": [],
   "source": [
    "plt.close(\"all\")\n",
    "fig, axs = plt.subplots(2,4, figsize=(15, 10), facecolor='w', edgecolor='k')\n",
    "fig.subplots_adjust(hspace = 0.3, wspace=0.3)\n",
    "fig.suptitle('Predicted vs. acutal for novel initial conditions \\n from same distribution as original data', fontsize=14, fontweight='bold')\n",
    "\n",
    "axs = axs.ravel()\n",
    "\n",
    "nms = Y.columns\n",
    "\n",
    "# replace lightest colors with white\n",
    "import matplotlib.colors\n",
    "\n",
    "cmap = plt.cm.magma_r\n",
    "cmaplist = np.array([cmap(i) for i in range(cmap.N)])\n",
    "#cmaplist[0:2] = np.repeat((0.0,0.0,0.0,0.0), 2).reshape(-1,4)\n",
    "cmaplist[:,0:3] = np.divide(cmaplist[:, 0:3], 1.1)\n",
    "#cmaplist[:,0:3] = np.transpose(np.vstack([np.linspace(1, 0, 256), np.linspace(1, 0, 256), np.linspace(1, 0, 256)]))\n",
    "cmaplist[0] = (1,1,1,0.5)\n",
    "cmap = matplotlib.colors.LinearSegmentedColormap.from_list('mcm',cmaplist, cmap.N)\n",
    "\n",
    "for ii in range(len(Y.columns)+1):\n",
    "    # read in image\n",
    "    \n",
    "    try:\n",
    "        axs[ii].hexbin(y = YTEST.iloc[:,ii],x = nnpreds_unscaled[:,ii], gridsize = 150, cmap = cmap)\n",
    "        axs[ii].set_xlabel(\"Predicted Value\\n(unscaled)\")\n",
    "        if(ii == 0) or (ii == 4):\n",
    "            axs[ii].set_ylabel(\"Actual Value\\n(unscaled)\")\n",
    "        axs[ii].set_title(nms[ii])\n",
    "        axs[ii].plot(YTEST.iloc[:,ii], YTEST.iloc[:,ii], 'grey', linewidth = 1, linestyle  = \"--\")\n",
    "    except:\n",
    "        pass\n",
    "    if ii == 7:\n",
    "        axs[ii].set_visible(False)\n",
    "\n",
    "fig.savefig(os.path.join(figDir, \"NNPreds_novelData.png\"), dpi = 120, bbox_inches='tight')"
   ]
  },
  {
   "cell_type": "code",
   "execution_count": null,
   "metadata": {},
   "outputs": [],
   "source": [
    "# residual plots\n",
    "plt.close(\"all\")\n",
    "fig, axs = plt.subplots(2,4, figsize=(15, 10), facecolor='w', edgecolor='k')\n",
    "fig.subplots_adjust(hspace = 0.3, wspace=0.3)\n",
    "fig.suptitle('Residual Plots for novel initial conditions \\n from same distribution as original data', fontsize=14, fontweight='bold')\n",
    "\n",
    "axs = axs.ravel()\n",
    "\n",
    "nms = Y.columns\n",
    "\n",
    "# replace lightest colors with white\n",
    "import matplotlib.colors\n",
    "\n",
    "cmap = plt.cm.magma_r\n",
    "cmaplist = np.array([cmap(i) for i in range(cmap.N)])\n",
    "cmaplist[:,0:3] = np.divide(cmaplist[:, 0:3], 1.1)\n",
    "cmaplist[0] = (1,1,1,0.5)\n",
    "cmap = matplotlib.colors.LinearSegmentedColormap.from_list('mcm',cmaplist, cmap.N)\n",
    "\n",
    "for ii in range(len(Y.columns) + 1):\n",
    "    # read in image\n",
    "    \n",
    "    try:\n",
    "        axs[ii].hexbin(y = YTEST.iloc[:,ii] - nnpreds_unscaled[:,ii],x = nnpreds_unscaled[:,ii], gridsize = 150, cmap = cmap)\n",
    "        axs[ii].set_xlabel(\"Predicted Value\\n(unscaled)\")\n",
    "        if(ii == 0) or (ii == 4):\n",
    "            axs[ii].set_ylabel(\"Actual - Predicted\\nValue (unscaled)\")\n",
    "        axs[ii].set_title(nms[ii])\n",
    "        axs[ii].hlines(y = 0, xmin = np.min(nnpreds_unscaled[:,ii]), \n",
    "                       xmax = np.max(nnpreds_unscaled[:,ii]), linestyle =  \"--\", linewidth = 1)\n",
    "    except:\n",
    "        pass\n",
    "    if ii == 7:\n",
    "        axs[ii].set_visible(False)\n",
    "        \n",
    "fig.savefig(os.path.join(figDir, \"residual_Hexbin_NovelData.png\"), dpi = 120, bbox_inches='tight')"
   ]
  },
  {
   "cell_type": "code",
   "execution_count": null,
   "metadata": {},
   "outputs": [],
   "source": [
    "# residual plots\n",
    "plt.close(\"all\")\n",
    "fig, axs = plt.subplots(2,4, figsize=(15, 10), facecolor='w', edgecolor='k')\n",
    "fig.subplots_adjust(hspace = 0.3, wspace=0.3)\n",
    "fig.suptitle('Residual Plots for novel initial conditions \\n from same distribution as original data', fontsize=14, fontweight='bold')\n",
    "\n",
    "axs = axs.ravel()\n",
    "\n",
    "nms = Y.columns\n",
    "\n",
    "# replace lightest colors with white\n",
    "import matplotlib.colors\n",
    "\n",
    "cmap = plt.cm.magma_r\n",
    "cmaplist = np.array([cmap(i) for i in range(cmap.N)])\n",
    "cmaplist[:,0:3] = np.divide(cmaplist[:, 0:3], 1.1)\n",
    "cmaplist[0] = (1,1,1,0.5)\n",
    "cmap = matplotlib.colors.LinearSegmentedColormap.from_list('mcm',cmaplist, cmap.N)\n",
    "\n",
    "for ii in range(len(Y.columns) + 1):\n",
    "    # read in image\n",
    "    \n",
    "    try:\n",
    "        axs[ii].scatter(y = YTEST.iloc[:,ii] - nnpreds_unscaled[:,ii],x = nnpreds_unscaled[:,ii], s = 1, alpha = 0.1 )\n",
    "        axs[ii].set_xlabel(\"Predicted Value\\n(unscaled)\")\n",
    "        if(ii == 0):\n",
    "            axs[ii].set_ylabel(\"Actual Value\\n(unscaled)\")\n",
    "        axs[ii].set_title(nms[ii])\n",
    "        axs[ii].hlines(y = 0, xmin = np.min(nnpreds_unscaled[:,ii]), \n",
    "                       xmax = np.max(nnpreds_unscaled[:,ii]), linestyle =  \"--\", linewidth = 1)\n",
    "    except:\n",
    "        pass\n",
    "    if ii == 7:\n",
    "        axs[ii].set_visible(False)\n",
    "        \n",
    "fig.savefig(os.path.join(figDir, \"residual_scatter_NovelData.png\"), dpi = 120, bbox_inches='tight')"
   ]
  },
  {
   "cell_type": "markdown",
   "metadata": {},
   "source": [
    "# predict path for last 4 datafiles and compare to original"
   ]
  },
  {
   "cell_type": "code",
   "execution_count": null,
   "metadata": {},
   "outputs": [],
   "source": [
    "dataFiles[-4:]"
   ]
  },
  {
   "cell_type": "code",
   "execution_count": null,
   "metadata": {},
   "outputs": [],
   "source": [
    "# dfList = []\n",
    "\n",
    "# for dataFile in dataFiles:\n",
    "#     bf2 = pd.read_hdf(dataFile, \"data\")\n",
    "#     bf2[['simNum', 'timestep']] = bf2[['simNum', 'timestep']].astype(int)\n",
    "#     bf2['count'] = bf2.groupby([\"simNum\", \"timestep\"]).cumcount()\n",
    "#     sdf = bf2.loc[(bf2[\"count\"] == 0) | (bf2[\"count\"] == 99), :]\n",
    "#     ss = sdf.pivot_table(index=['simNum', 'timestep'], columns = \"count\",aggfunc='first')\n",
    "#     ss.columns = [f'{i}_{j}' if j != '' else f'{i}' for i,j in ss.columns]\n",
    "#     ss.reset_index(inplace=True) \n",
    "#     dfList.append(ss)\n",
    "#     print(dataFile)"
   ]
  },
  {
   "cell_type": "code",
   "execution_count": null,
   "metadata": {},
   "outputs": [],
   "source": [
    "bf2 = pd.read_hdf(dataFiles[-1], \"data\")"
   ]
  },
  {
   "cell_type": "code",
   "execution_count": null,
   "metadata": {},
   "outputs": [],
   "source": [
    "bf2.head()"
   ]
  },
  {
   "cell_type": "code",
   "execution_count": null,
   "metadata": {},
   "outputs": [],
   "source": [
    "dataDir"
   ]
  },
  {
   "cell_type": "code",
   "execution_count": null,
   "metadata": {},
   "outputs": [],
   "source": [
    "Qmat = scipy.io.loadmat(os.path.join(dataDir, \"Qstore_6_hws_am_con\"+ \".mat\"))"
   ]
  },
  {
   "cell_type": "code",
   "execution_count": null,
   "metadata": {},
   "outputs": [],
   "source": [
    "for timestep in range(100):\n",
    "    if np.mod(timestep, 10) == 0: \n",
    "        print(timestep)\n",
    "    vals = Qmat['Qstore'][timestep,0] #<-- set the array you want to access. \n",
    "    keys = Qmat['Qstore'][timestep,0].dtype.descr\n",
    "    keys = np.array(keys)[:, 0]\n",
    "\n",
    "# Assemble the keys and values into variables with the same name as that used in MATLAB\n",
    "for i in range(len(keys)):\n",
    "    key = keys[i]\n",
    "    val = np.squeeze(vals[key][0])  # squeeze is used to covert matlat (1,n) arrays into numpy (1,) arrays. \n",
    "    exec(key + '=val')\n"
   ]
  },
  {
   "cell_type": "code",
   "execution_count": null,
   "metadata": {},
   "outputs": [],
   "source": [
    "keys"
   ]
  },
  {
   "cell_type": "code",
   "execution_count": null,
   "metadata": {},
   "outputs": [],
   "source": [
    "stt = time.time()\n",
    "tt = np.zeros((100, 15))\n",
    "bigF = np.zeros((100*2500*100, 15))\n",
    "ctr = 0\n",
    "for timestep in range(20):\n",
    "    if np.mod(timestep, 10) == 0: \n",
    "        print(timestep)\n",
    "    vals = Qmat['Qstore'][timestep,0] #<-- set the array you want to access. \n",
    "    keys = Qmat['Qstore'][timestep,0].dtype.descr\n",
    "    keys = np.array(keys)[:, 0]\n",
    "\n",
    "    # Assemble the keys and values into variables with the same name as that used in MATLAB\n",
    "    for i in range(len(keys)):\n",
    "        key = keys[i]\n",
    "        val = np.squeeze(vals[key][0])  # squeeze is used to covert matlat (1,n) arrays into numpy (1,) arrays. \n",
    "        exec(key + '=val')\n",
    "\n",
    "    for simNum in range(2500):\n",
    "        #print(timestep, simNum)\n",
    "        ttRows = tt.shape[0]\n",
    "        tt[:, 0:8] = vals[\"bigQ\"][0, simNum]\n",
    "        tt[:, [8]] = np.repeat(np.concatenate(vals[\"F\"][0]).ravel()[simNum], ttRows).reshape(-1,1)\n",
    "        tt[:, [9]] = np.repeat(np.concatenate(vals[\"alpha\"][0]).ravel()[simNum], ttRows).reshape(-1,1)\n",
    "        tt[:, [10]] = np.repeat(np.concatenate(vals[\"tau0\"][0]).ravel()[simNum], ttRows).reshape(-1,1)\n",
    "        tt[:, [11]] =  np.repeat(simNum, ttRows).reshape(-1,1)\n",
    "        tt[:, [12]] = np.repeat(timestep, ttRows).reshape(-1,1)\n",
    "        tt[:, [13]] = np.repeat(np.concatenate(vals[\"cost\"][0]).ravel()[simNum], ttRows).reshape(-1,1)\n",
    "        tt[:, [14]] =  np.arange(0, ttRows).reshape(-1,1)\n",
    "        bigF[ctr:ctr+ttRows, :] = tt\n",
    "        ctr += ttRows\n",
    "\n",
    "print(time.time() - stt )\n"
   ]
  },
  {
   "cell_type": "code",
   "execution_count": null,
   "metadata": {},
   "outputs": [],
   "source": [
    "tt2 = pd.DataFrame(bigF, columns=[\"x\", \"y\", \"theta\", \"phi\", \"x_dot\", \"y_dot\", \"theta_dot\", \"phi_dot\", \n",
    "                                       \"F\", \"alpha\", \"tau\", \"simNum\", \"timestep\", \"cost\", \"microStepNum\"])"
   ]
  },
  {
   "cell_type": "code",
   "execution_count": null,
   "metadata": {},
   "outputs": [],
   "source": [
    "tt2.head()"
   ]
  },
  {
   "cell_type": "code",
   "execution_count": null,
   "metadata": {},
   "outputs": [],
   "source": [
    "# find minimum cost for each timestep\n",
    "\n",
    "#remove 0's\n",
    "tt2 = tt2.loc[~(tt2==0).all(axis=1)]\n",
    "\n",
    "tt2.shape"
   ]
  },
  {
   "cell_type": "code",
   "execution_count": null,
   "metadata": {},
   "outputs": [],
   "source": [
    "tmp = tt2.loc[tt2.groupby([\"timestep\"])[\"cost\"].idxmin(), :]\n",
    "tmp"
   ]
  },
  {
   "cell_type": "code",
   "execution_count": null,
   "metadata": {},
   "outputs": [],
   "source": [
    "t3 = tt2.loc[tt2.cost.isin(tmp.cost),:].copy()"
   ]
  },
  {
   "cell_type": "code",
   "execution_count": null,
   "metadata": {},
   "outputs": [],
   "source": [
    "t3.head()"
   ]
  },
  {
   "cell_type": "code",
   "execution_count": null,
   "metadata": {},
   "outputs": [],
   "source": [
    "t3.shape"
   ]
  },
  {
   "cell_type": "code",
   "execution_count": null,
   "metadata": {},
   "outputs": [],
   "source": [
    "tt2.shape"
   ]
  },
  {
   "cell_type": "code",
   "execution_count": null,
   "metadata": {},
   "outputs": [],
   "source": []
  },
  {
   "cell_type": "code",
   "execution_count": null,
   "metadata": {},
   "outputs": [],
   "source": [
    "t4 = tt2.sort_values(\"cost\")"
   ]
  },
  {
   "cell_type": "code",
   "execution_count": null,
   "metadata": {},
   "outputs": [],
   "source": [
    "# t4.groupby(\"cost\").count()"
   ]
  },
  {
   "cell_type": "code",
   "execution_count": null,
   "metadata": {},
   "outputs": [],
   "source": [
    "fig = plt.figure()\n",
    "ax = fig.add_subplot(111)\n",
    "ax.plot(t3.x, t3.y)\n",
    "ax.set_aspect('equal', 'datalim')"
   ]
  },
  {
   "cell_type": "code",
   "execution_count": null,
   "metadata": {},
   "outputs": [],
   "source": [
    "t3.reset_index(inplace = True)\n",
    "fig = plt.figure()\n",
    "ax = fig.add_subplot(111)\n",
    "ax.scatter(y = t3.y, x = t3.reset_index().index)\n",
    "#ax.set_aspect('equal', 'datalim')"
   ]
  },
  {
   "cell_type": "code",
   "execution_count": null,
   "metadata": {},
   "outputs": [],
   "source": [
    "# plot nnet predictions over the top\n",
    "t3.loc[:,['simNum', 'timestep']] = t3.loc[:,['simNum', 'timestep']].astype(int).copy()"
   ]
  },
  {
   "cell_type": "code",
   "execution_count": null,
   "metadata": {},
   "outputs": [],
   "source": [
    "t3['count'] = t3.groupby([\"simNum\", \"timestep\"]).cumcount().copy()\n",
    "sdf = t3.loc[(t3[\"count\"] == 0) | (t3[\"count\"] == 99), :].copy()\n",
    "ss = sdf.pivot_table(index=['simNum', 'timestep'], columns = \"count\",aggfunc='first').copy()\n",
    "ss.columns = [f'{i}_{j}' if j != '' else f'{i}' for i,j in ss.columns]\n",
    "ss.reset_index(inplace=True) \n",
    "ss.head()"
   ]
  },
  {
   "cell_type": "code",
   "execution_count": null,
   "metadata": {},
   "outputs": [],
   "source": [
    "ss[\"y_0\"]"
   ]
  },
  {
   "cell_type": "code",
   "execution_count": null,
   "metadata": {},
   "outputs": [],
   "source": [
    "fig = plt.figure()\n",
    "ax = fig.add_subplot(111)\n",
    "ss.sort_values(\"timestep\", inplace=True)\n",
    "ss.reset_index(inplace = True, drop = True)\n",
    "ax.scatter(y = ss.y_0, x = ss.timestep)\n",
    "ax.scatter(y = ss.y_99, x = ss.timestep + 1)"
   ]
  },
  {
   "cell_type": "code",
   "execution_count": null,
   "metadata": {},
   "outputs": [],
   "source": [
    "# predict\n",
    "\n",
    "# clean data\n",
    "ss = ss.drop(columns=['F_99', 'alpha_99', \n",
    "                               'tau_99'])\n",
    "ss=ss.rename(columns = {'F_0':'F', \n",
    "                                 \"alpha_0\": \"alpha\", \n",
    "                                 \"tau_0\": \"tau\"})"
   ]
  },
  {
   "cell_type": "code",
   "execution_count": null,
   "metadata": {},
   "outputs": [],
   "source": [
    "# convert to Fx and Fy\n",
    "ss[\"Fx\"] = ss.F * np.cos(ss.alpha)\n",
    "ss[\"Fy\"] = ss.F * np.sin(ss.alpha)\n",
    "\n",
    "# make dataset\n",
    "XTEST_traj = ss.loc[:, [\"x_0\", \"y_0\", \"phi_0\", \"theta_0\", \n",
    "                    \"x_99\", \"y_99\", \"phi_99\", \"theta_99\", \n",
    "                   \"x_dot_0\", \"y_dot_0\", \"phi_dot_0\", \"theta_dot_0\"]]\n",
    "\n",
    "YTEST_traj = ss.loc[:, [\"Fx\", \"Fy\", \"tau\", \"x_dot_99\", \"y_dot_99\", \n",
    "                    \"phi_dot_99\", \"theta_dot_99\"] ]\n",
    "\n",
    "\n",
    "# scale\n",
    "XTEST_traj_sc = scalerX.transform(XTEST_traj)\n",
    "YTEST_traj_sc = scalerY.transform(YTEST_traj)\n"
   ]
  },
  {
   "cell_type": "code",
   "execution_count": null,
   "metadata": {},
   "outputs": [],
   "source": [
    "# predict\n",
    "sc_preds = model.predict(XTEST_traj_sc)"
   ]
  },
  {
   "cell_type": "code",
   "execution_count": null,
   "metadata": {},
   "outputs": [],
   "source": [
    "# rescale\n",
    "preds_unsc = scalerY.inverse_transform(sc_preds)"
   ]
  },
  {
   "cell_type": "code",
   "execution_count": null,
   "metadata": {},
   "outputs": [],
   "source": [
    "# show predictions\n",
    "pd.DataFrame(preds_unsc, columns = YTEST_traj.columns).head()"
   ]
  },
  {
   "cell_type": "code",
   "execution_count": null,
   "metadata": {},
   "outputs": [],
   "source": [
    "# show actual\n",
    "YTEST_traj.head()"
   ]
  },
  {
   "cell_type": "code",
   "execution_count": null,
   "metadata": {},
   "outputs": [],
   "source": [
    "XTEST_traj.head()"
   ]
  },
  {
   "cell_type": "code",
   "execution_count": null,
   "metadata": {},
   "outputs": [],
   "source": [
    "freq = 1/25\n",
    "timesteps = np.arange(0, 20)\n",
    "\n",
    "goal = 10*np.sin(2*np.pi*freq * timesteps)\n",
    "\n",
    "# goal deriv\n",
    "goalD = 4/5*np.pi *np.cos(2*np.pi*freq * timesteps)\n",
    "\n",
    "\n",
    "plt.scatter(y = goal, x = timesteps)\n",
    "plt.scatter(y = goalD, x = timesteps)\n",
    "plt.hlines(y = 0, xmin = 0, xmax = 20)\n",
    "#plt.scatter(y = ss.y_0, x = ss.timestep)"
   ]
  },
  {
   "cell_type": "code",
   "execution_count": null,
   "metadata": {},
   "outputs": [],
   "source": [
    "# goal deriv\n",
    "goalD = 4/5*np.pi *np.cos(2*np.pi*freq * timesteps)"
   ]
  },
  {
   "cell_type": "code",
   "execution_count": null,
   "metadata": {},
   "outputs": [],
   "source": [
    "XTEST_traj.head()"
   ]
  },
  {
   "cell_type": "code",
   "execution_count": null,
   "metadata": {},
   "outputs": [],
   "source": [
    "# create input data\n",
    "theta_goal = np.pi / 4\n",
    "phi_goal = np.pi / 4 + np.pi\n",
    "\n",
    "timstep = 0\n",
    "inputData = np.array([0, goal[timstep], phi_goal, theta_goal, \n",
    "             0, goal[timstep + 1], phi_goal, theta_goal,\n",
    "            0.0001, 0.0001, 0, 0 ]).reshape(1,-1)\n",
    "\n",
    "#inputData2 = scalerX.transform(XTEST_traj.head())\n",
    "inputData2 = scalerX.transform(inputData)\n",
    "pd.DataFrame(inputData2, columns = XTEST_traj.columns)"
   ]
  },
  {
   "cell_type": "code",
   "execution_count": null,
   "metadata": {},
   "outputs": [],
   "source": [
    "nnpreds2 = pd.DataFrame(scalerY.inverse_transform(model.predict(inputData2)), columns = YTEST_traj.columns)"
   ]
  },
  {
   "cell_type": "code",
   "execution_count": null,
   "metadata": {},
   "outputs": [],
   "source": [
    "newDF = pd.concat([pd.DataFrame(inputData, columns = XTEST_traj.columns), nnpreds2], axis = 1)"
   ]
  },
  {
   "cell_type": "code",
   "execution_count": null,
   "metadata": {},
   "outputs": [],
   "source": [
    "for timstep in np.arange(0,16): \n",
    "    newDF = newDF.append(newDF.iloc[timstep,:]).reset_index(drop = True)\n",
    "    newDF.loc[timstep+1, ['x_0', 'y_0', 'phi_0', 'theta_0']] = np.array(newDF.loc[timstep, ['x_99', 'y_99', 'phi_99', 'theta_99']])\n",
    "    newDF.loc[timstep+1, ['x_99', 'y_99', 'phi_99', 'theta_99']] = np.array([0, goal[timstep + 2], phi_goal, theta_goal])\n",
    "    newDF.loc[timstep+1, ['x_dot_0', 'y_dot_0', 'phi_dot_0', 'theta_dot_0']] = np.array(newDF.loc[timstep, ['x_dot_99', 'y_dot_99', 'phi_dot_99', 'theta_dot_99']])\n",
    "    inputData = np.array(newDF.loc[timstep + 1,list(XTEST_traj.columns)]).reshape(1,-1)\n",
    "    inputData2 = scalerX.transform(inputData)\n",
    "\n",
    "    newDF.loc[timstep + 1, list(YTEST_traj.columns)] = scalerY.inverse_transform(model.predict(inputData2))"
   ]
  },
  {
   "cell_type": "code",
   "execution_count": null,
   "metadata": {},
   "outputs": [],
   "source": [
    "newDF"
   ]
  },
  {
   "cell_type": "code",
   "execution_count": null,
   "metadata": {},
   "outputs": [],
   "source": [
    "# convert to F and alpha \n",
    "\n",
    "# calculate alpha\n",
    "def quadrant(Fx, Fy):\n",
    "    if (Fx >= 0) & (Fy >= 0):\n",
    "        q = 1\n",
    "    elif (Fx < 0) & (Fy >= 0):\n",
    "        q = 2\n",
    "    elif (Fx < 0) & (Fy < 0):\n",
    "        q = 3\n",
    "    elif (Fx >= 0) & (Fy < 0):\n",
    "        q = 4\n",
    "    else:\n",
    "        q = 999999\n",
    "    return(q)\n",
    "\n",
    "\n",
    "def angleCalc(Fx, Fy, q):\n",
    "    fx = np.abs(Fx)\n",
    "    fy = np.abs(Fy)\n",
    "    \n",
    "    if q == 1:\n",
    "        alpha = np.arctan(fy/fx)\n",
    "    elif q == 2:\n",
    "        alpha = np.pi - np.arctan(fy/fx)\n",
    "    elif q == 3: \n",
    "        alpha = np.pi + np.arctan(fy/fx)\n",
    "    elif q == 4:\n",
    "        alpha = (2*np.pi) - np.arctan(fy/fx)\n",
    "    return(alpha)\n",
    "\n",
    "def AlphaAndForceCalc (df = newDF, FX_name = \"Fx\", FY_name = \"Fy\"):\n",
    "    quadrantNum = [quadrant(fx, fy) for fx,fy in zip(df[FX_name], df[FY_name])]\n",
    "    df[\"alphaCalc\"] = [angleCalc(fx, fy, q) for fx, fy, q in zip(df[FX_name], df[FY_name], quadrantNum)]\n",
    "    df[\"F\"] = np.sqrt(df[FX_name]**2 + df[FY_name]**2)\n",
    "    return(df)\n",
    "\n",
    "# calculate F\n",
    "\n",
    "df2 = AlphaAndForceCalc()"
   ]
  },
  {
   "cell_type": "code",
   "execution_count": null,
   "metadata": {},
   "outputs": [],
   "source": [
    "df2"
   ]
  },
  {
   "cell_type": "code",
   "execution_count": null,
   "metadata": {},
   "outputs": [],
   "source": [
    "df2.to_csv(os.path.join(dataOutput, \"predictPartPath_allCols.csv\"), index = False)"
   ]
  },
  {
   "cell_type": "code",
   "execution_count": null,
   "metadata": {},
   "outputs": [],
   "source": [
    "# make smaller version\n",
    "df2.drop([\"Fx\", \"Fy\"], axis = 1, inplace = True)\n",
    "df2.rename({\"alphaCalc\": \"alpha\"}, axis = 1, inplace = True)\n",
    "df2"
   ]
  },
  {
   "cell_type": "code",
   "execution_count": null,
   "metadata": {},
   "outputs": [],
   "source": [
    "df2.columns"
   ]
  },
  {
   "cell_type": "code",
   "execution_count": null,
   "metadata": {},
   "outputs": [],
   "source": [
    "# change column order\n",
    "\n",
    "ddf1 = df2.pop(\"alpha\")\n",
    "df2['alpha'] = ddf1\n",
    "df1 = df2.pop('tau')\n",
    "df2['tau'] = df1\n",
    "df2"
   ]
  },
  {
   "cell_type": "code",
   "execution_count": null,
   "metadata": {},
   "outputs": [],
   "source": [
    "df2.to_csv(os.path.join(dataOutput, \"predictPartPath_small.csv\"), index = False)"
   ]
  },
  {
   "cell_type": "code",
   "execution_count": null,
   "metadata": {},
   "outputs": [],
   "source": [
    "dataOutput"
   ]
  },
  {
   "cell_type": "code",
   "execution_count": null,
   "metadata": {},
   "outputs": [],
   "source": []
  },
  {
   "cell_type": "code",
   "execution_count": null,
   "metadata": {},
   "outputs": [],
   "source": []
  },
  {
   "cell_type": "code",
   "execution_count": null,
   "metadata": {},
   "outputs": [],
   "source": []
  },
  {
   "cell_type": "code",
   "execution_count": null,
   "metadata": {},
   "outputs": [],
   "source": [
    "YTEST_traj.head()"
   ]
  },
  {
   "cell_type": "code",
   "execution_count": null,
   "metadata": {},
   "outputs": [],
   "source": [
    "newDF = newDF.loc[0:YTEST_traj.shape[0], YTEST_traj.columns]\n",
    "\n",
    "newDF.head()"
   ]
  },
  {
   "cell_type": "code",
   "execution_count": null,
   "metadata": {},
   "outputs": [],
   "source": [
    "plt.scatter(YTEST_traj.Fx, newDF.Fx)"
   ]
  },
  {
   "cell_type": "code",
   "execution_count": null,
   "metadata": {},
   "outputs": [],
   "source": [
    "plt.scatter(YTEST_traj.Fy, newDF.Fy)"
   ]
  },
  {
   "cell_type": "code",
   "execution_count": null,
   "metadata": {},
   "outputs": [],
   "source": [
    "plt.plot(YTEST_traj.Fx- newDF.Fx)"
   ]
  },
  {
   "cell_type": "code",
   "execution_count": null,
   "metadata": {},
   "outputs": [],
   "source": [
    "plt.plot(YTEST_traj.Fy- newDF.Fy)"
   ]
  },
  {
   "cell_type": "code",
   "execution_count": null,
   "metadata": {},
   "outputs": [],
   "source": []
  },
  {
   "cell_type": "code",
   "execution_count": null,
   "metadata": {},
   "outputs": [],
   "source": []
  },
  {
   "cell_type": "code",
   "execution_count": null,
   "metadata": {},
   "outputs": [],
   "source": []
  },
  {
   "cell_type": "code",
   "execution_count": null,
   "metadata": {},
   "outputs": [],
   "source": []
  },
  {
   "cell_type": "code",
   "execution_count": null,
   "metadata": {},
   "outputs": [],
   "source": []
  },
  {
   "cell_type": "code",
   "execution_count": null,
   "metadata": {},
   "outputs": [],
   "source": []
  },
  {
   "cell_type": "code",
   "execution_count": null,
   "metadata": {},
   "outputs": [],
   "source": []
  },
  {
   "cell_type": "code",
   "execution_count": null,
   "metadata": {},
   "outputs": [],
   "source": [
    "# convert Fx and Fy back to F and alpha"
   ]
  },
  {
   "cell_type": "code",
   "execution_count": null,
   "metadata": {},
   "outputs": [],
   "source": [
    "# calculate mean squared error"
   ]
  },
  {
   "cell_type": "code",
   "execution_count": null,
   "metadata": {},
   "outputs": [],
   "source": [
    "from sklearn.metrics import mean_squared_error\n",
    "\n",
    "from sklearn.metrics import r2_score"
   ]
  },
  {
   "cell_type": "code",
   "execution_count": null,
   "metadata": {},
   "outputs": [],
   "source": [
    "for ii in range(len(nms)):\n",
    "    #np.sqrt(mean_squared_error(Ytest.iloc[0:1000,ii], nnpreds_unscaled[:,ii]))\n",
    "    print(r2_score(Ytest.iloc[0:1000,ii], nnpreds_unscaled[:,ii]), nms[ii])"
   ]
  },
  {
   "cell_type": "code",
   "execution_count": null,
   "metadata": {},
   "outputs": [],
   "source": [
    "plt.scatter(nnpreds_unscaled[:,ii],Ytest.iloc[0:1000,ii]-  nnpreds_unscaled[:,ii])"
   ]
  },
  {
   "cell_type": "code",
   "execution_count": null,
   "metadata": {},
   "outputs": [],
   "source": [
    "# predict on holdout data (novel initial conditions)\n",
    "nnpreds = model.predict(XTEST_scaled)\n",
    "\n",
    "nnpreds_unscaled = scalerY.inverse_transform(nnpreds)"
   ]
  },
  {
   "cell_type": "code",
   "execution_count": null,
   "metadata": {},
   "outputs": [],
   "source": [
    "XTEST_scaled.shape"
   ]
  },
  {
   "cell_type": "code",
   "execution_count": null,
   "metadata": {},
   "outputs": [],
   "source": [
    "YTEST.shape"
   ]
  },
  {
   "cell_type": "code",
   "execution_count": null,
   "metadata": {},
   "outputs": [],
   "source": [
    "plt.close(\"all\")\n",
    "fig, axs = plt.subplots(2,4, figsize=(15, 10), facecolor='w', edgecolor='k')\n",
    "fig.subplots_adjust(hspace = 0.3, wspace=0.3)\n",
    "fig.suptitle('Predicted vs. acutal ', fontsize=14, fontweight='bold')\n",
    "\n",
    "axs = axs.ravel()\n",
    "\n",
    "nms = Y.columns\n",
    "\n",
    "# replace lightest colors with white\n",
    "import matplotlib.colors\n",
    "\n",
    "cmap = plt.cm.magma_r\n",
    "cmaplist = np.array([cmap(i) for i in range(cmap.N)])\n",
    "#cmaplist[0:2] = np.repeat((0.0,0.0,0.0,0.0), 2).reshape(-1,4)\n",
    "cmaplist[:,0:3] = np.divide(cmaplist[:, 0:3], 1.1)\n",
    "#cmaplist[:,0:3] = np.transpose(np.vstack([np.linspace(1, 0, 256), np.linspace(1, 0, 256), np.linspace(1, 0, 256)]))\n",
    "cmaplist[0] = (1,1,1,0.5)\n",
    "cmap = matplotlib.colors.LinearSegmentedColormap.from_list('mcm',cmaplist, cmap.N)\n",
    "\n",
    "for ii in range(len(Y.columns)):\n",
    "    # read in image\n",
    "    \n",
    "    try:\n",
    "        axs[ii].hexbin(y = YTEST.iloc[:,ii],x = nnpreds_unscaled[:,ii], gridsize = 150, cmap = cmap)\n",
    "        axs[ii].set_xlabel(\"Predicted Value\\n(unscaled)\")\n",
    "        if(ii == 0):\n",
    "            axs[ii].set_ylabel(\"Actual Value\\n(unscaled)\")\n",
    "        axs[ii].set_title(nms[ii])\n",
    "        axs[ii].plot(YTEST.iloc[:,ii], YTEST.iloc[:,ii], 'grey', linewidth = 1, linestyle  = \"--\")\n",
    "    except:\n",
    "        pass\n",
    "\n",
    "# fig.savefig(os.path.join(figDir, \"NNPreds_newData_control_bigbatch_FxFy_hexbin_loadedModel.png\"), dpi = 120, bbox_inches='tight')"
   ]
  },
  {
   "cell_type": "code",
   "execution_count": null,
   "metadata": {},
   "outputs": [],
   "source": [
    "# residual plots\n",
    "plt.close(\"all\")\n",
    "fig, axs = plt.subplots(2,4, figsize=(15, 10), facecolor='w', edgecolor='k')\n",
    "fig.subplots_adjust(hspace = 0.3, wspace=0.3)\n",
    "fig.suptitle('Predicted vs. acutal ', fontsize=14, fontweight='bold')\n",
    "\n",
    "axs = axs.ravel()\n",
    "\n",
    "nms = Y.columns\n",
    "\n",
    "# replace lightest colors with white\n",
    "import matplotlib.colors\n",
    "\n",
    "cmap = plt.cm.magma_r\n",
    "cmaplist = np.array([cmap(i) for i in range(cmap.N)])\n",
    "cmaplist[:,0:3] = np.divide(cmaplist[:, 0:3], 1.1)\n",
    "cmaplist[0] = (1,1,1,0.5)\n",
    "cmap = matplotlib.colors.LinearSegmentedColormap.from_list('mcm',cmaplist, cmap.N)\n",
    "\n",
    "for ii in range(len(Y.columns)):\n",
    "    # read in image\n",
    "    \n",
    "    try:\n",
    "        axs[ii].hexbin(y = YTEST.iloc[:,ii] - nnpreds_unscaled[:,ii],x = nnpreds_unscaled[:,ii], gridsize = 150, cmap = cmap)\n",
    "        axs[ii].set_xlabel(\"Predicted Value\\n(unscaled)\")\n",
    "        if(ii == 0):\n",
    "            axs[ii].set_ylabel(\"Residuals\\n(unscaled)\")\n",
    "        axs[ii].set_title(nms[ii])\n",
    "        axs[ii].hlines(y = 0, xmin = np.min(nnpreds_unscaled[:,ii]), \n",
    "                       xmax = np.max(nnpreds_unscaled[:,ii]), linestyle =  \"--\", linewidth = 1)\n",
    "    except:\n",
    "        pass\n"
   ]
  },
  {
   "cell_type": "code",
   "execution_count": null,
   "metadata": {},
   "outputs": [],
   "source": [
    "# see how many initial conditions are in the TEST Set\n"
   ]
  },
  {
   "cell_type": "code",
   "execution_count": null,
   "metadata": {},
   "outputs": [],
   "source": [
    "XTEST.iloc[:, 0:4].drop_duplicates().shape"
   ]
  },
  {
   "cell_type": "code",
   "execution_count": null,
   "metadata": {},
   "outputs": [],
   "source": [
    "X.iloc[:,0:4].drop_duplicates().shape"
   ]
  },
  {
   "cell_type": "code",
   "execution_count": null,
   "metadata": {},
   "outputs": [],
   "source": []
  },
  {
   "cell_type": "code",
   "execution_count": null,
   "metadata": {},
   "outputs": [],
   "source": [
    "df1 = pd.DataFrame({\"A\": [4,5,5,6,6,5,5], \n",
    "                   \"B\": [4,3,3,5,5,3,3], \n",
    "                   \"C\": [3,4,4,6,7,4,4], \n",
    "                   \"D\": [6,8,2,6,4,2,2]})\n",
    "df1[\"NM\"] = \"df1\"\n",
    "\n",
    "\n",
    "df2 = pd.DataFrame({\"A\": [4,5,5], \n",
    "                   \"B\": [4,3,3], \n",
    "                   \"C\": [4,4,4], \n",
    "                   \"D\": [7,2,2]})\n",
    "\n",
    "df2[\"NM\"] = \"df2\""
   ]
  },
  {
   "cell_type": "code",
   "execution_count": null,
   "metadata": {},
   "outputs": [],
   "source": [
    "df1"
   ]
  },
  {
   "cell_type": "code",
   "execution_count": null,
   "metadata": {},
   "outputs": [],
   "source": [
    "df2"
   ]
  },
  {
   "cell_type": "code",
   "execution_count": null,
   "metadata": {},
   "outputs": [],
   "source": [
    "pd.merge(df1, df2, on = ['A', 'B', 'C', 'D'], how = \"inner\")"
   ]
  },
  {
   "cell_type": "code",
   "execution_count": null,
   "metadata": {},
   "outputs": [],
   "source": []
  },
  {
   "cell_type": "code",
   "execution_count": null,
   "metadata": {},
   "outputs": [],
   "source": []
  },
  {
   "cell_type": "code",
   "execution_count": null,
   "metadata": {},
   "outputs": [],
   "source": []
  },
  {
   "cell_type": "code",
   "execution_count": null,
   "metadata": {},
   "outputs": [],
   "source": []
  },
  {
   "cell_type": "code",
   "execution_count": null,
   "metadata": {},
   "outputs": [],
   "source": []
  },
  {
   "cell_type": "code",
   "execution_count": null,
   "metadata": {},
   "outputs": [],
   "source": []
  },
  {
   "cell_type": "code",
   "execution_count": null,
   "metadata": {},
   "outputs": [],
   "source": []
  },
  {
   "cell_type": "code",
   "execution_count": null,
   "metadata": {},
   "outputs": [],
   "source": [
    "TestPreds = pd.DataFrame(nnpreds_unscaled, columns = Y.columns)\n",
    "TestPreds.head()"
   ]
  },
  {
   "cell_type": "code",
   "execution_count": null,
   "metadata": {},
   "outputs": [],
   "source": [
    "TestInput = pd.DataFrame(Xtest, columns = X.columns).reset_index(drop = True)\n",
    "TestInput.head()"
   ]
  },
  {
   "cell_type": "code",
   "execution_count": null,
   "metadata": {},
   "outputs": [],
   "source": [
    "# F will be the same in any quadrant\n",
    "\n",
    "TestPreds[\"F\"] = np.sqrt(TestPreds[\"Fx\"]**2 + TestPreds[\"Fy\"]**2)\n",
    "\n",
    "# trainDF[\"Fx\"] = trainDF.F * np.cos(trainDF.alpha)\n",
    "# trainDF[\"Fy\"] = trainDF.F * np.sin(trainDF.alpha)"
   ]
  },
  {
   "cell_type": "code",
   "execution_count": null,
   "metadata": {},
   "outputs": [],
   "source": [
    "TestPreds.head()"
   ]
  },
  {
   "cell_type": "code",
   "execution_count": null,
   "metadata": {},
   "outputs": [],
   "source": [
    "# calculate alpha\n",
    "def quadrant(Fx, Fy):\n",
    "    if (Fx >= 0) & (Fy >= 0):\n",
    "        q = 1\n",
    "    elif (Fx < 0) & (Fy >= 0):\n",
    "        q = 2\n",
    "    elif (Fx < 0) & (Fy < 0):\n",
    "        q = 3\n",
    "    elif (Fx >= 0) & (Fy < 0):\n",
    "        q = 4\n",
    "    else:\n",
    "        q = 999999\n",
    "    return(q)\n",
    "\n",
    "\n",
    "def angleCalc(Fx, Fy, q):\n",
    "    fx = np.abs(Fx)\n",
    "    fy = np.abs(Fy)\n",
    "    \n",
    "    if q == 1:\n",
    "        alpha = np.arctan(fy/fx)\n",
    "    elif q == 2:\n",
    "        alpha = np.pi - np.arctan(fy/fx)\n",
    "    elif q == 3: \n",
    "        alpha = np.pi + np.arctan(fy/fx)\n",
    "    elif q == 4:\n",
    "        alpha = (2*np.pi) - np.arctan(fy/fx)\n",
    "    return(alpha)\n"
   ]
  },
  {
   "cell_type": "code",
   "execution_count": null,
   "metadata": {},
   "outputs": [],
   "source": [
    "TestPreds[\"quadrant\"] = [quadrant(fx, fy) for fx,fy in zip(TestPreds[\"Fx\"], TestPreds[\"Fy\"])]"
   ]
  },
  {
   "cell_type": "code",
   "execution_count": null,
   "metadata": {},
   "outputs": [],
   "source": [
    "TestPreds.head()"
   ]
  },
  {
   "cell_type": "code",
   "execution_count": null,
   "metadata": {},
   "outputs": [],
   "source": [
    "TestPreds[\"alpha\"] = [angleCalc(fx, fy, q) for fx, fy, q in zip(TestPreds[\"Fx\"], TestPreds[\"Fy\"], TestPreds[\"quadrant\"])]"
   ]
  },
  {
   "cell_type": "code",
   "execution_count": null,
   "metadata": {},
   "outputs": [],
   "source": [
    "TestPreds.head()"
   ]
  },
  {
   "cell_type": "code",
   "execution_count": null,
   "metadata": {},
   "outputs": [],
   "source": [
    "TestPredsComb = pd.concat([TestPreds, TestInput], axis = 1)"
   ]
  },
  {
   "cell_type": "code",
   "execution_count": null,
   "metadata": {},
   "outputs": [],
   "source": [
    "TestPredsComb.head()"
   ]
  },
  {
   "cell_type": "code",
   "execution_count": null,
   "metadata": {},
   "outputs": [],
   "source": [
    "TestPredsComb.rename(index=str, columns={\"F\": \"F_pred\", \"alpha\": \"alpha_pred\", \"tau\":\"tau_pred\"}, inplace=True)"
   ]
  },
  {
   "cell_type": "code",
   "execution_count": null,
   "metadata": {},
   "outputs": [],
   "source": [
    "TestPredsComb.head()"
   ]
  },
  {
   "cell_type": "code",
   "execution_count": null,
   "metadata": {},
   "outputs": [],
   "source": [
    "TestPredsComb.drop(['Fx', 'Fy', \"quadrant\"], axis=1, inplace = True)\n",
    "TestPredsComb.head()"
   ]
  },
  {
   "cell_type": "code",
   "execution_count": null,
   "metadata": {},
   "outputs": [],
   "source": [
    "cols= ['x_0', 'y_0', 'phi_0', 'theta_0', \n",
    "       'x_dot_0', 'y_dot_0', 'phi_dot_0', 'theta_dot_0', \n",
    "       'F_pred', 'alpha_pred', 'tau_pred', \n",
    "      'x_99', 'y_99', 'phi_99', 'theta_99', \n",
    "      'x_dot_99', 'y_dot_99', 'phi_dot_99', 'theta_dot_99' ]"
   ]
  },
  {
   "cell_type": "code",
   "execution_count": null,
   "metadata": {},
   "outputs": [],
   "source": [
    "tc2 = TestPredsComb.loc[:, cols]\n",
    "tc2.head()"
   ]
  },
  {
   "cell_type": "code",
   "execution_count": null,
   "metadata": {},
   "outputs": [],
   "source": [
    "tc2.rename(columns = {\"x_dot_99\": \"x_dot_99_pred\", \n",
    "                     \"y_dot_99\": \"y_dot_99_pred\", \n",
    "                     \"theta_dot_99\": \"theta_dot_99_pred\", \n",
    "                     \"phi_dot_99\": \"phi_dot_99_pred\"}, inplace = True)\n",
    "tc2.head()"
   ]
  },
  {
   "cell_type": "code",
   "execution_count": null,
   "metadata": {},
   "outputs": [],
   "source": [
    "tc2.to_csv(os.path.join(dataOutput, \"NNpreds.csv\"), index = False)"
   ]
  },
  {
   "cell_type": "code",
   "execution_count": null,
   "metadata": {},
   "outputs": [],
   "source": [
    "tc2.shape"
   ]
  },
  {
   "cell_type": "code",
   "execution_count": null,
   "metadata": {},
   "outputs": [],
   "source": [
    "Xtrain.shape"
   ]
  },
  {
   "cell_type": "code",
   "execution_count": null,
   "metadata": {},
   "outputs": [],
   "source": [
    "\n",
    "tc_sm =  tc2.sample(n=1000, random_state = 902902)\n",
    "tc_sm.to_csv(os.path.join(dataOutput, \"NNpreds_small.csv\"), index = False)"
   ]
  },
  {
   "cell_type": "code",
   "execution_count": null,
   "metadata": {},
   "outputs": [],
   "source": []
  },
  {
   "cell_type": "code",
   "execution_count": null,
   "metadata": {},
   "outputs": [],
   "source": []
  },
  {
   "cell_type": "code",
   "execution_count": null,
   "metadata": {},
   "outputs": [],
   "source": []
  },
  {
   "cell_type": "code",
   "execution_count": null,
   "metadata": {},
   "outputs": [],
   "source": []
  },
  {
   "cell_type": "code",
   "execution_count": null,
   "metadata": {},
   "outputs": [],
   "source": []
  },
  {
   "cell_type": "code",
   "execution_count": null,
   "metadata": {},
   "outputs": [],
   "source": []
  },
  {
   "cell_type": "code",
   "execution_count": null,
   "metadata": {},
   "outputs": [],
   "source": []
  },
  {
   "cell_type": "code",
   "execution_count": null,
   "metadata": {},
   "outputs": [],
   "source": []
  },
  {
   "cell_type": "code",
   "execution_count": null,
   "metadata": {},
   "outputs": [],
   "source": []
  },
  {
   "cell_type": "code",
   "execution_count": null,
   "metadata": {},
   "outputs": [],
   "source": []
  },
  {
   "cell_type": "code",
   "execution_count": null,
   "metadata": {},
   "outputs": [],
   "source": []
  },
  {
   "cell_type": "code",
   "execution_count": null,
   "metadata": {},
   "outputs": [],
   "source": []
  },
  {
   "cell_type": "code",
   "execution_count": null,
   "metadata": {},
   "outputs": [],
   "source": []
  },
  {
   "cell_type": "code",
   "execution_count": null,
   "metadata": {},
   "outputs": [],
   "source": []
  },
  {
   "cell_type": "code",
   "execution_count": null,
   "metadata": {},
   "outputs": [],
   "source": [
    "# check alpha on trainDf\n",
    "trainDF2[\"quadrant\"] = [quadrant(fx, fy) for fx,fy in zip(trainDF2[\"Fx\"], trainDF2[\"Fy\"])]\n",
    "\n",
    "trainDF2[\"alphaCalc\"] = [angleCalc(fx, fy, q) for fx, fy, q in zip(trainDF2[\"Fx\"], trainDF2[\"Fy\"], trainDF2[\"quadrant\"])]"
   ]
  },
  {
   "cell_type": "code",
   "execution_count": null,
   "metadata": {},
   "outputs": [],
   "source": [
    "trainDF2.loc[:, [\"alpha\", \"alphaCalc\"]].head()"
   ]
  },
  {
   "cell_type": "code",
   "execution_count": null,
   "metadata": {},
   "outputs": [],
   "source": []
  },
  {
   "cell_type": "code",
   "execution_count": null,
   "metadata": {},
   "outputs": [],
   "source": []
  },
  {
   "cell_type": "code",
   "execution_count": null,
   "metadata": {},
   "outputs": [],
   "source": []
  },
  {
   "cell_type": "code",
   "execution_count": null,
   "metadata": {},
   "outputs": [],
   "source": [
    "plt.close(\"all\")\n",
    "fig, axs = plt.subplots(2,int(len(Y.columns)/2), figsize=(15, 10), facecolor='w', edgecolor='k')\n",
    "fig.subplots_adjust(hspace = 0.1, wspace=0.3)\n",
    "fig.suptitle('Predicted vs. acutal ', fontsize=14, fontweight='bold')\n",
    "\n",
    "axs = axs.ravel()\n",
    "\n",
    "nms = Y.columns\n",
    "\n",
    "for ii in range(len(Y.columns)):\n",
    "    # read in image\n",
    "    \n",
    "    try:\n",
    "        axs[ii].scatter(y = Ytest.iloc[:,ii],x = nnpreds_unscaled[:,ii], s = 1, alpha = 0.1 )\n",
    "        axs[ii].set_xlabel(\"Predicted Value (un-scaled)\")\n",
    "        if(ii == 0):\n",
    "            axs[ii].set_ylabel(\"Actual Value\\n(un-scaled)\")\n",
    "        axs[ii].set_title(nms[ii])\n",
    "        axs[ii].plot(Ytest.iloc[:,ii], Ytest.iloc[:,ii], 'b')\n",
    "    except:\n",
    "        pass\n",
    "\n",
    "    \n",
    "fig.savefig(os.path.join(figDir, \"NNPreds_newData_control_bigbatch_FxFy.png\"), dpi = 120, bbox_inches='tight')"
   ]
  },
  {
   "cell_type": "code",
   "execution_count": null,
   "metadata": {},
   "outputs": [],
   "source": [
    "Ytest.head()"
   ]
  },
  {
   "cell_type": "code",
   "execution_count": null,
   "metadata": {},
   "outputs": [],
   "source": [
    "Xtest.head()"
   ]
  },
  {
   "cell_type": "code",
   "execution_count": null,
   "metadata": {},
   "outputs": [],
   "source": []
  },
  {
   "cell_type": "code",
   "execution_count": null,
   "metadata": {},
   "outputs": [],
   "source": []
  },
  {
   "cell_type": "code",
   "execution_count": null,
   "metadata": {},
   "outputs": [],
   "source": []
  },
  {
   "cell_type": "code",
   "execution_count": null,
   "metadata": {},
   "outputs": [],
   "source": []
  },
  {
   "cell_type": "code",
   "execution_count": null,
   "metadata": {},
   "outputs": [],
   "source": []
  },
  {
   "cell_type": "code",
   "execution_count": null,
   "metadata": {},
   "outputs": [],
   "source": [
    "# refref: idea - predict whole paths, rather than just the endpoint"
   ]
  },
  {
   "cell_type": "code",
   "execution_count": null,
   "metadata": {},
   "outputs": [],
   "source": [
    "plt.close(\"all\")\n",
    "fig, axs = plt.subplots(1,3, figsize=(15, 5), facecolor='w', edgecolor='k')\n",
    "fig.subplots_adjust(hspace = 0.1, wspace=0.3)\n",
    "fig.suptitle('Predicted vs. acutal ', fontsize=14, fontweight='bold')\n",
    "\n",
    "axs = axs.ravel()\n",
    "\n",
    "nms = [\"Fx\", \"Fy\", \"tau\"]\n",
    "\n",
    "\n",
    "# replace lightest colors with white\n",
    "import matplotlib.colors\n",
    "\n",
    "cmap = plt.cm.magma_r\n",
    "cmaplist = np.array([cmap(i) for i in range(cmap.N)])\n",
    "#cmaplist[0:2] = np.repeat((0.0,0.0,0.0,0.0), 2).reshape(-1,4)\n",
    "cmaplist[:,0:3] = np.divide(cmaplist[:, 0:3], 1.1)\n",
    "#cmaplist[:,0:3] = np.transpose(np.vstack([np.linspace(1, 0, 256), np.linspace(1, 0, 256), np.linspace(1, 0, 256)]))\n",
    "cmaplist[0] = (1,1,1,0.5)\n",
    "cmap = matplotlib.colors.LinearSegmentedColormap.from_list('mcm',cmaplist, cmap.N)\n",
    "\n",
    "for ii in range(3):\n",
    "    # read in image\n",
    "    \n",
    "    try:\n",
    "        axs[ii].hexbin(y = Ytest_scaled[:,ii],x = nnpreds[:,ii], gridsize = 150, cmap = cmap)\n",
    "        axs[ii].set_xlabel(\"Predicted Value (scaled)\")\n",
    "        if(ii == 0):\n",
    "            axs[ii].set_ylabel(\"Actual Value\\n(scaled)\")\n",
    "        axs[ii].set_title(nms[ii])\n",
    "        axs[ii].plot(Ytest_scaled[:,ii], Ytest_scaled[:,ii], 'grey', linewidth = 1, linestyle  = \"--\")\n",
    "    except:\n",
    "        pass\n",
    "\n",
    "fig.savefig(os.path.join(figDir, \"NNPreds_newData_control_bigbatch_FxFy_hexbin.png\"), dpi = 120, bbox_inches='tight')"
   ]
  },
  {
   "cell_type": "code",
   "execution_count": null,
   "metadata": {},
   "outputs": [],
   "source": []
  },
  {
   "cell_type": "code",
   "execution_count": null,
   "metadata": {},
   "outputs": [],
   "source": []
  },
  {
   "cell_type": "code",
   "execution_count": null,
   "metadata": {},
   "outputs": [],
   "source": []
  },
  {
   "cell_type": "code",
   "execution_count": null,
   "metadata": {},
   "outputs": [],
   "source": []
  },
  {
   "cell_type": "code",
   "execution_count": null,
   "metadata": {},
   "outputs": [],
   "source": []
  },
  {
   "cell_type": "code",
   "execution_count": null,
   "metadata": {},
   "outputs": [],
   "source": []
  },
  {
   "cell_type": "code",
   "execution_count": null,
   "metadata": {},
   "outputs": [],
   "source": []
  },
  {
   "cell_type": "code",
   "execution_count": null,
   "metadata": {},
   "outputs": [],
   "source": []
  },
  {
   "cell_type": "code",
   "execution_count": null,
   "metadata": {},
   "outputs": [],
   "source": []
  },
  {
   "cell_type": "code",
   "execution_count": null,
   "metadata": {},
   "outputs": [],
   "source": [
    "bf2[['simNum', 'timestep']] = bf2[['simNum', 'timestep']].astype(int)\n",
    "\n",
    "bf2['count'] = bf2.groupby([\"simNum\", \"timestep\"]).cumcount()\n",
    "\n",
    "bf2.head()\n",
    "\n",
    "bf2.tail()\n",
    "\n",
    "sdf = bf2.loc[(bf2[\"count\"] == 0) | (bf2[\"count\"] == 99), :]\n",
    "sdf.head()\n",
    "\n",
    "ss = sdf.pivot_table(index='simNum', columns = \"count\",aggfunc='first')\n",
    "ss.columns = [f'{i}_{j}' if j != '' else f'{i}' for i,j in ss.columns]\n",
    "ss[\"simNum\"] = ss.index\n",
    "ss.index.name = None\n",
    "ss.head()\n",
    "\n",
    "np.array(ss).shape\n",
    "\n",
    "np.vstack([np.array(ss), np.array(ss)]).shape"
   ]
  },
  {
   "cell_type": "code",
   "execution_count": null,
   "metadata": {},
   "outputs": [],
   "source": []
  }
 ],
 "metadata": {
  "kernelspec": {
   "display_name": "deeplearning",
   "language": "python",
   "name": "deeplearning"
  },
  "language_info": {
   "codemirror_mode": {
    "name": "ipython",
    "version": 3
   },
   "file_extension": ".py",
   "mimetype": "text/x-python",
   "name": "python",
   "nbconvert_exporter": "python",
   "pygments_lexer": "ipython3",
   "version": "3.6.4"
  }
 },
 "nbformat": 4,
 "nbformat_minor": 2
}
