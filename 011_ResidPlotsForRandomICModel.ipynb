{
 "cells": [
  {
   "cell_type": "markdown",
   "metadata": {},
   "source": [
    "## Callin Switzer\n",
    "## Build Residual plots for nnet output"
   ]
  },
  {
   "cell_type": "code",
   "execution_count": 1,
   "metadata": {},
   "outputs": [
    {
     "name": "stderr",
     "output_type": "stream",
     "text": [
      "C:\\Users\\calli\\Anaconda3\\envs\\deeplearning\\lib\\site-packages\\h5py\\__init__.py:36: FutureWarning: Conversion of the second argument of issubdtype from `float` to `np.floating` is deprecated. In future, it will be treated as `np.float64 == np.dtype(float).type`.\n",
      "  from ._conv import register_converters as _register_converters\n"
     ]
    },
    {
     "name": "stdout",
     "output_type": "stream",
     "text": [
      "TensorFlow successfully installed.\n",
      "The installed version of TensorFlow includes GPU support.\n",
      "3.6.4 |Anaconda custom (64-bit)| (default, Jan 16 2018, 10:22:32) [MSC v.1900 64 bit (AMD64)] \n",
      "\n",
      "last run on 2018-12-31 20:14:36.110004\n"
     ]
    }
   ],
   "source": [
    "import numpy as np\n",
    "from matplotlib import pyplot as plt\n",
    "%matplotlib inline\n",
    "\n",
    "import os\n",
    "import pandas as pd\n",
    "import time\n",
    "from datetime import datetime\n",
    "import sys\n",
    "import csv\n",
    "import seaborn as sns\n",
    "import scipy.io\n",
    "import subprocess\n",
    "import csv\n",
    "import pickle\n",
    "\n",
    "from matplotlib.ticker import ScalarFormatter\n",
    "\n",
    "import tensorflow as tf\n",
    "print(\"TensorFlow successfully installed.\")\n",
    "if tf.test.is_built_with_cuda():\n",
    "    print(\"The installed version of TensorFlow includes GPU support.\")\n",
    "\n",
    "print(sys.version, \"\\n\")\n",
    "\n",
    "now = datetime.now()\n",
    "print(\"last run on \" + str(now))\n",
    "\n",
    "#%qtconsole\n",
    "\n",
    "# define directories\n",
    "baseDir = os.getcwd()\n",
    "dataDir = r'D:\\MothSimulations\\11c-AggressiveManeuver\\Qstore\\hws_am_con'\n",
    "figDir = r'D:\\Dropbox\\AcademiaDropbox\\mothMachineLearning_dataAndFigs\\Figs'\n",
    "dataOutput = r'D:\\Dropbox\\AcademiaDropbox\\mothMachineLearning_dataAndFigs\\DataOutput'\n",
    "savedModels = r'D:\\Dropbox\\AcademiaDropbox\\mothMachineLearning_dataAndFigs\\savedModels'\n",
    "randomRawData = r'D:/Dropbox/AcademiaDropbox/mothMachineLearning_dataAndFigs/PythonGeneratedData'\n",
    "\n",
    "if not os.path.exists(dataOutput):\n",
    "    os.mkdir(dataOutput)\n",
    "if not os.path.exists(savedModels):\n",
    "    os.mkdir(savedModels)\n",
    "    \n",
    "# open file explorer\n",
    "# aa = r'explorer /select,\"'\n",
    "# subprocess.Popen(str(aa + figDir + '\\\"'))\n",
    "# subprocess.Popen(str(aa + dataDir + '\\\"'))"
   ]
  },
  {
   "cell_type": "code",
   "execution_count": 2,
   "metadata": {},
   "outputs": [
    {
     "name": "stderr",
     "output_type": "stream",
     "text": [
      "Using TensorFlow backend.\n"
     ]
    }
   ],
   "source": [
    "# import\n",
    "from keras.layers import Input, Dense, Dropout, BatchNormalization\n",
    "from keras.models import Model\n",
    "from keras import regularizers\n",
    "\n",
    "# Keras callcacks\n",
    "from keras.callbacks import EarlyStopping, ReduceLROnPlateau\n",
    "import keras.backend as K"
   ]
  },
  {
   "cell_type": "code",
   "execution_count": 3,
   "metadata": {},
   "outputs": [
    {
     "name": "stdout",
     "output_type": "stream",
     "text": [
      "TensorFlow successfully installed.\n",
      "The installed version of TensorFlow includes GPU support.\n",
      "3.6.4 |Anaconda custom (64-bit)| (default, Jan 16 2018, 10:22:32) [MSC v.1900 64 bit (AMD64)] \n",
      "\n",
      "last run on 2018-12-31 20:14:36.150865\n"
     ]
    }
   ],
   "source": [
    "# import custom Utils functions\n",
    "from DeepLearningUtils import *"
   ]
  },
  {
   "cell_type": "code",
   "execution_count": 4,
   "metadata": {},
   "outputs": [],
   "source": [
    "# load test data\n",
    "testDF = pd.read_hdf(os.path.join(dataOutput, \"concatenatedRandomICs_test.h5\"), key = \"data\")"
   ]
  },
  {
   "cell_type": "code",
   "execution_count": 5,
   "metadata": {},
   "outputs": [
    {
     "data": {
      "text/html": [
       "<div>\n",
       "<style scoped>\n",
       "    .dataframe tbody tr th:only-of-type {\n",
       "        vertical-align: middle;\n",
       "    }\n",
       "\n",
       "    .dataframe tbody tr th {\n",
       "        vertical-align: top;\n",
       "    }\n",
       "\n",
       "    .dataframe thead th {\n",
       "        text-align: right;\n",
       "    }\n",
       "</style>\n",
       "<table border=\"1\" class=\"dataframe\">\n",
       "  <thead>\n",
       "    <tr style=\"text-align: right;\">\n",
       "      <th></th>\n",
       "      <th>x0</th>\n",
       "      <th>xf</th>\n",
       "      <th>xd0</th>\n",
       "      <th>xdf</th>\n",
       "      <th>y0</th>\n",
       "      <th>yf</th>\n",
       "      <th>yd0</th>\n",
       "      <th>ydf</th>\n",
       "      <th>theta0</th>\n",
       "      <th>thetaf</th>\n",
       "      <th>thetad0</th>\n",
       "      <th>thetadf</th>\n",
       "      <th>phi0</th>\n",
       "      <th>phif</th>\n",
       "      <th>phid0</th>\n",
       "      <th>phidf</th>\n",
       "      <th>F</th>\n",
       "      <th>alpha</th>\n",
       "      <th>tau0</th>\n",
       "    </tr>\n",
       "  </thead>\n",
       "  <tbody>\n",
       "    <tr>\n",
       "      <th>0</th>\n",
       "      <td>0.0</td>\n",
       "      <td>9.347785</td>\n",
       "      <td>541.507416</td>\n",
       "      <td>414.083042</td>\n",
       "      <td>0.0</td>\n",
       "      <td>7.688051</td>\n",
       "      <td>502.568101</td>\n",
       "      <td>287.383793</td>\n",
       "      <td>6.272284</td>\n",
       "      <td>6.544707</td>\n",
       "      <td>-17.699701</td>\n",
       "      <td>18.810204</td>\n",
       "      <td>0.450877</td>\n",
       "      <td>0.654225</td>\n",
       "      <td>14.035800</td>\n",
       "      <td>15.213214</td>\n",
       "      <td>11219.837510</td>\n",
       "      <td>3.894620</td>\n",
       "      <td>49507.776091</td>\n",
       "    </tr>\n",
       "    <tr>\n",
       "      <th>1</th>\n",
       "      <td>0.0</td>\n",
       "      <td>23.603876</td>\n",
       "      <td>1409.737698</td>\n",
       "      <td>947.641985</td>\n",
       "      <td>0.0</td>\n",
       "      <td>23.633075</td>\n",
       "      <td>995.727369</td>\n",
       "      <td>1364.057322</td>\n",
       "      <td>2.831231</td>\n",
       "      <td>3.124010</td>\n",
       "      <td>19.846242</td>\n",
       "      <td>13.427370</td>\n",
       "      <td>1.913727</td>\n",
       "      <td>2.267903</td>\n",
       "      <td>17.112298</td>\n",
       "      <td>16.578990</td>\n",
       "      <td>32085.414060</td>\n",
       "      <td>5.663013</td>\n",
       "      <td>-44535.446002</td>\n",
       "    </tr>\n",
       "    <tr>\n",
       "      <th>2</th>\n",
       "      <td>0.0</td>\n",
       "      <td>11.786005</td>\n",
       "      <td>880.949432</td>\n",
       "      <td>309.848297</td>\n",
       "      <td>0.0</td>\n",
       "      <td>2.540601</td>\n",
       "      <td>178.694952</td>\n",
       "      <td>90.052276</td>\n",
       "      <td>3.740158</td>\n",
       "      <td>3.401310</td>\n",
       "      <td>-20.840242</td>\n",
       "      <td>-24.537621</td>\n",
       "      <td>1.081307</td>\n",
       "      <td>0.827989</td>\n",
       "      <td>-1.641278</td>\n",
       "      <td>-20.193446</td>\n",
       "      <td>30105.498810</td>\n",
       "      <td>5.887696</td>\n",
       "      <td>-61184.629551</td>\n",
       "    </tr>\n",
       "    <tr>\n",
       "      <th>3</th>\n",
       "      <td>0.0</td>\n",
       "      <td>-33.335655</td>\n",
       "      <td>-1401.856110</td>\n",
       "      <td>-1968.245123</td>\n",
       "      <td>0.0</td>\n",
       "      <td>-30.535096</td>\n",
       "      <td>-1363.320818</td>\n",
       "      <td>-1698.626961</td>\n",
       "      <td>3.084163</td>\n",
       "      <td>2.988790</td>\n",
       "      <td>5.480075</td>\n",
       "      <td>2.689363</td>\n",
       "      <td>4.572172</td>\n",
       "      <td>4.439168</td>\n",
       "      <td>-20.266189</td>\n",
       "      <td>0.809786</td>\n",
       "      <td>35050.797718</td>\n",
       "      <td>0.636051</td>\n",
       "      <td>27737.765285</td>\n",
       "    </tr>\n",
       "    <tr>\n",
       "      <th>4</th>\n",
       "      <td>0.0</td>\n",
       "      <td>26.205825</td>\n",
       "      <td>1420.324857</td>\n",
       "      <td>1235.582609</td>\n",
       "      <td>0.0</td>\n",
       "      <td>13.510248</td>\n",
       "      <td>545.096025</td>\n",
       "      <td>821.878809</td>\n",
       "      <td>4.596070</td>\n",
       "      <td>4.434904</td>\n",
       "      <td>-14.273627</td>\n",
       "      <td>-8.022537</td>\n",
       "      <td>5.882793</td>\n",
       "      <td>5.767939</td>\n",
       "      <td>-3.849331</td>\n",
       "      <td>-5.675035</td>\n",
       "      <td>18264.151609</td>\n",
       "      <td>3.822985</td>\n",
       "      <td>-33676.774825</td>\n",
       "    </tr>\n",
       "  </tbody>\n",
       "</table>\n",
       "</div>"
      ],
      "text/plain": [
       "    x0         xf          xd0          xdf   y0         yf          yd0  \\\n",
       "0  0.0   9.347785   541.507416   414.083042  0.0   7.688051   502.568101   \n",
       "1  0.0  23.603876  1409.737698   947.641985  0.0  23.633075   995.727369   \n",
       "2  0.0  11.786005   880.949432   309.848297  0.0   2.540601   178.694952   \n",
       "3  0.0 -33.335655 -1401.856110 -1968.245123  0.0 -30.535096 -1363.320818   \n",
       "4  0.0  26.205825  1420.324857  1235.582609  0.0  13.510248   545.096025   \n",
       "\n",
       "           ydf    theta0    thetaf    thetad0    thetadf      phi0      phif  \\\n",
       "0   287.383793  6.272284  6.544707 -17.699701  18.810204  0.450877  0.654225   \n",
       "1  1364.057322  2.831231  3.124010  19.846242  13.427370  1.913727  2.267903   \n",
       "2    90.052276  3.740158  3.401310 -20.840242 -24.537621  1.081307  0.827989   \n",
       "3 -1698.626961  3.084163  2.988790   5.480075   2.689363  4.572172  4.439168   \n",
       "4   821.878809  4.596070  4.434904 -14.273627  -8.022537  5.882793  5.767939   \n",
       "\n",
       "       phid0      phidf             F     alpha          tau0  \n",
       "0  14.035800  15.213214  11219.837510  3.894620  49507.776091  \n",
       "1  17.112298  16.578990  32085.414060  5.663013 -44535.446002  \n",
       "2  -1.641278 -20.193446  30105.498810  5.887696 -61184.629551  \n",
       "3 -20.266189   0.809786  35050.797718  0.636051  27737.765285  \n",
       "4  -3.849331  -5.675035  18264.151609  3.822985 -33676.774825  "
      ]
     },
     "execution_count": 5,
     "metadata": {},
     "output_type": "execute_result"
    }
   ],
   "source": [
    "testDF.head()"
   ]
  },
  {
   "cell_type": "code",
   "execution_count": 6,
   "metadata": {},
   "outputs": [],
   "source": [
    "# rename columns to be consistent with other code\n",
    "testDF.rename(columns={\"x0\" : \"x_0\", \"y0\" : \"y_0\", \"phi0\" : \"phi_0\", \"theta0\" : \"theta_0\", \n",
    "                        \"xf\" : \"x_99\", \"yf\" : \"y_99\", \"phif\" : \"phi_99\", \"thetaf\" : \"theta_99\", \n",
    "                        \"xd0\" : \"x_dot_0\", \"yd0\" : \"y_dot_0\", \"phid0\" : \"phi_dot_0\", \"thetad0\": \"theta_dot_0\", \n",
    "                        \"xdf\" : \"x_dot_99\", \"ydf\": \"y_dot_99\", \"phidf\": \"phi_dot_99\", \"thetadf\": \"theta_dot_99\", \n",
    "                        \"tau0\" : \"tau\"}, inplace=True)"
   ]
  },
  {
   "cell_type": "code",
   "execution_count": 7,
   "metadata": {},
   "outputs": [],
   "source": [
    "# convert to fx and fy\n",
    "testDF[\"Fx\"] = testDF.F * np.cos(testDF.alpha)\n",
    "testDF[\"Fy\"] = testDF.F * np.sin(testDF.alpha)"
   ]
  },
  {
   "cell_type": "code",
   "execution_count": 8,
   "metadata": {},
   "outputs": [],
   "source": [
    "# make datasets for nnet\n",
    "X = testDF.loc[:, [\"x_0\", \"y_0\", \"phi_0\", \"theta_0\", \n",
    "                    \"x_99\", \"y_99\", \"phi_99\", \"theta_99\", \n",
    "                   \"x_dot_0\", \"y_dot_0\", \"phi_dot_0\", \"theta_dot_0\"]]\n",
    "\n",
    "Y = testDF.loc[:, [\"Fx\", \"Fy\", \"tau\", \"x_dot_99\", \"y_dot_99\", \n",
    "                    \"phi_dot_99\", \"theta_dot_99\"] ]"
   ]
  },
  {
   "cell_type": "code",
   "execution_count": 9,
   "metadata": {},
   "outputs": [],
   "source": [
    "# scale data\n",
    "scalerfileX = 'scalerX.pkl'\n",
    "scalerfileY = 'scalerY.pkl'\n",
    "\n",
    "scalerX = pickle.load(open(os.path.join(dataOutput, scalerfileX), 'rb'))\n",
    "X_scaled = scalerX.transform(X)\n",
    "\n",
    "scalerY = pickle.load(open(os.path.join(dataOutput, scalerfileY), 'rb'))\n",
    "Y_scaled = scalerY.transform(Y)"
   ]
  },
  {
   "cell_type": "markdown",
   "metadata": {},
   "source": [
    "# Keras Models"
   ]
  },
  {
   "cell_type": "code",
   "execution_count": 10,
   "metadata": {},
   "outputs": [],
   "source": [
    "# load model\n",
    "# check to see if model saved: \n",
    "K.clear_session()\n",
    "from keras.models import load_model\n",
    "model = load_model(os.path.join(savedModels, 'my_model_512Units.h5'))"
   ]
  },
  {
   "cell_type": "code",
   "execution_count": 11,
   "metadata": {},
   "outputs": [],
   "source": [
    "nnpreds = model.predict(X_scaled[ :])"
   ]
  },
  {
   "cell_type": "code",
   "execution_count": 12,
   "metadata": {},
   "outputs": [],
   "source": [
    "# rescale\n",
    "nnpreds_unscaled = scalerY.inverse_transform(nnpreds)"
   ]
  },
  {
   "cell_type": "code",
   "execution_count": 14,
   "metadata": {},
   "outputs": [
    {
     "data": {
      "text/plain": [
       "Index(['Fx', 'Fy', 'tau', 'x_dot_99', 'y_dot_99', 'phi_dot_99',\n",
       "       'theta_dot_99'],\n",
       "      dtype='object')"
      ]
     },
     "execution_count": 14,
     "metadata": {},
     "output_type": "execute_result"
    }
   ],
   "source": [
    "nms"
   ]
  },
  {
   "cell_type": "code",
   "execution_count": 15,
   "metadata": {},
   "outputs": [
    {
     "data": {
      "image/png": "[encoded data removed]",
      "text/plain": [
       "<matplotlib.figure.Figure at 0x1ced34bb2e8>"
      ]
     },
     "metadata": {},
     "output_type": "display_data"
    }
   ],
   "source": [
    "plt.close(\"all\")\n",
    "fig, axs = plt.subplots(1,7, figsize=np.array((20, 4)) / 1.1, facecolor='w', edgecolor='k')\n",
    "fig.subplots_adjust(hspace = 0.3, wspace=0.3)\n",
    "#fig.suptitle('Predicted vs. acutal ', fontsize=14, fontweight='bold')\n",
    "\n",
    "axs = axs.ravel()\n",
    "\n",
    "nms = Y.columns\n",
    "nms2 = [nms[ii].replace(\"dot\", \"d\") for ii in range(len(nms))]\n",
    "nms2\n",
    "\n",
    "# replace lightest colors with white\n",
    "import matplotlib.colors\n",
    "\n",
    "cmap = plt.cm.magma_r\n",
    "cmaplist = np.array([cmap(i) for i in range(cmap.N)])\n",
    "#cmaplist[0:2] = np.repeat((0.0,0.0,0.0,0.0), 2).reshape(-1,4)\n",
    "cmaplist[:,0:3] = np.divide(cmaplist[:, 0:3], 1.1)\n",
    "#cmaplist[:,0:3] = np.transpose(np.vstack([np.linspace(1, 0, 256), np.linspace(1, 0, 256), np.linspace(1, 0, 256)]))\n",
    "cmaplist[0] = (1,1,1,0.5)\n",
    "cmap = matplotlib.colors.LinearSegmentedColormap.from_list('mcm',cmaplist, cmap.N)\n",
    "\n",
    "for ii in range(len(Y.columns)):\n",
    "    # read in image\n",
    "    \n",
    "    try:\n",
    "        axs[ii].hexbin(y = Y.iloc[:,ii],x = nnpreds_unscaled[:,ii], gridsize = 150, cmap = cmap)\n",
    "        axs[ii].set_xlabel(\"Predicted Value\")\n",
    "        axs[ii].xaxis.set_major_formatter(ScalarFormatter(useMathText=True))\n",
    "        axs[ii].yaxis.set_major_formatter(ScalarFormatter(useMathText=True))\n",
    "        axs[ii].ticklabel_format(style='sci',  axis='both', scilimits=(3,4))\n",
    "        t = axs[ii].xaxis.get_offset_text()\n",
    "        t.set_x(1.1)\n",
    "        t.set_y(0.5)\n",
    "        if(ii == 0):\n",
    "            axs[ii].set_ylabel(\"Actual Value\")\n",
    "        axs[ii].set_title(nms2[ii])\n",
    "        axs[ii].plot(Y.iloc[0:1000,ii], Y.iloc[0:1000,ii], 'grey', linewidth = 1, linestyle  = \"--\")\n",
    "    except:\n",
    "        pass\n",
    "plt.tight_layout()\n",
    "\n",
    "fig.savefig(os.path.join(figDir, \"NNPreds_Fig1.png\"), dpi = 500, bbox_inches='tight')\n",
    "# fig.savefig(os.path.join(figDir, \"NNPreds_newData_control_bigbatch_FxFy_hexbin_loadedModel.svg\"),bbox_inches='tight')"
   ]
  },
  {
   "cell_type": "markdown",
   "metadata": {},
   "source": [
    "# residual plots"
   ]
  },
  {
   "cell_type": "code",
   "execution_count": 16,
   "metadata": {},
   "outputs": [
    {
     "data": {
      "image/png": "[encoded data removed]",
      "text/plain": [
       "<matplotlib.figure.Figure at 0x1ced32f2908>"
      ]
     },
     "metadata": {},
     "output_type": "display_data"
    }
   ],
   "source": [
    "plt.close(\"all\")\n",
    "fig, axs = plt.subplots(1,7, figsize=np.array((20, 4)) / 1.1, facecolor='w', edgecolor='k')\n",
    "fig.subplots_adjust(hspace = 0.3, wspace=0.3)\n",
    "#fig.suptitle('Predicted vs. acutal ', fontsize=14, fontweight='bold')\n",
    "\n",
    "axs = axs.ravel()\n",
    "\n",
    "nms = Y.columns\n",
    "nms2 = [nms[ii].replace(\"dot\", \"d\") for ii in range(len(nms))]\n",
    "nms2\n",
    "\n",
    "\n",
    "for ii in range(len(Y.columns)):\n",
    "    # read in image\n",
    "    \n",
    "    try:\n",
    "        axs[ii].hexbin(y = Y.iloc[:,ii] - nnpreds_unscaled[:,ii],x = nnpreds_unscaled[:,ii], gridsize = 150, cmap = cmap)\n",
    "        axs[ii].set_xlabel(\"Predicted Value\")\n",
    "        axs[ii].xaxis.set_major_formatter(ScalarFormatter(useMathText=True))\n",
    "        axs[ii].yaxis.set_major_formatter(ScalarFormatter(useMathText=True))\n",
    "#         axs[ii].ticklabel_format(style='sci',  axis='both', scilimits=(3,4))\n",
    "#         t = axs[ii].xaxis.get_offset_text()\n",
    "#         t.set_x(1.1)\n",
    "#         t.set_y(0.5)\n",
    "        if(ii == 0):\n",
    "            axs[ii].set_ylabel(\"Actual - Predicted\")\n",
    "        axs[ii].set_title(nms2[ii])\n",
    "        #axs[ii].plot(Y.iloc[0:1000,ii], Y.iloc[0:1000,ii], 'grey', linewidth = 1, linestyle  = \"--\")\n",
    "    except:\n",
    "        pass\n",
    "plt.tight_layout()\n",
    "\n",
    "fig.savefig(os.path.join(figDir, \"NNPreds_resids_Fig1.png\"), dpi = 500, bbox_inches='tight')\n",
    "# fig.savefig(os.path.join(figDir, \"NNPreds_newData_control_bigbatch_FxFy_hexbin_loadedModel.svg\"),bbox_inches='tight')"
   ]
  },
  {
   "cell_type": "code",
   "execution_count": null,
   "metadata": {},
   "outputs": [],
   "source": [
    "nms = Y.columns\n",
    "nms2 = [nms[ii].replace(\"dot\", \"d\") for ii in range(len(nms))]\n",
    "nms2 = [nms2[ii].replace(\"_\", \"\") for ii in range(len(nms2))]\n",
    "nms2 = [nms2[ii].replace(\"99\", \"9\") for ii in range(len(nms2))]\n",
    "nms2 = [\"     \" + nms2[ii] for ii in range(len(nms2))]\n",
    "nms2"
   ]
  },
  {
   "cell_type": "code",
   "execution_count": 17,
   "metadata": {},
   "outputs": [
    {
     "name": "stdout",
     "output_type": "stream",
     "text": [
      "YES\n"
     ]
    },
    {
     "data": {
      "image/png": "[encoded data removed]",
      "text/plain": [
       "<matplotlib.figure.Figure at 0x1ceffa1e898>"
      ]
     },
     "metadata": {},
     "output_type": "display_data"
    }
   ],
   "source": [
    "# combine residual and regular plots\n",
    "plt.close(\"all\")\n",
    "fig, axs = plt.subplots(2,7, figsize=np.array((30, 8)) / 1.7, facecolor='w', edgecolor='k')\n",
    "# fig.subplots_adjust(hspace = 0.3, wspace=0.3)\n",
    "fig.subplots_adjust(hspace = 0.1, wspace=0.5)\n",
    "#fig.suptitle('Predicted vs. acutal ', fontsize=14, fontweight='bold')\n",
    "\n",
    "axs = axs.ravel()\n",
    "\n",
    "\n",
    "# replace lightest colors with white\n",
    "import matplotlib.colors\n",
    "\n",
    "cmap = plt.cm.magma_r\n",
    "cmaplist = np.array([cmap(i) for i in range(cmap.N)])\n",
    "#cmaplist[0:2] = np.repeat((0.0,0.0,0.0,0.0), 2).reshape(-1,4)\n",
    "cmaplist[:,0:3] = np.divide(cmaplist[:, 0:3], 1.1)\n",
    "#cmaplist[:,0:3] = np.transpose(np.vstack([np.linspace(1, 0, 256), np.linspace(1, 0, 256), np.linspace(1, 0, 256)]))\n",
    "cmaplist[0] = (1,1,1,0.5)\n",
    "cmap = matplotlib.colors.LinearSegmentedColormap.from_list('mcm',cmaplist, cmap.N)\n",
    "\n",
    "for ii in range(len(Y.columns)):\n",
    "    # read in image\n",
    "    \n",
    "    try:\n",
    "        axs[ii].hexbin(y = Y.iloc[:,ii],x = nnpreds_unscaled[:,ii], gridsize = 150, cmap = cmap)\n",
    "#         axs[ii].set_xlabel(\"Predicted Value\")\n",
    "#         axs[ii].xaxis.set_major_formatter(ScalarFormatter(useMathText=True))\n",
    "        axs[ii].yaxis.set_major_formatter(ScalarFormatter(useMathText=True))\n",
    "        axs[ii].ticklabel_format(style='sci',  axis='y', scilimits=(3,4))\n",
    "        axs[ii].axes.xaxis.set_ticklabels([])\n",
    "        if(ii == 0):\n",
    "            axs[ii].set_ylabel(\"Actual Value\")\n",
    "        axs[ii].set_title(nms2[ii])\n",
    "        axs[ii].plot(Y.iloc[0:1000,ii], Y.iloc[0:1000,ii], 'grey', linewidth = 1, linestyle  = \"--\")\n",
    "    except:\n",
    "        pass\n",
    "\n",
    "for ii in range(len(Y.columns)):\n",
    "    jj = ii + len(Y.columns)\n",
    "    \n",
    "    try:\n",
    "        axs[jj].hexbin(y = Y.iloc[:,ii] - nnpreds_unscaled[:,ii],x = nnpreds_unscaled[:,ii], gridsize = 150, cmap = cmap)\n",
    "        axs[jj].set_xlabel(\"Predicted Value\")\n",
    "        axs[jj].xaxis.set_major_formatter(ScalarFormatter(useMathText=True))\n",
    "        axs[jj].yaxis.set_major_formatter(ScalarFormatter(useMathText=True))\n",
    "        mmin = np.min(Y.iloc[:,ii] - nnpreds_unscaled[:,ii])\n",
    "        mmax = np.max(Y.iloc[:,ii] - nnpreds_unscaled[:,ii])\n",
    "        \n",
    "        upper = np.max([np.abs(mmin), np.abs(mmax)])\n",
    "        axs[jj].set_ylim(-upper, upper)\n",
    "\n",
    "        if(ii == 0):\n",
    "            print(\"YES\")\n",
    "            axs[jj].set_ylabel(\"Actual - Predicted\")\n",
    "        #axs[jj].set_title(nms2[ii])\n",
    "        axs[jj].hlines(y = 0, xmin = np.min(nnpreds_unscaled[:,ii]), \n",
    "                       xmax = np.max(nnpreds_unscaled[:,ii]), linestyle =  \"--\", linewidth = 1)\n",
    "    except:\n",
    "        pass\n",
    "#plt.tight_layout()\n",
    "fig.savefig(os.path.join(figDir, \"NNPreds_resids_combined_Fig1.png\"), dpi = 500, bbox_inches='tight')\n"
   ]
  },
  {
   "cell_type": "code",
   "execution_count": null,
   "metadata": {},
   "outputs": [],
   "source": [
    "# convert Fx and Fy back to F and alpha\n",
    "\n",
    "fig, axs = plt.subplots(1,2, figsize=(20, 4), facecolor='w', edgecolor='k')\n",
    "fig.subplots_adjust(hspace = 0.3, wspace=0.3)\n",
    "ii = 0\n",
    "axs[ii].hexbin(y = Ytest.iloc[:,ii],x = nnpreds_unscaled[:,ii], gridsize = 150, cmap = cmap)\n",
    "axs[ii].set_xlabel(\"Predicted Value\")\n",
    "axs[ii].xaxis.set_major_formatter(ScalarFormatter(useMathText=True))\n",
    "axs[ii].yaxis.set_major_formatter(ScalarFormatter(useMathText=True))\n",
    "axs[ii].ticklabel_format(style='sci',  axis='both', scilimits=(0,0))\n",
    "t = axs[ii].xaxis.get_offset_text()\n",
    "t.set_x(1.1)\n",
    "t.set_y(500)\n",
    "\n"
   ]
  },
  {
   "cell_type": "code",
   "execution_count": null,
   "metadata": {},
   "outputs": [],
   "source": []
  },
  {
   "cell_type": "code",
   "execution_count": null,
   "metadata": {},
   "outputs": [],
   "source": [
    "t"
   ]
  },
  {
   "cell_type": "code",
   "execution_count": null,
   "metadata": {},
   "outputs": [],
   "source": [
    "# calculate mean squared error"
   ]
  },
  {
   "cell_type": "code",
   "execution_count": null,
   "metadata": {},
   "outputs": [],
   "source": [
    "from sklearn.metrics import mean_squared_error\n",
    "\n",
    "from sklearn.metrics import r2_score"
   ]
  },
  {
   "cell_type": "code",
   "execution_count": null,
   "metadata": {},
   "outputs": [],
   "source": [
    "for ii in range(len(nms)):\n",
    "    #np.sqrt(mean_squared_error(Ytest.iloc[0:1000,ii], nnpreds_unscaled[:,ii]))\n",
    "    print(r2_score(Ytest.iloc[0:1000,ii], nnpreds_unscaled[:,ii]), nms[ii])"
   ]
  },
  {
   "cell_type": "code",
   "execution_count": null,
   "metadata": {},
   "outputs": [],
   "source": [
    "plt.scatter( nnpreds_unscaled[:,ii],Ytest.iloc[0:1000,ii]-  nnpreds_unscaled[:,ii])"
   ]
  },
  {
   "cell_type": "code",
   "execution_count": null,
   "metadata": {},
   "outputs": [],
   "source": []
  },
  {
   "cell_type": "code",
   "execution_count": null,
   "metadata": {},
   "outputs": [],
   "source": []
  },
  {
   "cell_type": "code",
   "execution_count": null,
   "metadata": {},
   "outputs": [],
   "source": []
  },
  {
   "cell_type": "code",
   "execution_count": null,
   "metadata": {},
   "outputs": [],
   "source": [
    "TestPreds = pd.DataFrame(nnpreds_unscaled, columns = Y.columns)\n",
    "TestPreds.head()"
   ]
  },
  {
   "cell_type": "code",
   "execution_count": null,
   "metadata": {},
   "outputs": [],
   "source": [
    "TestInput = pd.DataFrame(Xtest, columns = X.columns).reset_index(drop = True)\n",
    "TestInput.head()"
   ]
  },
  {
   "cell_type": "code",
   "execution_count": null,
   "metadata": {},
   "outputs": [],
   "source": [
    "# F will be the same in any quadrant\n",
    "\n",
    "TestPreds[\"F\"] = np.sqrt(TestPreds[\"Fx\"]**2 + TestPreds[\"Fy\"]**2)\n",
    "\n",
    "# trainDF[\"Fx\"] = trainDF.F * np.cos(trainDF.alpha)\n",
    "# trainDF[\"Fy\"] = trainDF.F * np.sin(trainDF.alpha)"
   ]
  },
  {
   "cell_type": "code",
   "execution_count": null,
   "metadata": {},
   "outputs": [],
   "source": [
    "TestPreds.head()"
   ]
  },
  {
   "cell_type": "code",
   "execution_count": null,
   "metadata": {},
   "outputs": [],
   "source": [
    "# calculate alpha\n",
    "def quadrant(Fx, Fy):\n",
    "    if (Fx >= 0) & (Fy >= 0):\n",
    "        q = 1\n",
    "    elif (Fx < 0) & (Fy >= 0):\n",
    "        q = 2\n",
    "    elif (Fx < 0) & (Fy < 0):\n",
    "        q = 3\n",
    "    elif (Fx >= 0) & (Fy < 0):\n",
    "        q = 4\n",
    "    else:\n",
    "        q = 999999\n",
    "    return(q)\n",
    "\n"
   ]
  },
  {
   "cell_type": "code",
   "execution_count": null,
   "metadata": {},
   "outputs": [],
   "source": [
    "TestPreds[\"quadrant\"] = [quadrant(fx, fy) for fx,fy in zip(TestPreds[\"Fx\"], TestPreds[\"Fy\"])]"
   ]
  },
  {
   "cell_type": "code",
   "execution_count": null,
   "metadata": {},
   "outputs": [],
   "source": [
    "TestPreds.head()"
   ]
  },
  {
   "cell_type": "code",
   "execution_count": null,
   "metadata": {},
   "outputs": [],
   "source": [
    "def angleCalc(Fx, Fy, q):\n",
    "    fx = np.abs(Fx)\n",
    "    fy = np.abs(Fy)\n",
    "    \n",
    "    if q == 1:\n",
    "        alpha = np.arctan(fy/fx)\n",
    "    elif q == 2:\n",
    "        alpha = np.pi - np.arctan(fy/fx)\n",
    "    elif q == 3: \n",
    "        alpha = np.pi + np.arctan(fy/fx)\n",
    "    elif q == 4:\n",
    "        alpha = (2*np.pi) - np.arctan(fy/fx)\n",
    "    return(alpha)"
   ]
  },
  {
   "cell_type": "code",
   "execution_count": null,
   "metadata": {},
   "outputs": [],
   "source": [
    "TestPreds[\"alpha\"] = [angleCalc(fx, fy, q) for fx, fy, q in zip(TestPreds[\"Fx\"], TestPreds[\"Fy\"], TestPreds[\"quadrant\"])]"
   ]
  },
  {
   "cell_type": "code",
   "execution_count": null,
   "metadata": {},
   "outputs": [],
   "source": [
    "TestPreds.head()"
   ]
  },
  {
   "cell_type": "code",
   "execution_count": null,
   "metadata": {},
   "outputs": [],
   "source": [
    "TestPredsComb = pd.concat([TestPreds, TestInput], axis = 1)"
   ]
  },
  {
   "cell_type": "code",
   "execution_count": null,
   "metadata": {},
   "outputs": [],
   "source": [
    "TestPredsComb.head()"
   ]
  },
  {
   "cell_type": "code",
   "execution_count": null,
   "metadata": {},
   "outputs": [],
   "source": [
    "TestPredsComb.rename(index=str, columns={\"F\": \"F_pred\", \"alpha\": \"alpha_pred\", \"tau\":\"tau_pred\"}, inplace=True)"
   ]
  },
  {
   "cell_type": "code",
   "execution_count": null,
   "metadata": {},
   "outputs": [],
   "source": [
    "TestPredsComb.head()"
   ]
  },
  {
   "cell_type": "code",
   "execution_count": null,
   "metadata": {},
   "outputs": [],
   "source": [
    "TestPredsComb.drop(['Fx', 'Fy', \"quadrant\"], axis=1, inplace = True)\n",
    "TestPredsComb.head()"
   ]
  },
  {
   "cell_type": "code",
   "execution_count": null,
   "metadata": {},
   "outputs": [],
   "source": [
    "cols= ['x_0', 'y_0', 'phi_0', 'theta_0', \n",
    "       'x_dot_0', 'y_dot_0', 'phi_dot_0', 'theta_dot_0', \n",
    "       'F_pred', 'alpha_pred', 'tau_pred', \n",
    "      'x_99', 'y_99', 'phi_99', 'theta_99', \n",
    "      'x_dot_99', 'y_dot_99', 'phi_dot_99', 'theta_dot_99' ]"
   ]
  },
  {
   "cell_type": "code",
   "execution_count": null,
   "metadata": {},
   "outputs": [],
   "source": [
    "tc2 = TestPredsComb.loc[:, cols]\n",
    "tc2.head()"
   ]
  },
  {
   "cell_type": "code",
   "execution_count": null,
   "metadata": {},
   "outputs": [],
   "source": [
    "tc2.rename(columns = {\"x_dot_99\": \"x_dot_99_pred\", \n",
    "                     \"y_dot_99\": \"y_dot_99_pred\", \n",
    "                     \"theta_dot_99\": \"theta_dot_99_pred\", \n",
    "                     \"phi_dot_99\": \"phi_dot_99_pred\"}, inplace = True)\n",
    "tc2.head()"
   ]
  },
  {
   "cell_type": "code",
   "execution_count": null,
   "metadata": {},
   "outputs": [],
   "source": [
    "tc2.to_csv(os.path.join(dataOutput, \"NNpreds.csv\"), index = False)"
   ]
  },
  {
   "cell_type": "code",
   "execution_count": null,
   "metadata": {},
   "outputs": [],
   "source": [
    "tc2.shape"
   ]
  },
  {
   "cell_type": "code",
   "execution_count": null,
   "metadata": {},
   "outputs": [],
   "source": [
    "Xtrain.shape"
   ]
  },
  {
   "cell_type": "code",
   "execution_count": null,
   "metadata": {},
   "outputs": [],
   "source": [
    "\n",
    "tc_sm =  tc2.sample(n=1000, random_state = 902902)\n",
    "tc_sm.to_csv(os.path.join(dataOutput, \"NNpreds_small.csv\"), index = False)"
   ]
  },
  {
   "cell_type": "code",
   "execution_count": null,
   "metadata": {},
   "outputs": [],
   "source": []
  },
  {
   "cell_type": "code",
   "execution_count": null,
   "metadata": {},
   "outputs": [],
   "source": []
  },
  {
   "cell_type": "code",
   "execution_count": null,
   "metadata": {},
   "outputs": [],
   "source": []
  },
  {
   "cell_type": "code",
   "execution_count": null,
   "metadata": {},
   "outputs": [],
   "source": []
  },
  {
   "cell_type": "code",
   "execution_count": null,
   "metadata": {},
   "outputs": [],
   "source": []
  },
  {
   "cell_type": "code",
   "execution_count": null,
   "metadata": {},
   "outputs": [],
   "source": []
  },
  {
   "cell_type": "code",
   "execution_count": null,
   "metadata": {},
   "outputs": [],
   "source": []
  },
  {
   "cell_type": "code",
   "execution_count": null,
   "metadata": {},
   "outputs": [],
   "source": []
  },
  {
   "cell_type": "code",
   "execution_count": null,
   "metadata": {},
   "outputs": [],
   "source": []
  },
  {
   "cell_type": "code",
   "execution_count": null,
   "metadata": {},
   "outputs": [],
   "source": []
  },
  {
   "cell_type": "code",
   "execution_count": null,
   "metadata": {},
   "outputs": [],
   "source": []
  },
  {
   "cell_type": "code",
   "execution_count": null,
   "metadata": {},
   "outputs": [],
   "source": []
  },
  {
   "cell_type": "code",
   "execution_count": null,
   "metadata": {},
   "outputs": [],
   "source": []
  },
  {
   "cell_type": "code",
   "execution_count": null,
   "metadata": {},
   "outputs": [],
   "source": []
  },
  {
   "cell_type": "code",
   "execution_count": null,
   "metadata": {},
   "outputs": [],
   "source": [
    "# check alpha on trainDf\n",
    "trainDF2[\"quadrant\"] = [quadrant(fx, fy) for fx,fy in zip(trainDF2[\"Fx\"], trainDF2[\"Fy\"])]\n",
    "\n",
    "trainDF2[\"alphaCalc\"] = [angleCalc(fx, fy, q) for fx, fy, q in zip(trainDF2[\"Fx\"], trainDF2[\"Fy\"], trainDF2[\"quadrant\"])]"
   ]
  },
  {
   "cell_type": "code",
   "execution_count": null,
   "metadata": {},
   "outputs": [],
   "source": [
    "trainDF2.loc[:, [\"alpha\", \"alphaCalc\"]].head()"
   ]
  },
  {
   "cell_type": "code",
   "execution_count": null,
   "metadata": {},
   "outputs": [],
   "source": []
  },
  {
   "cell_type": "code",
   "execution_count": null,
   "metadata": {},
   "outputs": [],
   "source": []
  },
  {
   "cell_type": "code",
   "execution_count": null,
   "metadata": {},
   "outputs": [],
   "source": []
  },
  {
   "cell_type": "code",
   "execution_count": null,
   "metadata": {},
   "outputs": [],
   "source": [
    "plt.close(\"all\")\n",
    "fig, axs = plt.subplots(2,int(len(Y.columns)/2), figsize=(15, 10), facecolor='w', edgecolor='k')\n",
    "fig.subplots_adjust(hspace = 0.1, wspace=0.3)\n",
    "fig.suptitle('Predicted vs. acutal ', fontsize=14, fontweight='bold')\n",
    "\n",
    "axs = axs.ravel()\n",
    "\n",
    "nms = Y.columns\n",
    "\n",
    "for ii in range(len(Y.columns)):\n",
    "    # read in image\n",
    "    \n",
    "    try:\n",
    "        axs[ii].scatter(y = Ytest.iloc[:,ii],x = nnpreds_unscaled[:,ii], s = 1, alpha = 0.1 )\n",
    "        axs[ii].set_xlabel(\"Predicted Value (un-scaled)\")\n",
    "        if(ii == 0):\n",
    "            axs[ii].set_ylabel(\"Actual Value\\n(un-scaled)\")\n",
    "        axs[ii].set_title(nms[ii])\n",
    "        axs[ii].plot(Ytest.iloc[:,ii], Ytest.iloc[:,ii], 'b')\n",
    "    except:\n",
    "        pass\n",
    "\n",
    "    \n",
    "fig.savefig(os.path.join(figDir, \"NNPreds_newData_control_bigbatch_FxFy.png\"), dpi = 120, bbox_inches='tight')"
   ]
  },
  {
   "cell_type": "code",
   "execution_count": null,
   "metadata": {},
   "outputs": [],
   "source": [
    "Ytest.head()"
   ]
  },
  {
   "cell_type": "code",
   "execution_count": null,
   "metadata": {},
   "outputs": [],
   "source": [
    "Xtest.head()"
   ]
  },
  {
   "cell_type": "code",
   "execution_count": null,
   "metadata": {},
   "outputs": [],
   "source": []
  },
  {
   "cell_type": "code",
   "execution_count": null,
   "metadata": {},
   "outputs": [],
   "source": []
  },
  {
   "cell_type": "code",
   "execution_count": null,
   "metadata": {},
   "outputs": [],
   "source": []
  },
  {
   "cell_type": "code",
   "execution_count": null,
   "metadata": {},
   "outputs": [],
   "source": []
  },
  {
   "cell_type": "code",
   "execution_count": null,
   "metadata": {},
   "outputs": [],
   "source": []
  },
  {
   "cell_type": "code",
   "execution_count": null,
   "metadata": {},
   "outputs": [],
   "source": [
    "# refref: idea - predict whole paths, rather than just the endpoint"
   ]
  },
  {
   "cell_type": "code",
   "execution_count": null,
   "metadata": {},
   "outputs": [],
   "source": [
    "plt.close(\"all\")\n",
    "fig, axs = plt.subplots(1,3, figsize=(15, 5), facecolor='w', edgecolor='k')\n",
    "fig.subplots_adjust(hspace = 0.1, wspace=0.3)\n",
    "fig.suptitle('Predicted vs. acutal ', fontsize=14, fontweight='bold')\n",
    "\n",
    "axs = axs.ravel()\n",
    "\n",
    "nms = [\"Fx\", \"Fy\", \"tau\"]\n",
    "\n",
    "\n",
    "# replace lightest colors with white\n",
    "import matplotlib.colors\n",
    "\n",
    "cmap = plt.cm.magma_r\n",
    "cmaplist = np.array([cmap(i) for i in range(cmap.N)])\n",
    "#cmaplist[0:2] = np.repeat((0.0,0.0,0.0,0.0), 2).reshape(-1,4)\n",
    "cmaplist[:,0:3] = np.divide(cmaplist[:, 0:3], 1.1)\n",
    "#cmaplist[:,0:3] = np.transpose(np.vstack([np.linspace(1, 0, 256), np.linspace(1, 0, 256), np.linspace(1, 0, 256)]))\n",
    "cmaplist[0] = (1,1,1,0.5)\n",
    "cmap = matplotlib.colors.LinearSegmentedColormap.from_list('mcm',cmaplist, cmap.N)\n",
    "\n",
    "for ii in range(3):\n",
    "    # read in image\n",
    "    \n",
    "    try:\n",
    "        axs[ii].hexbin(y = Ytest_scaled[:,ii],x = nnpreds[:,ii], gridsize = 150, cmap = cmap)\n",
    "        axs[ii].set_xlabel(\"Predicted Value (scaled)\")\n",
    "        if(ii == 0):\n",
    "            axs[ii].set_ylabel(\"Actual Value\\n(scaled)\")\n",
    "        axs[ii].set_title(nms[ii])\n",
    "        axs[ii].plot(Ytest_scaled[:,ii], Ytest_scaled[:,ii], 'grey', linewidth = 1, linestyle  = \"--\")\n",
    "    except:\n",
    "        pass\n",
    "\n",
    "fig.savefig(os.path.join(figDir, \"NNPreds_newData_control_bigbatch_FxFy_hexbin.png\"), dpi = 120, bbox_inches='tight')"
   ]
  },
  {
   "cell_type": "code",
   "execution_count": null,
   "metadata": {},
   "outputs": [],
   "source": []
  },
  {
   "cell_type": "code",
   "execution_count": null,
   "metadata": {},
   "outputs": [],
   "source": []
  },
  {
   "cell_type": "code",
   "execution_count": null,
   "metadata": {},
   "outputs": [],
   "source": []
  },
  {
   "cell_type": "code",
   "execution_count": null,
   "metadata": {},
   "outputs": [],
   "source": []
  },
  {
   "cell_type": "code",
   "execution_count": null,
   "metadata": {},
   "outputs": [],
   "source": []
  },
  {
   "cell_type": "code",
   "execution_count": null,
   "metadata": {},
   "outputs": [],
   "source": []
  },
  {
   "cell_type": "code",
   "execution_count": null,
   "metadata": {},
   "outputs": [],
   "source": []
  },
  {
   "cell_type": "code",
   "execution_count": null,
   "metadata": {},
   "outputs": [],
   "source": []
  },
  {
   "cell_type": "code",
   "execution_count": null,
   "metadata": {},
   "outputs": [],
   "source": []
  },
  {
   "cell_type": "code",
   "execution_count": null,
   "metadata": {},
   "outputs": [],
   "source": [
    "bf2[['simNum', 'timestep']] = bf2[['simNum', 'timestep']].astype(int)\n",
    "\n",
    "bf2['count'] = bf2.groupby([\"simNum\", \"timestep\"]).cumcount()\n",
    "\n",
    "bf2.head()\n",
    "\n",
    "bf2.tail()\n",
    "\n",
    "sdf = bf2.loc[(bf2[\"count\"] == 0) | (bf2[\"count\"] == 99), :]\n",
    "sdf.head()\n",
    "\n",
    "ss = sdf.pivot_table(index='simNum', columns = \"count\",aggfunc='first')\n",
    "ss.columns = [f'{i}_{j}' if j != '' else f'{i}' for i,j in ss.columns]\n",
    "ss[\"simNum\"] = ss.index\n",
    "ss.index.name = None\n",
    "ss.head()\n",
    "\n",
    "np.array(ss).shape\n",
    "\n",
    "np.vstack([np.array(ss), np.array(ss)]).shape"
   ]
  },
  {
   "cell_type": "code",
   "execution_count": null,
   "metadata": {},
   "outputs": [],
   "source": []
  }
 ],
 "metadata": {
  "kernelspec": {
   "display_name": "deeplearning",
   "language": "python",
   "name": "deeplearning"
  },
  "language_info": {
   "codemirror_mode": {
    "name": "ipython",
    "version": 3
   },
   "file_extension": ".py",
   "mimetype": "text/x-python",
   "name": "python",
   "nbconvert_exporter": "python",
   "pygments_lexer": "ipython3",
   "version": "3.6.4"
  }
 },
 "nbformat": 4,
 "nbformat_minor": 2
}
