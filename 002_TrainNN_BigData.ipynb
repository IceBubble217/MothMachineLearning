{
 "cells": [
  {
   "cell_type": "markdown",
   "metadata": {},
   "source": [
    "## Callin Switzer\n",
    "## train NN with Jorge's new data\n",
    "## 23 Aug 2018"
   ]
  },
  {
   "cell_type": "code",
   "execution_count": 1,
   "metadata": {},
   "outputs": [
    {
     "name": "stderr",
     "output_type": "stream",
     "text": [
      "C:\\Users\\calli\\Anaconda3\\envs\\deeplearning\\lib\\site-packages\\h5py\\__init__.py:36: FutureWarning: Conversion of the second argument of issubdtype from `float` to `np.floating` is deprecated. In future, it will be treated as `np.float64 == np.dtype(float).type`.\n",
      "  from ._conv import register_converters as _register_converters\n"
     ]
    },
    {
     "name": "stdout",
     "output_type": "stream",
     "text": [
      "TensorFlow successfully installed.\n",
      "The installed version of TensorFlow includes GPU support.\n",
      "3.6.4 |Anaconda custom (64-bit)| (default, Jan 16 2018, 10:22:32) [MSC v.1900 64 bit (AMD64)] \n",
      "\n",
      "last run on 2018-10-02 08:07:39.907157\n"
     ]
    }
   ],
   "source": [
    "import numpy as np\n",
    "from matplotlib import pyplot as plt\n",
    "%matplotlib inline\n",
    "\n",
    "import os\n",
    "import pandas as pd\n",
    "import time\n",
    "from datetime import datetime\n",
    "import sys\n",
    "import csv\n",
    "import seaborn as sns\n",
    "import scipy.io\n",
    "import subprocess\n",
    "import csv\n",
    "\n",
    "from matplotlib.ticker import ScalarFormatter\n",
    "\n",
    "import tensorflow as tf\n",
    "print(\"TensorFlow successfully installed.\")\n",
    "if tf.test.is_built_with_cuda():\n",
    "    print(\"The installed version of TensorFlow includes GPU support.\")\n",
    "\n",
    "print(sys.version, \"\\n\")\n",
    "\n",
    "now = datetime.now()\n",
    "print(\"last run on \" + str(now))\n",
    "\n",
    "#%qtconsole\n",
    "\n",
    "# define directories\n",
    "baseDir = os.getcwd()\n",
    "dataDir = r'D:\\MothSimulations\\11c-AggressiveManeuver\\Qstore\\hws_am_con'\n",
    "figDir = r'D:\\Dropbox\\mothMachineLearning_dataAndFigs\\Figs'\n",
    "dataOutput = r'D:\\Dropbox\\mothMachineLearning_dataAndFigs\\DataOutput'\n",
    "savedModels = r'D:\\Dropbox\\mothMachineLearning_dataAndFigs\\savedModels'\n",
    "if not os.path.exists(dataOutput):\n",
    "    os.mkdir(dataOutput)\n",
    "\n",
    "if not os.path.exists(savedModels):\n",
    "    os.mkdir(savedModels)\n",
    "    \n",
    "# open file explorer\n",
    "# aa = r'explorer /select,\"'\n",
    "# subprocess.Popen(str(aa + figDir + '\\\"'))\n",
    "# subprocess.Popen(str(aa + dataDir + '\\\"'))"
   ]
  },
  {
   "cell_type": "code",
   "execution_count": 2,
   "metadata": {},
   "outputs": [
    {
     "name": "stdout",
     "output_type": "stream",
     "text": [
      "TensorFlow successfully installed.\n",
      "The installed version of TensorFlow includes GPU support.\n",
      "3.6.4 |Anaconda custom (64-bit)| (default, Jan 16 2018, 10:22:32) [MSC v.1900 64 bit (AMD64)] \n",
      "\n",
      "last run on 2018-10-02 08:07:39.924284\n"
     ]
    }
   ],
   "source": [
    "# import custom Utils functions\n",
    "from DeepLearningUtils import *"
   ]
  },
  {
   "cell_type": "code",
   "execution_count": 3,
   "metadata": {},
   "outputs": [
    {
     "name": "stdout",
     "output_type": "stream",
     "text": [
      "40\n"
     ]
    },
    {
     "data": {
      "text/plain": [
       "['D:\\\\Dropbox\\\\mothMachineLearning_dataAndFigs\\\\DataOutput\\\\Qstore_10_hws_am_con.hdf5',\n",
       " 'D:\\\\Dropbox\\\\mothMachineLearning_dataAndFigs\\\\DataOutput\\\\Qstore_11_hws_am_con.hdf5',\n",
       " 'D:\\\\Dropbox\\\\mothMachineLearning_dataAndFigs\\\\DataOutput\\\\Qstore_12_hws_am_con.hdf5',\n",
       " 'D:\\\\Dropbox\\\\mothMachineLearning_dataAndFigs\\\\DataOutput\\\\Qstore_13_hws_am_con.hdf5',\n",
       " 'D:\\\\Dropbox\\\\mothMachineLearning_dataAndFigs\\\\DataOutput\\\\Qstore_14_hws_am_con.hdf5',\n",
       " 'D:\\\\Dropbox\\\\mothMachineLearning_dataAndFigs\\\\DataOutput\\\\Qstore_15_hws_am_con.hdf5',\n",
       " 'D:\\\\Dropbox\\\\mothMachineLearning_dataAndFigs\\\\DataOutput\\\\Qstore_16_hws_am_con.hdf5',\n",
       " 'D:\\\\Dropbox\\\\mothMachineLearning_dataAndFigs\\\\DataOutput\\\\Qstore_17_hws_am_con.hdf5',\n",
       " 'D:\\\\Dropbox\\\\mothMachineLearning_dataAndFigs\\\\DataOutput\\\\Qstore_18_hws_am_con.hdf5',\n",
       " 'D:\\\\Dropbox\\\\mothMachineLearning_dataAndFigs\\\\DataOutput\\\\Qstore_19_hws_am_con.hdf5',\n",
       " 'D:\\\\Dropbox\\\\mothMachineLearning_dataAndFigs\\\\DataOutput\\\\Qstore_1_hws_am_con.hdf5',\n",
       " 'D:\\\\Dropbox\\\\mothMachineLearning_dataAndFigs\\\\DataOutput\\\\Qstore_20_hws_am_con.hdf5',\n",
       " 'D:\\\\Dropbox\\\\mothMachineLearning_dataAndFigs\\\\DataOutput\\\\Qstore_21_hws_am_con.hdf5',\n",
       " 'D:\\\\Dropbox\\\\mothMachineLearning_dataAndFigs\\\\DataOutput\\\\Qstore_22_hws_am_con.hdf5',\n",
       " 'D:\\\\Dropbox\\\\mothMachineLearning_dataAndFigs\\\\DataOutput\\\\Qstore_23_hws_am_con.hdf5',\n",
       " 'D:\\\\Dropbox\\\\mothMachineLearning_dataAndFigs\\\\DataOutput\\\\Qstore_24_hws_am_con.hdf5',\n",
       " 'D:\\\\Dropbox\\\\mothMachineLearning_dataAndFigs\\\\DataOutput\\\\Qstore_25_hws_am_con.hdf5',\n",
       " 'D:\\\\Dropbox\\\\mothMachineLearning_dataAndFigs\\\\DataOutput\\\\Qstore_26_hws_am_con.hdf5',\n",
       " 'D:\\\\Dropbox\\\\mothMachineLearning_dataAndFigs\\\\DataOutput\\\\Qstore_27_hws_am_con.hdf5',\n",
       " 'D:\\\\Dropbox\\\\mothMachineLearning_dataAndFigs\\\\DataOutput\\\\Qstore_28_hws_am_con.hdf5',\n",
       " 'D:\\\\Dropbox\\\\mothMachineLearning_dataAndFigs\\\\DataOutput\\\\Qstore_29_hws_am_con.hdf5',\n",
       " 'D:\\\\Dropbox\\\\mothMachineLearning_dataAndFigs\\\\DataOutput\\\\Qstore_2_hws_am_con.hdf5',\n",
       " 'D:\\\\Dropbox\\\\mothMachineLearning_dataAndFigs\\\\DataOutput\\\\Qstore_30_hws_am_con.hdf5',\n",
       " 'D:\\\\Dropbox\\\\mothMachineLearning_dataAndFigs\\\\DataOutput\\\\Qstore_31_hws_am_con.hdf5',\n",
       " 'D:\\\\Dropbox\\\\mothMachineLearning_dataAndFigs\\\\DataOutput\\\\Qstore_32_hws_am_con.hdf5',\n",
       " 'D:\\\\Dropbox\\\\mothMachineLearning_dataAndFigs\\\\DataOutput\\\\Qstore_33_hws_am_con.hdf5',\n",
       " 'D:\\\\Dropbox\\\\mothMachineLearning_dataAndFigs\\\\DataOutput\\\\Qstore_34_hws_am_con.hdf5',\n",
       " 'D:\\\\Dropbox\\\\mothMachineLearning_dataAndFigs\\\\DataOutput\\\\Qstore_35_hws_am_con.hdf5',\n",
       " 'D:\\\\Dropbox\\\\mothMachineLearning_dataAndFigs\\\\DataOutput\\\\Qstore_36_hws_am_con.hdf5',\n",
       " 'D:\\\\Dropbox\\\\mothMachineLearning_dataAndFigs\\\\DataOutput\\\\Qstore_37_hws_am_con.hdf5',\n",
       " 'D:\\\\Dropbox\\\\mothMachineLearning_dataAndFigs\\\\DataOutput\\\\Qstore_38_hws_am_con.hdf5',\n",
       " 'D:\\\\Dropbox\\\\mothMachineLearning_dataAndFigs\\\\DataOutput\\\\Qstore_39_hws_am_con.hdf5',\n",
       " 'D:\\\\Dropbox\\\\mothMachineLearning_dataAndFigs\\\\DataOutput\\\\Qstore_3_hws_am_con.hdf5',\n",
       " 'D:\\\\Dropbox\\\\mothMachineLearning_dataAndFigs\\\\DataOutput\\\\Qstore_40_hws_am_con.hdf5',\n",
       " 'D:\\\\Dropbox\\\\mothMachineLearning_dataAndFigs\\\\DataOutput\\\\Qstore_4_hws_am_con.hdf5',\n",
       " 'D:\\\\Dropbox\\\\mothMachineLearning_dataAndFigs\\\\DataOutput\\\\Qstore_5_hws_am_con.hdf5',\n",
       " 'D:\\\\Dropbox\\\\mothMachineLearning_dataAndFigs\\\\DataOutput\\\\Qstore_6_hws_am_con.hdf5',\n",
       " 'D:\\\\Dropbox\\\\mothMachineLearning_dataAndFigs\\\\DataOutput\\\\Qstore_7_hws_am_con.hdf5',\n",
       " 'D:\\\\Dropbox\\\\mothMachineLearning_dataAndFigs\\\\DataOutput\\\\Qstore_8_hws_am_con.hdf5',\n",
       " 'D:\\\\Dropbox\\\\mothMachineLearning_dataAndFigs\\\\DataOutput\\\\Qstore_9_hws_am_con.hdf5']"
      ]
     },
     "execution_count": 3,
     "metadata": {},
     "output_type": "execute_result"
    }
   ],
   "source": [
    "dataDir2 = r\"D:\\Dropbox\\mothMachineLearning_dataAndFigs\\DataOutput\"\n",
    "dataFiles = [x for x in listdir_fullpath(dataDir2) if  x.endswith(\"con.hdf5\")]\n",
    "print(len(dataFiles))\n",
    "dataFiles"
   ]
  },
  {
   "cell_type": "code",
   "execution_count": 4,
   "metadata": {},
   "outputs": [],
   "source": [
    "# dfList = []\n",
    "\n",
    "# for dataFile in dataFiles:\n",
    "#     bf2 = pd.read_hdf(dataFile, \"data\")\n",
    "#     bf2[['simNum', 'timestep']] = bf2[['simNum', 'timestep']].astype(int)\n",
    "#     bf2['count'] = bf2.groupby([\"simNum\", \"timestep\"]).cumcount()\n",
    "#     sdf = bf2.loc[(bf2[\"count\"] == 0) | (bf2[\"count\"] == 99), :]\n",
    "#     ss = sdf.pivot_table(index=['simNum', 'timestep'], columns = \"count\",aggfunc='first')\n",
    "#     ss.columns = [f'{i}_{j}' if j != '' else f'{i}' for i,j in ss.columns]\n",
    "#     ss.reset_index(inplace=True) \n",
    "#     dfList.append(ss)\n",
    "#     print(dataFile)\n",
    "\n",
    "# trainDF = pd.concat(dfList)\n",
    "\n",
    "# trainDF = trainDF.drop(columns=['F_99', 'alpha_99', \n",
    "#                                'tau_99'])\n",
    "# trainDF=trainDF.rename(columns = {'F_0':'F', \n",
    "#                                  \"alpha_0\": \"alpha\", \n",
    "#                                  \"tau_0\": \"tau\"})\n",
    "\n",
    "# trainDF.reset_index(inplace = True, drop = True)\n",
    "# print(trainDF.shape)\n",
    "# trainDF.head()\n",
    "\n",
    "# trainDF.sort_values([\"timestep\", \"simNum\"], ascending = [True, True]).head()\n",
    "\n",
    "# trainDF.columns\n",
    "\n",
    "# # convert to fx and fy\n",
    "# trainDF[\"Fx\"] = trainDF.F * np.cos(trainDF.alpha)\n",
    "# trainDF[\"Fy\"] = trainDF.F * np.sin(trainDF.alpha)"
   ]
  },
  {
   "cell_type": "code",
   "execution_count": 5,
   "metadata": {},
   "outputs": [],
   "source": [
    "#trainDF.head()"
   ]
  },
  {
   "cell_type": "code",
   "execution_count": 6,
   "metadata": {},
   "outputs": [],
   "source": [
    "# # save training dataset, so it's faster to read in next time\n",
    "# trainDF.to_csv(os.path.join(dataDir2, \"smallDF.csv\"), index=False)"
   ]
  },
  {
   "cell_type": "code",
   "execution_count": 7,
   "metadata": {},
   "outputs": [
    {
     "data": {
      "text/html": [
       "<div>\n",
       "<style scoped>\n",
       "    .dataframe tbody tr th:only-of-type {\n",
       "        vertical-align: middle;\n",
       "    }\n",
       "\n",
       "    .dataframe tbody tr th {\n",
       "        vertical-align: top;\n",
       "    }\n",
       "\n",
       "    .dataframe thead th {\n",
       "        text-align: right;\n",
       "    }\n",
       "</style>\n",
       "<table border=\"1\" class=\"dataframe\">\n",
       "  <thead>\n",
       "    <tr style=\"text-align: right;\">\n",
       "      <th></th>\n",
       "      <th>simNum</th>\n",
       "      <th>timestep</th>\n",
       "      <th>F</th>\n",
       "      <th>alpha</th>\n",
       "      <th>phi_0</th>\n",
       "      <th>phi_99</th>\n",
       "      <th>phi_dot_0</th>\n",
       "      <th>phi_dot_99</th>\n",
       "      <th>tau</th>\n",
       "      <th>theta_0</th>\n",
       "      <th>...</th>\n",
       "      <th>x_0</th>\n",
       "      <th>x_99</th>\n",
       "      <th>x_dot_0</th>\n",
       "      <th>x_dot_99</th>\n",
       "      <th>y_0</th>\n",
       "      <th>y_99</th>\n",
       "      <th>y_dot_0</th>\n",
       "      <th>y_dot_99</th>\n",
       "      <th>Fx</th>\n",
       "      <th>Fy</th>\n",
       "    </tr>\n",
       "  </thead>\n",
       "  <tbody>\n",
       "    <tr>\n",
       "      <th>0</th>\n",
       "      <td>0</td>\n",
       "      <td>0</td>\n",
       "      <td>38304.433962</td>\n",
       "      <td>5.340270</td>\n",
       "      <td>3.926991</td>\n",
       "      <td>3.869604</td>\n",
       "      <td>0.000000</td>\n",
       "      <td>-5.674295</td>\n",
       "      <td>10963.268558</td>\n",
       "      <td>0.785398</td>\n",
       "      <td>...</td>\n",
       "      <td>0.000000</td>\n",
       "      <td>6.853314</td>\n",
       "      <td>0.000100</td>\n",
       "      <td>683.734561</td>\n",
       "      <td>0.000000</td>\n",
       "      <td>-1.298536</td>\n",
       "      <td>0.000100</td>\n",
       "      <td>-133.752363</td>\n",
       "      <td>22501.211072</td>\n",
       "      <td>-30998.792903</td>\n",
       "    </tr>\n",
       "    <tr>\n",
       "      <th>1</th>\n",
       "      <td>0</td>\n",
       "      <td>1</td>\n",
       "      <td>34264.536249</td>\n",
       "      <td>2.465501</td>\n",
       "      <td>3.948428</td>\n",
       "      <td>4.019544</td>\n",
       "      <td>2.009397</td>\n",
       "      <td>5.425513</td>\n",
       "      <td>72580.767201</td>\n",
       "      <td>0.768478</td>\n",
       "      <td>...</td>\n",
       "      <td>-0.019322</td>\n",
       "      <td>-6.079672</td>\n",
       "      <td>-0.145396</td>\n",
       "      <td>-606.129200</td>\n",
       "      <td>2.520087</td>\n",
       "      <td>6.366770</td>\n",
       "      <td>250.908304</td>\n",
       "      <td>120.273149</td>\n",
       "      <td>-26727.166452</td>\n",
       "      <td>21441.012519</td>\n",
       "    </tr>\n",
       "    <tr>\n",
       "      <th>2</th>\n",
       "      <td>0</td>\n",
       "      <td>2</td>\n",
       "      <td>12045.791872</td>\n",
       "      <td>4.573819</td>\n",
       "      <td>3.966608</td>\n",
       "      <td>3.933017</td>\n",
       "      <td>-0.124272</td>\n",
       "      <td>-2.775517</td>\n",
       "      <td>93435.855346</td>\n",
       "      <td>0.768515</td>\n",
       "      <td>...</td>\n",
       "      <td>0.509507</td>\n",
       "      <td>2.986736</td>\n",
       "      <td>52.490438</td>\n",
       "      <td>193.914740</td>\n",
       "      <td>4.834518</td>\n",
       "      <td>2.470847</td>\n",
       "      <td>-18.848146</td>\n",
       "      <td>-211.050011</td>\n",
       "      <td>-1663.845687</td>\n",
       "      <td>-11930.327714</td>\n",
       "    </tr>\n",
       "    <tr>\n",
       "      <th>3</th>\n",
       "      <td>0</td>\n",
       "      <td>3</td>\n",
       "      <td>35562.854879</td>\n",
       "      <td>0.767089</td>\n",
       "      <td>4.000007</td>\n",
       "      <td>4.111777</td>\n",
       "      <td>3.434103</td>\n",
       "      <td>7.246049</td>\n",
       "      <td>-96088.338473</td>\n",
       "      <td>0.773977</td>\n",
       "      <td>...</td>\n",
       "      <td>-0.836633</td>\n",
       "      <td>-4.334782</td>\n",
       "      <td>-187.046694</td>\n",
       "      <td>-157.064454</td>\n",
       "      <td>6.838940</td>\n",
       "      <td>17.508792</td>\n",
       "      <td>218.755312</td>\n",
       "      <td>844.589134</td>\n",
       "      <td>25602.909376</td>\n",
       "      <td>24682.132781</td>\n",
       "    </tr>\n",
       "    <tr>\n",
       "      <th>4</th>\n",
       "      <td>0</td>\n",
       "      <td>4</td>\n",
       "      <td>20856.636628</td>\n",
       "      <td>2.424378</td>\n",
       "      <td>4.009324</td>\n",
       "      <td>3.995061</td>\n",
       "      <td>-2.309667</td>\n",
       "      <td>0.686804</td>\n",
       "      <td>-27142.805375</td>\n",
       "      <td>0.815904</td>\n",
       "      <td>...</td>\n",
       "      <td>0.429770</td>\n",
       "      <td>2.895126</td>\n",
       "      <td>313.730247</td>\n",
       "      <td>-65.350386</td>\n",
       "      <td>8.392823</td>\n",
       "      <td>6.771320</td>\n",
       "      <td>-58.222983</td>\n",
       "      <td>-102.458917</td>\n",
       "      <td>-15718.389244</td>\n",
       "      <td>13708.812166</td>\n",
       "    </tr>\n",
       "  </tbody>\n",
       "</table>\n",
       "<p>5 rows × 23 columns</p>\n",
       "</div>"
      ],
      "text/plain": [
       "   simNum  timestep             F     alpha     phi_0    phi_99  phi_dot_0  \\\n",
       "0       0         0  38304.433962  5.340270  3.926991  3.869604   0.000000   \n",
       "1       0         1  34264.536249  2.465501  3.948428  4.019544   2.009397   \n",
       "2       0         2  12045.791872  4.573819  3.966608  3.933017  -0.124272   \n",
       "3       0         3  35562.854879  0.767089  4.000007  4.111777   3.434103   \n",
       "4       0         4  20856.636628  2.424378  4.009324  3.995061  -2.309667   \n",
       "\n",
       "   phi_dot_99           tau   theta_0      ...            x_0      x_99  \\\n",
       "0   -5.674295  10963.268558  0.785398      ...       0.000000  6.853314   \n",
       "1    5.425513  72580.767201  0.768478      ...      -0.019322 -6.079672   \n",
       "2   -2.775517  93435.855346  0.768515      ...       0.509507  2.986736   \n",
       "3    7.246049 -96088.338473  0.773977      ...      -0.836633 -4.334782   \n",
       "4    0.686804 -27142.805375  0.815904      ...       0.429770  2.895126   \n",
       "\n",
       "      x_dot_0    x_dot_99       y_0       y_99     y_dot_0    y_dot_99  \\\n",
       "0    0.000100  683.734561  0.000000  -1.298536    0.000100 -133.752363   \n",
       "1   -0.145396 -606.129200  2.520087   6.366770  250.908304  120.273149   \n",
       "2   52.490438  193.914740  4.834518   2.470847  -18.848146 -211.050011   \n",
       "3 -187.046694 -157.064454  6.838940  17.508792  218.755312  844.589134   \n",
       "4  313.730247  -65.350386  8.392823   6.771320  -58.222983 -102.458917   \n",
       "\n",
       "             Fx            Fy  \n",
       "0  22501.211072 -30998.792903  \n",
       "1 -26727.166452  21441.012519  \n",
       "2  -1663.845687 -11930.327714  \n",
       "3  25602.909376  24682.132781  \n",
       "4 -15718.389244  13708.812166  \n",
       "\n",
       "[5 rows x 23 columns]"
      ]
     },
     "execution_count": 7,
     "metadata": {},
     "output_type": "execute_result"
    }
   ],
   "source": [
    "trainDF2 = pd.read_csv(os.path.join(dataDir2, \"smallDF.csv\"))\n",
    "trainDF2.head()"
   ]
  },
  {
   "cell_type": "markdown",
   "metadata": {},
   "source": [
    "# Keras models"
   ]
  },
  {
   "cell_type": "code",
   "execution_count": 8,
   "metadata": {},
   "outputs": [],
   "source": [
    "# make dataset\n",
    "\n",
    "# refref: add dots as output\n",
    "\n",
    "X = trainDF2.loc[:, [\"x_0\", \"y_0\", \"phi_0\", \"theta_0\", \n",
    "                    \"x_99\", \"y_99\", \"phi_99\", \"theta_99\", \n",
    "                   \"x_dot_0\", \"y_dot_0\", \"phi_dot_0\", \"theta_dot_0\"]]\n",
    "\n",
    "Y = trainDF2.loc[:, [\"Fx\", \"Fy\", \"tau\", \"x_dot_99\", \"y_dot_99\", \n",
    "                    \"phi_dot_99\", \"theta_dot_99\"] ]\n",
    "\n",
    "# # # subtract x_0 and y_0 from everything\n",
    "# X.x_99 = X.x_99 - X.x_0\n",
    "# X.y_99 = X.y_99 - X.y_0\n",
    "\n",
    "# X.x_0 = X.y_0 = 0"
   ]
  },
  {
   "cell_type": "code",
   "execution_count": 9,
   "metadata": {},
   "outputs": [
    {
     "data": {
      "text/html": [
       "<div>\n",
       "<style scoped>\n",
       "    .dataframe tbody tr th:only-of-type {\n",
       "        vertical-align: middle;\n",
       "    }\n",
       "\n",
       "    .dataframe tbody tr th {\n",
       "        vertical-align: top;\n",
       "    }\n",
       "\n",
       "    .dataframe thead th {\n",
       "        text-align: right;\n",
       "    }\n",
       "</style>\n",
       "<table border=\"1\" class=\"dataframe\">\n",
       "  <thead>\n",
       "    <tr style=\"text-align: right;\">\n",
       "      <th></th>\n",
       "      <th>x_0</th>\n",
       "      <th>y_0</th>\n",
       "      <th>phi_0</th>\n",
       "      <th>theta_0</th>\n",
       "      <th>x_99</th>\n",
       "      <th>y_99</th>\n",
       "      <th>phi_99</th>\n",
       "      <th>theta_99</th>\n",
       "      <th>x_dot_0</th>\n",
       "      <th>y_dot_0</th>\n",
       "      <th>phi_dot_0</th>\n",
       "      <th>theta_dot_0</th>\n",
       "    </tr>\n",
       "  </thead>\n",
       "  <tbody>\n",
       "    <tr>\n",
       "      <th>0</th>\n",
       "      <td>0.000000</td>\n",
       "      <td>0.000000</td>\n",
       "      <td>3.926991</td>\n",
       "      <td>0.785398</td>\n",
       "      <td>6.853314</td>\n",
       "      <td>-1.298536</td>\n",
       "      <td>3.869604</td>\n",
       "      <td>0.746382</td>\n",
       "      <td>0.000100</td>\n",
       "      <td>0.000100</td>\n",
       "      <td>0.000000</td>\n",
       "      <td>0.000000</td>\n",
       "    </tr>\n",
       "    <tr>\n",
       "      <th>1</th>\n",
       "      <td>-0.019322</td>\n",
       "      <td>2.520087</td>\n",
       "      <td>3.948428</td>\n",
       "      <td>0.768478</td>\n",
       "      <td>-6.079672</td>\n",
       "      <td>6.366770</td>\n",
       "      <td>4.019544</td>\n",
       "      <td>0.940422</td>\n",
       "      <td>-0.145396</td>\n",
       "      <td>250.908304</td>\n",
       "      <td>2.009397</td>\n",
       "      <td>0.087406</td>\n",
       "    </tr>\n",
       "    <tr>\n",
       "      <th>2</th>\n",
       "      <td>0.509507</td>\n",
       "      <td>4.834518</td>\n",
       "      <td>3.966608</td>\n",
       "      <td>0.768515</td>\n",
       "      <td>2.986736</td>\n",
       "      <td>2.470847</td>\n",
       "      <td>3.933017</td>\n",
       "      <td>0.868402</td>\n",
       "      <td>52.490438</td>\n",
       "      <td>-18.848146</td>\n",
       "      <td>-0.124272</td>\n",
       "      <td>-1.029996</td>\n",
       "    </tr>\n",
       "    <tr>\n",
       "      <th>3</th>\n",
       "      <td>-0.836633</td>\n",
       "      <td>6.838940</td>\n",
       "      <td>4.000007</td>\n",
       "      <td>0.773977</td>\n",
       "      <td>-4.334782</td>\n",
       "      <td>17.508792</td>\n",
       "      <td>4.111777</td>\n",
       "      <td>0.747358</td>\n",
       "      <td>-187.046694</td>\n",
       "      <td>218.755312</td>\n",
       "      <td>3.434103</td>\n",
       "      <td>2.037211</td>\n",
       "    </tr>\n",
       "    <tr>\n",
       "      <th>4</th>\n",
       "      <td>0.429770</td>\n",
       "      <td>8.392823</td>\n",
       "      <td>4.009324</td>\n",
       "      <td>0.815904</td>\n",
       "      <td>2.895126</td>\n",
       "      <td>6.771320</td>\n",
       "      <td>3.995061</td>\n",
       "      <td>0.761962</td>\n",
       "      <td>313.730247</td>\n",
       "      <td>-58.222983</td>\n",
       "      <td>-2.309667</td>\n",
       "      <td>-0.673328</td>\n",
       "    </tr>\n",
       "  </tbody>\n",
       "</table>\n",
       "</div>"
      ],
      "text/plain": [
       "        x_0       y_0     phi_0   theta_0      x_99       y_99    phi_99  \\\n",
       "0  0.000000  0.000000  3.926991  0.785398  6.853314  -1.298536  3.869604   \n",
       "1 -0.019322  2.520087  3.948428  0.768478 -6.079672   6.366770  4.019544   \n",
       "2  0.509507  4.834518  3.966608  0.768515  2.986736   2.470847  3.933017   \n",
       "3 -0.836633  6.838940  4.000007  0.773977 -4.334782  17.508792  4.111777   \n",
       "4  0.429770  8.392823  4.009324  0.815904  2.895126   6.771320  3.995061   \n",
       "\n",
       "   theta_99     x_dot_0     y_dot_0  phi_dot_0  theta_dot_0  \n",
       "0  0.746382    0.000100    0.000100   0.000000     0.000000  \n",
       "1  0.940422   -0.145396  250.908304   2.009397     0.087406  \n",
       "2  0.868402   52.490438  -18.848146  -0.124272    -1.029996  \n",
       "3  0.747358 -187.046694  218.755312   3.434103     2.037211  \n",
       "4  0.761962  313.730247  -58.222983  -2.309667    -0.673328  "
      ]
     },
     "execution_count": 9,
     "metadata": {},
     "output_type": "execute_result"
    }
   ],
   "source": [
    "X.head()"
   ]
  },
  {
   "cell_type": "code",
   "execution_count": 10,
   "metadata": {},
   "outputs": [
    {
     "data": {
      "text/html": [
       "<div>\n",
       "<style scoped>\n",
       "    .dataframe tbody tr th:only-of-type {\n",
       "        vertical-align: middle;\n",
       "    }\n",
       "\n",
       "    .dataframe tbody tr th {\n",
       "        vertical-align: top;\n",
       "    }\n",
       "\n",
       "    .dataframe thead th {\n",
       "        text-align: right;\n",
       "    }\n",
       "</style>\n",
       "<table border=\"1\" class=\"dataframe\">\n",
       "  <thead>\n",
       "    <tr style=\"text-align: right;\">\n",
       "      <th></th>\n",
       "      <th>Fx</th>\n",
       "      <th>Fy</th>\n",
       "      <th>tau</th>\n",
       "      <th>x_dot_99</th>\n",
       "      <th>y_dot_99</th>\n",
       "      <th>phi_dot_99</th>\n",
       "      <th>theta_dot_99</th>\n",
       "    </tr>\n",
       "  </thead>\n",
       "  <tbody>\n",
       "    <tr>\n",
       "      <th>0</th>\n",
       "      <td>22501.211072</td>\n",
       "      <td>-30998.792903</td>\n",
       "      <td>10963.268558</td>\n",
       "      <td>683.734561</td>\n",
       "      <td>-133.752363</td>\n",
       "      <td>-5.674295</td>\n",
       "      <td>-4.770986</td>\n",
       "    </tr>\n",
       "    <tr>\n",
       "      <th>1</th>\n",
       "      <td>-26727.166452</td>\n",
       "      <td>21441.012519</td>\n",
       "      <td>72580.767201</td>\n",
       "      <td>-606.129200</td>\n",
       "      <td>120.273149</td>\n",
       "      <td>5.425513</td>\n",
       "      <td>10.479995</td>\n",
       "    </tr>\n",
       "    <tr>\n",
       "      <th>2</th>\n",
       "      <td>-1663.845687</td>\n",
       "      <td>-11930.327714</td>\n",
       "      <td>93435.855346</td>\n",
       "      <td>193.914740</td>\n",
       "      <td>-211.050011</td>\n",
       "      <td>-2.775517</td>\n",
       "      <td>3.897680</td>\n",
       "    </tr>\n",
       "    <tr>\n",
       "      <th>3</th>\n",
       "      <td>25602.909376</td>\n",
       "      <td>24682.132781</td>\n",
       "      <td>-96088.338473</td>\n",
       "      <td>-157.064454</td>\n",
       "      <td>844.589134</td>\n",
       "      <td>7.246049</td>\n",
       "      <td>0.318982</td>\n",
       "    </tr>\n",
       "    <tr>\n",
       "      <th>4</th>\n",
       "      <td>-15718.389244</td>\n",
       "      <td>13708.812166</td>\n",
       "      <td>-27142.805375</td>\n",
       "      <td>-65.350386</td>\n",
       "      <td>-102.458917</td>\n",
       "      <td>0.686804</td>\n",
       "      <td>-1.304712</td>\n",
       "    </tr>\n",
       "  </tbody>\n",
       "</table>\n",
       "</div>"
      ],
      "text/plain": [
       "             Fx            Fy           tau    x_dot_99    y_dot_99  \\\n",
       "0  22501.211072 -30998.792903  10963.268558  683.734561 -133.752363   \n",
       "1 -26727.166452  21441.012519  72580.767201 -606.129200  120.273149   \n",
       "2  -1663.845687 -11930.327714  93435.855346  193.914740 -211.050011   \n",
       "3  25602.909376  24682.132781 -96088.338473 -157.064454  844.589134   \n",
       "4 -15718.389244  13708.812166 -27142.805375  -65.350386 -102.458917   \n",
       "\n",
       "   phi_dot_99  theta_dot_99  \n",
       "0   -5.674295     -4.770986  \n",
       "1    5.425513     10.479995  \n",
       "2   -2.775517      3.897680  \n",
       "3    7.246049      0.318982  \n",
       "4    0.686804     -1.304712  "
      ]
     },
     "execution_count": 10,
     "metadata": {},
     "output_type": "execute_result"
    }
   ],
   "source": [
    "Y.head()"
   ]
  },
  {
   "cell_type": "code",
   "execution_count": 11,
   "metadata": {},
   "outputs": [],
   "source": [
    "from sklearn.model_selection import train_test_split\n",
    "Xtrain, Xtest, Ytrain, Ytest = train_test_split(X, Y, test_size=0.2, random_state = 123)"
   ]
  },
  {
   "cell_type": "code",
   "execution_count": 12,
   "metadata": {},
   "outputs": [],
   "source": [
    "from sklearn.preprocessing import StandardScaler  \n",
    "scalerX = StandardScaler()  \n",
    "scalerY = StandardScaler()  \n",
    "\n",
    "# Don't cheat - fit only on training data\n",
    "scalerX.fit(Xtrain)  \n",
    "scalerY.fit(Ytrain) \n",
    "\n",
    "Xtrain_scaled = scalerX.transform(Xtrain)  \n",
    "Ytrain_scaled = scalerY.transform(Ytrain)  \n",
    "\n",
    "# apply same transformation to test data\n",
    "Xtest_scaled = scalerX.transform(Xtest)\n",
    "Ytest_scaled = scalerY.transform(Ytest)"
   ]
  },
  {
   "cell_type": "code",
   "execution_count": 13,
   "metadata": {},
   "outputs": [
    {
     "data": {
      "text/html": [
       "<div>\n",
       "<style scoped>\n",
       "    .dataframe tbody tr th:only-of-type {\n",
       "        vertical-align: middle;\n",
       "    }\n",
       "\n",
       "    .dataframe tbody tr th {\n",
       "        vertical-align: top;\n",
       "    }\n",
       "\n",
       "    .dataframe thead th {\n",
       "        text-align: right;\n",
       "    }\n",
       "</style>\n",
       "<table border=\"1\" class=\"dataframe\">\n",
       "  <thead>\n",
       "    <tr style=\"text-align: right;\">\n",
       "      <th></th>\n",
       "      <th>0</th>\n",
       "      <th>1</th>\n",
       "      <th>2</th>\n",
       "      <th>3</th>\n",
       "      <th>4</th>\n",
       "      <th>5</th>\n",
       "      <th>6</th>\n",
       "    </tr>\n",
       "  </thead>\n",
       "  <tbody>\n",
       "    <tr>\n",
       "      <th>0</th>\n",
       "      <td>4921.410286</td>\n",
       "      <td>-29472.860520</td>\n",
       "      <td>-43474.926597</td>\n",
       "      <td>567.926777</td>\n",
       "      <td>-88.040935</td>\n",
       "      <td>-4.418419</td>\n",
       "      <td>-7.368523</td>\n",
       "    </tr>\n",
       "    <tr>\n",
       "      <th>1</th>\n",
       "      <td>11498.075007</td>\n",
       "      <td>2931.787592</td>\n",
       "      <td>30830.482492</td>\n",
       "      <td>444.337367</td>\n",
       "      <td>2.489686</td>\n",
       "      <td>-2.655246</td>\n",
       "      <td>-0.479400</td>\n",
       "    </tr>\n",
       "    <tr>\n",
       "      <th>2</th>\n",
       "      <td>4137.565172</td>\n",
       "      <td>-4224.449916</td>\n",
       "      <td>90265.867970</td>\n",
       "      <td>193.859357</td>\n",
       "      <td>217.524718</td>\n",
       "      <td>-0.423825</td>\n",
       "      <td>5.993808</td>\n",
       "    </tr>\n",
       "    <tr>\n",
       "      <th>3</th>\n",
       "      <td>-34932.224981</td>\n",
       "      <td>-25717.453464</td>\n",
       "      <td>38308.396523</td>\n",
       "      <td>12.065647</td>\n",
       "      <td>-910.281258</td>\n",
       "      <td>-3.621573</td>\n",
       "      <td>-0.800979</td>\n",
       "    </tr>\n",
       "    <tr>\n",
       "      <th>4</th>\n",
       "      <td>-10521.307892</td>\n",
       "      <td>31032.192025</td>\n",
       "      <td>-79689.073081</td>\n",
       "      <td>-853.024376</td>\n",
       "      <td>208.355764</td>\n",
       "      <td>6.069526</td>\n",
       "      <td>0.281335</td>\n",
       "    </tr>\n",
       "  </tbody>\n",
       "</table>\n",
       "</div>"
      ],
      "text/plain": [
       "              0             1             2           3           4         5  \\\n",
       "0   4921.410286 -29472.860520 -43474.926597  567.926777  -88.040935 -4.418419   \n",
       "1  11498.075007   2931.787592  30830.482492  444.337367    2.489686 -2.655246   \n",
       "2   4137.565172  -4224.449916  90265.867970  193.859357  217.524718 -0.423825   \n",
       "3 -34932.224981 -25717.453464  38308.396523   12.065647 -910.281258 -3.621573   \n",
       "4 -10521.307892  31032.192025 -79689.073081 -853.024376  208.355764  6.069526   \n",
       "\n",
       "          6  \n",
       "0 -7.368523  \n",
       "1 -0.479400  \n",
       "2  5.993808  \n",
       "3 -0.800979  \n",
       "4  0.281335  "
      ]
     },
     "execution_count": 13,
     "metadata": {},
     "output_type": "execute_result"
    }
   ],
   "source": [
    "pd.DataFrame(scalerY.inverse_transform(Ytrain_scaled)).head()"
   ]
  },
  {
   "cell_type": "code",
   "execution_count": 14,
   "metadata": {},
   "outputs": [
    {
     "data": {
      "text/html": [
       "<div>\n",
       "<style scoped>\n",
       "    .dataframe tbody tr th:only-of-type {\n",
       "        vertical-align: middle;\n",
       "    }\n",
       "\n",
       "    .dataframe tbody tr th {\n",
       "        vertical-align: top;\n",
       "    }\n",
       "\n",
       "    .dataframe thead th {\n",
       "        text-align: right;\n",
       "    }\n",
       "</style>\n",
       "<table border=\"1\" class=\"dataframe\">\n",
       "  <thead>\n",
       "    <tr style=\"text-align: right;\">\n",
       "      <th></th>\n",
       "      <th>Fx</th>\n",
       "      <th>Fy</th>\n",
       "      <th>tau</th>\n",
       "      <th>x_dot_99</th>\n",
       "      <th>y_dot_99</th>\n",
       "      <th>phi_dot_99</th>\n",
       "      <th>theta_dot_99</th>\n",
       "    </tr>\n",
       "  </thead>\n",
       "  <tbody>\n",
       "    <tr>\n",
       "      <th>0</th>\n",
       "      <td>4921.410286</td>\n",
       "      <td>-29472.860520</td>\n",
       "      <td>-43474.926597</td>\n",
       "      <td>567.926777</td>\n",
       "      <td>-88.040935</td>\n",
       "      <td>-4.418419</td>\n",
       "      <td>-7.368523</td>\n",
       "    </tr>\n",
       "    <tr>\n",
       "      <th>1</th>\n",
       "      <td>11498.075007</td>\n",
       "      <td>2931.787592</td>\n",
       "      <td>30830.482492</td>\n",
       "      <td>444.337367</td>\n",
       "      <td>2.489686</td>\n",
       "      <td>-2.655246</td>\n",
       "      <td>-0.479400</td>\n",
       "    </tr>\n",
       "    <tr>\n",
       "      <th>2</th>\n",
       "      <td>4137.565172</td>\n",
       "      <td>-4224.449916</td>\n",
       "      <td>90265.867970</td>\n",
       "      <td>193.859357</td>\n",
       "      <td>217.524718</td>\n",
       "      <td>-0.423825</td>\n",
       "      <td>5.993808</td>\n",
       "    </tr>\n",
       "    <tr>\n",
       "      <th>3</th>\n",
       "      <td>-34932.224981</td>\n",
       "      <td>-25717.453464</td>\n",
       "      <td>38308.396523</td>\n",
       "      <td>12.065647</td>\n",
       "      <td>-910.281258</td>\n",
       "      <td>-3.621573</td>\n",
       "      <td>-0.800979</td>\n",
       "    </tr>\n",
       "    <tr>\n",
       "      <th>4</th>\n",
       "      <td>-10521.307892</td>\n",
       "      <td>31032.192025</td>\n",
       "      <td>-79689.073081</td>\n",
       "      <td>-853.024376</td>\n",
       "      <td>208.355764</td>\n",
       "      <td>6.069526</td>\n",
       "      <td>0.281335</td>\n",
       "    </tr>\n",
       "  </tbody>\n",
       "</table>\n",
       "</div>"
      ],
      "text/plain": [
       "             Fx            Fy           tau    x_dot_99    y_dot_99  \\\n",
       "0   4921.410286 -29472.860520 -43474.926597  567.926777  -88.040935   \n",
       "1  11498.075007   2931.787592  30830.482492  444.337367    2.489686   \n",
       "2   4137.565172  -4224.449916  90265.867970  193.859357  217.524718   \n",
       "3 -34932.224981 -25717.453464  38308.396523   12.065647 -910.281258   \n",
       "4 -10521.307892  31032.192025 -79689.073081 -853.024376  208.355764   \n",
       "\n",
       "   phi_dot_99  theta_dot_99  \n",
       "0   -4.418419     -7.368523  \n",
       "1   -2.655246     -0.479400  \n",
       "2   -0.423825      5.993808  \n",
       "3   -3.621573     -0.800979  \n",
       "4    6.069526      0.281335  "
      ]
     },
     "execution_count": 14,
     "metadata": {},
     "output_type": "execute_result"
    }
   ],
   "source": [
    "pd.DataFrame(Ytrain).reset_index(drop = True).head()"
   ]
  },
  {
   "cell_type": "code",
   "execution_count": 12,
   "metadata": {},
   "outputs": [],
   "source": [
    "# from sklearn.preprocessing import MinMaxScaler  \n",
    "# scalerX = MinMaxScaler()  \n",
    "# scalerY = MinMaxScaler()  \n",
    "\n",
    "# # Don't cheat - fit only on training data\n",
    "# scalerX.fit(Xtrain)  \n",
    "# scalerY.fit(Ytrain) \n",
    "\n",
    "# Xtrain_scaled = scalerX.transform(Xtrain)  \n",
    "# Ytrain_scaled = scalerY.transform(Ytrain)  \n",
    "\n",
    "# # apply same transformation to test data\n",
    "# Xtest_scaled = scalerX.transform(Xtest)\n",
    "# Ytest_scaled = scalerY.transform(Ytest)"
   ]
  },
  {
   "cell_type": "code",
   "execution_count": 13,
   "metadata": {},
   "outputs": [
    {
     "name": "stderr",
     "output_type": "stream",
     "text": [
      "Using TensorFlow backend.\n"
     ]
    }
   ],
   "source": [
    "# build Keras model with functional API, instead of Sequential\n",
    "from keras.layers import Input, Dense\n",
    "from keras.models import Model\n",
    "\n",
    "# callcacks\n",
    "from keras.callbacks import EarlyStopping\n",
    "from keras.callbacks import ReduceLROnPlateau"
   ]
  },
  {
   "cell_type": "code",
   "execution_count": null,
   "metadata": {},
   "outputs": [],
   "source": [
    "inputs = Input(shape=(Xtrain_scaled.shape[1],))\n",
    "\n",
    "x = Dense(400, activation='tanh')(inputs)\n",
    "x = Dense(400, activation='tanh')(x)\n",
    "x = Dense(400, activation='tanh')(x)\n",
    "x = Dense(16, activation='tanh')(x)\n",
    "predictions = Dense(Ytrain_scaled.shape[1], activation='linear')(x)\n",
    "\n",
    "# This creates a model that includes\n",
    "# the Input layer and three Dense layers\n",
    "model = Model(inputs=inputs, outputs=predictions)\n",
    "model.compile(loss=\"mse\", optimizer=\"adam\", metrics = ['mse'])"
   ]
  },
  {
   "cell_type": "code",
   "execution_count": null,
   "metadata": {},
   "outputs": [],
   "source": [
    "earlystop = EarlyStopping(monitor='val_mean_squared_error', patience=50, \n",
    "                          verbose=1, mode='auto', min_delta = 0.001)\n",
    "\n",
    "history = model.fit(Xtrain_scaled, Ytrain_scaled, validation_split = 0.3, \n",
    "                    verbose = 2, batch_size=2**14, epochs = 1000, \n",
    "                    callbacks = [earlystop])"
   ]
  },
  {
   "cell_type": "code",
   "execution_count": null,
   "metadata": {},
   "outputs": [],
   "source": [
    "def plot_model_history(model_history, saveFig = False):\n",
    "    fig, axs = plt.subplots(1,1,figsize=(10,5))\n",
    "    # summarize history for accuracy\n",
    "    axs.plot(range(1,len(model_history.history['mean_squared_error'])+1),\n",
    "             model_history.history['mean_squared_error'])\n",
    "    axs.plot(range(1,len(model_history.history['val_mean_squared_error'])+1),\n",
    "             model_history.history['val_mean_squared_error'])\n",
    "    axs.set_title('Model MSE')\n",
    "    axs.set_ylabel('mean_squared_error')\n",
    "    axs.set_xlabel('Epoch')\n",
    "    axs.set_xticks(np.arange(1,len(model_history.history['val_mean_squared_error'])+1),\n",
    "                   len(model_history.history['val_mean_squared_error'])/10)\n",
    "    axs.legend(['train', 'val'], loc='best')\n",
    "    if saveFig:\n",
    "        fig.savefig(os.path.join(figDir, \"ModelTraining.png\"), dpi = 120, bbox_inches='tight')\n",
    "    plt.show()"
   ]
  },
  {
   "cell_type": "code",
   "execution_count": null,
   "metadata": {},
   "outputs": [],
   "source": [
    "plot_model_history(history, saveFig = False)"
   ]
  },
  {
   "cell_type": "code",
   "execution_count": 15,
   "metadata": {},
   "outputs": [
    {
     "name": "stderr",
     "output_type": "stream",
     "text": [
      "Using TensorFlow backend.\n"
     ]
    }
   ],
   "source": [
    "# load model\n",
    "from keras.models import load_model\n",
    "model = load_model(os.path.join(savedModels, 'my_model.h5'))"
   ]
  },
  {
   "cell_type": "code",
   "execution_count": 32,
   "metadata": {},
   "outputs": [],
   "source": [
    "nnpreds = model.predict(Xtest_scaled[ :])"
   ]
  },
  {
   "cell_type": "code",
   "execution_count": 28,
   "metadata": {},
   "outputs": [],
   "source": [
    "# save model\n",
    "# model.save(os.path.join(savedModels, 'my_model.h5'))\n",
    "# aa = r'explorer /select,\"'\n",
    "# subprocess.Popen(str(aa + savedModels + '\\\"'))"
   ]
  },
  {
   "cell_type": "code",
   "execution_count": 33,
   "metadata": {},
   "outputs": [],
   "source": [
    "# rescale\n",
    "nnpreds_unscaled = scalerY.inverse_transform(nnpreds)"
   ]
  },
  {
   "cell_type": "code",
   "execution_count": 107,
   "metadata": {},
   "outputs": [
    {
     "data": {
      "image/png": "[encoded data removed]",
      "text/plain": [
       "<matplotlib.figure.Figure at 0x2ad77adb828>"
      ]
     },
     "metadata": {},
     "output_type": "display_data"
    }
   ],
   "source": [
    "plt.close(\"all\")\n",
    "fig, axs = plt.subplots(1,7, figsize=np.array((20, 4)) / 1.1, facecolor='w', edgecolor='k')\n",
    "fig.subplots_adjust(hspace = 0.3, wspace=0.3)\n",
    "#fig.suptitle('Predicted vs. acutal ', fontsize=14, fontweight='bold')\n",
    "\n",
    "axs = axs.ravel()\n",
    "\n",
    "nms = Y.columns\n",
    "nms2 = [nms[ii].replace(\"dot\", \"d\") for ii in range(len(nms))]\n",
    "nms2\n",
    "\n",
    "# replace lightest colors with white\n",
    "import matplotlib.colors\n",
    "\n",
    "cmap = plt.cm.magma_r\n",
    "cmaplist = np.array([cmap(i) for i in range(cmap.N)])\n",
    "#cmaplist[0:2] = np.repeat((0.0,0.0,0.0,0.0), 2).reshape(-1,4)\n",
    "cmaplist[:,0:3] = np.divide(cmaplist[:, 0:3], 1.1)\n",
    "#cmaplist[:,0:3] = np.transpose(np.vstack([np.linspace(1, 0, 256), np.linspace(1, 0, 256), np.linspace(1, 0, 256)]))\n",
    "cmaplist[0] = (1,1,1,0.5)\n",
    "cmap = matplotlib.colors.LinearSegmentedColormap.from_list('mcm',cmaplist, cmap.N)\n",
    "\n",
    "for ii in range(len(Y.columns)):\n",
    "    # read in image\n",
    "    \n",
    "    try:\n",
    "        axs[ii].hexbin(y = Ytest.iloc[:,ii],x = nnpreds_unscaled[:,ii], gridsize = 150, cmap = cmap)\n",
    "        axs[ii].set_xlabel(\"Predicted Value\")\n",
    "        axs[ii].xaxis.set_major_formatter(ScalarFormatter(useMathText=True))\n",
    "        axs[ii].yaxis.set_major_formatter(ScalarFormatter(useMathText=True))\n",
    "        axs[ii].ticklabel_format(style='sci',  axis='both', scilimits=(3,4))\n",
    "        t = axs[ii].xaxis.get_offset_text()\n",
    "        t.set_x(1.1)\n",
    "        t.set_y(0.5)\n",
    "        if(ii == 0):\n",
    "            axs[ii].set_ylabel(\"Actual Value\")\n",
    "        axs[ii].set_title(nms2[ii])\n",
    "        axs[ii].plot(Ytest.iloc[0:1000,ii], Ytest.iloc[0:1000,ii], 'grey', linewidth = 1, linestyle  = \"--\")\n",
    "    except:\n",
    "        pass\n",
    "plt.tight_layout()\n",
    "\n",
    "fig.savefig(os.path.join(figDir, \"NNPreds_newData_control_bigbatch_FxFy_hexbin_loadedModel.png\"), dpi = 500, bbox_inches='tight')\n",
    "# fig.savefig(os.path.join(figDir, \"NNPreds_newData_control_bigbatch_FxFy_hexbin_loadedModel.svg\"),bbox_inches='tight')"
   ]
  },
  {
   "cell_type": "markdown",
   "metadata": {},
   "source": [
    "# residual plots"
   ]
  },
  {
   "cell_type": "code",
   "execution_count": 110,
   "metadata": {},
   "outputs": [
    {
     "data": {
      "image/png": "[encoded data removed]",
      "text/plain": [
       "<matplotlib.figure.Figure at 0x2ad787d3978>"
      ]
     },
     "metadata": {},
     "output_type": "display_data"
    }
   ],
   "source": [
    "plt.close(\"all\")\n",
    "fig, axs = plt.subplots(1,7, figsize=np.array((20, 4)) / 1.1, facecolor='w', edgecolor='k')\n",
    "fig.subplots_adjust(hspace = 0.3, wspace=0.3)\n",
    "#fig.suptitle('Predicted vs. acutal ', fontsize=14, fontweight='bold')\n",
    "\n",
    "axs = axs.ravel()\n",
    "\n",
    "nms = Y.columns\n",
    "nms2 = [nms[ii].replace(\"dot\", \"d\") for ii in range(len(nms))]\n",
    "nms2\n",
    "\n",
    "# replace lightest colors with white\n",
    "import matplotlib.colors\n",
    "\n",
    "cmap = plt.cm.magma_r\n",
    "cmaplist = np.array([cmap(i) for i in range(cmap.N)])\n",
    "#cmaplist[0:2] = np.repeat((0.0,0.0,0.0,0.0), 2).reshape(-1,4)\n",
    "cmaplist[:,0:3] = np.divide(cmaplist[:, 0:3], 1.1)\n",
    "#cmaplist[:,0:3] = np.transpose(np.vstack([np.linspace(1, 0, 256), np.linspace(1, 0, 256), np.linspace(1, 0, 256)]))\n",
    "cmaplist[0] = (1,1,1,0.5)\n",
    "cmap = matplotlib.colors.LinearSegmentedColormap.from_list('mcm',cmaplist, cmap.N)\n",
    "\n",
    "for ii in range(len(Y.columns)):\n",
    "    # read in image\n",
    "    \n",
    "    try:\n",
    "        axs[ii].hexbin(y = Ytest.iloc[:,ii] - nnpreds_unscaled[:,ii],x = nnpreds_unscaled[:,ii], gridsize = 150, cmap = cmap)\n",
    "        axs[ii].set_xlabel(\"Predicted Value\")\n",
    "        axs[ii].xaxis.set_major_formatter(ScalarFormatter(useMathText=True))\n",
    "        axs[ii].yaxis.set_major_formatter(ScalarFormatter(useMathText=True))\n",
    "#         axs[ii].ticklabel_format(style='sci',  axis='both', scilimits=(3,4))\n",
    "#         t = axs[ii].xaxis.get_offset_text()\n",
    "#         t.set_x(1.1)\n",
    "#         t.set_y(0.5)\n",
    "        if(ii == 0):\n",
    "            axs[ii].set_ylabel(\"Actual - Predicted\")\n",
    "        axs[ii].set_title(nms2[ii])\n",
    "        #axs[ii].plot(Ytest.iloc[0:1000,ii], Ytest.iloc[0:1000,ii], 'grey', linewidth = 1, linestyle  = \"--\")\n",
    "    except:\n",
    "        pass\n",
    "plt.tight_layout()\n",
    "\n",
    "fig.savefig(os.path.join(figDir, \"NNPreds_resids.png\"), dpi = 500, bbox_inches='tight')\n",
    "# fig.savefig(os.path.join(figDir, \"NNPreds_newData_control_bigbatch_FxFy_hexbin_loadedModel.svg\"),bbox_inches='tight')"
   ]
  },
  {
   "cell_type": "code",
   "execution_count": 97,
   "metadata": {},
   "outputs": [
    {
     "data": {
      "image/png": "[encoded data removed]",
      "text/plain": [
       "<matplotlib.figure.Figure at 0x2b06dff3ba8>"
      ]
     },
     "metadata": {},
     "output_type": "display_data"
    }
   ],
   "source": [
    "# convert Fx and Fy back to F and alpha\n",
    "\n",
    "fig, axs = plt.subplots(1,2, figsize=(20, 4), facecolor='w', edgecolor='k')\n",
    "fig.subplots_adjust(hspace = 0.3, wspace=0.3)\n",
    "ii = 0\n",
    "axs[ii].hexbin(y = Ytest.iloc[:,ii],x = nnpreds_unscaled[:,ii], gridsize = 150, cmap = cmap)\n",
    "axs[ii].set_xlabel(\"Predicted Value\")\n",
    "axs[ii].xaxis.set_major_formatter(ScalarFormatter(useMathText=True))\n",
    "axs[ii].yaxis.set_major_formatter(ScalarFormatter(useMathText=True))\n",
    "axs[ii].ticklabel_format(style='sci',  axis='both', scilimits=(0,0))\n",
    "t = axs[ii].xaxis.get_offset_text()\n",
    "t.set_x(1.1)\n",
    "t.set_y(500)\n",
    "\n"
   ]
  },
  {
   "cell_type": "code",
   "execution_count": 106,
   "metadata": {},
   "outputs": [
    {
     "data": {
      "text/plain": [
       "['Fx', 'Fy', 'tau', 'x_d_99', 'y_d_99', 'phi_d_99', 'theta_d_99']"
      ]
     },
     "execution_count": 106,
     "metadata": {},
     "output_type": "execute_result"
    }
   ],
   "source": []
  },
  {
   "cell_type": "code",
   "execution_count": 101,
   "metadata": {},
   "outputs": [
    {
     "data": {
      "text/plain": [
       "Text(1.1,21,'$\\\\times\\\\mathdefault{10^{1}}\\\\mathdefault{}$')"
      ]
     },
     "execution_count": 101,
     "metadata": {},
     "output_type": "execute_result"
    }
   ],
   "source": [
    "t"
   ]
  },
  {
   "cell_type": "code",
   "execution_count": 19,
   "metadata": {},
   "outputs": [],
   "source": [
    "# calculate mean squared error"
   ]
  },
  {
   "cell_type": "code",
   "execution_count": 30,
   "metadata": {},
   "outputs": [],
   "source": [
    "from sklearn.metrics import mean_squared_error\n",
    "\n",
    "from sklearn.metrics import r2_score"
   ]
  },
  {
   "cell_type": "code",
   "execution_count": 36,
   "metadata": {},
   "outputs": [
    {
     "name": "stdout",
     "output_type": "stream",
     "text": [
      "0.9999506847353872 Fx\n",
      "0.9999627147331593 Fy\n",
      "0.9999438044472624 tau\n",
      "0.9999599609986949 x_dot_99\n",
      "0.9999467703504513 y_dot_99\n",
      "0.9999202305164062 phi_dot_99\n",
      "0.9999309651201447 theta_dot_99\n"
     ]
    }
   ],
   "source": [
    "for ii in range(len(nms)):\n",
    "    #np.sqrt(mean_squared_error(Ytest.iloc[0:1000,ii], nnpreds_unscaled[:,ii]))\n",
    "    print(r2_score(Ytest.iloc[0:1000,ii], nnpreds_unscaled[:,ii]), nms[ii])"
   ]
  },
  {
   "cell_type": "code",
   "execution_count": 28,
   "metadata": {},
   "outputs": [
    {
     "data": {
      "text/plain": [
       "<matplotlib.collections.PathCollection at 0x2d9de6ac908>"
      ]
     },
     "execution_count": 28,
     "metadata": {},
     "output_type": "execute_result"
    },
    {
     "data": {
      "image/png": "[encoded data removed]",
      "text/plain": [
       "<matplotlib.figure.Figure at 0x2d9de3d9048>"
      ]
     },
     "metadata": {},
     "output_type": "display_data"
    }
   ],
   "source": [
    "plt.scatter( nnpreds_unscaled[:,ii],Ytest.iloc[0:1000,ii]-  nnpreds_unscaled[:,ii])"
   ]
  },
  {
   "cell_type": "code",
   "execution_count": null,
   "metadata": {},
   "outputs": [],
   "source": []
  },
  {
   "cell_type": "code",
   "execution_count": null,
   "metadata": {},
   "outputs": [],
   "source": []
  },
  {
   "cell_type": "code",
   "execution_count": null,
   "metadata": {},
   "outputs": [],
   "source": []
  },
  {
   "cell_type": "code",
   "execution_count": null,
   "metadata": {},
   "outputs": [],
   "source": [
    "TestPreds = pd.DataFrame(nnpreds_unscaled, columns = Y.columns)\n",
    "TestPreds.head()"
   ]
  },
  {
   "cell_type": "code",
   "execution_count": null,
   "metadata": {},
   "outputs": [],
   "source": [
    "TestInput = pd.DataFrame(Xtest, columns = X.columns).reset_index(drop = True)\n",
    "TestInput.head()"
   ]
  },
  {
   "cell_type": "code",
   "execution_count": null,
   "metadata": {},
   "outputs": [],
   "source": [
    "# F will be the same in any quadrant\n",
    "\n",
    "TestPreds[\"F\"] = np.sqrt(TestPreds[\"Fx\"]**2 + TestPreds[\"Fy\"]**2)\n",
    "\n",
    "# trainDF[\"Fx\"] = trainDF.F * np.cos(trainDF.alpha)\n",
    "# trainDF[\"Fy\"] = trainDF.F * np.sin(trainDF.alpha)"
   ]
  },
  {
   "cell_type": "code",
   "execution_count": null,
   "metadata": {},
   "outputs": [],
   "source": [
    "TestPreds.head()"
   ]
  },
  {
   "cell_type": "code",
   "execution_count": null,
   "metadata": {},
   "outputs": [],
   "source": [
    "# calculate alpha\n",
    "def quadrant(Fx, Fy):\n",
    "    if (Fx >= 0) & (Fy >= 0):\n",
    "        q = 1\n",
    "    elif (Fx < 0) & (Fy >= 0):\n",
    "        q = 2\n",
    "    elif (Fx < 0) & (Fy < 0):\n",
    "        q = 3\n",
    "    elif (Fx >= 0) & (Fy < 0):\n",
    "        q = 4\n",
    "    else:\n",
    "        q = 999999\n",
    "    return(q)\n",
    "\n"
   ]
  },
  {
   "cell_type": "code",
   "execution_count": null,
   "metadata": {},
   "outputs": [],
   "source": [
    "TestPreds[\"quadrant\"] = [quadrant(fx, fy) for fx,fy in zip(TestPreds[\"Fx\"], TestPreds[\"Fy\"])]"
   ]
  },
  {
   "cell_type": "code",
   "execution_count": null,
   "metadata": {},
   "outputs": [],
   "source": [
    "TestPreds.head()"
   ]
  },
  {
   "cell_type": "code",
   "execution_count": null,
   "metadata": {},
   "outputs": [],
   "source": [
    "def angleCalc(Fx, Fy, q):\n",
    "    fx = np.abs(Fx)\n",
    "    fy = np.abs(Fy)\n",
    "    \n",
    "    if q == 1:\n",
    "        alpha = np.arctan(fy/fx)\n",
    "    elif q == 2:\n",
    "        alpha = np.pi - np.arctan(fy/fx)\n",
    "    elif q == 3: \n",
    "        alpha = np.pi + np.arctan(fy/fx)\n",
    "    elif q == 4:\n",
    "        alpha = (2*np.pi) - np.arctan(fy/fx)\n",
    "    return(alpha)"
   ]
  },
  {
   "cell_type": "code",
   "execution_count": null,
   "metadata": {},
   "outputs": [],
   "source": [
    "TestPreds[\"alpha\"] = [angleCalc(fx, fy, q) for fx, fy, q in zip(TestPreds[\"Fx\"], TestPreds[\"Fy\"], TestPreds[\"quadrant\"])]"
   ]
  },
  {
   "cell_type": "code",
   "execution_count": null,
   "metadata": {},
   "outputs": [],
   "source": [
    "TestPreds.head()"
   ]
  },
  {
   "cell_type": "code",
   "execution_count": null,
   "metadata": {},
   "outputs": [],
   "source": [
    "TestPredsComb = pd.concat([TestPreds, TestInput], axis = 1)"
   ]
  },
  {
   "cell_type": "code",
   "execution_count": null,
   "metadata": {},
   "outputs": [],
   "source": [
    "TestPredsComb.head()"
   ]
  },
  {
   "cell_type": "code",
   "execution_count": null,
   "metadata": {},
   "outputs": [],
   "source": [
    "TestPredsComb.rename(index=str, columns={\"F\": \"F_pred\", \"alpha\": \"alpha_pred\", \"tau\":\"tau_pred\"}, inplace=True)"
   ]
  },
  {
   "cell_type": "code",
   "execution_count": null,
   "metadata": {},
   "outputs": [],
   "source": [
    "TestPredsComb.head()"
   ]
  },
  {
   "cell_type": "code",
   "execution_count": null,
   "metadata": {},
   "outputs": [],
   "source": [
    "TestPredsComb.drop(['Fx', 'Fy', \"quadrant\"], axis=1, inplace = True)\n",
    "TestPredsComb.head()"
   ]
  },
  {
   "cell_type": "code",
   "execution_count": null,
   "metadata": {},
   "outputs": [],
   "source": [
    "cols= ['x_0', 'y_0', 'phi_0', 'theta_0', \n",
    "       'x_dot_0', 'y_dot_0', 'phi_dot_0', 'theta_dot_0', \n",
    "       'F_pred', 'alpha_pred', 'tau_pred', \n",
    "      'x_99', 'y_99', 'phi_99', 'theta_99', \n",
    "      'x_dot_99', 'y_dot_99', 'phi_dot_99', 'theta_dot_99' ]"
   ]
  },
  {
   "cell_type": "code",
   "execution_count": null,
   "metadata": {},
   "outputs": [],
   "source": [
    "tc2 = TestPredsComb.loc[:, cols]\n",
    "tc2.head()"
   ]
  },
  {
   "cell_type": "code",
   "execution_count": null,
   "metadata": {},
   "outputs": [],
   "source": [
    "tc2.rename(columns = {\"x_dot_99\": \"x_dot_99_pred\", \n",
    "                     \"y_dot_99\": \"y_dot_99_pred\", \n",
    "                     \"theta_dot_99\": \"theta_dot_99_pred\", \n",
    "                     \"phi_dot_99\": \"phi_dot_99_pred\"}, inplace = True)\n",
    "tc2.head()"
   ]
  },
  {
   "cell_type": "code",
   "execution_count": null,
   "metadata": {},
   "outputs": [],
   "source": [
    "tc2.to_csv(os.path.join(dataOutput, \"NNpreds.csv\"), index = False)"
   ]
  },
  {
   "cell_type": "code",
   "execution_count": null,
   "metadata": {},
   "outputs": [],
   "source": [
    "tc2.shape"
   ]
  },
  {
   "cell_type": "code",
   "execution_count": null,
   "metadata": {},
   "outputs": [],
   "source": [
    "Xtrain.shape"
   ]
  },
  {
   "cell_type": "code",
   "execution_count": null,
   "metadata": {},
   "outputs": [],
   "source": [
    "\n",
    "tc_sm =  tc2.sample(n=1000, random_state = 902902)\n",
    "tc_sm.to_csv(os.path.join(dataOutput, \"NNpreds_small.csv\"), index = False)"
   ]
  },
  {
   "cell_type": "code",
   "execution_count": null,
   "metadata": {},
   "outputs": [],
   "source": []
  },
  {
   "cell_type": "code",
   "execution_count": null,
   "metadata": {},
   "outputs": [],
   "source": []
  },
  {
   "cell_type": "code",
   "execution_count": null,
   "metadata": {},
   "outputs": [],
   "source": []
  },
  {
   "cell_type": "code",
   "execution_count": null,
   "metadata": {},
   "outputs": [],
   "source": []
  },
  {
   "cell_type": "code",
   "execution_count": null,
   "metadata": {},
   "outputs": [],
   "source": []
  },
  {
   "cell_type": "code",
   "execution_count": null,
   "metadata": {},
   "outputs": [],
   "source": []
  },
  {
   "cell_type": "code",
   "execution_count": null,
   "metadata": {},
   "outputs": [],
   "source": []
  },
  {
   "cell_type": "code",
   "execution_count": null,
   "metadata": {},
   "outputs": [],
   "source": []
  },
  {
   "cell_type": "code",
   "execution_count": null,
   "metadata": {},
   "outputs": [],
   "source": []
  },
  {
   "cell_type": "code",
   "execution_count": null,
   "metadata": {},
   "outputs": [],
   "source": []
  },
  {
   "cell_type": "code",
   "execution_count": null,
   "metadata": {},
   "outputs": [],
   "source": []
  },
  {
   "cell_type": "code",
   "execution_count": null,
   "metadata": {},
   "outputs": [],
   "source": []
  },
  {
   "cell_type": "code",
   "execution_count": null,
   "metadata": {},
   "outputs": [],
   "source": []
  },
  {
   "cell_type": "code",
   "execution_count": null,
   "metadata": {},
   "outputs": [],
   "source": []
  },
  {
   "cell_type": "code",
   "execution_count": null,
   "metadata": {},
   "outputs": [],
   "source": [
    "# check alpha on trainDf\n",
    "trainDF2[\"quadrant\"] = [quadrant(fx, fy) for fx,fy in zip(trainDF2[\"Fx\"], trainDF2[\"Fy\"])]\n",
    "\n",
    "trainDF2[\"alphaCalc\"] = [angleCalc(fx, fy, q) for fx, fy, q in zip(trainDF2[\"Fx\"], trainDF2[\"Fy\"], trainDF2[\"quadrant\"])]"
   ]
  },
  {
   "cell_type": "code",
   "execution_count": null,
   "metadata": {},
   "outputs": [],
   "source": [
    "trainDF2.loc[:, [\"alpha\", \"alphaCalc\"]].head()"
   ]
  },
  {
   "cell_type": "code",
   "execution_count": null,
   "metadata": {},
   "outputs": [],
   "source": []
  },
  {
   "cell_type": "code",
   "execution_count": null,
   "metadata": {},
   "outputs": [],
   "source": []
  },
  {
   "cell_type": "code",
   "execution_count": null,
   "metadata": {},
   "outputs": [],
   "source": []
  },
  {
   "cell_type": "code",
   "execution_count": null,
   "metadata": {},
   "outputs": [],
   "source": [
    "plt.close(\"all\")\n",
    "fig, axs = plt.subplots(2,int(len(Y.columns)/2), figsize=(15, 10), facecolor='w', edgecolor='k')\n",
    "fig.subplots_adjust(hspace = 0.1, wspace=0.3)\n",
    "fig.suptitle('Predicted vs. acutal ', fontsize=14, fontweight='bold')\n",
    "\n",
    "axs = axs.ravel()\n",
    "\n",
    "nms = Y.columns\n",
    "\n",
    "for ii in range(len(Y.columns)):\n",
    "    # read in image\n",
    "    \n",
    "    try:\n",
    "        axs[ii].scatter(y = Ytest.iloc[:,ii],x = nnpreds_unscaled[:,ii], s = 1, alpha = 0.1 )\n",
    "        axs[ii].set_xlabel(\"Predicted Value (un-scaled)\")\n",
    "        if(ii == 0):\n",
    "            axs[ii].set_ylabel(\"Actual Value\\n(un-scaled)\")\n",
    "        axs[ii].set_title(nms[ii])\n",
    "        axs[ii].plot(Ytest.iloc[:,ii], Ytest.iloc[:,ii], 'b')\n",
    "    except:\n",
    "        pass\n",
    "\n",
    "    \n",
    "fig.savefig(os.path.join(figDir, \"NNPreds_newData_control_bigbatch_FxFy.png\"), dpi = 120, bbox_inches='tight')"
   ]
  },
  {
   "cell_type": "code",
   "execution_count": null,
   "metadata": {},
   "outputs": [],
   "source": [
    "Ytest.head()"
   ]
  },
  {
   "cell_type": "code",
   "execution_count": null,
   "metadata": {},
   "outputs": [],
   "source": [
    "Xtest.head()"
   ]
  },
  {
   "cell_type": "code",
   "execution_count": null,
   "metadata": {},
   "outputs": [],
   "source": []
  },
  {
   "cell_type": "code",
   "execution_count": null,
   "metadata": {},
   "outputs": [],
   "source": []
  },
  {
   "cell_type": "code",
   "execution_count": null,
   "metadata": {},
   "outputs": [],
   "source": []
  },
  {
   "cell_type": "code",
   "execution_count": null,
   "metadata": {},
   "outputs": [],
   "source": []
  },
  {
   "cell_type": "code",
   "execution_count": null,
   "metadata": {},
   "outputs": [],
   "source": []
  },
  {
   "cell_type": "code",
   "execution_count": null,
   "metadata": {},
   "outputs": [],
   "source": [
    "# refref: idea - predict whole paths, rather than just the endpoint"
   ]
  },
  {
   "cell_type": "code",
   "execution_count": null,
   "metadata": {},
   "outputs": [],
   "source": [
    "plt.close(\"all\")\n",
    "fig, axs = plt.subplots(1,3, figsize=(15, 5), facecolor='w', edgecolor='k')\n",
    "fig.subplots_adjust(hspace = 0.1, wspace=0.3)\n",
    "fig.suptitle('Predicted vs. acutal ', fontsize=14, fontweight='bold')\n",
    "\n",
    "axs = axs.ravel()\n",
    "\n",
    "nms = [\"Fx\", \"Fy\", \"tau\"]\n",
    "\n",
    "\n",
    "# replace lightest colors with white\n",
    "import matplotlib.colors\n",
    "\n",
    "cmap = plt.cm.magma_r\n",
    "cmaplist = np.array([cmap(i) for i in range(cmap.N)])\n",
    "#cmaplist[0:2] = np.repeat((0.0,0.0,0.0,0.0), 2).reshape(-1,4)\n",
    "cmaplist[:,0:3] = np.divide(cmaplist[:, 0:3], 1.1)\n",
    "#cmaplist[:,0:3] = np.transpose(np.vstack([np.linspace(1, 0, 256), np.linspace(1, 0, 256), np.linspace(1, 0, 256)]))\n",
    "cmaplist[0] = (1,1,1,0.5)\n",
    "cmap = matplotlib.colors.LinearSegmentedColormap.from_list('mcm',cmaplist, cmap.N)\n",
    "\n",
    "for ii in range(3):\n",
    "    # read in image\n",
    "    \n",
    "    try:\n",
    "        axs[ii].hexbin(y = Ytest_scaled[:,ii],x = nnpreds[:,ii], gridsize = 150, cmap = cmap)\n",
    "        axs[ii].set_xlabel(\"Predicted Value (scaled)\")\n",
    "        if(ii == 0):\n",
    "            axs[ii].set_ylabel(\"Actual Value\\n(scaled)\")\n",
    "        axs[ii].set_title(nms[ii])\n",
    "        axs[ii].plot(Ytest_scaled[:,ii], Ytest_scaled[:,ii], 'grey', linewidth = 1, linestyle  = \"--\")\n",
    "    except:\n",
    "        pass\n",
    "\n",
    "fig.savefig(os.path.join(figDir, \"NNPreds_newData_control_bigbatch_FxFy_hexbin.png\"), dpi = 120, bbox_inches='tight')"
   ]
  },
  {
   "cell_type": "code",
   "execution_count": null,
   "metadata": {},
   "outputs": [],
   "source": []
  },
  {
   "cell_type": "code",
   "execution_count": null,
   "metadata": {},
   "outputs": [],
   "source": []
  },
  {
   "cell_type": "code",
   "execution_count": null,
   "metadata": {},
   "outputs": [],
   "source": []
  },
  {
   "cell_type": "code",
   "execution_count": null,
   "metadata": {},
   "outputs": [],
   "source": []
  },
  {
   "cell_type": "code",
   "execution_count": null,
   "metadata": {},
   "outputs": [],
   "source": []
  },
  {
   "cell_type": "code",
   "execution_count": null,
   "metadata": {},
   "outputs": [],
   "source": []
  },
  {
   "cell_type": "code",
   "execution_count": null,
   "metadata": {},
   "outputs": [],
   "source": []
  },
  {
   "cell_type": "code",
   "execution_count": null,
   "metadata": {},
   "outputs": [],
   "source": []
  },
  {
   "cell_type": "code",
   "execution_count": null,
   "metadata": {},
   "outputs": [],
   "source": []
  },
  {
   "cell_type": "code",
   "execution_count": null,
   "metadata": {},
   "outputs": [],
   "source": [
    "bf2[['simNum', 'timestep']] = bf2[['simNum', 'timestep']].astype(int)\n",
    "\n",
    "bf2['count'] = bf2.groupby([\"simNum\", \"timestep\"]).cumcount()\n",
    "\n",
    "bf2.head()\n",
    "\n",
    "bf2.tail()\n",
    "\n",
    "sdf = bf2.loc[(bf2[\"count\"] == 0) | (bf2[\"count\"] == 99), :]\n",
    "sdf.head()\n",
    "\n",
    "ss = sdf.pivot_table(index='simNum', columns = \"count\",aggfunc='first')\n",
    "ss.columns = [f'{i}_{j}' if j != '' else f'{i}' for i,j in ss.columns]\n",
    "ss[\"simNum\"] = ss.index\n",
    "ss.index.name = None\n",
    "ss.head()\n",
    "\n",
    "np.array(ss).shape\n",
    "\n",
    "np.vstack([np.array(ss), np.array(ss)]).shape"
   ]
  },
  {
   "cell_type": "code",
   "execution_count": null,
   "metadata": {},
   "outputs": [],
   "source": []
  }
 ],
 "metadata": {
  "kernelspec": {
   "display_name": "deeplearning",
   "language": "python",
   "name": "deeplearning"
  },
  "language_info": {
   "codemirror_mode": {
    "name": "ipython",
    "version": 3
   },
   "file_extension": ".py",
   "mimetype": "text/x-python",
   "name": "python",
   "nbconvert_exporter": "python",
   "pygments_lexer": "ipython3",
   "version": "3.6.4"
  }
 },
 "nbformat": 4,
 "nbformat_minor": 2
}
