{
 "cells": [
  {
   "cell_type": "code",
   "execution_count": 1,
   "metadata": {},
   "outputs": [
    {
     "name": "stdout",
     "output_type": "stream",
     "text": [
      "3.6.1 |Anaconda custom (64-bit)| (default, May 11 2017, 13:04:09) \n",
      "[GCC 4.2.1 Compatible Apple LLVM 6.0 (clang-600.0.57)] \n",
      "\n",
      "last run on 2018-02-21 09:41:56.658655\n"
     ]
    }
   ],
   "source": [
    "import numpy as np\n",
    "from matplotlib import pyplot as plt\n",
    "%matplotlib inline\n",
    "\n",
    "import os\n",
    "import pandas as pd\n",
    "import time\n",
    "from datetime import datetime\n",
    "import sys\n",
    "import csv\n",
    "import seaborn as sns\n",
    "import scipy.io\n",
    "\n",
    "print(sys.version, \"\\n\")\n",
    "\n",
    "now = datetime.now()\n",
    "print(\"last run on \" + str(now))"
   ]
  },
  {
   "cell_type": "code",
   "execution_count": 2,
   "metadata": {
    "collapsed": true
   },
   "outputs": [],
   "source": [
    "# define directories\n",
    "baseDir = os.getcwd()\n",
    "dataDir = '/Users/cswitzer/Dropbox/mothMachineLearning_dataAndFigs/Data/'\n",
    "figDir = '/Users/cswitzer/Dropbox/mothMachineLearning_dataAndFigs/Figs/'"
   ]
  },
  {
   "cell_type": "code",
   "execution_count": 3,
   "metadata": {
    "collapsed": true
   },
   "outputs": [],
   "source": [
    "# read in data\n",
    "Qmat = scipy.io.loadmat(os.path.join(dataDir, \"Qstore_1_am_con.mat\"))\n",
    "Vmat = scipy.io.loadmat(os.path.join(dataDir, \"ValSp3_1_am_con.mat\"))"
   ]
  },
  {
   "cell_type": "code",
   "execution_count": 4,
   "metadata": {},
   "outputs": [
    {
     "data": {
      "text/plain": [
       "dict_keys(['__header__', '__version__', '__globals__', 'Qstore'])"
      ]
     },
     "execution_count": 4,
     "metadata": {},
     "output_type": "execute_result"
    }
   ],
   "source": [
    "Qmat.keys()\n"
   ]
  },
  {
   "cell_type": "code",
   "execution_count": 5,
   "metadata": {},
   "outputs": [
    {
     "data": {
      "text/plain": [
       "dict_keys(['__header__', '__version__', '__globals__', 'ValSp3'])"
      ]
     },
     "execution_count": 5,
     "metadata": {},
     "output_type": "execute_result"
    }
   ],
   "source": [
    "Vmat.keys()"
   ]
  },
  {
   "cell_type": "code",
   "execution_count": 6,
   "metadata": {},
   "outputs": [
    {
     "name": "stdout",
     "output_type": "stream",
     "text": [
      "(10000, 20001)\n"
     ]
    }
   ],
   "source": [
    "Qdta = Qmat[\"Qstore\"]\n",
    "dd = pd.DataFrame(Qdta)\n",
    "dd['time'] = np.arange(0, 2, 2.0002e-04)\n",
    "cols = dd.columns.tolist()\n",
    "dd = dd[[cols[-1]] + cols[:-1]] \n",
    "print(dd.shape)"
   ]
  },
  {
   "cell_type": "code",
   "execution_count": 7,
   "metadata": {
    "collapsed": true
   },
   "outputs": [],
   "source": [
    "dd['timestep'] = (np.floor(np.arange(0, 100, step = 0.01))).astype(int)\n",
    "cols = dd.columns.tolist()\n",
    "dd = dd[[cols[-1]] + cols[:-1]] "
   ]
  },
  {
   "cell_type": "code",
   "execution_count": 8,
   "metadata": {},
   "outputs": [
    {
     "data": {
      "text/html": [
       "<div>\n",
       "<style>\n",
       "    .dataframe thead tr:only-child th {\n",
       "        text-align: right;\n",
       "    }\n",
       "\n",
       "    .dataframe thead th {\n",
       "        text-align: left;\n",
       "    }\n",
       "\n",
       "    .dataframe tbody tr th {\n",
       "        vertical-align: top;\n",
       "    }\n",
       "</style>\n",
       "<table border=\"1\" class=\"dataframe\">\n",
       "  <thead>\n",
       "    <tr style=\"text-align: right;\">\n",
       "      <th></th>\n",
       "      <th>timestep</th>\n",
       "      <th>time</th>\n",
       "      <th>0</th>\n",
       "      <th>1</th>\n",
       "      <th>2</th>\n",
       "      <th>3</th>\n",
       "      <th>4</th>\n",
       "      <th>5</th>\n",
       "      <th>6</th>\n",
       "      <th>7</th>\n",
       "      <th>...</th>\n",
       "      <th>19990</th>\n",
       "      <th>19991</th>\n",
       "      <th>19992</th>\n",
       "      <th>19993</th>\n",
       "      <th>19994</th>\n",
       "      <th>19995</th>\n",
       "      <th>19996</th>\n",
       "      <th>19997</th>\n",
       "      <th>19998</th>\n",
       "      <th>19999</th>\n",
       "    </tr>\n",
       "  </thead>\n",
       "  <tbody>\n",
       "    <tr>\n",
       "      <th>0</th>\n",
       "      <td>0</td>\n",
       "      <td>0.0000</td>\n",
       "      <td>0.000000</td>\n",
       "      <td>0.000000</td>\n",
       "      <td>0.785398</td>\n",
       "      <td>3.926991</td>\n",
       "      <td>0.000100</td>\n",
       "      <td>0.000100</td>\n",
       "      <td>0.000000</td>\n",
       "      <td>0.000000</td>\n",
       "      <td>...</td>\n",
       "      <td>0.000000</td>\n",
       "      <td>0.000000</td>\n",
       "      <td>0.000000e+00</td>\n",
       "      <td>0.000000</td>\n",
       "      <td>0.785398</td>\n",
       "      <td>3.926991</td>\n",
       "      <td>0.000100</td>\n",
       "      <td>0.000100</td>\n",
       "      <td>0.000000</td>\n",
       "      <td>0.000000</td>\n",
       "    </tr>\n",
       "    <tr>\n",
       "      <th>1</th>\n",
       "      <td>0</td>\n",
       "      <td>0.0002</td>\n",
       "      <td>0.000103</td>\n",
       "      <td>0.000041</td>\n",
       "      <td>0.785405</td>\n",
       "      <td>3.926991</td>\n",
       "      <td>1.003792</td>\n",
       "      <td>0.422649</td>\n",
       "      <td>0.048971</td>\n",
       "      <td>0.000594</td>\n",
       "      <td>...</td>\n",
       "      <td>0.012709</td>\n",
       "      <td>0.027796</td>\n",
       "      <td>4.027603e-07</td>\n",
       "      <td>-0.000124</td>\n",
       "      <td>0.785407</td>\n",
       "      <td>3.926990</td>\n",
       "      <td>-0.011122</td>\n",
       "      <td>-1.211176</td>\n",
       "      <td>0.066204</td>\n",
       "      <td>-0.005158</td>\n",
       "    </tr>\n",
       "    <tr>\n",
       "      <th>2</th>\n",
       "      <td>0</td>\n",
       "      <td>0.0004</td>\n",
       "      <td>0.000405</td>\n",
       "      <td>0.000172</td>\n",
       "      <td>0.785416</td>\n",
       "      <td>3.926991</td>\n",
       "      <td>1.983931</td>\n",
       "      <td>0.868754</td>\n",
       "      <td>0.057278</td>\n",
       "      <td>0.003731</td>\n",
       "      <td>...</td>\n",
       "      <td>0.032963</td>\n",
       "      <td>0.054989</td>\n",
       "      <td>-5.700732e-06</td>\n",
       "      <td>-0.000489</td>\n",
       "      <td>0.785423</td>\n",
       "      <td>3.926989</td>\n",
       "      <td>-0.049237</td>\n",
       "      <td>-2.395544</td>\n",
       "      <td>0.085917</td>\n",
       "      <td>-0.007513</td>\n",
       "    </tr>\n",
       "    <tr>\n",
       "      <th>3</th>\n",
       "      <td>0</td>\n",
       "      <td>0.0006</td>\n",
       "      <td>0.000906</td>\n",
       "      <td>0.000393</td>\n",
       "      <td>0.785429</td>\n",
       "      <td>3.926992</td>\n",
       "      <td>2.963612</td>\n",
       "      <td>1.315319</td>\n",
       "      <td>0.064795</td>\n",
       "      <td>0.006861</td>\n",
       "      <td>...</td>\n",
       "      <td>0.053276</td>\n",
       "      <td>0.082060</td>\n",
       "      <td>-1.955832e-05</td>\n",
       "      <td>-0.001092</td>\n",
       "      <td>0.785442</td>\n",
       "      <td>3.926987</td>\n",
       "      <td>-0.087493</td>\n",
       "      <td>-3.579753</td>\n",
       "      <td>0.105314</td>\n",
       "      <td>-0.010017</td>\n",
       "    </tr>\n",
       "    <tr>\n",
       "      <th>4</th>\n",
       "      <td>0</td>\n",
       "      <td>0.0008</td>\n",
       "      <td>0.001603</td>\n",
       "      <td>0.000703</td>\n",
       "      <td>0.785442</td>\n",
       "      <td>3.926994</td>\n",
       "      <td>3.943133</td>\n",
       "      <td>1.762049</td>\n",
       "      <td>0.072037</td>\n",
       "      <td>0.009950</td>\n",
       "      <td>...</td>\n",
       "      <td>0.073520</td>\n",
       "      <td>0.109017</td>\n",
       "      <td>-4.117008e-05</td>\n",
       "      <td>-0.001935</td>\n",
       "      <td>0.785465</td>\n",
       "      <td>3.926985</td>\n",
       "      <td>-0.126621</td>\n",
       "      <td>-4.763069</td>\n",
       "      <td>0.123132</td>\n",
       "      <td>-0.012591</td>\n",
       "    </tr>\n",
       "  </tbody>\n",
       "</table>\n",
       "<p>5 rows × 20002 columns</p>\n",
       "</div>"
      ],
      "text/plain": [
       "   timestep    time         0         1         2         3         4  \\\n",
       "0         0  0.0000  0.000000  0.000000  0.785398  3.926991  0.000100   \n",
       "1         0  0.0002  0.000103  0.000041  0.785405  3.926991  1.003792   \n",
       "2         0  0.0004  0.000405  0.000172  0.785416  3.926991  1.983931   \n",
       "3         0  0.0006  0.000906  0.000393  0.785429  3.926992  2.963612   \n",
       "4         0  0.0008  0.001603  0.000703  0.785442  3.926994  3.943133   \n",
       "\n",
       "          5         6         7    ...        19990     19991         19992  \\\n",
       "0  0.000100  0.000000  0.000000    ...     0.000000  0.000000  0.000000e+00   \n",
       "1  0.422649  0.048971  0.000594    ...     0.012709  0.027796  4.027603e-07   \n",
       "2  0.868754  0.057278  0.003731    ...     0.032963  0.054989 -5.700732e-06   \n",
       "3  1.315319  0.064795  0.006861    ...     0.053276  0.082060 -1.955832e-05   \n",
       "4  1.762049  0.072037  0.009950    ...     0.073520  0.109017 -4.117008e-05   \n",
       "\n",
       "      19993     19994     19995     19996     19997     19998     19999  \n",
       "0  0.000000  0.785398  3.926991  0.000100  0.000100  0.000000  0.000000  \n",
       "1 -0.000124  0.785407  3.926990 -0.011122 -1.211176  0.066204 -0.005158  \n",
       "2 -0.000489  0.785423  3.926989 -0.049237 -2.395544  0.085917 -0.007513  \n",
       "3 -0.001092  0.785442  3.926987 -0.087493 -3.579753  0.105314 -0.010017  \n",
       "4 -0.001935  0.785465  3.926985 -0.126621 -4.763069  0.123132 -0.012591  \n",
       "\n",
       "[5 rows x 20002 columns]"
      ]
     },
     "execution_count": 8,
     "metadata": {},
     "output_type": "execute_result"
    }
   ],
   "source": [
    "dd.head()"
   ]
  },
  {
   "cell_type": "code",
   "execution_count": 9,
   "metadata": {
    "collapsed": true
   },
   "outputs": [],
   "source": [
    "#%qtconsole"
   ]
  },
  {
   "cell_type": "code",
   "execution_count": 10,
   "metadata": {},
   "outputs": [
    {
     "data": {
      "text/plain": [
       "(250000, 800)"
      ]
     },
     "execution_count": 10,
     "metadata": {},
     "output_type": "execute_result"
    }
   ],
   "source": [
    "cc = np.zeros(Qdta.shape).reshape((-1, 100*8))\n",
    "cc.shape"
   ]
  },
  {
   "cell_type": "code",
   "execution_count": 11,
   "metadata": {},
   "outputs": [
    {
     "name": "stdout",
     "output_type": "stream",
     "text": [
      "2500 of 250000\n",
      "5000 of 250000\n",
      "7500 of 250000\n",
      "10000 of 250000\n",
      "12500 of 250000\n",
      "15000 of 250000\n",
      "17500 of 250000\n",
      "20000 of 250000\n",
      "22500 of 250000\n",
      "25000 of 250000\n",
      "27500 of 250000\n",
      "30000 of 250000\n",
      "32500 of 250000\n",
      "35000 of 250000\n",
      "37500 of 250000\n",
      "40000 of 250000\n",
      "42500 of 250000\n",
      "45000 of 250000\n",
      "47500 of 250000\n",
      "50000 of 250000\n",
      "52500 of 250000\n",
      "55000 of 250000\n",
      "57500 of 250000\n",
      "60000 of 250000\n",
      "62500 of 250000\n",
      "65000 of 250000\n",
      "67500 of 250000\n",
      "70000 of 250000\n",
      "72500 of 250000\n",
      "75000 of 250000\n",
      "77500 of 250000\n",
      "80000 of 250000\n",
      "82500 of 250000\n",
      "85000 of 250000\n",
      "87500 of 250000\n",
      "90000 of 250000\n",
      "92500 of 250000\n",
      "95000 of 250000\n",
      "97500 of 250000\n",
      "100000 of 250000\n",
      "102500 of 250000\n",
      "105000 of 250000\n",
      "107500 of 250000\n",
      "110000 of 250000\n",
      "112500 of 250000\n",
      "115000 of 250000\n",
      "117500 of 250000\n",
      "120000 of 250000\n",
      "122500 of 250000\n",
      "125000 of 250000\n",
      "127500 of 250000\n",
      "130000 of 250000\n",
      "132500 of 250000\n",
      "135000 of 250000\n",
      "137500 of 250000\n",
      "140000 of 250000\n",
      "142500 of 250000\n",
      "145000 of 250000\n",
      "147500 of 250000\n",
      "150000 of 250000\n",
      "152500 of 250000\n",
      "155000 of 250000\n",
      "157500 of 250000\n",
      "160000 of 250000\n",
      "162500 of 250000\n",
      "165000 of 250000\n",
      "167500 of 250000\n",
      "170000 of 250000\n",
      "172500 of 250000\n",
      "175000 of 250000\n",
      "177500 of 250000\n",
      "180000 of 250000\n",
      "182500 of 250000\n",
      "185000 of 250000\n",
      "187500 of 250000\n",
      "190000 of 250000\n",
      "192500 of 250000\n",
      "195000 of 250000\n",
      "197500 of 250000\n",
      "200000 of 250000\n",
      "202500 of 250000\n",
      "205000 of 250000\n",
      "207500 of 250000\n",
      "210000 of 250000\n",
      "212500 of 250000\n",
      "215000 of 250000\n",
      "217500 of 250000\n",
      "220000 of 250000\n",
      "222500 of 250000\n",
      "225000 of 250000\n",
      "227500 of 250000\n",
      "230000 of 250000\n",
      "232500 of 250000\n",
      "235000 of 250000\n",
      "237500 of 250000\n",
      "240000 of 250000\n",
      "242500 of 250000\n",
      "245000 of 250000\n",
      "247500 of 250000\n",
      "250000 of 250000\n",
      "201.0 Seconds\n"
     ]
    }
   ],
   "source": [
    "# another possible way to rearrange the data\n",
    "stt = time.time()\n",
    "\n",
    "ss = 8 # number of columns to repeat\n",
    "cctr = 0 # output row counter\n",
    "\n",
    "\n",
    "rctr = 0 # row counter for input data\n",
    "    \n",
    "while rctr < Qdta.shape[0]:\n",
    "    \n",
    "    ii = 0 # column counter for input data\n",
    "    while ii < Qdta.shape[1]:\n",
    "        a = np.array(dd.iloc[rctr:(rctr + 100), ii + 2:ii + 2 + ss])\n",
    "        bb = np.array(np.zeros(a.shape)).reshape([1, -1])\n",
    "        bb.shape\n",
    "\n",
    "        for kk in np.arange(0, a.shape[0], step = 1):\n",
    "            bb[0, kk*ss:(kk+1)*ss] = a[kk, 0:ss]  \n",
    "\n",
    "        ii += ss\n",
    "    \n",
    "        cc[cctr, :] = bb\n",
    "        cctr += 1\n",
    "    # update row counter\n",
    "    print(str(cctr) + \" of \" + str(cc.shape[0]))\n",
    "    rctr += 100\n",
    "\n",
    "    \n",
    "print(str(np.round(time.time() - stt)) + \" Seconds\")"
   ]
  },
  {
   "cell_type": "code",
   "execution_count": null,
   "metadata": {},
   "outputs": [],
   "source": [
    "plt.figure(figsize=(20,100))\n",
    "plt.imshow(cc, cmap='hot', interpolation='nearest')\n",
    "\n",
    "plt.show()"
   ]
  },
  {
   "cell_type": "code",
   "execution_count": 12,
   "metadata": {},
   "outputs": [
    {
     "data": {
      "image/png": "[encoded data removed]",
      "text/plain": [
       "<matplotlib.figure.Figure at 0x11cb28d68>"
      ]
     },
     "metadata": {},
     "output_type": "display_data"
    }
   ],
   "source": [
    "# double check\n",
    "for ii in np.arange(5000, 10000):\n",
    "    plt.plot(cc[ii, np.arange(0, 800, step = 8)], cc[ii, np.arange(1, 800, step = 8)])"
   ]
  },
  {
   "cell_type": "code",
   "execution_count": 13,
   "metadata": {
    "collapsed": true
   },
   "outputs": [],
   "source": [
    "# make data frame and name columns\n",
    "tsDf = pd.DataFrame(cc)"
   ]
  },
  {
   "cell_type": "code",
   "execution_count": 14,
   "metadata": {},
   "outputs": [
    {
     "data": {
      "text/html": [
       "<div>\n",
       "<style>\n",
       "    .dataframe thead tr:only-child th {\n",
       "        text-align: right;\n",
       "    }\n",
       "\n",
       "    .dataframe thead th {\n",
       "        text-align: left;\n",
       "    }\n",
       "\n",
       "    .dataframe tbody tr th {\n",
       "        vertical-align: top;\n",
       "    }\n",
       "</style>\n",
       "<table border=\"1\" class=\"dataframe\">\n",
       "  <thead>\n",
       "    <tr style=\"text-align: right;\">\n",
       "      <th></th>\n",
       "      <th>0</th>\n",
       "      <th>1</th>\n",
       "      <th>2</th>\n",
       "      <th>3</th>\n",
       "      <th>4</th>\n",
       "      <th>5</th>\n",
       "      <th>6</th>\n",
       "      <th>7</th>\n",
       "      <th>8</th>\n",
       "      <th>9</th>\n",
       "      <th>...</th>\n",
       "      <th>791</th>\n",
       "      <th>792</th>\n",
       "      <th>793</th>\n",
       "      <th>794</th>\n",
       "      <th>795</th>\n",
       "      <th>796</th>\n",
       "      <th>797</th>\n",
       "      <th>798</th>\n",
       "      <th>799</th>\n",
       "      <th>timestep</th>\n",
       "    </tr>\n",
       "  </thead>\n",
       "  <tbody>\n",
       "    <tr>\n",
       "      <th>0</th>\n",
       "      <td>0.0</td>\n",
       "      <td>0.0</td>\n",
       "      <td>0.785398</td>\n",
       "      <td>3.926991</td>\n",
       "      <td>0.0001</td>\n",
       "      <td>0.0001</td>\n",
       "      <td>0.0</td>\n",
       "      <td>0.0</td>\n",
       "      <td>0.000103</td>\n",
       "      <td>0.000041</td>\n",
       "      <td>...</td>\n",
       "      <td>0.105628</td>\n",
       "      <td>0.968817</td>\n",
       "      <td>0.443503</td>\n",
       "      <td>0.792317</td>\n",
       "      <td>3.928647</td>\n",
       "      <td>96.741614</td>\n",
       "      <td>44.518128</td>\n",
       "      <td>0.579362</td>\n",
       "      <td>0.105284</td>\n",
       "      <td>0</td>\n",
       "    </tr>\n",
       "    <tr>\n",
       "      <th>1</th>\n",
       "      <td>0.0</td>\n",
       "      <td>0.0</td>\n",
       "      <td>0.785398</td>\n",
       "      <td>3.926991</td>\n",
       "      <td>0.0001</td>\n",
       "      <td>0.0001</td>\n",
       "      <td>0.0</td>\n",
       "      <td>0.0</td>\n",
       "      <td>-0.000117</td>\n",
       "      <td>0.000197</td>\n",
       "      <td>...</td>\n",
       "      <td>0.978434</td>\n",
       "      <td>-1.141089</td>\n",
       "      <td>1.901742</td>\n",
       "      <td>0.829301</td>\n",
       "      <td>3.942507</td>\n",
       "      <td>-115.911668</td>\n",
       "      <td>189.558075</td>\n",
       "      <td>3.781962</td>\n",
       "      <td>0.970563</td>\n",
       "      <td>0</td>\n",
       "    </tr>\n",
       "    <tr>\n",
       "      <th>2</th>\n",
       "      <td>0.0</td>\n",
       "      <td>0.0</td>\n",
       "      <td>0.785398</td>\n",
       "      <td>3.926991</td>\n",
       "      <td>0.0001</td>\n",
       "      <td>0.0001</td>\n",
       "      <td>0.0</td>\n",
       "      <td>0.0</td>\n",
       "      <td>-0.000020</td>\n",
       "      <td>0.000046</td>\n",
       "      <td>...</td>\n",
       "      <td>1.081065</td>\n",
       "      <td>-0.221566</td>\n",
       "      <td>0.473263</td>\n",
       "      <td>0.792738</td>\n",
       "      <td>3.938398</td>\n",
       "      <td>-22.267928</td>\n",
       "      <td>47.326604</td>\n",
       "      <td>0.668543</td>\n",
       "      <td>1.090916</td>\n",
       "      <td>0</td>\n",
       "    </tr>\n",
       "    <tr>\n",
       "      <th>3</th>\n",
       "      <td>0.0</td>\n",
       "      <td>0.0</td>\n",
       "      <td>0.785398</td>\n",
       "      <td>3.926991</td>\n",
       "      <td>0.0001</td>\n",
       "      <td>0.0001</td>\n",
       "      <td>0.0</td>\n",
       "      <td>0.0</td>\n",
       "      <td>-0.000249</td>\n",
       "      <td>0.000625</td>\n",
       "      <td>...</td>\n",
       "      <td>3.876513</td>\n",
       "      <td>-2.419618</td>\n",
       "      <td>6.005867</td>\n",
       "      <td>0.839302</td>\n",
       "      <td>3.976986</td>\n",
       "      <td>-248.123231</td>\n",
       "      <td>598.452247</td>\n",
       "      <td>4.329931</td>\n",
       "      <td>3.878763</td>\n",
       "      <td>0</td>\n",
       "    </tr>\n",
       "    <tr>\n",
       "      <th>4</th>\n",
       "      <td>0.0</td>\n",
       "      <td>0.0</td>\n",
       "      <td>0.785398</td>\n",
       "      <td>3.926991</td>\n",
       "      <td>0.0001</td>\n",
       "      <td>0.0001</td>\n",
       "      <td>0.0</td>\n",
       "      <td>0.0</td>\n",
       "      <td>-0.000201</td>\n",
       "      <td>-0.000035</td>\n",
       "      <td>...</td>\n",
       "      <td>2.034838</td>\n",
       "      <td>-1.969747</td>\n",
       "      <td>-0.331231</td>\n",
       "      <td>0.788964</td>\n",
       "      <td>3.947531</td>\n",
       "      <td>-196.920202</td>\n",
       "      <td>-33.251375</td>\n",
       "      <td>0.378515</td>\n",
       "      <td>2.055139</td>\n",
       "      <td>0</td>\n",
       "    </tr>\n",
       "  </tbody>\n",
       "</table>\n",
       "<p>5 rows × 801 columns</p>\n",
       "</div>"
      ],
      "text/plain": [
       "     0    1         2         3       4       5    6    7         8         9  \\\n",
       "0  0.0  0.0  0.785398  3.926991  0.0001  0.0001  0.0  0.0  0.000103  0.000041   \n",
       "1  0.0  0.0  0.785398  3.926991  0.0001  0.0001  0.0  0.0 -0.000117  0.000197   \n",
       "2  0.0  0.0  0.785398  3.926991  0.0001  0.0001  0.0  0.0 -0.000020  0.000046   \n",
       "3  0.0  0.0  0.785398  3.926991  0.0001  0.0001  0.0  0.0 -0.000249  0.000625   \n",
       "4  0.0  0.0  0.785398  3.926991  0.0001  0.0001  0.0  0.0 -0.000201 -0.000035   \n",
       "\n",
       "     ...          791       792       793       794       795         796  \\\n",
       "0    ...     0.105628  0.968817  0.443503  0.792317  3.928647   96.741614   \n",
       "1    ...     0.978434 -1.141089  1.901742  0.829301  3.942507 -115.911668   \n",
       "2    ...     1.081065 -0.221566  0.473263  0.792738  3.938398  -22.267928   \n",
       "3    ...     3.876513 -2.419618  6.005867  0.839302  3.976986 -248.123231   \n",
       "4    ...     2.034838 -1.969747 -0.331231  0.788964  3.947531 -196.920202   \n",
       "\n",
       "          797       798       799  timestep  \n",
       "0   44.518128  0.579362  0.105284         0  \n",
       "1  189.558075  3.781962  0.970563         0  \n",
       "2   47.326604  0.668543  1.090916         0  \n",
       "3  598.452247  4.329931  3.878763         0  \n",
       "4  -33.251375  0.378515  2.055139         0  \n",
       "\n",
       "[5 rows x 801 columns]"
      ]
     },
     "execution_count": 14,
     "metadata": {},
     "output_type": "execute_result"
    }
   ],
   "source": [
    "tsDf[\"timestep\"] = np.floor(np.arange(0,tsDf.shape[0]) / 2500).astype(int)\n",
    "tsDf.head()"
   ]
  },
  {
   "cell_type": "code",
   "execution_count": 15,
   "metadata": {
    "collapsed": true
   },
   "outputs": [],
   "source": [
    "new_cols = [\"x\", \"y\", \"theta\", \"phi\", \"x_dot\", \"y_dot\", \"theta_dot\", \"phi_dot\"]"
   ]
  },
  {
   "cell_type": "code",
   "execution_count": 16,
   "metadata": {
    "collapsed": true
   },
   "outputs": [],
   "source": [
    "jj = 0\n",
    "hh = []\n",
    "for jj in range(100):\n",
    "    hh.append([new_cols[ii] +\"_\" +str(jj) for ii in range(8)])\n",
    "\n",
    "allCols = np.concatenate(hh)"
   ]
  },
  {
   "cell_type": "code",
   "execution_count": 17,
   "metadata": {
    "collapsed": true
   },
   "outputs": [],
   "source": [
    "tsDf.columns = np.append(allCols, \"timestep\")"
   ]
  },
  {
   "cell_type": "code",
   "execution_count": 18,
   "metadata": {},
   "outputs": [
    {
     "data": {
      "text/html": [
       "<div>\n",
       "<style>\n",
       "    .dataframe thead tr:only-child th {\n",
       "        text-align: right;\n",
       "    }\n",
       "\n",
       "    .dataframe thead th {\n",
       "        text-align: left;\n",
       "    }\n",
       "\n",
       "    .dataframe tbody tr th {\n",
       "        vertical-align: top;\n",
       "    }\n",
       "</style>\n",
       "<table border=\"1\" class=\"dataframe\">\n",
       "  <thead>\n",
       "    <tr style=\"text-align: right;\">\n",
       "      <th></th>\n",
       "      <th>x_0</th>\n",
       "      <th>y_0</th>\n",
       "      <th>theta_0</th>\n",
       "      <th>phi_0</th>\n",
       "      <th>x_dot_0</th>\n",
       "      <th>y_dot_0</th>\n",
       "      <th>theta_dot_0</th>\n",
       "      <th>phi_dot_0</th>\n",
       "      <th>x_1</th>\n",
       "      <th>y_1</th>\n",
       "      <th>...</th>\n",
       "      <th>phi_dot_98</th>\n",
       "      <th>x_99</th>\n",
       "      <th>y_99</th>\n",
       "      <th>theta_99</th>\n",
       "      <th>phi_99</th>\n",
       "      <th>x_dot_99</th>\n",
       "      <th>y_dot_99</th>\n",
       "      <th>theta_dot_99</th>\n",
       "      <th>phi_dot_99</th>\n",
       "      <th>timestep</th>\n",
       "    </tr>\n",
       "  </thead>\n",
       "  <tbody>\n",
       "    <tr>\n",
       "      <th>0</th>\n",
       "      <td>0.0</td>\n",
       "      <td>0.0</td>\n",
       "      <td>0.785398</td>\n",
       "      <td>3.926991</td>\n",
       "      <td>0.0001</td>\n",
       "      <td>0.0001</td>\n",
       "      <td>0.0</td>\n",
       "      <td>0.0</td>\n",
       "      <td>0.000103</td>\n",
       "      <td>0.000041</td>\n",
       "      <td>...</td>\n",
       "      <td>0.105628</td>\n",
       "      <td>0.968817</td>\n",
       "      <td>0.443503</td>\n",
       "      <td>0.792317</td>\n",
       "      <td>3.928647</td>\n",
       "      <td>96.741614</td>\n",
       "      <td>44.518128</td>\n",
       "      <td>0.579362</td>\n",
       "      <td>0.105284</td>\n",
       "      <td>0</td>\n",
       "    </tr>\n",
       "    <tr>\n",
       "      <th>1</th>\n",
       "      <td>0.0</td>\n",
       "      <td>0.0</td>\n",
       "      <td>0.785398</td>\n",
       "      <td>3.926991</td>\n",
       "      <td>0.0001</td>\n",
       "      <td>0.0001</td>\n",
       "      <td>0.0</td>\n",
       "      <td>0.0</td>\n",
       "      <td>-0.000117</td>\n",
       "      <td>0.000197</td>\n",
       "      <td>...</td>\n",
       "      <td>0.978434</td>\n",
       "      <td>-1.141089</td>\n",
       "      <td>1.901742</td>\n",
       "      <td>0.829301</td>\n",
       "      <td>3.942507</td>\n",
       "      <td>-115.911668</td>\n",
       "      <td>189.558075</td>\n",
       "      <td>3.781962</td>\n",
       "      <td>0.970563</td>\n",
       "      <td>0</td>\n",
       "    </tr>\n",
       "    <tr>\n",
       "      <th>2</th>\n",
       "      <td>0.0</td>\n",
       "      <td>0.0</td>\n",
       "      <td>0.785398</td>\n",
       "      <td>3.926991</td>\n",
       "      <td>0.0001</td>\n",
       "      <td>0.0001</td>\n",
       "      <td>0.0</td>\n",
       "      <td>0.0</td>\n",
       "      <td>-0.000020</td>\n",
       "      <td>0.000046</td>\n",
       "      <td>...</td>\n",
       "      <td>1.081065</td>\n",
       "      <td>-0.221566</td>\n",
       "      <td>0.473263</td>\n",
       "      <td>0.792738</td>\n",
       "      <td>3.938398</td>\n",
       "      <td>-22.267928</td>\n",
       "      <td>47.326604</td>\n",
       "      <td>0.668543</td>\n",
       "      <td>1.090916</td>\n",
       "      <td>0</td>\n",
       "    </tr>\n",
       "    <tr>\n",
       "      <th>3</th>\n",
       "      <td>0.0</td>\n",
       "      <td>0.0</td>\n",
       "      <td>0.785398</td>\n",
       "      <td>3.926991</td>\n",
       "      <td>0.0001</td>\n",
       "      <td>0.0001</td>\n",
       "      <td>0.0</td>\n",
       "      <td>0.0</td>\n",
       "      <td>-0.000249</td>\n",
       "      <td>0.000625</td>\n",
       "      <td>...</td>\n",
       "      <td>3.876513</td>\n",
       "      <td>-2.419618</td>\n",
       "      <td>6.005867</td>\n",
       "      <td>0.839302</td>\n",
       "      <td>3.976986</td>\n",
       "      <td>-248.123231</td>\n",
       "      <td>598.452247</td>\n",
       "      <td>4.329931</td>\n",
       "      <td>3.878763</td>\n",
       "      <td>0</td>\n",
       "    </tr>\n",
       "    <tr>\n",
       "      <th>4</th>\n",
       "      <td>0.0</td>\n",
       "      <td>0.0</td>\n",
       "      <td>0.785398</td>\n",
       "      <td>3.926991</td>\n",
       "      <td>0.0001</td>\n",
       "      <td>0.0001</td>\n",
       "      <td>0.0</td>\n",
       "      <td>0.0</td>\n",
       "      <td>-0.000201</td>\n",
       "      <td>-0.000035</td>\n",
       "      <td>...</td>\n",
       "      <td>2.034838</td>\n",
       "      <td>-1.969747</td>\n",
       "      <td>-0.331231</td>\n",
       "      <td>0.788964</td>\n",
       "      <td>3.947531</td>\n",
       "      <td>-196.920202</td>\n",
       "      <td>-33.251375</td>\n",
       "      <td>0.378515</td>\n",
       "      <td>2.055139</td>\n",
       "      <td>0</td>\n",
       "    </tr>\n",
       "  </tbody>\n",
       "</table>\n",
       "<p>5 rows × 801 columns</p>\n",
       "</div>"
      ],
      "text/plain": [
       "   x_0  y_0   theta_0     phi_0  x_dot_0  y_dot_0  theta_dot_0  phi_dot_0  \\\n",
       "0  0.0  0.0  0.785398  3.926991   0.0001   0.0001          0.0        0.0   \n",
       "1  0.0  0.0  0.785398  3.926991   0.0001   0.0001          0.0        0.0   \n",
       "2  0.0  0.0  0.785398  3.926991   0.0001   0.0001          0.0        0.0   \n",
       "3  0.0  0.0  0.785398  3.926991   0.0001   0.0001          0.0        0.0   \n",
       "4  0.0  0.0  0.785398  3.926991   0.0001   0.0001          0.0        0.0   \n",
       "\n",
       "        x_1       y_1    ...     phi_dot_98      x_99      y_99  theta_99  \\\n",
       "0  0.000103  0.000041    ...       0.105628  0.968817  0.443503  0.792317   \n",
       "1 -0.000117  0.000197    ...       0.978434 -1.141089  1.901742  0.829301   \n",
       "2 -0.000020  0.000046    ...       1.081065 -0.221566  0.473263  0.792738   \n",
       "3 -0.000249  0.000625    ...       3.876513 -2.419618  6.005867  0.839302   \n",
       "4 -0.000201 -0.000035    ...       2.034838 -1.969747 -0.331231  0.788964   \n",
       "\n",
       "     phi_99    x_dot_99    y_dot_99  theta_dot_99  phi_dot_99  timestep  \n",
       "0  3.928647   96.741614   44.518128      0.579362    0.105284         0  \n",
       "1  3.942507 -115.911668  189.558075      3.781962    0.970563         0  \n",
       "2  3.938398  -22.267928   47.326604      0.668543    1.090916         0  \n",
       "3  3.976986 -248.123231  598.452247      4.329931    3.878763         0  \n",
       "4  3.947531 -196.920202  -33.251375      0.378515    2.055139         0  \n",
       "\n",
       "[5 rows x 801 columns]"
      ]
     },
     "execution_count": 18,
     "metadata": {},
     "output_type": "execute_result"
    }
   ],
   "source": [
    "tsDf.head()"
   ]
  },
  {
   "cell_type": "code",
   "execution_count": 19,
   "metadata": {},
   "outputs": [
    {
     "data": {
      "text/plain": [
       "(250000, 14)"
      ]
     },
     "execution_count": 19,
     "metadata": {},
     "output_type": "execute_result"
    }
   ],
   "source": [
    "forceAngle = np.transpose(Vmat[\"ValSp3\"])\n",
    "fa = forceAngle.reshape((250000, 12), order = \"C\" )\n",
    "fa2=  pd.DataFrame(fa)\n",
    "fa2.columns = np.append([new_cols[ii] +\"_\" +str(99) for ii in range(8)], [\"F\", \"alpha\", \"tao\", \"cost\"])\n",
    "fa2[\"Fx\"] = fa2.F * np.cos(fa2.alpha)\n",
    "fa2[\"Fy\"] = fa2.F * np.sin(fa2.alpha)\n",
    "fa2.shape"
   ]
  },
  {
   "cell_type": "code",
   "execution_count": 20,
   "metadata": {
    "collapsed": true
   },
   "outputs": [],
   "source": [
    "combDF = pd.merge(tsDf.dropna(), fa2.dropna(), \n",
    "                  left_on = [new_cols[ii] +\"_\" +str(99) for ii in range(8)], \n",
    "                  right_on = [new_cols[ii] +\"_\" +str(99) for ii in range(8)], \n",
    "                  how = \"inner\")\n"
   ]
  },
  {
   "cell_type": "code",
   "execution_count": 21,
   "metadata": {},
   "outputs": [
    {
     "data": {
      "text/html": [
       "<div>\n",
       "<style>\n",
       "    .dataframe thead tr:only-child th {\n",
       "        text-align: right;\n",
       "    }\n",
       "\n",
       "    .dataframe thead th {\n",
       "        text-align: left;\n",
       "    }\n",
       "\n",
       "    .dataframe tbody tr th {\n",
       "        vertical-align: top;\n",
       "    }\n",
       "</style>\n",
       "<table border=\"1\" class=\"dataframe\">\n",
       "  <thead>\n",
       "    <tr style=\"text-align: right;\">\n",
       "      <th></th>\n",
       "      <th>x_0</th>\n",
       "      <th>y_0</th>\n",
       "      <th>theta_0</th>\n",
       "      <th>phi_0</th>\n",
       "      <th>x_dot_0</th>\n",
       "      <th>y_dot_0</th>\n",
       "      <th>theta_dot_0</th>\n",
       "      <th>phi_dot_0</th>\n",
       "      <th>x_1</th>\n",
       "      <th>y_1</th>\n",
       "      <th>...</th>\n",
       "      <th>y_dot_99</th>\n",
       "      <th>theta_dot_99</th>\n",
       "      <th>phi_dot_99</th>\n",
       "      <th>timestep</th>\n",
       "      <th>F</th>\n",
       "      <th>alpha</th>\n",
       "      <th>tao</th>\n",
       "      <th>cost</th>\n",
       "      <th>Fx</th>\n",
       "      <th>Fy</th>\n",
       "    </tr>\n",
       "  </thead>\n",
       "  <tbody>\n",
       "    <tr>\n",
       "      <th>0</th>\n",
       "      <td>0.0</td>\n",
       "      <td>0.0</td>\n",
       "      <td>0.785398</td>\n",
       "      <td>3.926991</td>\n",
       "      <td>0.0001</td>\n",
       "      <td>0.0001</td>\n",
       "      <td>0.0</td>\n",
       "      <td>0.0</td>\n",
       "      <td>0.000103</td>\n",
       "      <td>0.000041</td>\n",
       "      <td>...</td>\n",
       "      <td>44.518128</td>\n",
       "      <td>0.579362</td>\n",
       "      <td>0.105284</td>\n",
       "      <td>0</td>\n",
       "      <td>6381.845153</td>\n",
       "      <td>6.084240</td>\n",
       "      <td>13183.387403</td>\n",
       "      <td>4.179519e+08</td>\n",
       "      <td>6255.966663</td>\n",
       "      <td>-1261.280566</td>\n",
       "    </tr>\n",
       "    <tr>\n",
       "      <th>1</th>\n",
       "      <td>0.0</td>\n",
       "      <td>0.0</td>\n",
       "      <td>0.785398</td>\n",
       "      <td>3.926991</td>\n",
       "      <td>0.0001</td>\n",
       "      <td>0.0001</td>\n",
       "      <td>0.0</td>\n",
       "      <td>0.0</td>\n",
       "      <td>-0.000117</td>\n",
       "      <td>0.000197</td>\n",
       "      <td>...</td>\n",
       "      <td>189.558075</td>\n",
       "      <td>3.781962</td>\n",
       "      <td>0.970563</td>\n",
       "      <td>0</td>\n",
       "      <td>13311.590039</td>\n",
       "      <td>1.279596</td>\n",
       "      <td>88270.211620</td>\n",
       "      <td>7.807610e+07</td>\n",
       "      <td>3821.792206</td>\n",
       "      <td>12751.169896</td>\n",
       "    </tr>\n",
       "    <tr>\n",
       "      <th>2</th>\n",
       "      <td>0.0</td>\n",
       "      <td>0.0</td>\n",
       "      <td>0.785398</td>\n",
       "      <td>3.926991</td>\n",
       "      <td>0.0001</td>\n",
       "      <td>0.0001</td>\n",
       "      <td>0.0</td>\n",
       "      <td>0.0</td>\n",
       "      <td>-0.000020</td>\n",
       "      <td>0.000046</td>\n",
       "      <td>...</td>\n",
       "      <td>47.326604</td>\n",
       "      <td>0.668543</td>\n",
       "      <td>1.090916</td>\n",
       "      <td>0</td>\n",
       "      <td>3897.277025</td>\n",
       "      <td>1.106111</td>\n",
       "      <td>-12274.028413</td>\n",
       "      <td>3.972981e+08</td>\n",
       "      <td>1746.530301</td>\n",
       "      <td>3484.020683</td>\n",
       "    </tr>\n",
       "    <tr>\n",
       "      <th>3</th>\n",
       "      <td>0.0</td>\n",
       "      <td>0.0</td>\n",
       "      <td>0.785398</td>\n",
       "      <td>3.926991</td>\n",
       "      <td>0.0001</td>\n",
       "      <td>0.0001</td>\n",
       "      <td>0.0</td>\n",
       "      <td>0.0</td>\n",
       "      <td>-0.000249</td>\n",
       "      <td>0.000625</td>\n",
       "      <td>...</td>\n",
       "      <td>598.452247</td>\n",
       "      <td>4.329931</td>\n",
       "      <td>3.878763</td>\n",
       "      <td>0</td>\n",
       "      <td>36814.819368</td>\n",
       "      <td>1.149410</td>\n",
       "      <td>28313.300409</td>\n",
       "      <td>1.361690e+09</td>\n",
       "      <td>15058.212175</td>\n",
       "      <td>33594.362193</td>\n",
       "    </tr>\n",
       "    <tr>\n",
       "      <th>4</th>\n",
       "      <td>0.0</td>\n",
       "      <td>0.0</td>\n",
       "      <td>0.785398</td>\n",
       "      <td>3.926991</td>\n",
       "      <td>0.0001</td>\n",
       "      <td>0.0001</td>\n",
       "      <td>0.0</td>\n",
       "      <td>0.0</td>\n",
       "      <td>-0.000201</td>\n",
       "      <td>-0.000035</td>\n",
       "      <td>...</td>\n",
       "      <td>-33.251375</td>\n",
       "      <td>0.378515</td>\n",
       "      <td>2.055139</td>\n",
       "      <td>0</td>\n",
       "      <td>10861.320196</td>\n",
       "      <td>2.424572</td>\n",
       "      <td>-48780.397529</td>\n",
       "      <td>8.197244e+08</td>\n",
       "      <td>-8186.907034</td>\n",
       "      <td>7137.424579</td>\n",
       "    </tr>\n",
       "  </tbody>\n",
       "</table>\n",
       "<p>5 rows × 807 columns</p>\n",
       "</div>"
      ],
      "text/plain": [
       "   x_0  y_0   theta_0     phi_0  x_dot_0  y_dot_0  theta_dot_0  phi_dot_0  \\\n",
       "0  0.0  0.0  0.785398  3.926991   0.0001   0.0001          0.0        0.0   \n",
       "1  0.0  0.0  0.785398  3.926991   0.0001   0.0001          0.0        0.0   \n",
       "2  0.0  0.0  0.785398  3.926991   0.0001   0.0001          0.0        0.0   \n",
       "3  0.0  0.0  0.785398  3.926991   0.0001   0.0001          0.0        0.0   \n",
       "4  0.0  0.0  0.785398  3.926991   0.0001   0.0001          0.0        0.0   \n",
       "\n",
       "        x_1       y_1      ...         y_dot_99  theta_dot_99  phi_dot_99  \\\n",
       "0  0.000103  0.000041      ...        44.518128      0.579362    0.105284   \n",
       "1 -0.000117  0.000197      ...       189.558075      3.781962    0.970563   \n",
       "2 -0.000020  0.000046      ...        47.326604      0.668543    1.090916   \n",
       "3 -0.000249  0.000625      ...       598.452247      4.329931    3.878763   \n",
       "4 -0.000201 -0.000035      ...       -33.251375      0.378515    2.055139   \n",
       "\n",
       "   timestep             F     alpha           tao          cost            Fx  \\\n",
       "0         0   6381.845153  6.084240  13183.387403  4.179519e+08   6255.966663   \n",
       "1         0  13311.590039  1.279596  88270.211620  7.807610e+07   3821.792206   \n",
       "2         0   3897.277025  1.106111 -12274.028413  3.972981e+08   1746.530301   \n",
       "3         0  36814.819368  1.149410  28313.300409  1.361690e+09  15058.212175   \n",
       "4         0  10861.320196  2.424572 -48780.397529  8.197244e+08  -8186.907034   \n",
       "\n",
       "             Fy  \n",
       "0  -1261.280566  \n",
       "1  12751.169896  \n",
       "2   3484.020683  \n",
       "3  33594.362193  \n",
       "4   7137.424579  \n",
       "\n",
       "[5 rows x 807 columns]"
      ]
     },
     "execution_count": 21,
     "metadata": {},
     "output_type": "execute_result"
    }
   ],
   "source": [
    "combDF.head()"
   ]
  },
  {
   "cell_type": "code",
   "execution_count": 22,
   "metadata": {},
   "outputs": [
    {
     "data": {
      "text/plain": [
       "(218757, 807)"
      ]
     },
     "execution_count": 22,
     "metadata": {},
     "output_type": "execute_result"
    }
   ],
   "source": [
    "combDF.shape"
   ]
  },
  {
   "cell_type": "code",
   "execution_count": 77,
   "metadata": {},
   "outputs": [
    {
     "data": {
      "text/plain": [
       "31243"
      ]
     },
     "execution_count": 77,
     "metadata": {},
     "output_type": "execute_result"
    }
   ],
   "source": [
    "# show how many NA's were dropped\n",
    "fa2.shape[0] - fa2.dropna().shape[0]"
   ]
  },
  {
   "cell_type": "code",
   "execution_count": null,
   "metadata": {
    "collapsed": true
   },
   "outputs": [],
   "source": []
  },
  {
   "cell_type": "markdown",
   "metadata": {},
   "source": [
    "### Finished data munging\n",
    "\n",
    "Now fit models"
   ]
  },
  {
   "cell_type": "code",
   "execution_count": 110,
   "metadata": {},
   "outputs": [],
   "source": [
    "X = combDF.iloc[:, np.concatenate((np.arange(0,8), np.arange(792,800)))].copy()\n",
    "Y = combDF.iloc[:, [803, 805, 806]]\n",
    "\n",
    "# # subtract x_0 and y_0 from everything\n",
    "X.x_99 = X.x_99 - X.x_0\n",
    "X.y_99 = X.y_99 - X.y_0\n",
    "\n",
    "X.x_0 = X.y_0 = 0\n"
   ]
  },
  {
   "cell_type": "code",
   "execution_count": 111,
   "metadata": {},
   "outputs": [
    {
     "data": {
      "text/html": [
       "<div>\n",
       "<style>\n",
       "    .dataframe thead tr:only-child th {\n",
       "        text-align: right;\n",
       "    }\n",
       "\n",
       "    .dataframe thead th {\n",
       "        text-align: left;\n",
       "    }\n",
       "\n",
       "    .dataframe tbody tr th {\n",
       "        vertical-align: top;\n",
       "    }\n",
       "</style>\n",
       "<table border=\"1\" class=\"dataframe\">\n",
       "  <thead>\n",
       "    <tr style=\"text-align: right;\">\n",
       "      <th></th>\n",
       "      <th>tao</th>\n",
       "      <th>Fx</th>\n",
       "      <th>Fy</th>\n",
       "    </tr>\n",
       "  </thead>\n",
       "  <tbody>\n",
       "    <tr>\n",
       "      <th>0</th>\n",
       "      <td>13183.387403</td>\n",
       "      <td>6255.966663</td>\n",
       "      <td>-1261.280566</td>\n",
       "    </tr>\n",
       "    <tr>\n",
       "      <th>1</th>\n",
       "      <td>88270.211620</td>\n",
       "      <td>3821.792206</td>\n",
       "      <td>12751.169896</td>\n",
       "    </tr>\n",
       "    <tr>\n",
       "      <th>2</th>\n",
       "      <td>-12274.028413</td>\n",
       "      <td>1746.530301</td>\n",
       "      <td>3484.020683</td>\n",
       "    </tr>\n",
       "    <tr>\n",
       "      <th>3</th>\n",
       "      <td>28313.300409</td>\n",
       "      <td>15058.212175</td>\n",
       "      <td>33594.362193</td>\n",
       "    </tr>\n",
       "    <tr>\n",
       "      <th>4</th>\n",
       "      <td>-48780.397529</td>\n",
       "      <td>-8186.907034</td>\n",
       "      <td>7137.424579</td>\n",
       "    </tr>\n",
       "  </tbody>\n",
       "</table>\n",
       "</div>"
      ],
      "text/plain": [
       "            tao            Fx            Fy\n",
       "0  13183.387403   6255.966663  -1261.280566\n",
       "1  88270.211620   3821.792206  12751.169896\n",
       "2 -12274.028413   1746.530301   3484.020683\n",
       "3  28313.300409  15058.212175  33594.362193\n",
       "4 -48780.397529  -8186.907034   7137.424579"
      ]
     },
     "execution_count": 111,
     "metadata": {},
     "output_type": "execute_result"
    }
   ],
   "source": [
    "Y.head()"
   ]
  },
  {
   "cell_type": "code",
   "execution_count": 112,
   "metadata": {},
   "outputs": [
    {
     "data": {
      "text/html": [
       "<div>\n",
       "<style>\n",
       "    .dataframe thead tr:only-child th {\n",
       "        text-align: right;\n",
       "    }\n",
       "\n",
       "    .dataframe thead th {\n",
       "        text-align: left;\n",
       "    }\n",
       "\n",
       "    .dataframe tbody tr th {\n",
       "        vertical-align: top;\n",
       "    }\n",
       "</style>\n",
       "<table border=\"1\" class=\"dataframe\">\n",
       "  <thead>\n",
       "    <tr style=\"text-align: right;\">\n",
       "      <th></th>\n",
       "      <th>x_0</th>\n",
       "      <th>y_0</th>\n",
       "      <th>theta_0</th>\n",
       "      <th>phi_0</th>\n",
       "      <th>x_dot_0</th>\n",
       "      <th>y_dot_0</th>\n",
       "      <th>theta_dot_0</th>\n",
       "      <th>phi_dot_0</th>\n",
       "      <th>x_99</th>\n",
       "      <th>y_99</th>\n",
       "      <th>theta_99</th>\n",
       "      <th>phi_99</th>\n",
       "      <th>x_dot_99</th>\n",
       "      <th>y_dot_99</th>\n",
       "      <th>theta_dot_99</th>\n",
       "      <th>phi_dot_99</th>\n",
       "    </tr>\n",
       "  </thead>\n",
       "  <tbody>\n",
       "    <tr>\n",
       "      <th>218752</th>\n",
       "      <td>0</td>\n",
       "      <td>0</td>\n",
       "      <td>0.810586</td>\n",
       "      <td>5.882462</td>\n",
       "      <td>413.538429</td>\n",
       "      <td>259.637536</td>\n",
       "      <td>-0.39727</td>\n",
       "      <td>-3.891716</td>\n",
       "      <td>9.466440</td>\n",
       "      <td>1.557219</td>\n",
       "      <td>0.778801</td>\n",
       "      <td>5.822799</td>\n",
       "      <td>533.620947</td>\n",
       "      <td>-107.433234</td>\n",
       "      <td>1.904527</td>\n",
       "      <td>-0.868037</td>\n",
       "    </tr>\n",
       "    <tr>\n",
       "      <th>218753</th>\n",
       "      <td>0</td>\n",
       "      <td>0</td>\n",
       "      <td>0.810586</td>\n",
       "      <td>5.882462</td>\n",
       "      <td>413.538429</td>\n",
       "      <td>259.637536</td>\n",
       "      <td>-0.39727</td>\n",
       "      <td>-3.891716</td>\n",
       "      <td>1.761254</td>\n",
       "      <td>2.676026</td>\n",
       "      <td>0.791533</td>\n",
       "      <td>5.848080</td>\n",
       "      <td>-235.592983</td>\n",
       "      <td>7.587859</td>\n",
       "      <td>2.840541</td>\n",
       "      <td>1.189457</td>\n",
       "    </tr>\n",
       "    <tr>\n",
       "      <th>218754</th>\n",
       "      <td>0</td>\n",
       "      <td>0</td>\n",
       "      <td>0.810586</td>\n",
       "      <td>5.882462</td>\n",
       "      <td>413.538429</td>\n",
       "      <td>259.637536</td>\n",
       "      <td>-0.39727</td>\n",
       "      <td>-3.891716</td>\n",
       "      <td>1.048029</td>\n",
       "      <td>5.133191</td>\n",
       "      <td>0.581016</td>\n",
       "      <td>5.681105</td>\n",
       "      <td>-299.925489</td>\n",
       "      <td>273.867886</td>\n",
       "      <td>-7.912733</td>\n",
       "      <td>-7.622437</td>\n",
       "    </tr>\n",
       "    <tr>\n",
       "      <th>218755</th>\n",
       "      <td>0</td>\n",
       "      <td>0</td>\n",
       "      <td>0.810586</td>\n",
       "      <td>5.882462</td>\n",
       "      <td>413.538429</td>\n",
       "      <td>259.637536</td>\n",
       "      <td>-0.39727</td>\n",
       "      <td>-3.891716</td>\n",
       "      <td>12.401741</td>\n",
       "      <td>-0.856860</td>\n",
       "      <td>0.778731</td>\n",
       "      <td>5.856763</td>\n",
       "      <td>825.415328</td>\n",
       "      <td>-350.413834</td>\n",
       "      <td>1.793406</td>\n",
       "      <td>2.418050</td>\n",
       "    </tr>\n",
       "    <tr>\n",
       "      <th>218756</th>\n",
       "      <td>0</td>\n",
       "      <td>0</td>\n",
       "      <td>0.810586</td>\n",
       "      <td>5.882462</td>\n",
       "      <td>413.538429</td>\n",
       "      <td>259.637536</td>\n",
       "      <td>-0.39727</td>\n",
       "      <td>-3.891716</td>\n",
       "      <td>1.386108</td>\n",
       "      <td>3.933006</td>\n",
       "      <td>0.730037</td>\n",
       "      <td>5.806925</td>\n",
       "      <td>-272.790013</td>\n",
       "      <td>139.464566</td>\n",
       "      <td>-1.125382</td>\n",
       "      <td>-1.050569</td>\n",
       "    </tr>\n",
       "  </tbody>\n",
       "</table>\n",
       "</div>"
      ],
      "text/plain": [
       "        x_0  y_0   theta_0     phi_0     x_dot_0     y_dot_0  theta_dot_0  \\\n",
       "218752    0    0  0.810586  5.882462  413.538429  259.637536     -0.39727   \n",
       "218753    0    0  0.810586  5.882462  413.538429  259.637536     -0.39727   \n",
       "218754    0    0  0.810586  5.882462  413.538429  259.637536     -0.39727   \n",
       "218755    0    0  0.810586  5.882462  413.538429  259.637536     -0.39727   \n",
       "218756    0    0  0.810586  5.882462  413.538429  259.637536     -0.39727   \n",
       "\n",
       "        phi_dot_0       x_99      y_99  theta_99    phi_99    x_dot_99  \\\n",
       "218752  -3.891716   9.466440  1.557219  0.778801  5.822799  533.620947   \n",
       "218753  -3.891716   1.761254  2.676026  0.791533  5.848080 -235.592983   \n",
       "218754  -3.891716   1.048029  5.133191  0.581016  5.681105 -299.925489   \n",
       "218755  -3.891716  12.401741 -0.856860  0.778731  5.856763  825.415328   \n",
       "218756  -3.891716   1.386108  3.933006  0.730037  5.806925 -272.790013   \n",
       "\n",
       "          y_dot_99  theta_dot_99  phi_dot_99  \n",
       "218752 -107.433234      1.904527   -0.868037  \n",
       "218753    7.587859      2.840541    1.189457  \n",
       "218754  273.867886     -7.912733   -7.622437  \n",
       "218755 -350.413834      1.793406    2.418050  \n",
       "218756  139.464566     -1.125382   -1.050569  "
      ]
     },
     "execution_count": 112,
     "metadata": {},
     "output_type": "execute_result"
    }
   ],
   "source": [
    "X.tail()"
   ]
  },
  {
   "cell_type": "code",
   "execution_count": 113,
   "metadata": {
    "collapsed": true
   },
   "outputs": [],
   "source": [
    "from sklearn.model_selection import train_test_split\n",
    "Xtrain, Xtest, Ytrain, Ytest = train_test_split(X, Y, test_size=0.3, random_state = 123)"
   ]
  },
  {
   "cell_type": "code",
   "execution_count": 114,
   "metadata": {
    "collapsed": true
   },
   "outputs": [],
   "source": [
    "# refref: scale test and training separately:\n",
    "from sklearn.preprocessing import StandardScaler  \n",
    "scalerX = StandardScaler()  \n",
    "scalerY = StandardScaler()  \n",
    "\n",
    "# Don't cheat - fit only on training data\n",
    "scalerX.fit(Xtrain)  \n",
    "scalerY.fit(Ytrain) \n",
    "\n",
    "Xtrain_scaled = scalerX.transform(Xtrain)  \n",
    "Ytrain_scaled = scalerY.transform(Ytrain)  \n",
    "\n",
    "# apply same transformation to test data\n",
    "Xtest_scaled = scalerX.transform(Xtest)\n",
    "Ytest_scaled = scalerY.transform(Ytest)"
   ]
  },
  {
   "cell_type": "code",
   "execution_count": 115,
   "metadata": {},
   "outputs": [
    {
     "data": {
      "text/plain": [
       "True"
      ]
     },
     "execution_count": 115,
     "metadata": {},
     "output_type": "execute_result"
    }
   ],
   "source": [
    "xcheck = scalerX.inverse_transform(Xtrain_scaled)\n",
    "np.allclose(xcheck, np.array(Xtrain))"
   ]
  },
  {
   "cell_type": "code",
   "execution_count": 116,
   "metadata": {
    "collapsed": true
   },
   "outputs": [],
   "source": [
    "# save scalers\n",
    "import pickle\n",
    "\n",
    "with open(os.path.join(dataDir, \"StandardScaler_zerod.pkl\"), 'wb') as f:  # Python 3: open(..., 'wb')\n",
    "    pickle.dump([scalerX, scalerY], f)"
   ]
  },
  {
   "cell_type": "code",
   "execution_count": 117,
   "metadata": {
    "collapsed": true
   },
   "outputs": [],
   "source": [
    "del scalerX\n",
    "del scalerY"
   ]
  },
  {
   "cell_type": "code",
   "execution_count": 118,
   "metadata": {
    "collapsed": true
   },
   "outputs": [],
   "source": [
    "# Getting back the objects:\n",
    "with open(os.path.join(dataDir, \"StandardScaler_zerod.pkl\"), 'rb') as f:  # Python 3: open(..., 'rb')\n",
    "    scalerX, scalerY = pickle.load(f)"
   ]
  },
  {
   "cell_type": "code",
   "execution_count": 121,
   "metadata": {},
   "outputs": [
    {
     "data": {
      "image/png": "[encoded data removed]",
      "text/plain": [
       "<matplotlib.figure.Figure at 0x180454a58>"
      ]
     },
     "metadata": {},
     "output_type": "display_data"
    },
    {
     "data": {
      "image/png": "[encoded data removed]",
      "text/plain": [
       "<matplotlib.figure.Figure at 0x1803cbe10>"
      ]
     },
     "metadata": {},
     "output_type": "display_data"
    },
    {
     "data": {
      "text/plain": [
       "(array([ 37237.,  15288.,   9992.,  11562.,  16143.,  12687.,  17205.,\n",
       "         18190.,   4762.,  10063.]),\n",
       " array([ 3.76014613,  3.97247606,  4.18480598,  4.39713591,  4.60946584,\n",
       "         4.82179577,  5.03412569,  5.24645562,  5.45878555,  5.67111548,\n",
       "         5.8834454 ]),\n",
       " <a list of 10 Patch objects>)"
      ]
     },
     "execution_count": 121,
     "metadata": {},
     "output_type": "execute_result"
    },
    {
     "data": {
      "image/png": "[encoded data removed]",
      "text/plain": [
       "<matplotlib.figure.Figure at 0x18050b358>"
      ]
     },
     "metadata": {},
     "output_type": "display_data"
    }
   ],
   "source": [
    "# check scaler\n",
    "plt.hist(Xtrain.iloc[:, 3])\n",
    "plt.show()\n",
    "plt.hist(Xtrain_scaled[:,3])\n",
    "plt.show()\n",
    "\n",
    "xcheck = scalerX.inverse_transform(Xtrain_scaled)\n",
    "plt.hist(xcheck[:,3])"
   ]
  },
  {
   "cell_type": "code",
   "execution_count": 122,
   "metadata": {},
   "outputs": [
    {
     "name": "stdout",
     "output_type": "stream",
     "text": [
      "(153129, 16) (153129, 3) (65628, 16) (65628, 3)\n"
     ]
    }
   ],
   "source": [
    "print(Xtrain.shape,  Ytrain.shape, Xtest.shape, Ytest.shape)"
   ]
  },
  {
   "cell_type": "code",
   "execution_count": 123,
   "metadata": {
    "collapsed": true
   },
   "outputs": [],
   "source": [
    "from sklearn.multioutput import MultiOutputRegressor\n",
    "from sklearn.ensemble import RandomForestRegressor"
   ]
  },
  {
   "cell_type": "code",
   "execution_count": 124,
   "metadata": {},
   "outputs": [],
   "source": [
    "# stt = time.time()\n",
    "# mor = MultiOutputRegressor(RandomForestRegressor(500, n_jobs = 4)).fit(Xtrain_scaled, Ytrain_scaled)\n",
    "# print(time.time() - stt) # ~ 13 minutes"
   ]
  },
  {
   "cell_type": "code",
   "execution_count": 125,
   "metadata": {},
   "outputs": [],
   "source": [
    "# # save RF model\n",
    "# from sklearn.externals import joblib\n",
    "# joblib.dump(mor, os.path.join(dataDir, \"FitRF_Scaled2.pkl\")) "
   ]
  },
  {
   "cell_type": "code",
   "execution_count": 126,
   "metadata": {
    "collapsed": true
   },
   "outputs": [],
   "source": [
    "# mpreds = mor.predict(Xtest_scaled)"
   ]
  },
  {
   "cell_type": "code",
   "execution_count": 127,
   "metadata": {},
   "outputs": [],
   "source": [
    "# plt.close(\"all\")\n",
    "# fig, axs = plt.subplots(1,3, figsize=(15, 5), facecolor='w', edgecolor='k')\n",
    "# fig.subplots_adjust(hspace = 0.1, wspace=0.3)\n",
    "# fig.suptitle('Predicted vs. acutal for Mulit-output Random Forest Regressor (500 trees)', fontsize=14, fontweight='bold')\n",
    "\n",
    "# axs = axs.ravel()\n",
    "# nms = [\"tao\", \"Fx\", \"Fy\"]\n",
    "\n",
    "\n",
    "# for ii in range(3):\n",
    "#     # read in image\n",
    "    \n",
    "#     try:\n",
    "#         axs[ii].scatter(y = Ytest_scaled[:,ii],x = mpreds[:,ii], s = 1, c= 'indianred' )\n",
    "#         axs[ii].set_xlabel(\"Predicted Value (Scaled)\")\n",
    "#         if(ii == 0):\n",
    "#             axs[ii].set_ylabel(\"Actual Value\\n(Scaled)\")\n",
    "#             axs[ii].set_xlim([-10, 5])\n",
    "#         axs[ii].set_title(nms[ii])\n",
    "#         axs[ii].plot(Ytest_scaled[:,ii], Ytest_scaled[:,ii], 'maroon')\n",
    "#     except:\n",
    "#         pass\n",
    "\n",
    "    \n",
    "# fig.savefig(os.path.join(figDir, \"RFpreds_Scaled2.png\"), dpi = 120, bbox_inches='tight')"
   ]
  },
  {
   "cell_type": "markdown",
   "metadata": {},
   "source": [
    "## Multi-output neural network"
   ]
  },
  {
   "cell_type": "code",
   "execution_count": 170,
   "metadata": {
    "collapsed": true
   },
   "outputs": [],
   "source": [
    "from sklearn.neural_network import MLPRegressor\n",
    "from sklearn.multioutput import MultiOutputRegressor\n"
   ]
  },
  {
   "cell_type": "code",
   "execution_count": 171,
   "metadata": {},
   "outputs": [
    {
     "name": "stdout",
     "output_type": "stream",
     "text": [
      "8033.72908115387\n"
     ]
    }
   ],
   "source": [
    "stt = time.time()\n",
    "nn1 = MLPRegressor(solver='lbfgs', alpha=0,\n",
    "                  hidden_layer_sizes=(100, 6), max_iter=10000, \n",
    "                  activation='tanh', verbose = True)\n",
    "nnMod = MultiOutputRegressor(nn1).fit(Xtrain_scaled, Ytrain_scaled)\n",
    "print(time.time() - stt) # takes 128 minutes on MBPro"
   ]
  },
  {
   "cell_type": "code",
   "execution_count": 172,
   "metadata": {},
   "outputs": [
    {
     "data": {
      "text/plain": [
       "['/Users/cswitzer/Dropbox/mothMachineLearning_dataAndFigs/Data/TrainedNN_scaled_zerod.pkl']"
      ]
     },
     "execution_count": 172,
     "metadata": {},
     "output_type": "execute_result"
    }
   ],
   "source": [
    "# save nn, so I can reload without retraining\n",
    "from sklearn.externals import joblib\n",
    "joblib.dump(nnMod, os.path.join(dataDir, \"TrainedNN_scaled_zerod.pkl\")) "
   ]
  },
  {
   "cell_type": "code",
   "execution_count": 173,
   "metadata": {
    "collapsed": true
   },
   "outputs": [],
   "source": [
    "# load trained nn"
   ]
  },
  {
   "cell_type": "code",
   "execution_count": 174,
   "metadata": {},
   "outputs": [],
   "source": [
    "\n",
    "# nnMod = joblib.load(os.path.join(dataDir, \"TrainedNN_scaled_zerod.pkl\")) "
   ]
  },
  {
   "cell_type": "code",
   "execution_count": 175,
   "metadata": {
    "collapsed": true
   },
   "outputs": [],
   "source": [
    "nnpreds = nnMod.predict(Xtest_scaled)"
   ]
  },
  {
   "cell_type": "code",
   "execution_count": 176,
   "metadata": {},
   "outputs": [
    {
     "data": {
      "image/png": "[encoded data removed]",
      "text/plain": [
       "<matplotlib.figure.Figure at 0x17ffa5f60>"
      ]
     },
     "metadata": {},
     "output_type": "display_data"
    }
   ],
   "source": [
    "plt.close(\"all\")\n",
    "fig, axs = plt.subplots(1,3, figsize=(15, 5), facecolor='w', edgecolor='k')\n",
    "fig.subplots_adjust(hspace = 0.1, wspace=0.3)\n",
    "fig.suptitle('Predicted vs. acutal for 2-hidden-layer Neural Network', fontsize=14, fontweight='bold')\n",
    "\n",
    "axs = axs.ravel()\n",
    "\n",
    "\n",
    "for ii in range(3):\n",
    "    # read in image\n",
    "    \n",
    "    try:\n",
    "        axs[ii].scatter(y = Ytest_scaled[:,ii],x = nnpreds[:,ii], s = 1 )\n",
    "        axs[ii].set_xlabel(\"Predicted Value (scaled)\")\n",
    "        if(ii == 0):\n",
    "            axs[ii].set_ylabel(\"Actual Value\\n(scaled)\")\n",
    "        axs[ii].set_title(nms[ii])\n",
    "        axs[ii].plot(Ytest_scaled[:,ii], Ytest_scaled[:,ii], 'b')\n",
    "    except:\n",
    "        pass\n",
    "\n",
    "    \n",
    "fig.savefig(os.path.join(figDir, \"NNPreds2_zerod.png\"), dpi = 120, bbox_inches='tight')"
   ]
  },
  {
   "cell_type": "markdown",
   "metadata": {},
   "source": [
    "# Compare simulation vs. nn preds for test set!"
   ]
  },
  {
   "cell_type": "code",
   "execution_count": 179,
   "metadata": {},
   "outputs": [
    {
     "data": {
      "text/html": [
       "<div>\n",
       "<style>\n",
       "    .dataframe thead tr:only-child th {\n",
       "        text-align: right;\n",
       "    }\n",
       "\n",
       "    .dataframe thead th {\n",
       "        text-align: left;\n",
       "    }\n",
       "\n",
       "    .dataframe tbody tr th {\n",
       "        vertical-align: top;\n",
       "    }\n",
       "</style>\n",
       "<table border=\"1\" class=\"dataframe\">\n",
       "  <thead>\n",
       "    <tr style=\"text-align: right;\">\n",
       "      <th></th>\n",
       "      <th>tao_pred</th>\n",
       "      <th>Fx_pred</th>\n",
       "      <th>Fy_pred</th>\n",
       "      <th>F_pred</th>\n",
       "      <th>alpha_pred</th>\n",
       "    </tr>\n",
       "  </thead>\n",
       "  <tbody>\n",
       "    <tr>\n",
       "      <th>0</th>\n",
       "      <td>-74216.783633</td>\n",
       "      <td>-25709.938231</td>\n",
       "      <td>-25442.874055</td>\n",
       "      <td>36170.993407</td>\n",
       "      <td>3.921770</td>\n",
       "    </tr>\n",
       "    <tr>\n",
       "      <th>1</th>\n",
       "      <td>19305.300090</td>\n",
       "      <td>37968.800743</td>\n",
       "      <td>10039.283056</td>\n",
       "      <td>39273.617533</td>\n",
       "      <td>0.258493</td>\n",
       "    </tr>\n",
       "    <tr>\n",
       "      <th>2</th>\n",
       "      <td>-60332.190646</td>\n",
       "      <td>-1621.528650</td>\n",
       "      <td>10007.333363</td>\n",
       "      <td>10137.853629</td>\n",
       "      <td>1.731434</td>\n",
       "    </tr>\n",
       "    <tr>\n",
       "      <th>3</th>\n",
       "      <td>84905.065321</td>\n",
       "      <td>-5307.368370</td>\n",
       "      <td>243.343592</td>\n",
       "      <td>5312.944111</td>\n",
       "      <td>3.095775</td>\n",
       "    </tr>\n",
       "    <tr>\n",
       "      <th>4</th>\n",
       "      <td>13507.583614</td>\n",
       "      <td>18762.032149</td>\n",
       "      <td>11914.613678</td>\n",
       "      <td>22225.477935</td>\n",
       "      <td>0.565786</td>\n",
       "    </tr>\n",
       "  </tbody>\n",
       "</table>\n",
       "</div>"
      ],
      "text/plain": [
       "       tao_pred       Fx_pred       Fy_pred        F_pred  alpha_pred\n",
       "0 -74216.783633 -25709.938231 -25442.874055  36170.993407    3.921770\n",
       "1  19305.300090  37968.800743  10039.283056  39273.617533    0.258493\n",
       "2 -60332.190646  -1621.528650  10007.333363  10137.853629    1.731434\n",
       "3  84905.065321  -5307.368370    243.343592   5312.944111    3.095775\n",
       "4  13507.583614  18762.032149  11914.613678  22225.477935    0.565786"
      ]
     },
     "execution_count": 179,
     "metadata": {},
     "output_type": "execute_result"
    }
   ],
   "source": [
    "s1 = pd.concat([Xtest, Ytest], axis = 1).reset_index(drop = True)\n",
    "\n",
    "shuff2 = s1\n",
    "\n",
    "# predictions\n",
    "XX_scaled = scalerX.transform(shuff2.iloc[:, 0:16])\n",
    "nnpreds3 = nnMod.predict(XX_scaled)\n",
    "\n",
    "# add preds back to data frame\n",
    "nn_back = scalerY.inverse_transform(nnpreds3)\n",
    "preds1 = pd.DataFrame(nn_back)\n",
    "preds1.columns = [\"tao_pred\", \"Fx_pred\", \"Fy_pred\"]\n",
    "preds1[\"F_pred\"] = np.sqrt(preds1.Fx_pred **2 + preds1.Fy_pred **2)\n",
    "\n",
    "\n",
    "pre_alpha = np.arctan2(preds1.Fy_pred, preds1.Fx_pred )\n",
    "alpha = pre_alpha.copy()\n",
    "\n",
    "for ii in pre_alpha.index:\n",
    "    if (preds1.Fy_pred[ii] > 0) :\n",
    "        alpha[ii] = pre_alpha[ii]\n",
    "    else:\n",
    "        alpha[ii] = (2*np.pi) + pre_alpha[ii]\n",
    "        \n",
    "preds1[\"alpha_pred\"] = alpha\n",
    "\n",
    "\n",
    "preds1.head()"
   ]
  },
  {
   "cell_type": "code",
   "execution_count": 180,
   "metadata": {},
   "outputs": [
    {
     "data": {
      "text/html": [
       "<div>\n",
       "<style>\n",
       "    .dataframe thead tr:only-child th {\n",
       "        text-align: right;\n",
       "    }\n",
       "\n",
       "    .dataframe thead th {\n",
       "        text-align: left;\n",
       "    }\n",
       "\n",
       "    .dataframe tbody tr th {\n",
       "        vertical-align: top;\n",
       "    }\n",
       "</style>\n",
       "<table border=\"1\" class=\"dataframe\">\n",
       "  <thead>\n",
       "    <tr style=\"text-align: right;\">\n",
       "      <th></th>\n",
       "      <th>x_0</th>\n",
       "      <th>y_0</th>\n",
       "      <th>theta_0</th>\n",
       "      <th>phi_0</th>\n",
       "      <th>x_dot_0</th>\n",
       "      <th>y_dot_0</th>\n",
       "      <th>theta_dot_0</th>\n",
       "      <th>phi_dot_0</th>\n",
       "      <th>x_99</th>\n",
       "      <th>y_99</th>\n",
       "      <th>...</th>\n",
       "      <th>theta_dot_99</th>\n",
       "      <th>phi_dot_99</th>\n",
       "      <th>tao</th>\n",
       "      <th>Fx</th>\n",
       "      <th>Fy</th>\n",
       "      <th>tao_pred</th>\n",
       "      <th>Fx_pred</th>\n",
       "      <th>Fy_pred</th>\n",
       "      <th>F_pred</th>\n",
       "      <th>alpha_pred</th>\n",
       "    </tr>\n",
       "  </thead>\n",
       "  <tbody>\n",
       "    <tr>\n",
       "      <th>0</th>\n",
       "      <td>0</td>\n",
       "      <td>0</td>\n",
       "      <td>0.795294</td>\n",
       "      <td>3.790989</td>\n",
       "      <td>239.937302</td>\n",
       "      <td>309.348620</td>\n",
       "      <td>0.404731</td>\n",
       "      <td>1.594923</td>\n",
       "      <td>4.816044</td>\n",
       "      <td>-0.564773</td>\n",
       "      <td>...</td>\n",
       "      <td>-4.341190</td>\n",
       "      <td>-2.134953</td>\n",
       "      <td>-77433.033185</td>\n",
       "      <td>-25628.131415</td>\n",
       "      <td>-25523.878200</td>\n",
       "      <td>-74216.783633</td>\n",
       "      <td>-25709.938231</td>\n",
       "      <td>-25442.874055</td>\n",
       "      <td>36170.993407</td>\n",
       "      <td>3.921770</td>\n",
       "    </tr>\n",
       "    <tr>\n",
       "      <th>1</th>\n",
       "      <td>0</td>\n",
       "      <td>0</td>\n",
       "      <td>0.644764</td>\n",
       "      <td>4.763821</td>\n",
       "      <td>60.202435</td>\n",
       "      <td>148.059332</td>\n",
       "      <td>7.160955</td>\n",
       "      <td>5.271670</td>\n",
       "      <td>5.503482</td>\n",
       "      <td>8.482467</td>\n",
       "      <td>...</td>\n",
       "      <td>-3.218599</td>\n",
       "      <td>-3.361796</td>\n",
       "      <td>18089.782425</td>\n",
       "      <td>37940.533360</td>\n",
       "      <td>9762.998893</td>\n",
       "      <td>19305.300090</td>\n",
       "      <td>37968.800743</td>\n",
       "      <td>10039.283056</td>\n",
       "      <td>39273.617533</td>\n",
       "      <td>0.258493</td>\n",
       "    </tr>\n",
       "    <tr>\n",
       "      <th>2</th>\n",
       "      <td>0</td>\n",
       "      <td>0</td>\n",
       "      <td>0.893044</td>\n",
       "      <td>4.201614</td>\n",
       "      <td>-223.457896</td>\n",
       "      <td>-115.794523</td>\n",
       "      <td>1.574985</td>\n",
       "      <td>4.389546</td>\n",
       "      <td>-6.088273</td>\n",
       "      <td>-1.646655</td>\n",
       "      <td>...</td>\n",
       "      <td>6.690121</td>\n",
       "      <td>8.437772</td>\n",
       "      <td>-60364.180694</td>\n",
       "      <td>-1595.364131</td>\n",
       "      <td>10278.321177</td>\n",
       "      <td>-60332.190646</td>\n",
       "      <td>-1621.528650</td>\n",
       "      <td>10007.333363</td>\n",
       "      <td>10137.853629</td>\n",
       "      <td>1.731434</td>\n",
       "    </tr>\n",
       "    <tr>\n",
       "      <th>3</th>\n",
       "      <td>0</td>\n",
       "      <td>0</td>\n",
       "      <td>0.731254</td>\n",
       "      <td>3.790280</td>\n",
       "      <td>96.881935</td>\n",
       "      <td>433.571014</td>\n",
       "      <td>3.494534</td>\n",
       "      <td>1.151334</td>\n",
       "      <td>1.172913</td>\n",
       "      <td>7.870384</td>\n",
       "      <td>...</td>\n",
       "      <td>2.298592</td>\n",
       "      <td>-0.526332</td>\n",
       "      <td>85436.509798</td>\n",
       "      <td>-5325.574919</td>\n",
       "      <td>299.875035</td>\n",
       "      <td>84905.065321</td>\n",
       "      <td>-5307.368370</td>\n",
       "      <td>243.343592</td>\n",
       "      <td>5312.944111</td>\n",
       "      <td>3.095775</td>\n",
       "    </tr>\n",
       "    <tr>\n",
       "      <th>4</th>\n",
       "      <td>0</td>\n",
       "      <td>0</td>\n",
       "      <td>0.775803</td>\n",
       "      <td>5.883445</td>\n",
       "      <td>-293.943864</td>\n",
       "      <td>-93.559409</td>\n",
       "      <td>1.898227</td>\n",
       "      <td>4.144514</td>\n",
       "      <td>-5.085509</td>\n",
       "      <td>1.862793</td>\n",
       "      <td>...</td>\n",
       "      <td>-1.350964</td>\n",
       "      <td>-1.797883</td>\n",
       "      <td>11771.326101</td>\n",
       "      <td>18384.826107</td>\n",
       "      <td>11987.076192</td>\n",
       "      <td>13507.583614</td>\n",
       "      <td>18762.032149</td>\n",
       "      <td>11914.613678</td>\n",
       "      <td>22225.477935</td>\n",
       "      <td>0.565786</td>\n",
       "    </tr>\n",
       "  </tbody>\n",
       "</table>\n",
       "<p>5 rows × 24 columns</p>\n",
       "</div>"
      ],
      "text/plain": [
       "   x_0  y_0   theta_0     phi_0     x_dot_0     y_dot_0  theta_dot_0  \\\n",
       "0    0    0  0.795294  3.790989  239.937302  309.348620     0.404731   \n",
       "1    0    0  0.644764  4.763821   60.202435  148.059332     7.160955   \n",
       "2    0    0  0.893044  4.201614 -223.457896 -115.794523     1.574985   \n",
       "3    0    0  0.731254  3.790280   96.881935  433.571014     3.494534   \n",
       "4    0    0  0.775803  5.883445 -293.943864  -93.559409     1.898227   \n",
       "\n",
       "   phi_dot_0      x_99      y_99     ...      theta_dot_99  phi_dot_99  \\\n",
       "0   1.594923  4.816044 -0.564773     ...         -4.341190   -2.134953   \n",
       "1   5.271670  5.503482  8.482467     ...         -3.218599   -3.361796   \n",
       "2   4.389546 -6.088273 -1.646655     ...          6.690121    8.437772   \n",
       "3   1.151334  1.172913  7.870384     ...          2.298592   -0.526332   \n",
       "4   4.144514 -5.085509  1.862793     ...         -1.350964   -1.797883   \n",
       "\n",
       "            tao            Fx            Fy      tao_pred       Fx_pred  \\\n",
       "0 -77433.033185 -25628.131415 -25523.878200 -74216.783633 -25709.938231   \n",
       "1  18089.782425  37940.533360   9762.998893  19305.300090  37968.800743   \n",
       "2 -60364.180694  -1595.364131  10278.321177 -60332.190646  -1621.528650   \n",
       "3  85436.509798  -5325.574919    299.875035  84905.065321  -5307.368370   \n",
       "4  11771.326101  18384.826107  11987.076192  13507.583614  18762.032149   \n",
       "\n",
       "        Fy_pred        F_pred  alpha_pred  \n",
       "0 -25442.874055  36170.993407    3.921770  \n",
       "1  10039.283056  39273.617533    0.258493  \n",
       "2  10007.333363  10137.853629    1.731434  \n",
       "3    243.343592   5312.944111    3.095775  \n",
       "4  11914.613678  22225.477935    0.565786  \n",
       "\n",
       "[5 rows x 24 columns]"
      ]
     },
     "execution_count": 180,
     "metadata": {},
     "output_type": "execute_result"
    }
   ],
   "source": [
    "s2_1 = pd.concat([shuff2, preds1], axis = 1)\n",
    "s2_1.head()"
   ]
  },
  {
   "cell_type": "code",
   "execution_count": 181,
   "metadata": {},
   "outputs": [
    {
     "name": "stdout",
     "output_type": "stream",
     "text": [
      "/Users/cswitzer/Dropbox/mothMachineLearning_dataAndFigs/Data/\n"
     ]
    },
    {
     "data": {
      "text/html": [
       "<div>\n",
       "<style>\n",
       "    .dataframe thead tr:only-child th {\n",
       "        text-align: right;\n",
       "    }\n",
       "\n",
       "    .dataframe thead th {\n",
       "        text-align: left;\n",
       "    }\n",
       "\n",
       "    .dataframe tbody tr th {\n",
       "        vertical-align: top;\n",
       "    }\n",
       "</style>\n",
       "<table border=\"1\" class=\"dataframe\">\n",
       "  <thead>\n",
       "    <tr style=\"text-align: right;\">\n",
       "      <th></th>\n",
       "      <th>x_0</th>\n",
       "      <th>y_0</th>\n",
       "      <th>theta_0</th>\n",
       "      <th>phi_0</th>\n",
       "      <th>x_dot_0</th>\n",
       "      <th>y_dot_0</th>\n",
       "      <th>theta_dot_0</th>\n",
       "      <th>phi_dot_0</th>\n",
       "      <th>tao_pred</th>\n",
       "      <th>F_pred</th>\n",
       "      <th>alpha_pred</th>\n",
       "    </tr>\n",
       "  </thead>\n",
       "  <tbody>\n",
       "    <tr>\n",
       "      <th>0</th>\n",
       "      <td>0</td>\n",
       "      <td>0</td>\n",
       "      <td>0.795294</td>\n",
       "      <td>3.790989</td>\n",
       "      <td>239.937302</td>\n",
       "      <td>309.348620</td>\n",
       "      <td>0.404731</td>\n",
       "      <td>1.594923</td>\n",
       "      <td>-74216.783633</td>\n",
       "      <td>36170.993407</td>\n",
       "      <td>3.921770</td>\n",
       "    </tr>\n",
       "    <tr>\n",
       "      <th>1</th>\n",
       "      <td>0</td>\n",
       "      <td>0</td>\n",
       "      <td>0.644764</td>\n",
       "      <td>4.763821</td>\n",
       "      <td>60.202435</td>\n",
       "      <td>148.059332</td>\n",
       "      <td>7.160955</td>\n",
       "      <td>5.271670</td>\n",
       "      <td>19305.300090</td>\n",
       "      <td>39273.617533</td>\n",
       "      <td>0.258493</td>\n",
       "    </tr>\n",
       "    <tr>\n",
       "      <th>2</th>\n",
       "      <td>0</td>\n",
       "      <td>0</td>\n",
       "      <td>0.893044</td>\n",
       "      <td>4.201614</td>\n",
       "      <td>-223.457896</td>\n",
       "      <td>-115.794523</td>\n",
       "      <td>1.574985</td>\n",
       "      <td>4.389546</td>\n",
       "      <td>-60332.190646</td>\n",
       "      <td>10137.853629</td>\n",
       "      <td>1.731434</td>\n",
       "    </tr>\n",
       "    <tr>\n",
       "      <th>3</th>\n",
       "      <td>0</td>\n",
       "      <td>0</td>\n",
       "      <td>0.731254</td>\n",
       "      <td>3.790280</td>\n",
       "      <td>96.881935</td>\n",
       "      <td>433.571014</td>\n",
       "      <td>3.494534</td>\n",
       "      <td>1.151334</td>\n",
       "      <td>84905.065321</td>\n",
       "      <td>5312.944111</td>\n",
       "      <td>3.095775</td>\n",
       "    </tr>\n",
       "    <tr>\n",
       "      <th>4</th>\n",
       "      <td>0</td>\n",
       "      <td>0</td>\n",
       "      <td>0.775803</td>\n",
       "      <td>5.883445</td>\n",
       "      <td>-293.943864</td>\n",
       "      <td>-93.559409</td>\n",
       "      <td>1.898227</td>\n",
       "      <td>4.144514</td>\n",
       "      <td>13507.583614</td>\n",
       "      <td>22225.477935</td>\n",
       "      <td>0.565786</td>\n",
       "    </tr>\n",
       "  </tbody>\n",
       "</table>\n",
       "</div>"
      ],
      "text/plain": [
       "   x_0  y_0   theta_0     phi_0     x_dot_0     y_dot_0  theta_dot_0  \\\n",
       "0    0    0  0.795294  3.790989  239.937302  309.348620     0.404731   \n",
       "1    0    0  0.644764  4.763821   60.202435  148.059332     7.160955   \n",
       "2    0    0  0.893044  4.201614 -223.457896 -115.794523     1.574985   \n",
       "3    0    0  0.731254  3.790280   96.881935  433.571014     3.494534   \n",
       "4    0    0  0.775803  5.883445 -293.943864  -93.559409     1.898227   \n",
       "\n",
       "   phi_dot_0      tao_pred        F_pred  alpha_pred  \n",
       "0   1.594923 -74216.783633  36170.993407    3.921770  \n",
       "1   5.271670  19305.300090  39273.617533    0.258493  \n",
       "2   4.389546 -60332.190646  10137.853629    1.731434  \n",
       "3   1.151334  84905.065321   5312.944111    3.095775  \n",
       "4   4.144514  13507.583614  22225.477935    0.565786  "
      ]
     },
     "execution_count": 181,
     "metadata": {},
     "output_type": "execute_result"
    }
   ],
   "source": [
    "s2_1.to_csv(os.path.join(dataDir, \"simulationData5_withFinal_testset.csv\"), index=False)\n",
    "print(dataDir)\n",
    "\n",
    "simSet1 = s2_1.loc[:, ['x_0', 'y_0', 'theta_0', 'phi_0', 'x_dot_0', 'y_dot_0', 'theta_dot_0',\n",
    "       'phi_dot_0', 'tao_pred','F_pred','alpha_pred']]\n",
    "\n",
    "\n",
    "simSet1.to_csv(os.path.join(dataDir, \"simulationDataset5_blinded_testset.csv\"), index=False)\n",
    "simSet1.head()"
   ]
  },
  {
   "cell_type": "code",
   "execution_count": 182,
   "metadata": {},
   "outputs": [
    {
     "data": {
      "text/plain": [
       "(65628, 11)"
      ]
     },
     "execution_count": 182,
     "metadata": {},
     "output_type": "execute_result"
    }
   ],
   "source": [
    "simSet1.shape"
   ]
  },
  {
   "cell_type": "markdown",
   "metadata": {},
   "source": [
    "___"
   ]
  },
  {
   "cell_type": "code",
   "execution_count": 169,
   "metadata": {},
   "outputs": [
    {
     "data": {
      "text/plain": [
       "'/Users/cswitzer/Documents/GitRepos/MothMachineLearning'"
      ]
     },
     "execution_count": 169,
     "metadata": {},
     "output_type": "execute_result"
    }
   ],
   "source": [
    "baseDir"
   ]
  },
  {
   "cell_type": "code",
   "execution_count": null,
   "metadata": {
    "collapsed": true
   },
   "outputs": [],
   "source": []
  },
  {
   "cell_type": "code",
   "execution_count": null,
   "metadata": {
    "collapsed": true
   },
   "outputs": [],
   "source": []
  },
  {
   "cell_type": "code",
   "execution_count": null,
   "metadata": {
    "collapsed": true
   },
   "outputs": [],
   "source": []
  },
  {
   "cell_type": "code",
   "execution_count": null,
   "metadata": {
    "collapsed": true
   },
   "outputs": [],
   "source": [
    "# refref: run simulation vs. nn preds for test set!\n"
   ]
  },
  {
   "cell_type": "markdown",
   "metadata": {},
   "source": [
    "___\n",
    "### Create dataset with same initial conditions and shuffle output conditions"
   ]
  },
  {
   "cell_type": "code",
   "execution_count": 149,
   "metadata": {},
   "outputs": [
    {
     "data": {
      "text/html": [
       "<div>\n",
       "<style>\n",
       "    .dataframe thead tr:only-child th {\n",
       "        text-align: right;\n",
       "    }\n",
       "\n",
       "    .dataframe thead th {\n",
       "        text-align: left;\n",
       "    }\n",
       "\n",
       "    .dataframe tbody tr th {\n",
       "        vertical-align: top;\n",
       "    }\n",
       "</style>\n",
       "<table border=\"1\" class=\"dataframe\">\n",
       "  <thead>\n",
       "    <tr style=\"text-align: right;\">\n",
       "      <th></th>\n",
       "      <th>index</th>\n",
       "      <th>x_0</th>\n",
       "      <th>y_0</th>\n",
       "      <th>theta_0</th>\n",
       "      <th>phi_0</th>\n",
       "      <th>x_dot_0</th>\n",
       "      <th>y_dot_0</th>\n",
       "      <th>theta_dot_0</th>\n",
       "      <th>phi_dot_0</th>\n",
       "      <th>x_99</th>\n",
       "      <th>y_99</th>\n",
       "      <th>theta_99</th>\n",
       "      <th>phi_99</th>\n",
       "      <th>x_dot_99</th>\n",
       "      <th>y_dot_99</th>\n",
       "      <th>theta_dot_99</th>\n",
       "      <th>phi_dot_99</th>\n",
       "      <th>F</th>\n",
       "      <th>alpha</th>\n",
       "      <th>tao</th>\n",
       "    </tr>\n",
       "  </thead>\n",
       "  <tbody>\n",
       "    <tr>\n",
       "      <th>0</th>\n",
       "      <td>65433</td>\n",
       "      <td>0</td>\n",
       "      <td>0</td>\n",
       "      <td>1.218912</td>\n",
       "      <td>5.279960</td>\n",
       "      <td>-282.178321</td>\n",
       "      <td>25.384868</td>\n",
       "      <td>0.512417</td>\n",
       "      <td>3.815208</td>\n",
       "      <td>-3.826264</td>\n",
       "      <td>6.363681</td>\n",
       "      <td>1.206249</td>\n",
       "      <td>5.278257</td>\n",
       "      <td>-105.213445</td>\n",
       "      <td>612.918946</td>\n",
       "      <td>-9.564721</td>\n",
       "      <td>-6.010770</td>\n",
       "      <td>34711.223602</td>\n",
       "      <td>0.048683</td>\n",
       "      <td>-21546.366304</td>\n",
       "    </tr>\n",
       "    <tr>\n",
       "      <th>1</th>\n",
       "      <td>150408</td>\n",
       "      <td>0</td>\n",
       "      <td>0</td>\n",
       "      <td>0.838372</td>\n",
       "      <td>4.796263</td>\n",
       "      <td>-449.460406</td>\n",
       "      <td>-345.496726</td>\n",
       "      <td>-8.543574</td>\n",
       "      <td>-12.022193</td>\n",
       "      <td>-12.201699</td>\n",
       "      <td>-11.563311</td>\n",
       "      <td>0.803864</td>\n",
       "      <td>4.759027</td>\n",
       "      <td>-773.534180</td>\n",
       "      <td>-806.935424</td>\n",
       "      <td>1.462614</td>\n",
       "      <td>2.249079</td>\n",
       "      <td>30126.798461</td>\n",
       "      <td>3.261109</td>\n",
       "      <td>-23793.182944</td>\n",
       "    </tr>\n",
       "    <tr>\n",
       "      <th>2</th>\n",
       "      <td>100894</td>\n",
       "      <td>0</td>\n",
       "      <td>0</td>\n",
       "      <td>0.700075</td>\n",
       "      <td>3.821712</td>\n",
       "      <td>-15.767140</td>\n",
       "      <td>328.863071</td>\n",
       "      <td>3.711074</td>\n",
       "      <td>1.593024</td>\n",
       "      <td>-1.017825</td>\n",
       "      <td>4.343780</td>\n",
       "      <td>0.702317</td>\n",
       "      <td>3.850536</td>\n",
       "      <td>-84.737423</td>\n",
       "      <td>104.116621</td>\n",
       "      <td>-1.058561</td>\n",
       "      <td>1.566400</td>\n",
       "      <td>12006.327025</td>\n",
       "      <td>3.696790</td>\n",
       "      <td>-80547.398899</td>\n",
       "    </tr>\n",
       "    <tr>\n",
       "      <th>3</th>\n",
       "      <td>10419</td>\n",
       "      <td>0</td>\n",
       "      <td>0</td>\n",
       "      <td>0.846342</td>\n",
       "      <td>4.103379</td>\n",
       "      <td>-217.686826</td>\n",
       "      <td>-70.645510</td>\n",
       "      <td>1.330150</td>\n",
       "      <td>3.882703</td>\n",
       "      <td>-0.230315</td>\n",
       "      <td>-4.312012</td>\n",
       "      <td>0.888065</td>\n",
       "      <td>4.125910</td>\n",
       "      <td>194.865308</td>\n",
       "      <td>-356.245459</td>\n",
       "      <td>0.288916</td>\n",
       "      <td>-1.520441</td>\n",
       "      <td>27004.516941</td>\n",
       "      <td>4.836658</td>\n",
       "      <td>48644.667847</td>\n",
       "    </tr>\n",
       "    <tr>\n",
       "      <th>4</th>\n",
       "      <td>79929</td>\n",
       "      <td>0</td>\n",
       "      <td>0</td>\n",
       "      <td>1.078063</td>\n",
       "      <td>5.255050</td>\n",
       "      <td>-26.858621</td>\n",
       "      <td>-281.889198</td>\n",
       "      <td>4.816433</td>\n",
       "      <td>7.902859</td>\n",
       "      <td>-1.617297</td>\n",
       "      <td>-2.644279</td>\n",
       "      <td>1.313633</td>\n",
       "      <td>4.564085</td>\n",
       "      <td>-236.580539</td>\n",
       "      <td>13.658690</td>\n",
       "      <td>-61.358082</td>\n",
       "      <td>-72.967395</td>\n",
       "      <td>18947.321758</td>\n",
       "      <td>0.730189</td>\n",
       "      <td>-2695.707148</td>\n",
       "    </tr>\n",
       "  </tbody>\n",
       "</table>\n",
       "</div>"
      ],
      "text/plain": [
       "    index  x_0  y_0   theta_0     phi_0     x_dot_0     y_dot_0  theta_dot_0  \\\n",
       "0   65433    0    0  1.218912  5.279960 -282.178321   25.384868     0.512417   \n",
       "1  150408    0    0  0.838372  4.796263 -449.460406 -345.496726    -8.543574   \n",
       "2  100894    0    0  0.700075  3.821712  -15.767140  328.863071     3.711074   \n",
       "3   10419    0    0  0.846342  4.103379 -217.686826  -70.645510     1.330150   \n",
       "4   79929    0    0  1.078063  5.255050  -26.858621 -281.889198     4.816433   \n",
       "\n",
       "   phi_dot_0       x_99       y_99  theta_99    phi_99    x_dot_99  \\\n",
       "0   3.815208  -3.826264   6.363681  1.206249  5.278257 -105.213445   \n",
       "1 -12.022193 -12.201699 -11.563311  0.803864  4.759027 -773.534180   \n",
       "2   1.593024  -1.017825   4.343780  0.702317  3.850536  -84.737423   \n",
       "3   3.882703  -0.230315  -4.312012  0.888065  4.125910  194.865308   \n",
       "4   7.902859  -1.617297  -2.644279  1.313633  4.564085 -236.580539   \n",
       "\n",
       "     y_dot_99  theta_dot_99  phi_dot_99             F     alpha           tao  \n",
       "0  612.918946     -9.564721   -6.010770  34711.223602  0.048683 -21546.366304  \n",
       "1 -806.935424      1.462614    2.249079  30126.798461  3.261109 -23793.182944  \n",
       "2  104.116621     -1.058561    1.566400  12006.327025  3.696790 -80547.398899  \n",
       "3 -356.245459      0.288916   -1.520441  27004.516941  4.836658  48644.667847  \n",
       "4   13.658690    -61.358082  -72.967395  18947.321758  0.730189  -2695.707148  "
      ]
     },
     "execution_count": 149,
     "metadata": {},
     "output_type": "execute_result"
    }
   ],
   "source": [
    "s1 = combDF.iloc[:, np.hstack([np.arange(0,8),np.arange(792,800), [801, 802, 803]])].sample(1000, random_state = 1234)\n",
    "s1.reset_index(inplace = True)\n",
    "\n",
    "# set x_0 and y_0 to (0,0)  -- refref: may want to do this for training, actually\n",
    "s1.x_99 = s1.x_99 - s1.x_0\n",
    "s1.y_99 = s1.y_99 - s1.y_0\n",
    "\n",
    "s1.x_0 = 0\n",
    "s1.y_0 = 0\n",
    "\n",
    "s1.head()"
   ]
  },
  {
   "cell_type": "code",
   "execution_count": 150,
   "metadata": {},
   "outputs": [
    {
     "data": {
      "text/plain": [
       "Index(['index', 'x_0', 'y_0', 'theta_0', 'phi_0', 'x_dot_0', 'y_dot_0',\n",
       "       'theta_dot_0', 'phi_dot_0', 'x_99', 'y_99', 'theta_99', 'phi_99',\n",
       "       'x_dot_99', 'y_dot_99', 'theta_dot_99', 'phi_dot_99', 'F', 'alpha',\n",
       "       'tao'],\n",
       "      dtype='object')"
      ]
     },
     "execution_count": 150,
     "metadata": {},
     "output_type": "execute_result"
    }
   ],
   "source": [
    "s1.columns"
   ]
  },
  {
   "cell_type": "code",
   "execution_count": 152,
   "metadata": {},
   "outputs": [
    {
     "data": {
      "text/html": [
       "<div>\n",
       "<style>\n",
       "    .dataframe thead tr:only-child th {\n",
       "        text-align: right;\n",
       "    }\n",
       "\n",
       "    .dataframe thead th {\n",
       "        text-align: left;\n",
       "    }\n",
       "\n",
       "    .dataframe tbody tr th {\n",
       "        vertical-align: top;\n",
       "    }\n",
       "</style>\n",
       "<table border=\"1\" class=\"dataframe\">\n",
       "  <thead>\n",
       "    <tr style=\"text-align: right;\">\n",
       "      <th></th>\n",
       "      <th>index</th>\n",
       "      <th>x_0</th>\n",
       "      <th>y_0</th>\n",
       "      <th>theta_0</th>\n",
       "      <th>phi_0</th>\n",
       "      <th>x_dot_0</th>\n",
       "      <th>y_dot_0</th>\n",
       "      <th>theta_dot_0</th>\n",
       "      <th>phi_dot_0</th>\n",
       "      <th>x_99</th>\n",
       "      <th>y_99</th>\n",
       "      <th>theta_99</th>\n",
       "      <th>phi_99</th>\n",
       "      <th>x_dot_99</th>\n",
       "      <th>y_dot_99</th>\n",
       "      <th>theta_dot_99</th>\n",
       "      <th>phi_dot_99</th>\n",
       "    </tr>\n",
       "  </thead>\n",
       "  <tbody>\n",
       "    <tr>\n",
       "      <th>995</th>\n",
       "      <td>5507</td>\n",
       "      <td>0</td>\n",
       "      <td>0</td>\n",
       "      <td>0.801778</td>\n",
       "      <td>3.999793</td>\n",
       "      <td>-107.650328</td>\n",
       "      <td>-12.338765</td>\n",
       "      <td>-0.414259</td>\n",
       "      <td>2.563437</td>\n",
       "      <td>-10.480517</td>\n",
       "      <td>6.348220</td>\n",
       "      <td>1.252464</td>\n",
       "      <td>5.797655</td>\n",
       "      <td>-419.340991</td>\n",
       "      <td>446.892834</td>\n",
       "      <td>2.538909</td>\n",
       "      <td>3.692815</td>\n",
       "    </tr>\n",
       "    <tr>\n",
       "      <th>996</th>\n",
       "      <td>136712</td>\n",
       "      <td>0</td>\n",
       "      <td>0</td>\n",
       "      <td>0.955304</td>\n",
       "      <td>4.164625</td>\n",
       "      <td>358.629417</td>\n",
       "      <td>106.590516</td>\n",
       "      <td>-1.535126</td>\n",
       "      <td>1.243797</td>\n",
       "      <td>4.825600</td>\n",
       "      <td>2.129829</td>\n",
       "      <td>0.921581</td>\n",
       "      <td>4.293083</td>\n",
       "      <td>332.464250</td>\n",
       "      <td>44.927067</td>\n",
       "      <td>-2.521983</td>\n",
       "      <td>0.663849</td>\n",
       "    </tr>\n",
       "    <tr>\n",
       "      <th>997</th>\n",
       "      <td>194771</td>\n",
       "      <td>0</td>\n",
       "      <td>0</td>\n",
       "      <td>0.784979</td>\n",
       "      <td>4.833840</td>\n",
       "      <td>-281.967130</td>\n",
       "      <td>139.946079</td>\n",
       "      <td>-13.089813</td>\n",
       "      <td>-13.995425</td>\n",
       "      <td>0.111581</td>\n",
       "      <td>-7.222963</td>\n",
       "      <td>0.663903</td>\n",
       "      <td>3.765613</td>\n",
       "      <td>-35.708018</td>\n",
       "      <td>-460.479984</td>\n",
       "      <td>-1.891207</td>\n",
       "      <td>0.160552</td>\n",
       "    </tr>\n",
       "    <tr>\n",
       "      <th>998</th>\n",
       "      <td>47559</td>\n",
       "      <td>0</td>\n",
       "      <td>0</td>\n",
       "      <td>1.268370</td>\n",
       "      <td>5.061921</td>\n",
       "      <td>-336.872765</td>\n",
       "      <td>188.762640</td>\n",
       "      <td>1.454598</td>\n",
       "      <td>4.905653</td>\n",
       "      <td>6.361284</td>\n",
       "      <td>7.205744</td>\n",
       "      <td>0.722216</td>\n",
       "      <td>3.781973</td>\n",
       "      <td>539.799070</td>\n",
       "      <td>285.424061</td>\n",
       "      <td>-2.763494</td>\n",
       "      <td>-2.387397</td>\n",
       "    </tr>\n",
       "    <tr>\n",
       "      <th>999</th>\n",
       "      <td>139087</td>\n",
       "      <td>0</td>\n",
       "      <td>0</td>\n",
       "      <td>0.976205</td>\n",
       "      <td>4.220369</td>\n",
       "      <td>-236.665843</td>\n",
       "      <td>-345.225384</td>\n",
       "      <td>1.014989</td>\n",
       "      <td>4.355812</td>\n",
       "      <td>5.379149</td>\n",
       "      <td>2.417871</td>\n",
       "      <td>0.886119</td>\n",
       "      <td>4.166709</td>\n",
       "      <td>259.407246</td>\n",
       "      <td>91.894908</td>\n",
       "      <td>0.854763</td>\n",
       "      <td>0.984045</td>\n",
       "    </tr>\n",
       "  </tbody>\n",
       "</table>\n",
       "</div>"
      ],
      "text/plain": [
       "      index  x_0  y_0   theta_0     phi_0     x_dot_0     y_dot_0  \\\n",
       "995    5507    0    0  0.801778  3.999793 -107.650328  -12.338765   \n",
       "996  136712    0    0  0.955304  4.164625  358.629417  106.590516   \n",
       "997  194771    0    0  0.784979  4.833840 -281.967130  139.946079   \n",
       "998   47559    0    0  1.268370  5.061921 -336.872765  188.762640   \n",
       "999  139087    0    0  0.976205  4.220369 -236.665843 -345.225384   \n",
       "\n",
       "     theta_dot_0  phi_dot_0       x_99      y_99  theta_99    phi_99  \\\n",
       "995    -0.414259   2.563437 -10.480517  6.348220  1.252464  5.797655   \n",
       "996    -1.535126   1.243797   4.825600  2.129829  0.921581  4.293083   \n",
       "997   -13.089813 -13.995425   0.111581 -7.222963  0.663903  3.765613   \n",
       "998     1.454598   4.905653   6.361284  7.205744  0.722216  3.781973   \n",
       "999     1.014989   4.355812   5.379149  2.417871  0.886119  4.166709   \n",
       "\n",
       "       x_dot_99    y_dot_99  theta_dot_99  phi_dot_99  \n",
       "995 -419.340991  446.892834      2.538909    3.692815  \n",
       "996  332.464250   44.927067     -2.521983    0.663849  \n",
       "997  -35.708018 -460.479984     -1.891207    0.160552  \n",
       "998  539.799070  285.424061     -2.763494   -2.387397  \n",
       "999  259.407246   91.894908      0.854763    0.984045  "
      ]
     },
     "execution_count": 152,
     "metadata": {},
     "output_type": "execute_result"
    }
   ],
   "source": [
    "sTemp = s1.loc[:, ['x_99', 'y_99', 'theta_99', 'phi_99',\n",
    "       'x_dot_99', 'y_dot_99', 'theta_dot_99', 'phi_dot_99']]\n",
    "sInit = s1.loc[:, ['index', 'x_0', 'y_0', 'theta_0', 'phi_0', 'x_dot_0', 'y_dot_0',\n",
    "       'theta_dot_0', 'phi_dot_0']]\n",
    "\n",
    "shuff = sTemp.sample(sTemp.shape[0], random_state = 12346)\n",
    "shuff2 = pd.concat([sInit, shuff.reset_index(drop = True)], axis = 1)\n",
    "\n",
    "\n",
    "\n",
    "shuff2.tail()"
   ]
  },
  {
   "cell_type": "code",
   "execution_count": 155,
   "metadata": {},
   "outputs": [
    {
     "data": {
      "text/html": [
       "<div>\n",
       "<style>\n",
       "    .dataframe thead tr:only-child th {\n",
       "        text-align: right;\n",
       "    }\n",
       "\n",
       "    .dataframe thead th {\n",
       "        text-align: left;\n",
       "    }\n",
       "\n",
       "    .dataframe tbody tr th {\n",
       "        vertical-align: top;\n",
       "    }\n",
       "</style>\n",
       "<table border=\"1\" class=\"dataframe\">\n",
       "  <thead>\n",
       "    <tr style=\"text-align: right;\">\n",
       "      <th></th>\n",
       "      <th>tao_pred</th>\n",
       "      <th>Fx_pred</th>\n",
       "      <th>Fy_pred</th>\n",
       "      <th>F_pred</th>\n",
       "      <th>alpha_pred</th>\n",
       "    </tr>\n",
       "  </thead>\n",
       "  <tbody>\n",
       "    <tr>\n",
       "      <th>0</th>\n",
       "      <td>16601.974774</td>\n",
       "      <td>-1621.117454</td>\n",
       "      <td>-69098.153810</td>\n",
       "      <td>69117.167778</td>\n",
       "      <td>4.688932</td>\n",
       "    </tr>\n",
       "    <tr>\n",
       "      <th>1</th>\n",
       "      <td>83496.000653</td>\n",
       "      <td>57956.667506</td>\n",
       "      <td>1473.863259</td>\n",
       "      <td>57975.404969</td>\n",
       "      <td>0.025425</td>\n",
       "    </tr>\n",
       "    <tr>\n",
       "      <th>2</th>\n",
       "      <td>-68361.889712</td>\n",
       "      <td>23884.092755</td>\n",
       "      <td>7635.246273</td>\n",
       "      <td>25074.825471</td>\n",
       "      <td>0.309412</td>\n",
       "    </tr>\n",
       "    <tr>\n",
       "      <th>3</th>\n",
       "      <td>77502.226584</td>\n",
       "      <td>-29914.932641</td>\n",
       "      <td>-15472.614148</td>\n",
       "      <td>33679.444525</td>\n",
       "      <td>3.618922</td>\n",
       "    </tr>\n",
       "    <tr>\n",
       "      <th>4</th>\n",
       "      <td>-102411.664405</td>\n",
       "      <td>22304.911324</td>\n",
       "      <td>80429.708991</td>\n",
       "      <td>83465.245208</td>\n",
       "      <td>1.300273</td>\n",
       "    </tr>\n",
       "  </tbody>\n",
       "</table>\n",
       "</div>"
      ],
      "text/plain": [
       "        tao_pred       Fx_pred       Fy_pred        F_pred  alpha_pred\n",
       "0   16601.974774  -1621.117454 -69098.153810  69117.167778    4.688932\n",
       "1   83496.000653  57956.667506   1473.863259  57975.404969    0.025425\n",
       "2  -68361.889712  23884.092755   7635.246273  25074.825471    0.309412\n",
       "3   77502.226584 -29914.932641 -15472.614148  33679.444525    3.618922\n",
       "4 -102411.664405  22304.911324  80429.708991  83465.245208    1.300273"
      ]
     },
     "execution_count": 155,
     "metadata": {},
     "output_type": "execute_result"
    }
   ],
   "source": [
    "# predictions\n",
    "XX_scaled = scalerX.transform(shuff2.iloc[:, 1:17])\n",
    "nnpreds3 = nnMod.predict(XX_scaled)\n",
    "\n",
    "# add preds back to data frame\n",
    "nn_back = scalerY.inverse_transform(nnpreds3)\n",
    "preds1 = pd.DataFrame(nn_back)\n",
    "preds1.columns = [\"tao_pred\", \"Fx_pred\", \"Fy_pred\"]\n",
    "preds1[\"F_pred\"] = np.sqrt(preds1.Fx_pred **2 + preds1.Fy_pred **2)\n",
    "\n",
    "\n",
    "pre_alpha = np.arctan2(preds1.Fy_pred, preds1.Fx_pred )\n",
    "alpha = pre_alpha.copy()\n",
    "\n",
    "for ii in pre_alpha.index:\n",
    "    if (preds1.Fy_pred[ii] > 0) :\n",
    "        alpha[ii] = pre_alpha[ii]\n",
    "    else:\n",
    "        alpha[ii] = (2*np.pi) + pre_alpha[ii]\n",
    "        \n",
    "preds1[\"alpha_pred\"] = alpha\n",
    "\n",
    "\n",
    "preds1.head()"
   ]
  },
  {
   "cell_type": "code",
   "execution_count": 156,
   "metadata": {},
   "outputs": [
    {
     "data": {
      "text/html": [
       "<div>\n",
       "<style>\n",
       "    .dataframe thead tr:only-child th {\n",
       "        text-align: right;\n",
       "    }\n",
       "\n",
       "    .dataframe thead th {\n",
       "        text-align: left;\n",
       "    }\n",
       "\n",
       "    .dataframe tbody tr th {\n",
       "        vertical-align: top;\n",
       "    }\n",
       "</style>\n",
       "<table border=\"1\" class=\"dataframe\">\n",
       "  <thead>\n",
       "    <tr style=\"text-align: right;\">\n",
       "      <th></th>\n",
       "      <th>index</th>\n",
       "      <th>x_0</th>\n",
       "      <th>y_0</th>\n",
       "      <th>theta_0</th>\n",
       "      <th>phi_0</th>\n",
       "      <th>x_dot_0</th>\n",
       "      <th>y_dot_0</th>\n",
       "      <th>theta_dot_0</th>\n",
       "      <th>phi_dot_0</th>\n",
       "      <th>x_99</th>\n",
       "      <th>...</th>\n",
       "      <th>phi_99</th>\n",
       "      <th>x_dot_99</th>\n",
       "      <th>y_dot_99</th>\n",
       "      <th>theta_dot_99</th>\n",
       "      <th>phi_dot_99</th>\n",
       "      <th>tao_pred</th>\n",
       "      <th>Fx_pred</th>\n",
       "      <th>Fy_pred</th>\n",
       "      <th>F_pred</th>\n",
       "      <th>alpha_pred</th>\n",
       "    </tr>\n",
       "  </thead>\n",
       "  <tbody>\n",
       "    <tr>\n",
       "      <th>0</th>\n",
       "      <td>65433</td>\n",
       "      <td>0</td>\n",
       "      <td>0</td>\n",
       "      <td>1.218912</td>\n",
       "      <td>5.279960</td>\n",
       "      <td>-282.178321</td>\n",
       "      <td>25.384868</td>\n",
       "      <td>0.512417</td>\n",
       "      <td>3.815208</td>\n",
       "      <td>8.747397</td>\n",
       "      <td>...</td>\n",
       "      <td>4.648057</td>\n",
       "      <td>587.301544</td>\n",
       "      <td>-427.003455</td>\n",
       "      <td>-1.703149</td>\n",
       "      <td>-1.641784</td>\n",
       "      <td>16601.974774</td>\n",
       "      <td>-1621.117454</td>\n",
       "      <td>-69098.153810</td>\n",
       "      <td>69117.167778</td>\n",
       "      <td>4.688932</td>\n",
       "    </tr>\n",
       "    <tr>\n",
       "      <th>1</th>\n",
       "      <td>150408</td>\n",
       "      <td>0</td>\n",
       "      <td>0</td>\n",
       "      <td>0.838372</td>\n",
       "      <td>4.796263</td>\n",
       "      <td>-449.460406</td>\n",
       "      <td>-345.496726</td>\n",
       "      <td>-8.543574</td>\n",
       "      <td>-12.022193</td>\n",
       "      <td>-1.908333</td>\n",
       "      <td>...</td>\n",
       "      <td>4.456775</td>\n",
       "      <td>-92.358492</td>\n",
       "      <td>158.216372</td>\n",
       "      <td>2.340360</td>\n",
       "      <td>3.005993</td>\n",
       "      <td>83496.000653</td>\n",
       "      <td>57956.667506</td>\n",
       "      <td>1473.863259</td>\n",
       "      <td>57975.404969</td>\n",
       "      <td>0.025425</td>\n",
       "    </tr>\n",
       "    <tr>\n",
       "      <th>2</th>\n",
       "      <td>100894</td>\n",
       "      <td>0</td>\n",
       "      <td>0</td>\n",
       "      <td>0.700075</td>\n",
       "      <td>3.821712</td>\n",
       "      <td>-15.767140</td>\n",
       "      <td>328.863071</td>\n",
       "      <td>3.711074</td>\n",
       "      <td>1.593024</td>\n",
       "      <td>2.132820</td>\n",
       "      <td>...</td>\n",
       "      <td>4.010811</td>\n",
       "      <td>172.414994</td>\n",
       "      <td>759.272579</td>\n",
       "      <td>2.461602</td>\n",
       "      <td>3.051731</td>\n",
       "      <td>-68361.889712</td>\n",
       "      <td>23884.092755</td>\n",
       "      <td>7635.246273</td>\n",
       "      <td>25074.825471</td>\n",
       "      <td>0.309412</td>\n",
       "    </tr>\n",
       "    <tr>\n",
       "      <th>3</th>\n",
       "      <td>10419</td>\n",
       "      <td>0</td>\n",
       "      <td>0</td>\n",
       "      <td>0.846342</td>\n",
       "      <td>4.103379</td>\n",
       "      <td>-217.686826</td>\n",
       "      <td>-70.645510</td>\n",
       "      <td>1.330150</td>\n",
       "      <td>3.882703</td>\n",
       "      <td>-3.852715</td>\n",
       "      <td>...</td>\n",
       "      <td>3.821599</td>\n",
       "      <td>-160.859157</td>\n",
       "      <td>-331.639394</td>\n",
       "      <td>1.411461</td>\n",
       "      <td>-1.694321</td>\n",
       "      <td>77502.226584</td>\n",
       "      <td>-29914.932641</td>\n",
       "      <td>-15472.614148</td>\n",
       "      <td>33679.444525</td>\n",
       "      <td>3.618922</td>\n",
       "    </tr>\n",
       "    <tr>\n",
       "      <th>4</th>\n",
       "      <td>79929</td>\n",
       "      <td>0</td>\n",
       "      <td>0</td>\n",
       "      <td>1.078063</td>\n",
       "      <td>5.255050</td>\n",
       "      <td>-26.858621</td>\n",
       "      <td>-281.889198</td>\n",
       "      <td>4.816433</td>\n",
       "      <td>7.902859</td>\n",
       "      <td>-17.125379</td>\n",
       "      <td>...</td>\n",
       "      <td>5.841108</td>\n",
       "      <td>-737.571312</td>\n",
       "      <td>272.005264</td>\n",
       "      <td>1.702976</td>\n",
       "      <td>-0.207120</td>\n",
       "      <td>-102411.664405</td>\n",
       "      <td>22304.911324</td>\n",
       "      <td>80429.708991</td>\n",
       "      <td>83465.245208</td>\n",
       "      <td>1.300273</td>\n",
       "    </tr>\n",
       "  </tbody>\n",
       "</table>\n",
       "<p>5 rows × 22 columns</p>\n",
       "</div>"
      ],
      "text/plain": [
       "    index  x_0  y_0   theta_0     phi_0     x_dot_0     y_dot_0  theta_dot_0  \\\n",
       "0   65433    0    0  1.218912  5.279960 -282.178321   25.384868     0.512417   \n",
       "1  150408    0    0  0.838372  4.796263 -449.460406 -345.496726    -8.543574   \n",
       "2  100894    0    0  0.700075  3.821712  -15.767140  328.863071     3.711074   \n",
       "3   10419    0    0  0.846342  4.103379 -217.686826  -70.645510     1.330150   \n",
       "4   79929    0    0  1.078063  5.255050  -26.858621 -281.889198     4.816433   \n",
       "\n",
       "   phi_dot_0       x_99     ...        phi_99    x_dot_99    y_dot_99  \\\n",
       "0   3.815208   8.747397     ...      4.648057  587.301544 -427.003455   \n",
       "1 -12.022193  -1.908333     ...      4.456775  -92.358492  158.216372   \n",
       "2   1.593024   2.132820     ...      4.010811  172.414994  759.272579   \n",
       "3   3.882703  -3.852715     ...      3.821599 -160.859157 -331.639394   \n",
       "4   7.902859 -17.125379     ...      5.841108 -737.571312  272.005264   \n",
       "\n",
       "   theta_dot_99  phi_dot_99       tao_pred       Fx_pred       Fy_pred  \\\n",
       "0     -1.703149   -1.641784   16601.974774  -1621.117454 -69098.153810   \n",
       "1      2.340360    3.005993   83496.000653  57956.667506   1473.863259   \n",
       "2      2.461602    3.051731  -68361.889712  23884.092755   7635.246273   \n",
       "3      1.411461   -1.694321   77502.226584 -29914.932641 -15472.614148   \n",
       "4      1.702976   -0.207120 -102411.664405  22304.911324  80429.708991   \n",
       "\n",
       "         F_pred  alpha_pred  \n",
       "0  69117.167778    4.688932  \n",
       "1  57975.404969    0.025425  \n",
       "2  25074.825471    0.309412  \n",
       "3  33679.444525    3.618922  \n",
       "4  83465.245208    1.300273  \n",
       "\n",
       "[5 rows x 22 columns]"
      ]
     },
     "execution_count": 156,
     "metadata": {},
     "output_type": "execute_result"
    }
   ],
   "source": [
    "s2_1 = pd.concat([shuff2, preds1], axis = 1)\n",
    "s2_1.head()"
   ]
  },
  {
   "cell_type": "code",
   "execution_count": 157,
   "metadata": {},
   "outputs": [
    {
     "name": "stdout",
     "output_type": "stream",
     "text": [
      "/Users/cswitzer/Dropbox/mothMachineLearning_dataAndFigs/Data/\n"
     ]
    },
    {
     "data": {
      "text/html": [
       "<div>\n",
       "<style>\n",
       "    .dataframe thead tr:only-child th {\n",
       "        text-align: right;\n",
       "    }\n",
       "\n",
       "    .dataframe thead th {\n",
       "        text-align: left;\n",
       "    }\n",
       "\n",
       "    .dataframe tbody tr th {\n",
       "        vertical-align: top;\n",
       "    }\n",
       "</style>\n",
       "<table border=\"1\" class=\"dataframe\">\n",
       "  <thead>\n",
       "    <tr style=\"text-align: right;\">\n",
       "      <th></th>\n",
       "      <th>x_0</th>\n",
       "      <th>y_0</th>\n",
       "      <th>theta_0</th>\n",
       "      <th>phi_0</th>\n",
       "      <th>x_dot_0</th>\n",
       "      <th>y_dot_0</th>\n",
       "      <th>theta_dot_0</th>\n",
       "      <th>phi_dot_0</th>\n",
       "      <th>tao_pred</th>\n",
       "      <th>F_pred</th>\n",
       "      <th>alpha_pred</th>\n",
       "    </tr>\n",
       "  </thead>\n",
       "  <tbody>\n",
       "    <tr>\n",
       "      <th>0</th>\n",
       "      <td>0</td>\n",
       "      <td>0</td>\n",
       "      <td>1.218912</td>\n",
       "      <td>5.279960</td>\n",
       "      <td>-282.178321</td>\n",
       "      <td>25.384868</td>\n",
       "      <td>0.512417</td>\n",
       "      <td>3.815208</td>\n",
       "      <td>16601.974774</td>\n",
       "      <td>69117.167778</td>\n",
       "      <td>4.688932</td>\n",
       "    </tr>\n",
       "    <tr>\n",
       "      <th>1</th>\n",
       "      <td>0</td>\n",
       "      <td>0</td>\n",
       "      <td>0.838372</td>\n",
       "      <td>4.796263</td>\n",
       "      <td>-449.460406</td>\n",
       "      <td>-345.496726</td>\n",
       "      <td>-8.543574</td>\n",
       "      <td>-12.022193</td>\n",
       "      <td>83496.000653</td>\n",
       "      <td>57975.404969</td>\n",
       "      <td>0.025425</td>\n",
       "    </tr>\n",
       "    <tr>\n",
       "      <th>2</th>\n",
       "      <td>0</td>\n",
       "      <td>0</td>\n",
       "      <td>0.700075</td>\n",
       "      <td>3.821712</td>\n",
       "      <td>-15.767140</td>\n",
       "      <td>328.863071</td>\n",
       "      <td>3.711074</td>\n",
       "      <td>1.593024</td>\n",
       "      <td>-68361.889712</td>\n",
       "      <td>25074.825471</td>\n",
       "      <td>0.309412</td>\n",
       "    </tr>\n",
       "    <tr>\n",
       "      <th>3</th>\n",
       "      <td>0</td>\n",
       "      <td>0</td>\n",
       "      <td>0.846342</td>\n",
       "      <td>4.103379</td>\n",
       "      <td>-217.686826</td>\n",
       "      <td>-70.645510</td>\n",
       "      <td>1.330150</td>\n",
       "      <td>3.882703</td>\n",
       "      <td>77502.226584</td>\n",
       "      <td>33679.444525</td>\n",
       "      <td>3.618922</td>\n",
       "    </tr>\n",
       "    <tr>\n",
       "      <th>4</th>\n",
       "      <td>0</td>\n",
       "      <td>0</td>\n",
       "      <td>1.078063</td>\n",
       "      <td>5.255050</td>\n",
       "      <td>-26.858621</td>\n",
       "      <td>-281.889198</td>\n",
       "      <td>4.816433</td>\n",
       "      <td>7.902859</td>\n",
       "      <td>-102411.664405</td>\n",
       "      <td>83465.245208</td>\n",
       "      <td>1.300273</td>\n",
       "    </tr>\n",
       "  </tbody>\n",
       "</table>\n",
       "</div>"
      ],
      "text/plain": [
       "   x_0  y_0   theta_0     phi_0     x_dot_0     y_dot_0  theta_dot_0  \\\n",
       "0    0    0  1.218912  5.279960 -282.178321   25.384868     0.512417   \n",
       "1    0    0  0.838372  4.796263 -449.460406 -345.496726    -8.543574   \n",
       "2    0    0  0.700075  3.821712  -15.767140  328.863071     3.711074   \n",
       "3    0    0  0.846342  4.103379 -217.686826  -70.645510     1.330150   \n",
       "4    0    0  1.078063  5.255050  -26.858621 -281.889198     4.816433   \n",
       "\n",
       "   phi_dot_0       tao_pred        F_pred  alpha_pred  \n",
       "0   3.815208   16601.974774  69117.167778    4.688932  \n",
       "1 -12.022193   83496.000653  57975.404969    0.025425  \n",
       "2   1.593024  -68361.889712  25074.825471    0.309412  \n",
       "3   3.882703   77502.226584  33679.444525    3.618922  \n",
       "4   7.902859 -102411.664405  83465.245208    1.300273  "
      ]
     },
     "execution_count": 157,
     "metadata": {},
     "output_type": "execute_result"
    }
   ],
   "source": [
    "s2_1.to_csv(os.path.join(dataDir, \"simulationData4_withFinal.csv\"), index=False)\n",
    "print(dataDir)\n",
    "\n",
    "simSet1 = s2_1.loc[:, ['x_0', 'y_0', 'theta_0', 'phi_0', 'x_dot_0', 'y_dot_0', 'theta_dot_0',\n",
    "       'phi_dot_0', 'tao_pred','F_pred','alpha_pred']]\n",
    "\n",
    "\n",
    "simSet1.to_csv(os.path.join(dataDir, \"simulationDataset4_blinded.csv\"), index=False)\n",
    "simSet1.head()"
   ]
  },
  {
   "cell_type": "code",
   "execution_count": null,
   "metadata": {
    "collapsed": true
   },
   "outputs": [],
   "source": [
    "# refref: might get better predictions if we set initial X and Y to (0,0) and\n",
    "# and transform output X and Y relative to the start"
   ]
  },
  {
   "cell_type": "code",
   "execution_count": null,
   "metadata": {
    "collapsed": true
   },
   "outputs": [],
   "source": []
  },
  {
   "cell_type": "code",
   "execution_count": null,
   "metadata": {
    "collapsed": true
   },
   "outputs": [],
   "source": []
  },
  {
   "cell_type": "code",
   "execution_count": null,
   "metadata": {
    "collapsed": true
   },
   "outputs": [],
   "source": []
  },
  {
   "cell_type": "code",
   "execution_count": null,
   "metadata": {
    "collapsed": true
   },
   "outputs": [],
   "source": []
  },
  {
   "cell_type": "code",
   "execution_count": null,
   "metadata": {
    "collapsed": true
   },
   "outputs": [],
   "source": []
  },
  {
   "cell_type": "code",
   "execution_count": null,
   "metadata": {
    "collapsed": true
   },
   "outputs": [],
   "source": []
  },
  {
   "cell_type": "code",
   "execution_count": null,
   "metadata": {
    "collapsed": true
   },
   "outputs": [],
   "source": []
  },
  {
   "cell_type": "code",
   "execution_count": null,
   "metadata": {
    "collapsed": true
   },
   "outputs": [],
   "source": []
  },
  {
   "cell_type": "markdown",
   "metadata": {},
   "source": [
    "--- Dataset to check in Jorge's simulation ---"
   ]
  },
  {
   "cell_type": "code",
   "execution_count": null,
   "metadata": {},
   "outputs": [],
   "source": [
    "## generate dataset for Jorge to send to model\n",
    "s1 = combDF.iloc[:, np.hstack([np.arange(0,8),np.arange(792,800), [801, 802, 803]])].sample(1000)\n",
    "s1.head()"
   ]
  },
  {
   "cell_type": "code",
   "execution_count": null,
   "metadata": {
    "collapsed": true
   },
   "outputs": [],
   "source": [
    "# predictions\n",
    "XX_scaled = scalerX.transform(s1.iloc[:, 0:16])\n",
    "nnpreds2 = nnMod.predict(XX_scaled)"
   ]
  },
  {
   "cell_type": "code",
   "execution_count": null,
   "metadata": {},
   "outputs": [],
   "source": [
    "s1.iloc[:, 0:16].shape"
   ]
  },
  {
   "cell_type": "code",
   "execution_count": null,
   "metadata": {
    "collapsed": true
   },
   "outputs": [],
   "source": [
    "s1[\"Fx\"] = s1.F * np.cos(s1.alpha)\n",
    "s1[\"Fy\"] = s1.F * np.sin(s1.alpha)\n",
    "s1.head()"
   ]
  },
  {
   "cell_type": "code",
   "execution_count": null,
   "metadata": {},
   "outputs": [],
   "source": [
    "# compute F, alpha, to double check\n",
    "s1[\"F_\"] = np.sqrt(s1.Fx **2 + s1.Fy **2)\n",
    "\n",
    "\n",
    "pre_alpha = np.arctan2(s1.Fy, s1.Fx )\n",
    "alpha = pre_alpha.copy()\n",
    "\n",
    "for ii in pre_alpha.index:\n",
    "    if (s1.Fy[ii] > 0) :\n",
    "        alpha[ii] = pre_alpha[ii]\n",
    "    else:\n",
    "        alpha[ii] = (2*np.pi) + pre_alpha[ii]\n",
    "        \n",
    "s1[\"alpha_\"] = alpha\n",
    "s1.head()"
   ]
  },
  {
   "cell_type": "code",
   "execution_count": null,
   "metadata": {},
   "outputs": [],
   "source": [
    "YY_scaled = scalerY.transform(s1.iloc[:, [18, 19, 20]])\n",
    "pd.DataFrame(YY_scaled).head()"
   ]
  },
  {
   "cell_type": "code",
   "execution_count": null,
   "metadata": {},
   "outputs": [],
   "source": [
    "# plot to double-check\n",
    "plt.close(\"all\")\n",
    "fig, axs = plt.subplots(1,3, figsize=(15, 5), facecolor='w', edgecolor='k')\n",
    "fig.subplots_adjust(hspace = 0.1, wspace=0.3)\n",
    "fig.suptitle('Predicted vs. acutal for subset', fontsize=14, fontweight='bold')\n",
    "\n",
    "axs = axs.ravel()\n",
    "\n",
    "# convert back to original values\n",
    "nn_back = scalerY.inverse_transform(nnpreds2)\n",
    "YY_orig = s1.iloc[:, [18, 19, 20]]\n",
    "\n",
    "\n",
    "for ii in range(3):\n",
    "    # read in image\n",
    "    \n",
    "    try:\n",
    "        axs[ii].scatter(y = YY_orig.iloc[:,ii],x = nn_back[:,ii], s = 1 )\n",
    "        axs[ii].set_xlabel(\"Predicted Value (scaled)\")\n",
    "        if(ii == 0):\n",
    "            axs[ii].set_ylabel(\"Actual Value\\n(scaled)\")\n",
    "        axs[ii].set_title(nms[ii])\n",
    "        axs[ii].plot(nn_back[:,ii], nn_back[:,ii], 'b')\n",
    "    except:\n",
    "        pass"
   ]
  },
  {
   "cell_type": "code",
   "execution_count": null,
   "metadata": {},
   "outputs": [],
   "source": [
    "# add predictions to data frame\n",
    "preds1 = pd.DataFrame(nn_back)\n",
    "preds1.columns = [\"tao_pred\", \"Fx_pred\", \"Fy_pred\"]\n",
    "preds1.head()"
   ]
  },
  {
   "cell_type": "code",
   "execution_count": null,
   "metadata": {},
   "outputs": [],
   "source": [
    "cc2 = pd.concat([s1.reset_index(drop=True), preds1.reset_index(drop=True)], axis = 1)\n",
    "cc2.head()"
   ]
  },
  {
   "cell_type": "code",
   "execution_count": null,
   "metadata": {
    "collapsed": true
   },
   "outputs": [],
   "source": [
    "cc2[\"F_pred\"] = np.sqrt(cc2.Fx_pred **2 + cc2.Fy_pred **2)\n",
    "\n",
    "\n",
    "pre_alpha = np.arctan2(cc2.Fy_pred, cc2.Fx_pred )\n",
    "alpha = pre_alpha.copy()\n",
    "\n",
    "for ii in pre_alpha.index:\n",
    "    if (cc2.Fy_pred[ii] > 0) :\n",
    "        alpha[ii] = pre_alpha[ii]\n",
    "    else:\n",
    "        alpha[ii] = (2*np.pi) + pre_alpha[ii]\n",
    "        \n",
    "cc2[\"alpha_pred\"] = alpha"
   ]
  },
  {
   "cell_type": "code",
   "execution_count": null,
   "metadata": {},
   "outputs": [],
   "source": [
    "cc2.head()"
   ]
  },
  {
   "cell_type": "code",
   "execution_count": null,
   "metadata": {},
   "outputs": [],
   "source": [
    "cc2.columns"
   ]
  },
  {
   "cell_type": "code",
   "execution_count": null,
   "metadata": {},
   "outputs": [],
   "source": [
    "cc2.to_csv(os.path.join(dataDir, \"simulationData1_withFinal.csv\"), index=False)\n",
    "print(dataDir)"
   ]
  },
  {
   "cell_type": "code",
   "execution_count": null,
   "metadata": {},
   "outputs": [],
   "source": [
    "simSet1 = cc2.loc[:, ['x_0', 'y_0', 'theta_0', 'phi_0', 'x_dot_0', 'y_dot_0', 'theta_dot_0',\n",
    "       'phi_dot_0', 'tao_pred','F_pred','alpha_pred']]\n",
    "simSet1.head()"
   ]
  },
  {
   "cell_type": "code",
   "execution_count": null,
   "metadata": {},
   "outputs": [],
   "source": [
    "simSet1.to_csv(os.path.join(dataDir, \"simulationDataset1_blinded.csv\"), index=False)\n",
    "print(dataDir)"
   ]
  },
  {
   "cell_type": "markdown",
   "metadata": {},
   "source": [
    "--- Dataset #2 ---"
   ]
  },
  {
   "cell_type": "code",
   "execution_count": null,
   "metadata": {
    "collapsed": true
   },
   "outputs": [],
   "source": [
    "## now build another training dataset, that is random combinations of initial values\n",
    "\n",
    "def shuffle(df, n=1, axis=0):     \n",
    "    df = df.copy()\n",
    "    for _ in range(n):\n",
    "        df.apply(np.random.shuffle, axis=axis)\n",
    "    return df"
   ]
  },
  {
   "cell_type": "code",
   "execution_count": null,
   "metadata": {},
   "outputs": [],
   "source": [
    "ss = combDF.iloc[:, np.hstack([np.arange(0,8),np.arange(792,800)])].sample(1500)\n",
    "ss.reset_index(drop = True, inplace = True)\n",
    "ss.head()"
   ]
  },
  {
   "cell_type": "code",
   "execution_count": null,
   "metadata": {},
   "outputs": [],
   "source": [
    "s2 = shuffle(ss)\n",
    "s2.head()"
   ]
  },
  {
   "cell_type": "code",
   "execution_count": null,
   "metadata": {
    "collapsed": true
   },
   "outputs": [],
   "source": [
    "# predict on shuffled data\n",
    "s2_scaled = scalerX.transform(s2)\n",
    "nnpreds3 = nnMod.predict(s2_scaled)"
   ]
  },
  {
   "cell_type": "code",
   "execution_count": null,
   "metadata": {},
   "outputs": [],
   "source": [
    "# add preds back to data frame\n",
    "nn_back = scalerY.inverse_transform(nnpreds3)\n",
    "preds1 = pd.DataFrame(nn_back)\n",
    "preds1.columns = [\"tao_pred\", \"Fx_pred\", \"Fy_pred\"]\n",
    "preds1[\"F_pred\"] = np.sqrt(preds1.Fx_pred **2 + preds1.Fy_pred **2)\n",
    "\n",
    "\n",
    "pre_alpha = np.arctan2(preds1.Fy_pred, preds1.Fx_pred )\n",
    "alpha = pre_alpha.copy()\n",
    "\n",
    "for ii in pre_alpha.index:\n",
    "    if (preds1.Fy_pred[ii] > 0) :\n",
    "        alpha[ii] = pre_alpha[ii]\n",
    "    else:\n",
    "        alpha[ii] = (2*np.pi) + pre_alpha[ii]\n",
    "        \n",
    "preds1[\"alpha_pred\"] = alpha\n",
    "\n",
    "\n",
    "preds1.head()"
   ]
  },
  {
   "cell_type": "code",
   "execution_count": null,
   "metadata": {},
   "outputs": [],
   "source": [
    "s2_1 = pd.concat([s2, preds1], axis = 1)\n",
    "s2_1.head()"
   ]
  },
  {
   "cell_type": "code",
   "execution_count": null,
   "metadata": {},
   "outputs": [],
   "source": [
    "s2_1.to_csv(os.path.join(dataDir, \"simulationData2_withFinal.csv\"), index=False)\n",
    "\n",
    "simSet2 = s2_1.loc[:, ['x_0', 'y_0', 'theta_0', 'phi_0', 'x_dot_0', 'y_dot_0', 'theta_dot_0',\n",
    "       'phi_dot_0', 'tao_pred','F_pred','alpha_pred']]\n",
    "\n",
    "simSet2.to_csv(os.path.join(dataDir, \"simulationDataset2_blinded.csv\"), index=False)\n",
    "simSet2.head()"
   ]
  },
  {
   "cell_type": "markdown",
   "metadata": {},
   "source": [
    "___"
   ]
  },
  {
   "cell_type": "markdown",
   "metadata": {},
   "source": [
    "___ Dataset 3 -- Sample initial and get randomized final states \n",
    "\n",
    "#\n",
    "#\n",
    "#\n"
   ]
  },
  {
   "cell_type": "markdown",
   "metadata": {},
   "source": [
    "___"
   ]
  },
  {
   "cell_type": "code",
   "execution_count": null,
   "metadata": {},
   "outputs": [],
   "source": [
    "ss = combDF.iloc[:, np.hstack([np.arange(0,8),np.arange(792,800)])].sample(1200)\n",
    "ss.reset_index(drop = True, inplace = True)\n",
    "ss.head()"
   ]
  },
  {
   "cell_type": "code",
   "execution_count": null,
   "metadata": {},
   "outputs": [],
   "source": [
    "# only mix up possible output states\n",
    "s3_1 = shuffle(ss.iloc[:, 8:])\n",
    "s3_2 = pd.concat([ss.iloc[:,0:8], s3_1], axis = 1)\n",
    "s3_2.head()"
   ]
  },
  {
   "cell_type": "code",
   "execution_count": null,
   "metadata": {
    "collapsed": true
   },
   "outputs": [],
   "source": [
    "# predict on shuffled data\n",
    "s3_scaled = scalerX.transform(s3_2)\n",
    "nnpreds3_1 = nnMod.predict(s3_scaled)"
   ]
  },
  {
   "cell_type": "code",
   "execution_count": null,
   "metadata": {},
   "outputs": [],
   "source": [
    "# add preds back to data frame\n",
    "nn_back = scalerY.inverse_transform(nnpreds3_1)\n",
    "preds1 = pd.DataFrame(nn_back)\n",
    "preds1.columns = [\"tao_pred\", \"Fx_pred\", \"Fy_pred\"]\n",
    "preds1[\"F_pred\"] = np.sqrt(preds1.Fx_pred **2 + preds1.Fy_pred **2)\n",
    "\n",
    "\n",
    "pre_alpha = np.arctan2(preds1.Fy_pred, preds1.Fx_pred )\n",
    "alpha = pre_alpha.copy()\n",
    "\n",
    "for ii in pre_alpha.index:\n",
    "    if (preds1.Fy_pred[ii] > 0) :\n",
    "        alpha[ii] = pre_alpha[ii]\n",
    "    else:\n",
    "        alpha[ii] = (2*np.pi) + pre_alpha[ii]\n",
    "        \n",
    "preds1[\"alpha_pred\"] = alpha\n",
    "\n",
    "\n",
    "preds1.head()"
   ]
  },
  {
   "cell_type": "code",
   "execution_count": null,
   "metadata": {},
   "outputs": [],
   "source": [
    "s3_4 = pd.concat([s3_2, preds1], axis = 1)\n",
    "s3_4.head()"
   ]
  },
  {
   "cell_type": "code",
   "execution_count": null,
   "metadata": {},
   "outputs": [],
   "source": [
    "s3_4.to_csv(os.path.join(dataDir, \"simulationData3_withFinal.csv\"), index=False)\n",
    "\n",
    "simSet3 = s3_4.loc[:, ['x_0', 'y_0', 'theta_0', 'phi_0', 'x_dot_0', 'y_dot_0', 'theta_dot_0',\n",
    "       'phi_dot_0', 'tao_pred','F_pred','alpha_pred']]\n",
    "\n",
    "simSet3.to_csv(os.path.join(dataDir, \"simulationDataset3_blinded.csv\"), index=False)\n",
    "simSet3.head()"
   ]
  },
  {
   "cell_type": "code",
   "execution_count": null,
   "metadata": {
    "collapsed": true
   },
   "outputs": [],
   "source": []
  },
  {
   "cell_type": "code",
   "execution_count": null,
   "metadata": {
    "collapsed": true
   },
   "outputs": [],
   "source": []
  },
  {
   "cell_type": "code",
   "execution_count": null,
   "metadata": {
    "collapsed": true
   },
   "outputs": [],
   "source": []
  },
  {
   "cell_type": "code",
   "execution_count": null,
   "metadata": {
    "collapsed": true
   },
   "outputs": [],
   "source": []
  },
  {
   "cell_type": "code",
   "execution_count": null,
   "metadata": {
    "collapsed": true
   },
   "outputs": [],
   "source": []
  },
  {
   "cell_type": "code",
   "execution_count": null,
   "metadata": {
    "collapsed": true
   },
   "outputs": [],
   "source": []
  },
  {
   "cell_type": "code",
   "execution_count": null,
   "metadata": {
    "collapsed": true
   },
   "outputs": [],
   "source": [
    "## nn practice\n",
    "\n",
    "Xx = np.transpose(np.array([np.arange(-10, 10, step = 0.001), np.random.uniform(size = 20000)]))\n",
    "Xx_scaled = sklearn.preprocessing.scale(Xx, axis = 0)\n",
    "Yy = np.sin(Xx[:,0]) *4 **2 + 50\n",
    "Yy_scaled = sklearn.preprocessing.scale(Yy, axis = 0)\n",
    "plt.plot(Xx_scaled[:,0], Yy)\n",
    "plt.show()\n",
    "plt.scatter(Xx_scaled[:,1], Yy, s = 1)"
   ]
  },
  {
   "cell_type": "code",
   "execution_count": null,
   "metadata": {
    "collapsed": true
   },
   "outputs": [],
   "source": [
    "plt.hist(Xx_scaled[:,1])"
   ]
  },
  {
   "cell_type": "code",
   "execution_count": null,
   "metadata": {
    "collapsed": true
   },
   "outputs": [],
   "source": [
    "stt = time.time()\n",
    "nn1 = MLPRegressor(solver='lbfgs', alpha=0,\n",
    "                  hidden_layer_sizes=(10,10), max_iter=1000, \n",
    "                  verbose = True, tol=0.0000100,\n",
    "                  activation='tanh')\n",
    "nnMod = nn1.fit(Xx_scaled, Yy)\n",
    "print(time.time() - stt)"
   ]
  },
  {
   "cell_type": "code",
   "execution_count": null,
   "metadata": {
    "collapsed": true
   },
   "outputs": [],
   "source": [
    "nnpreds = nnMod.predict(Xx_scaled)"
   ]
  },
  {
   "cell_type": "code",
   "execution_count": null,
   "metadata": {
    "collapsed": true
   },
   "outputs": [],
   "source": [
    "plt.scatter(x = Xx_scaled[:,0], y = Yy)\n",
    "plt.scatter(x = Xx_scaled[:,0], y = nnpreds)"
   ]
  },
  {
   "cell_type": "code",
   "execution_count": null,
   "metadata": {
    "collapsed": true
   },
   "outputs": [],
   "source": [
    "plt.scatter(x = Xx_scaled[:,0], y = Yy_scaled)\n",
    "plt.scatter(x = Xx_scaled[:,0], y = nnpreds)"
   ]
  },
  {
   "cell_type": "code",
   "execution_count": null,
   "metadata": {
    "collapsed": true,
    "scrolled": true
   },
   "outputs": [],
   "source": [
    "plt.scatter(x = nnpreds, y = Yy)"
   ]
  },
  {
   "cell_type": "code",
   "execution_count": null,
   "metadata": {
    "collapsed": true
   },
   "outputs": [],
   "source": []
  },
  {
   "cell_type": "code",
   "execution_count": null,
   "metadata": {
    "collapsed": true
   },
   "outputs": [],
   "source": []
  },
  {
   "cell_type": "code",
   "execution_count": null,
   "metadata": {
    "collapsed": true
   },
   "outputs": [],
   "source": [
    "# merge with F, alpha, tao\n",
    "Vdta = Vmat[\"ValSp3\"]\n",
    "dd2 = pd.DataFrame(Vdta)\n",
    "dd2.columns = np.append([new_cols[ii] +\"_\" +str(99) for ii in range(8)], [\"F\", \"alpha\", \"tao\"])\n",
    "print(dd2.shape)\n",
    "dd2.head()"
   ]
  },
  {
   "cell_type": "code",
   "execution_count": null,
   "metadata": {
    "collapsed": true
   },
   "outputs": [],
   "source": [
    "ff = dd\n",
    "\n",
    "\n",
    "stp = 8\n",
    "for stp in np.arange(10):\n",
    "    xx = 1\n",
    "    yy = 2\n",
    "    for ii in np.arange(1000):\n",
    "        plt.scatter(ff.iloc[stp*100:(stp+1)*100,xx], ff.iloc[stp*100:(stp+1)*100, yy], s = 1)\n",
    "        xx += 8\n",
    "        yy +=8\n",
    "    plt.show()\n"
   ]
  },
  {
   "cell_type": "code",
   "execution_count": null,
   "metadata": {
    "collapsed": true
   },
   "outputs": [],
   "source": [
    "ii = 200\n",
    "\n",
    "for jj in np.arange(0, dta.shape[0], step = 8):\n",
    "    plt.scatter(dta[ii:ii+100, jj], dta[ii:ii+100, jj + 1], s = 1)"
   ]
  },
  {
   "cell_type": "code",
   "execution_count": null,
   "metadata": {
    "collapsed": true
   },
   "outputs": [],
   "source": []
  },
  {
   "cell_type": "code",
   "execution_count": null,
   "metadata": {
    "collapsed": true
   },
   "outputs": [],
   "source": []
  },
  {
   "cell_type": "code",
   "execution_count": null,
   "metadata": {
    "collapsed": true
   },
   "outputs": [],
   "source": [
    "new_cols = [\"x\", \"y\", \"theta\", \"phi\", \"x_dot\", \"y_dot\", \"theta_dot\", \"phi_dot\"]"
   ]
  },
  {
   "cell_type": "code",
   "execution_count": null,
   "metadata": {
    "collapsed": true
   },
   "outputs": [],
   "source": [
    "# another possible way to rearrange the data\n",
    "ss = 8\n",
    "a = dta\n",
    "bb = np.array(np.zeros(a.shape)).reshape([-1, ss])\n",
    "bb.shape"
   ]
  },
  {
   "cell_type": "code",
   "execution_count": null,
   "metadata": {
    "collapsed": true
   },
   "outputs": [],
   "source": [
    "a.shape[1]\n",
    "a.shape[0]\n",
    "pd.DataFrame(a[0:10, :])"
   ]
  },
  {
   "cell_type": "code",
   "execution_count": null,
   "metadata": {
    "collapsed": true
   },
   "outputs": [],
   "source": []
  },
  {
   "cell_type": "code",
   "execution_count": null,
   "metadata": {
    "collapsed": true
   },
   "outputs": [],
   "source": [
    "for kk in np.arange(0, a.shape[1], step = a.shape[0]):\n",
    "    bb[kk:(kk+a.shape[0]),0:ss] = a[0:, kk:(ss+kk)]  \n",
    "\n",
    "    \n",
    "cc = pd.DataFrame(bb)\n",
    "cc.columns = new_cols\n",
    "cc"
   ]
  },
  {
   "cell_type": "code",
   "execution_count": null,
   "metadata": {
    "collapsed": true
   },
   "outputs": [],
   "source": [
    "for ii in np.arange(0, 10000, step = 100):\n",
    "    plt.scatter(cc.loc[ii:ii+100, \"x\"],cc.loc[ii:ii+100, \"y\"], s = 1)"
   ]
  },
  {
   "cell_type": "code",
   "execution_count": null,
   "metadata": {
    "collapsed": true
   },
   "outputs": [],
   "source": []
  },
  {
   "cell_type": "code",
   "execution_count": null,
   "metadata": {
    "collapsed": true
   },
   "outputs": [],
   "source": []
  },
  {
   "cell_type": "code",
   "execution_count": null,
   "metadata": {
    "collapsed": true
   },
   "outputs": [],
   "source": [
    "dd2 = dta.reshape((-1, 8))\n",
    "dd3 = pd.DataFrame(dd2)"
   ]
  },
  {
   "cell_type": "code",
   "execution_count": null,
   "metadata": {
    "collapsed": true
   },
   "outputs": [],
   "source": [
    "dd3.columns =  [\"x\", \"y\", \"theta\", \"phi\", \"x_dot\", \"y_dot\", \"theta_dot\", \"phi_dot\"]\n",
    "dd3.head()\n",
    "\n",
    "plt.scatter(dd3.loc[1:10000, \"x\"],dd3.loc[1:10000, \"y\"], s = 1 )"
   ]
  },
  {
   "cell_type": "code",
   "execution_count": null,
   "metadata": {
    "collapsed": true
   },
   "outputs": [],
   "source": [
    "dta.shape[1]"
   ]
  },
  {
   "cell_type": "code",
   "execution_count": null,
   "metadata": {
    "collapsed": true
   },
   "outputs": [],
   "source": [
    "new_cols = [\"x\", \"y\", \"theta\", \"phi\", \"x_dot\", \"y_dot\", \"theta_dot\", \"phi_dot\"]"
   ]
  },
  {
   "cell_type": "code",
   "execution_count": null,
   "metadata": {
    "collapsed": true
   },
   "outputs": [],
   "source": [
    "initialCond = dta[np.arange(0, dta.shape[0], step = 100),: ]\n",
    "finalCond = dta[np.arange(99, dta.shape[0], step = 100), :]"
   ]
  },
  {
   "cell_type": "code",
   "execution_count": null,
   "metadata": {
    "collapsed": true
   },
   "outputs": [],
   "source": [
    "# reshape data\n",
    "i2 = initialCond.reshape((250000, 8))\n",
    "f2 = finalCond.reshape((250000, 8))"
   ]
  },
  {
   "cell_type": "code",
   "execution_count": null,
   "metadata": {
    "collapsed": true
   },
   "outputs": [],
   "source": [
    "#pd.DataFrame(i2[2495:2555, ])"
   ]
  },
  {
   "cell_type": "code",
   "execution_count": null,
   "metadata": {
    "collapsed": true
   },
   "outputs": [],
   "source": []
  },
  {
   "cell_type": "code",
   "execution_count": null,
   "metadata": {
    "collapsed": true
   },
   "outputs": [],
   "source": []
  },
  {
   "cell_type": "code",
   "execution_count": null,
   "metadata": {
    "collapsed": true
   },
   "outputs": [],
   "source": []
  },
  {
   "cell_type": "code",
   "execution_count": null,
   "metadata": {
    "collapsed": true
   },
   "outputs": [],
   "source": [
    "conddta = np.hstack((i2, f2))\n",
    "condDta2 = pd.DataFrame(conddta)\n",
    "condDta2.columns = np.concatenate(([ii + \"_i\" for ii in new_cols], [ii + \"\" for ii in new_cols]))\n",
    "print(condDta2.shape)\n",
    "condDta2.head()"
   ]
  },
  {
   "cell_type": "code",
   "execution_count": null,
   "metadata": {
    "collapsed": true
   },
   "outputs": [],
   "source": [
    "Vmat = scipy.io.loadmat(os.path.join(dataDir, \"ValSp3_1_am_con.mat\"))\n",
    "Vmat"
   ]
  },
  {
   "cell_type": "code",
   "execution_count": null,
   "metadata": {
    "collapsed": true
   },
   "outputs": [],
   "source": [
    "# this might work\n",
    "forceAngle = np.transpose(Vmat[\"ValSp3\"])\n",
    "fa = forceAngle.reshape((250000, 12), order = \"C\" )\n",
    "fa2=  pd.DataFrame(fa)\n",
    "fa2.columns = np.concatenate((new_cols, [\"F\", \"alpha\", \"tao\", \"cost\"]))\n",
    "fa2[\"Fx\"] = fa2.F * np.cos(fa2.alpha)\n",
    "fa2[\"Fy\"] = fa2.F * np.sin(fa2.alpha)\n",
    "fa2\n",
    "combDF = pd.merge(condDta2.dropna(), fa2.dropna(), left_on = new_cols, right_on = new_cols, how = \"inner\")\n"
   ]
  },
  {
   "cell_type": "code",
   "execution_count": null,
   "metadata": {
    "collapsed": true
   },
   "outputs": [],
   "source": [
    "combDF"
   ]
  },
  {
   "cell_type": "code",
   "execution_count": null,
   "metadata": {
    "collapsed": true
   },
   "outputs": [],
   "source": [
    "from sklearn.model_selection import train_test_split"
   ]
  },
  {
   "cell_type": "code",
   "execution_count": null,
   "metadata": {
    "collapsed": true
   },
   "outputs": [],
   "source": [
    "combDF.dropna().iloc[:, 0:16]"
   ]
  },
  {
   "cell_type": "code",
   "execution_count": null,
   "metadata": {
    "collapsed": true
   },
   "outputs": [],
   "source": [
    "# drop NA's\n",
    "X = np.array(combDF.dropna().iloc[:, 0:16])\n",
    "Y = np.array(combDF.dropna().iloc[:, [18, 20, 21]])\n",
    "\n",
    "# check: refref: not checked\n",
    "print(all(X[:,9] == Y[:,1]))\n",
    "print(len(X))\n",
    "\n",
    "#Y = Y[:, [10, 12, 13]]\n",
    "Y.shape"
   ]
  },
  {
   "cell_type": "code",
   "execution_count": null,
   "metadata": {
    "collapsed": true
   },
   "outputs": [],
   "source": [
    "from sklearn.model_selection import train_test_split\n",
    "Xtrain, Xtest, Ytrain, Ytest = train_test_split(X, Y, test_size=0.3)"
   ]
  },
  {
   "cell_type": "code",
   "execution_count": null,
   "metadata": {
    "collapsed": true
   },
   "outputs": [],
   "source": [
    "from sklearn.multioutput import MultiOutputRegressor\n",
    "from sklearn.ensemble import RandomForestRegressor\n",
    "\n",
    "mor = MultiOutputRegressor(RandomForestRegressor(1000, n_jobs = 4)).fit(X, Y)"
   ]
  },
  {
   "cell_type": "code",
   "execution_count": null,
   "metadata": {
    "collapsed": true
   },
   "outputs": [],
   "source": [
    "mpreds = mor.predict(Xtest)"
   ]
  },
  {
   "cell_type": "code",
   "execution_count": null,
   "metadata": {
    "collapsed": true
   },
   "outputs": [],
   "source": [
    "\n",
    "nms = [\"tao\", \"Fx\", \"Fy\"]\n",
    "\n",
    "for ii in range(3):\n",
    "    plt.scatter(y = Ytest[:,ii],x = mpreds[:,ii], s = 2 )\n",
    "    plt.xlabel(\"Predicted Value\")\n",
    "    plt.ylabel(\"Actual Value\")\n",
    "    plt.title(nms[ii])\n",
    "    plt.show()\n"
   ]
  },
  {
   "cell_type": "code",
   "execution_count": null,
   "metadata": {
    "collapsed": true
   },
   "outputs": [],
   "source": []
  },
  {
   "cell_type": "code",
   "execution_count": null,
   "metadata": {
    "collapsed": true
   },
   "outputs": [],
   "source": []
  },
  {
   "cell_type": "code",
   "execution_count": null,
   "metadata": {
    "collapsed": true
   },
   "outputs": [],
   "source": []
  },
  {
   "cell_type": "code",
   "execution_count": null,
   "metadata": {
    "collapsed": true
   },
   "outputs": [],
   "source": []
  },
  {
   "cell_type": "code",
   "execution_count": null,
   "metadata": {
    "collapsed": true
   },
   "outputs": [],
   "source": []
  },
  {
   "cell_type": "code",
   "execution_count": null,
   "metadata": {
    "collapsed": true
   },
   "outputs": [],
   "source": []
  },
  {
   "cell_type": "code",
   "execution_count": null,
   "metadata": {
    "collapsed": true
   },
   "outputs": [],
   "source": [
    "combDF.head()"
   ]
  },
  {
   "cell_type": "code",
   "execution_count": null,
   "metadata": {
    "collapsed": true
   },
   "outputs": [],
   "source": [
    "a = np.vstack((np.arange(8), np.arange(7, 15), np.arange(7, 15)))\n",
    "a"
   ]
  },
  {
   "cell_type": "code",
   "execution_count": null,
   "metadata": {
    "collapsed": true
   },
   "outputs": [],
   "source": [
    "ss = 2\n",
    "bb = np.array(np.zeros(a.shape)).reshape([-1, ss])\n",
    "bb"
   ]
  },
  {
   "cell_type": "code",
   "execution_count": null,
   "metadata": {
    "collapsed": true
   },
   "outputs": [],
   "source": [
    "np.arange(0, a.shape[1], step = 2)"
   ]
  },
  {
   "cell_type": "code",
   "execution_count": null,
   "metadata": {
    "collapsed": true
   },
   "outputs": [],
   "source": [
    "a.shape[0]"
   ]
  },
  {
   "cell_type": "code",
   "execution_count": null,
   "metadata": {
    "collapsed": true
   },
   "outputs": [],
   "source": [
    "ss = 2\n",
    "\n",
    "for kk in np.arange(0, a.shape[1], step = a.shape[0]):\n",
    "    bb[kk:(kk+a.shape[0]),0:ss] = a[0:, kk:(ss+kk)]  \n",
    "bb"
   ]
  },
  {
   "cell_type": "code",
   "execution_count": null,
   "metadata": {
    "collapsed": true
   },
   "outputs": [],
   "source": [
    "bb[kk:(kk+ss),0:ss]"
   ]
  },
  {
   "cell_type": "code",
   "execution_count": null,
   "metadata": {
    "collapsed": true
   },
   "outputs": [],
   "source": [
    "ss =2\n",
    "kk = 2\n",
    "\n",
    "a[0:, kk:(ss+kk)]\n",
    "bb[kk:(kk+a.shape[0]),0:ss]\n",
    "\n"
   ]
  },
  {
   "cell_type": "code",
   "execution_count": null,
   "metadata": {
    "collapsed": true
   },
   "outputs": [],
   "source": [
    "pd.DataFrame(a)"
   ]
  },
  {
   "cell_type": "code",
   "execution_count": null,
   "metadata": {
    "collapsed": true
   },
   "outputs": [],
   "source": [
    "# refref: figure out how to reshape this\n",
    "\n",
    "a.reshape((-1, 2), order = \"F\")"
   ]
  },
  {
   "cell_type": "code",
   "execution_count": null,
   "metadata": {
    "collapsed": true
   },
   "outputs": [],
   "source": [
    "np.reshape?"
   ]
  },
  {
   "cell_type": "code",
   "execution_count": null,
   "metadata": {
    "collapsed": true
   },
   "outputs": [],
   "source": [
    "dd = pd.DataFrame(fa)\n",
    "print(dd.shape)\n",
    "dd.head()"
   ]
  },
  {
   "cell_type": "code",
   "execution_count": null,
   "metadata": {
    "collapsed": true
   },
   "outputs": [],
   "source": [
    "fa = dd.transpose()\n",
    "fa.columns = np.concatenate((new_cols, [\"F\", \"alpha\", \"tao\", \"cost\"]))\n",
    "print(fa.shape)\n",
    "fa.head()"
   ]
  },
  {
   "cell_type": "code",
   "execution_count": null,
   "metadata": {
    "collapsed": true
   },
   "outputs": [],
   "source": [
    "# make Fx and Fy\n",
    "fa[\"Fx\"] = fa.F * np.cos(fa.alpha)\n",
    "fa[\"Fy\"] = fa.F * np.sin(fa.alpha)"
   ]
  },
  {
   "cell_type": "code",
   "execution_count": null,
   "metadata": {
    "collapsed": true
   },
   "outputs": [],
   "source": [
    "for ii in np.arange(1, spray.shape[1], step = 8):\n",
    "\n",
    "    tmparr = np.hstack((sparray[0, ii:ii+8], sparray[99, ii:ii+8]))\n",
    "\n",
    "    if ii == 1:\n",
    "        newArr = tmparr\n",
    "    else: \n",
    "        newArr = np.vstack((newArr, tmparr))"
   ]
  },
  {
   "cell_type": "code",
   "execution_count": null,
   "metadata": {
    "collapsed": true
   },
   "outputs": [],
   "source": [
    "newDF = pd.DataFrame(newArr)\n",
    "newDF.head()"
   ]
  },
  {
   "cell_type": "code",
   "execution_count": null,
   "metadata": {
    "collapsed": true
   },
   "outputs": [],
   "source": [
    "newDF.columns = np.concatenate(([ii + \"_i\" for ii in new_cols], [ii + \"\" for ii in new_cols]))"
   ]
  },
  {
   "cell_type": "code",
   "execution_count": null,
   "metadata": {
    "collapsed": true
   },
   "outputs": [],
   "source": [
    "print(newDF.shape)\n",
    "newDF.head()"
   ]
  },
  {
   "cell_type": "code",
   "execution_count": null,
   "metadata": {
    "collapsed": true
   },
   "outputs": [],
   "source": [
    "# drop NA's\n",
    "X = np.array(newDF.dropna())\n",
    "Y = np.array(fa.dropna())\n",
    "\n",
    "# check\n",
    "print(all(X[:,9] == Y[:,1]))\n",
    "print(len(X))\n",
    "\n",
    "Y = Y[:, [10, 12, 13]]\n",
    "Y.shape"
   ]
  },
  {
   "cell_type": "code",
   "execution_count": null,
   "metadata": {
    "collapsed": true
   },
   "outputs": [],
   "source": [
    "Y[0:10, ]"
   ]
  },
  {
   "cell_type": "code",
   "execution_count": null,
   "metadata": {
    "collapsed": true
   },
   "outputs": [],
   "source": [
    "combDF = pd.merge(newDF.dropna(), fa.dropna(), left_on = new_cols, right_on = new_cols, how = \"inner\")\n",
    "print(combDF.shape)\n",
    "combDF.head()"
   ]
  },
  {
   "cell_type": "code",
   "execution_count": null,
   "metadata": {
    "collapsed": true
   },
   "outputs": [],
   "source": [
    "# split into test and training set\n",
    "from sklearn.model_selection import train_test_split"
   ]
  },
  {
   "cell_type": "code",
   "execution_count": null,
   "metadata": {
    "collapsed": true
   },
   "outputs": [],
   "source": [
    "import tensorflow as tf"
   ]
  },
  {
   "cell_type": "code",
   "execution_count": null,
   "metadata": {
    "collapsed": true
   },
   "outputs": [],
   "source": [
    "from sklearn.model_selection import train_test_split\n",
    "Xtrain, Xtest, Ytrain, Ytest = train_test_split(X, Y, test_size=0.3)"
   ]
  },
  {
   "cell_type": "code",
   "execution_count": null,
   "metadata": {
    "collapsed": true
   },
   "outputs": [],
   "source": [
    "from sklearn.ensemble import RandomForestRegressor\n",
    "\n",
    "clf1 = RandomForestRegressor(1000, n_jobs = 4).fit(Xtrain, Ytrain)\n",
    "Ypred1 = clf1.predict(Xtest)\n",
    "\n",
    "fig, ax = plt.subplots()\n",
    "ax.plot(Ypred1[:, 0], Ypred1[:, 1], 'o', alpha=0.5)\n",
    "ax.set_xlabel('$y_1$'); ax.set_ylabel('$y_2$');"
   ]
  },
  {
   "cell_type": "code",
   "execution_count": null,
   "metadata": {
    "collapsed": true
   },
   "outputs": [],
   "source": [
    "for ii in range(3):\n",
    "    plt.scatter(Ytest[:,ii],Ypred1[:,ii] )\n",
    "    plt.show()"
   ]
  },
  {
   "cell_type": "code",
   "execution_count": null,
   "metadata": {
    "collapsed": true
   },
   "outputs": [],
   "source": [
    "class MultiOutputRF(object):\n",
    "    \n",
    "    '''From here: http://astrohackweek.org/blog/multi-output-random-forests.html'''\n",
    "    def __init__(self, *args, **kwargs):\n",
    "        self.args = args\n",
    "        self.kwargs = kwargs\n",
    "        \n",
    "    def fit(self, X, Y):\n",
    "        X, Y = map(np.atleast_2d, (X, Y))\n",
    "        assert X.shape[0] == Y.shape[0]\n",
    "        Ny = Y.shape[1]\n",
    "        \n",
    "        self.clfs = []\n",
    "        for i in range(Ny):\n",
    "            clf = RandomForestRegressor(*self.args, **self.kwargs)\n",
    "            Xi = np.hstack([X, Y[:, :i]])\n",
    "            yi = Y[:, i]\n",
    "            self.clfs.append(clf.fit(Xi, yi))\n",
    "            \n",
    "        return self\n",
    "        \n",
    "    def predict(self, X):\n",
    "        Y = np.empty([X.shape[0], len(self.clfs)])\n",
    "        for i, clf in enumerate(self.clfs):\n",
    "            Y[:, i] = clf.predict(np.hstack([X, Y[:, :i]]))\n",
    "        return Y"
   ]
  },
  {
   "cell_type": "code",
   "execution_count": null,
   "metadata": {
    "collapsed": true
   },
   "outputs": [],
   "source": [
    "clf2 = MultiOutputRF(1000, n_jobs = 4).fit(Xtrain, Ytrain)\n",
    "Ypred2 = clf2.predict(Xtest)"
   ]
  },
  {
   "cell_type": "code",
   "execution_count": null,
   "metadata": {
    "collapsed": true
   },
   "outputs": [],
   "source": [
    "# note: might want to break down into Fx and Fy, b/c radians don't work well with MSE\n",
    "\n",
    "nms = [\"tao\", \"Fx\", \"Fy\"]\n",
    "\n",
    "for ii in range(3):\n",
    "    plt.scatter(y = Ytest[:,ii],x = Ypred2[:,ii], s = 2 )\n",
    "    plt.xlabel(\"Predicted Value\")\n",
    "    plt.ylabel(\"Actual Value\")\n",
    "    plt.title(nms[ii])\n",
    "    plt.show()"
   ]
  },
  {
   "cell_type": "code",
   "execution_count": null,
   "metadata": {
    "collapsed": true
   },
   "outputs": [],
   "source": [
    "# this works surprisingly well\n",
    "\n",
    "from sklearn.multioutput import MultiOutputRegressor\n",
    "\n",
    "mor = MultiOutputRegressor(RandomForestRegressor(1000, n_jobs = 4)).fit(X, Y)"
   ]
  },
  {
   "cell_type": "code",
   "execution_count": null,
   "metadata": {
    "collapsed": true
   },
   "outputs": [],
   "source": [
    "mpreds = mor.predict(Xtest)"
   ]
  },
  {
   "cell_type": "code",
   "execution_count": null,
   "metadata": {
    "collapsed": true
   },
   "outputs": [],
   "source": [
    "nms = [\"tao\", \"Fx\", \"Fy\"]\n",
    "\n",
    "for ii in range(3):\n",
    "    plt.scatter(y = Ytest[:,ii],x = mpreds[:,ii], s = 2 )\n",
    "    plt.xlabel(\"Predicted Value\")\n",
    "    plt.ylabel(\"Actual Value\")\n",
    "    plt.title(nms[ii])\n",
    "    plt.show()"
   ]
  },
  {
   "cell_type": "code",
   "execution_count": null,
   "metadata": {
    "collapsed": true
   },
   "outputs": [],
   "source": [
    "# plot residuals\n",
    "nms = [\"tao\", \"Fx\", \"Fy\"]\n",
    "\n",
    "for ii in range(3):\n",
    "    plt.scatter(y = Ytest[:,ii]- mpreds[:,ii], x = np.arange(len(Ytest[:,ii])), s = 2 )\n",
    "    plt.xlabel(\"Predicted Value\")\n",
    "    plt.ylabel(\"Actual Value\")\n",
    "    plt.title(nms[ii])\n",
    "    plt.show()"
   ]
  },
  {
   "cell_type": "code",
   "execution_count": null,
   "metadata": {
    "collapsed": true
   },
   "outputs": [],
   "source": [
    "# refref: next step -- neural network\n",
    "#from sklearn import cross_validation\n",
    "#from sklearn.neural_network import MLPRegressor\n",
    "\n",
    "#model = MLPRegressor(solver='lbfgs',alpha=0.001,hidden_layer_sizes=(150,)) \n",
    "#cross_validation.cross_val_score(model, X, Y, scoring='mean_squared_error')"
   ]
  },
  {
   "cell_type": "code",
   "execution_count": null,
   "metadata": {
    "collapsed": true
   },
   "outputs": [],
   "source": [
    "# another possible way to rearrange the data\n",
    "ss = 12\n",
    "a = np.transpose(Vmat[\"ValSp3\"])\n",
    "bb = np.array(np.zeros(a.shape)).reshape([-1, ss])\n",
    "bb\n",
    "\n",
    "for kk in np.arange(0, a.shape[1], step = a.shape[0]):\n",
    "    bb[kk:(kk+a.shape[0]),0:ss] = a[0:, kk:(ss+kk)]  \n",
    "\n",
    "    \n",
    "forceAngle = pd.DataFrame(bb)\n",
    "forceAngle.columns = np.concatenate((new_cols, [\"F\", \"alpha\", \"tao\", \"cost\"]))\n",
    "forceAngle"
   ]
  }
 ],
 "metadata": {
  "kernelspec": {
   "display_name": "Python 3",
   "language": "python",
   "name": "python3"
  },
  "language_info": {
   "codemirror_mode": {
    "name": "ipython",
    "version": 3
   },
   "file_extension": ".py",
   "mimetype": "text/x-python",
   "name": "python",
   "nbconvert_exporter": "python",
   "pygments_lexer": "ipython3",
   "version": "3.6.1"
  }
 },
 "nbformat": 4,
 "nbformat_minor": 2
}
