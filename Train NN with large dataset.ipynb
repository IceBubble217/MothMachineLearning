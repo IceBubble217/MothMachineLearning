{
 "cells": [
  {
   "cell_type": "code",
   "execution_count": 1,
   "metadata": {},
   "outputs": [
    {
     "name": "stdout",
     "output_type": "stream",
     "text": [
      "3.6.4 |Anaconda custom (64-bit)| (default, Jan 16 2018, 10:22:32) [MSC v.1900 64 bit (AMD64)] \n",
      "\n",
      "last run on 2018-08-22 09:36:18.830069\n"
     ]
    }
   ],
   "source": [
    "import numpy as np\n",
    "from matplotlib import pyplot as plt\n",
    "%matplotlib inline\n",
    "\n",
    "import os\n",
    "import pandas as pd\n",
    "import time\n",
    "from datetime import datetime\n",
    "import sys\n",
    "import csv\n",
    "import seaborn as sns\n",
    "import scipy.io\n",
    "\n",
    "print(sys.version, \"\\n\")\n",
    "\n",
    "now = datetime.now()\n",
    "print(\"last run on \" + str(now))"
   ]
  },
  {
   "cell_type": "code",
   "execution_count": 2,
   "metadata": {},
   "outputs": [],
   "source": [
    "%qtconsole"
   ]
  },
  {
   "cell_type": "code",
   "execution_count": 3,
   "metadata": {
    "collapsed": true
   },
   "outputs": [],
   "source": [
    "# define directories\n",
    "baseDir = os.getcwd()\n",
    "dataDir = r'D:/MothSimulations/11c-AggressiveManeuver/Qstore/hws_am_con/'\n",
    "figDir = r'D:\\Dropbox\\mothMachineLearning_dataAndFigs\\Figs'\n",
    "dataOutput = r'D:\\Dropbox\\mothMachineLearning_dataAndFigs\\DataOutput'\n",
    "if not os.path.exists(dataOutput):\n",
    "    os.mkdir(dataOutput)"
   ]
  },
  {
   "cell_type": "code",
   "execution_count": 4,
   "metadata": {
    "collapsed": true
   },
   "outputs": [],
   "source": [
    "# read in data\n",
    "dataName = \"Qstore_1_hws_am_con\"\n",
    "Qmat = scipy.io.loadmat(os.path.join(dataDir, dataName + \".mat\"))"
   ]
  },
  {
   "cell_type": "code",
   "execution_count": 5,
   "metadata": {},
   "outputs": [
    {
     "data": {
      "text/plain": [
       "dict_keys(['__header__', '__version__', '__globals__', 'Qstore'])"
      ]
     },
     "execution_count": 5,
     "metadata": {},
     "output_type": "execute_result"
    }
   ],
   "source": [
    "Qmat.keys()"
   ]
  },
  {
   "cell_type": "code",
   "execution_count": 6,
   "metadata": {},
   "outputs": [
    {
     "data": {
      "text/plain": [
       "(100, 1)"
      ]
     },
     "execution_count": 6,
     "metadata": {},
     "output_type": "execute_result"
    }
   ],
   "source": [
    "Qmat['Qstore'].shape"
   ]
  },
  {
   "cell_type": "code",
   "execution_count": null,
   "metadata": {},
   "outputs": [],
   "source": []
  },
  {
   "cell_type": "code",
   "execution_count": null,
   "metadata": {},
   "outputs": [],
   "source": [
    "# \n",
    "\n",
    "timestep = 99 # can go up to 99\n",
    "\n",
    "\n",
    "vals = Qmat['Qstore'][timestep,0] #<-- set the array you want to access. \n",
    "keys = Qmat['Qstore'][timestep,0].dtype.descr\n",
    "keys = np.array(keys)[:, 0]\n",
    "\n",
    "# Assemble the keys and values into variables with the same name as that used in MATLAB\n",
    "for i in range(len(keys)):\n",
    "    key = keys[i]\n",
    "    val = np.squeeze(vals[key][0])  # squeeze is used to covert matlat (1,n) arrays into numpy (1,) arrays. \n",
    "    exec(key + '=val')\n",
    "    \n",
    "print(keys)"
   ]
  },
  {
   "cell_type": "code",
   "execution_count": null,
   "metadata": {},
   "outputs": [],
   "source": [
    "for ii in keys:\n",
    "    print(ii, vals[ii].shape)"
   ]
  },
  {
   "cell_type": "code",
   "execution_count": null,
   "metadata": {},
   "outputs": [],
   "source": [
    "pd.DataFrame(np.hstack(vals[\"ICs\"][0,:])).T.head()"
   ]
  },
  {
   "cell_type": "code",
   "execution_count": null,
   "metadata": {},
   "outputs": [],
   "source": [
    "np.hstack(vals[\"tau0\"][0,:])"
   ]
  },
  {
   "cell_type": "code",
   "execution_count": null,
   "metadata": {},
   "outputs": [],
   "source": [
    "pd.DataFrame(np.hstack(vals[\"ICs\"][0,:])).T.drop_duplicates()"
   ]
  },
  {
   "cell_type": "code",
   "execution_count": null,
   "metadata": {},
   "outputs": [],
   "source": [
    "vals[\"bigQ\"][0, 1].shape"
   ]
  },
  {
   "cell_type": "code",
   "execution_count": null,
   "metadata": {},
   "outputs": [],
   "source": []
  },
  {
   "cell_type": "code",
   "execution_count": null,
   "metadata": {},
   "outputs": [],
   "source": [
    "vals[\"bigQ\"].shape"
   ]
  },
  {
   "cell_type": "code",
   "execution_count": null,
   "metadata": {},
   "outputs": [],
   "source": []
  },
  {
   "cell_type": "code",
   "execution_count": null,
   "metadata": {},
   "outputs": [],
   "source": []
  },
  {
   "cell_type": "code",
   "execution_count": null,
   "metadata": {},
   "outputs": [],
   "source": []
  },
  {
   "cell_type": "code",
   "execution_count": 95,
   "metadata": {},
   "outputs": [
    {
     "name": "stdout",
     "output_type": "stream",
     "text": [
      "4.683861017227173\n"
     ]
    }
   ],
   "source": [
    "# each timestep has 2500 Monte Carlo Simulations\n",
    "# each file contains 100 timesteps\n",
    "\n",
    "simNum = 2 # can go up to 2500\n",
    "timestep = 99 # can go up to 99\n",
    "\n",
    "stt = time.time()\n",
    "with open(os.path.join(dataOutput, dataName + '.csv'), 'a') as f:\n",
    "    for timestep in range(100):\n",
    "        vals = Qmat['Qstore'][timestep,0] #<-- set the array you want to access. \n",
    "        keys = Qmat['Qstore'][timestep,0].dtype.descr\n",
    "        keys = np.array(keys)[:, 0]\n",
    "\n",
    "        # Assemble the keys and values into variables with the same name as that used in MATLAB\n",
    "        for i in range(len(keys)):\n",
    "            key = keys[i]\n",
    "            val = np.squeeze(vals[key][0])  # squeeze is used to covert matlat (1,n) arrays into numpy (1,) arrays. \n",
    "            exec(key + '=val')\n",
    "\n",
    "        for simNum in range(10):\n",
    "            tt = pd.DataFrame(vals[\"bigQ\"][0, simNum], columns=[\"x\",\"y\",\"theta\", \"phi\", \"xd\", \"yd\", \"thetad\", \"phid\"])\n",
    "            tt[\"F\"] = np.concatenate(vals[\"F\"][0]).ravel()[simNum]\n",
    "            tt[\"alpha\"] = np.concatenate(vals[\"alpha\"][0]).ravel()[simNum]\n",
    "            tt[\"tau0\"] = np.concatenate(vals[\"tau0\"][0]).ravel()[simNum]\n",
    "            tt[\"simNum\"] = simNum\n",
    "            tt[\"timestep\"] = timestep\n",
    "\n",
    "            # write to csv file\n",
    "            if (simNum == 0) and (timestep == 0):\n",
    "                header=True            \n",
    "            else:\n",
    "                header = False\n",
    "            tt.to_csv(f, header=header)\n",
    "    print(time.time() - stt )"
   ]
  },
  {
   "cell_type": "code",
   "execution_count": 70,
   "metadata": {},
   "outputs": [],
   "source": [
    "np.savetxt(os.path.join(dataOutput, dataName + '.csv'), \n",
    "           np.array([\"x\",\"y\",\"theta\", \"phi\", \"xd\", \"yd\", \"thetad\", \"phid\", \"F\", \"alpha\", \"tau0\", \"simNum\", \"timestep\"]).reshape(1,-1), fmt=\"%s\", \n",
    "          delimiter = \",\")"
   ]
  },
  {
   "cell_type": "code",
   "execution_count": 96,
   "metadata": {},
   "outputs": [
    {
     "name": "stdout",
     "output_type": "stream",
     "text": [
      "3.1610934734344482\n"
     ]
    }
   ],
   "source": [
    "# each timestep has 2500 Monte Carlo Simulations\n",
    "# each file contains 100 timesteps\n",
    "\n",
    "simNum = 2 # can go up to 2500\n",
    "timestep = 99 # can go up to 99\n",
    "tt = np.zeros((100, 13))\n",
    "\n",
    "stt = time.time()\n",
    "with open(os.path.join(dataOutput, dataName + '.csv'), 'a') as f:\n",
    "    np.savetxt(f, np.array([\"x\",\"y\",\"theta\", \"phi\", \"xd\", \"yd\", \"thetad\", \"phid\", \"F\", \"alpha\", \"tau0\", \"simNum\", \"timestep\"]).reshape(1,-1), \n",
    "               fmt=\"%s\", \n",
    "          delimiter = \",\")\n",
    "    for timestep in range(100):\n",
    "        vals = Qmat['Qstore'][timestep,0] #<-- set the array you want to access. \n",
    "        keys = Qmat['Qstore'][timestep,0].dtype.descr\n",
    "        keys = np.array(keys)[:, 0]\n",
    "\n",
    "        # Assemble the keys and values into variables with the same name as that used in MATLAB\n",
    "        for i in range(len(keys)):\n",
    "            key = keys[i]\n",
    "            val = np.squeeze(vals[key][0])  # squeeze is used to covert matlat (1,n) arrays into numpy (1,) arrays. \n",
    "            exec(key + '=val')\n",
    "\n",
    "        for simNum in range(10):\n",
    "            \n",
    "            tt[:, 0:8] = vals[\"bigQ\"][0, simNum]\n",
    "            tt[:, [8]] = np.repeat(np.concatenate(vals[\"F\"][0]).ravel()[simNum], 100).reshape(-1,1)\n",
    "            tt[:, [9]] = np.repeat(np.concatenate(vals[\"alpha\"][0]).ravel()[simNum], 100).reshape(-1,1)\n",
    "            tt[:, [10]] = np.repeat(np.concatenate(vals[\"tau0\"][0]).ravel()[simNum], 100).reshape(-1,1)\n",
    "            tt[:, [11]] =  np.repeat(simNum, 100).reshape(-1,1)\n",
    "            tt[:, [12]] = np.repeat(timestep, 100).reshape(-1,1)\n",
    "\n",
    "            # write to csv file\n",
    "            np.savetxt(f, tt, delimiter = \",\")\n",
    "    \n",
    "    print(time.time() - stt )"
   ]
  },
  {
   "cell_type": "code",
   "execution_count": 133,
   "metadata": {},
   "outputs": [],
   "source": [
    "import csv"
   ]
  },
  {
   "cell_type": "code",
   "execution_count": 153,
   "metadata": {},
   "outputs": [
    {
     "name": "stdout",
     "output_type": "stream",
     "text": [
      "88.31370806694031\n"
     ]
    }
   ],
   "source": [
    "bigF = np.zeros((100*2500*100, 13))\n",
    "if os.path.isfile(os.path.join(dataOutput, dataName + '.csv')):\n",
    "    os.remove(os.path.join(dataOutput, dataName + '.csv'))\n",
    "stt = time.time()\n",
    "\n",
    "with open(os.path.join(dataOutput, dataName + '.csv'), 'a', newline='') as f:\n",
    "    writer = csv.writer(f)\n",
    "    writer.writerows(np.array([\"x\",\"y\",\"theta\", \"phi\", \"xd\", \"yd\", \"thetad\", \"phid\", \"F\", \"alpha\", \"tau0\", \"simNum\", \"timestep\"]).reshape(1,-1))\n",
    "    writer.writerows(bigF)\n",
    "print(time.time() - stt )"
   ]
  },
  {
   "cell_type": "code",
   "execution_count": 151,
   "metadata": {},
   "outputs": [
    {
     "name": "stdout",
     "output_type": "stream",
     "text": [
      "2.1567561626434326\n"
     ]
    }
   ],
   "source": [
    "if os.path.isfile(os.path.join(dataOutput, dataName + '.csv')):\n",
    "    os.remove(os.path.join(dataOutput, dataName + '.csv'))\n",
    "stt = time.time()\n",
    "with open(os.path.join(dataOutput, dataName + '.csv'), 'a') as f:\n",
    "    np.savetxt(f, bigF, delimiter = \",\")\n",
    "print(time.time() - stt )"
   ]
  },
  {
   "cell_type": "code",
   "execution_count": 132,
   "metadata": {},
   "outputs": [
    {
     "name": "stdout",
     "output_type": "stream",
     "text": [
      "0.05185127258300781\n"
     ]
    }
   ],
   "source": [
    "stt = time.time()\n",
    "bb = pd.DataFrame(tt)\n",
    "bb.to_csv(os.path.join(r\"C:\\Users\\calli\\Desktop\", dataName + '.csv'))\n",
    "print(time.time() - stt )"
   ]
  },
  {
   "cell_type": "code",
   "execution_count": 156,
   "metadata": {},
   "outputs": [
    {
     "name": "stdout",
     "output_type": "stream",
     "text": [
      "0\n",
      "10\n",
      "20\n",
      "30\n",
      "40\n",
      "50\n",
      "60\n",
      "70\n",
      "80\n",
      "90\n"
     ]
    }
   ],
   "source": [
    "# each timestep has 2500 Monte Carlo Simulations\n",
    "# each file contains 100 timesteps\n",
    "\n",
    "simNum = 2 # can go up to 2500\n",
    "timestep = 99 # can go up to 99\n",
    "tt = np.zeros((100, 13))\n",
    "bigF = np.zeros((100*2500*100, 13))\n",
    "\n",
    "stt = time.time()\n",
    "ctr = 0\n",
    "\n",
    "for timestep in range(100):\n",
    "    if np.mod(timestep, 10) == 0: \n",
    "        print(timestep)\n",
    "    vals = Qmat['Qstore'][timestep,0] #<-- set the array you want to access. \n",
    "    keys = Qmat['Qstore'][timestep,0].dtype.descr\n",
    "    keys = np.array(keys)[:, 0]\n",
    "\n",
    "    # Assemble the keys and values into variables with the same name as that used in MATLAB\n",
    "    for i in range(len(keys)):\n",
    "        key = keys[i]\n",
    "        val = np.squeeze(vals[key][0])  # squeeze is used to covert matlat (1,n) arrays into numpy (1,) arrays. \n",
    "        exec(key + '=val')\n",
    "\n",
    "    for simNum in range(2500):\n",
    "        #print(timestep, simNum)\n",
    "        # refref change 100's to nrow(tt)\n",
    "        ttRows = tt.shape[0]\n",
    "        tt[:, 0:8] = vals[\"bigQ\"][0, simNum]\n",
    "        tt[:, [8]] = np.repeat(np.concatenate(vals[\"F\"][0]).ravel()[simNum], ttRows).reshape(-1,1)\n",
    "        tt[:, [9]] = np.repeat(np.concatenate(vals[\"alpha\"][0]).ravel()[simNum], ttRows).reshape(-1,1)\n",
    "        tt[:, [10]] = np.repeat(np.concatenate(vals[\"tau0\"][0]).ravel()[simNum], ttRows).reshape(-1,1)\n",
    "        tt[:, [11]] =  np.repeat(simNum, ttRows).reshape(-1,1)\n",
    "        tt[:, [12]] = np.repeat(timestep, ttRows).reshape(-1,1)\n",
    "        bigF[ctr:ctr+ttRows, :] = tt\n",
    "        ctr += ttRows"
   ]
  },
  {
   "cell_type": "code",
   "execution_count": 157,
   "metadata": {},
   "outputs": [
    {
     "name": "stdout",
     "output_type": "stream",
     "text": [
      "719.0766298770905\n"
     ]
    }
   ],
   "source": [
    "            \n",
    "# write to csv file\n",
    "with open(os.path.join(dataOutput, dataName + '.csv'), 'a', newline='') as f:\n",
    "    writer = csv.writer(f)\n",
    "    writer.writerows(np.array([\"x\",\"y\",\"theta\", \"phi\", \"xd\", \"yd\", \"thetad\", \"phid\", \"F\", \"alpha\", \"tau0\", \"simNum\", \"timestep\"]).reshape(1,-1))\n",
    "    writer.writerows(bigF)\n",
    "    \n",
    "    print(time.time() - stt ) # 12 minutes to save a single csv file"
   ]
  },
  {
   "cell_type": "code",
   "execution_count": 165,
   "metadata": {},
   "outputs": [],
   "source": [
    "# save as hdf5 instead of csv (quite a bit faster)\n",
    "bf2.to_hdf(os.path.join(dataOutput, dataName + '.hdf5'), \"data\", mode='w')\n"
   ]
  },
  {
   "cell_type": "code",
   "execution_count": 158,
   "metadata": {},
   "outputs": [
    {
     "data": {
      "text/plain": [
       "11.983333333333333"
      ]
     },
     "execution_count": 158,
     "metadata": {},
     "output_type": "execute_result"
    }
   ],
   "source": [
    "719 / 60"
   ]
  },
  {
   "cell_type": "code",
   "execution_count": 159,
   "metadata": {},
   "outputs": [
    {
     "name": "stdout",
     "output_type": "stream",
     "text": [
      "52.14057374000549\n"
     ]
    },
    {
     "data": {
      "text/html": [
       "<div>\n",
       "<style scoped>\n",
       "    .dataframe tbody tr th:only-of-type {\n",
       "        vertical-align: middle;\n",
       "    }\n",
       "\n",
       "    .dataframe tbody tr th {\n",
       "        vertical-align: top;\n",
       "    }\n",
       "\n",
       "    .dataframe thead th {\n",
       "        text-align: right;\n",
       "    }\n",
       "</style>\n",
       "<table border=\"1\" class=\"dataframe\">\n",
       "  <thead>\n",
       "    <tr style=\"text-align: right;\">\n",
       "      <th></th>\n",
       "      <th>x</th>\n",
       "      <th>y</th>\n",
       "      <th>theta</th>\n",
       "      <th>phi</th>\n",
       "      <th>xd</th>\n",
       "      <th>yd</th>\n",
       "      <th>thetad</th>\n",
       "      <th>phid</th>\n",
       "      <th>F</th>\n",
       "      <th>alpha</th>\n",
       "      <th>tau0</th>\n",
       "      <th>simNum</th>\n",
       "      <th>timestep</th>\n",
       "    </tr>\n",
       "  </thead>\n",
       "  <tbody>\n",
       "    <tr>\n",
       "      <th>0</th>\n",
       "      <td>0.000000</td>\n",
       "      <td>0.000000</td>\n",
       "      <td>0.785398</td>\n",
       "      <td>3.926991</td>\n",
       "      <td>0.000100</td>\n",
       "      <td>0.000100</td>\n",
       "      <td>0.000000</td>\n",
       "      <td>0.000000</td>\n",
       "      <td>35134.927163</td>\n",
       "      <td>5.362883</td>\n",
       "      <td>-47803.351578</td>\n",
       "      <td>0.0</td>\n",
       "      <td>0.0</td>\n",
       "    </tr>\n",
       "    <tr>\n",
       "      <th>1</th>\n",
       "      <td>0.000374</td>\n",
       "      <td>0.000165</td>\n",
       "      <td>0.784926</td>\n",
       "      <td>3.927017</td>\n",
       "      <td>4.627796</td>\n",
       "      <td>0.698741</td>\n",
       "      <td>-3.057799</td>\n",
       "      <td>0.147343</td>\n",
       "      <td>35134.927163</td>\n",
       "      <td>5.362883</td>\n",
       "      <td>-47803.351578</td>\n",
       "      <td>0.0</td>\n",
       "      <td>0.0</td>\n",
       "    </tr>\n",
       "    <tr>\n",
       "      <th>2</th>\n",
       "      <td>0.001948</td>\n",
       "      <td>0.000206</td>\n",
       "      <td>0.784294</td>\n",
       "      <td>3.927042</td>\n",
       "      <td>10.965261</td>\n",
       "      <td>-0.315998</td>\n",
       "      <td>-3.165112</td>\n",
       "      <td>0.099534</td>\n",
       "      <td>35134.927163</td>\n",
       "      <td>5.362883</td>\n",
       "      <td>-47803.351578</td>\n",
       "      <td>0.0</td>\n",
       "      <td>0.0</td>\n",
       "    </tr>\n",
       "    <tr>\n",
       "      <th>3</th>\n",
       "      <td>0.004812</td>\n",
       "      <td>0.000035</td>\n",
       "      <td>0.783649</td>\n",
       "      <td>3.927057</td>\n",
       "      <td>17.332404</td>\n",
       "      <td>-1.364990</td>\n",
       "      <td>-3.220319</td>\n",
       "      <td>0.048239</td>\n",
       "      <td>35134.927163</td>\n",
       "      <td>5.362883</td>\n",
       "      <td>-47803.351578</td>\n",
       "      <td>0.0</td>\n",
       "      <td>0.0</td>\n",
       "    </tr>\n",
       "    <tr>\n",
       "      <th>4</th>\n",
       "      <td>0.008954</td>\n",
       "      <td>-0.000347</td>\n",
       "      <td>0.782994</td>\n",
       "      <td>3.927061</td>\n",
       "      <td>23.701903</td>\n",
       "      <td>-2.420945</td>\n",
       "      <td>-3.270553</td>\n",
       "      <td>-0.003423</td>\n",
       "      <td>35134.927163</td>\n",
       "      <td>5.362883</td>\n",
       "      <td>-47803.351578</td>\n",
       "      <td>0.0</td>\n",
       "      <td>0.0</td>\n",
       "    </tr>\n",
       "  </tbody>\n",
       "</table>\n",
       "</div>"
      ],
      "text/plain": [
       "          x         y     theta       phi         xd        yd    thetad  \\\n",
       "0  0.000000  0.000000  0.785398  3.926991   0.000100  0.000100  0.000000   \n",
       "1  0.000374  0.000165  0.784926  3.927017   4.627796  0.698741 -3.057799   \n",
       "2  0.001948  0.000206  0.784294  3.927042  10.965261 -0.315998 -3.165112   \n",
       "3  0.004812  0.000035  0.783649  3.927057  17.332404 -1.364990 -3.220319   \n",
       "4  0.008954 -0.000347  0.782994  3.927061  23.701903 -2.420945 -3.270553   \n",
       "\n",
       "       phid             F     alpha          tau0  simNum  timestep  \n",
       "0  0.000000  35134.927163  5.362883 -47803.351578     0.0       0.0  \n",
       "1  0.147343  35134.927163  5.362883 -47803.351578     0.0       0.0  \n",
       "2  0.099534  35134.927163  5.362883 -47803.351578     0.0       0.0  \n",
       "3  0.048239  35134.927163  5.362883 -47803.351578     0.0       0.0  \n",
       "4 -0.003423  35134.927163  5.362883 -47803.351578     0.0       0.0  "
      ]
     },
     "execution_count": 159,
     "metadata": {},
     "output_type": "execute_result"
    }
   ],
   "source": [
    "stt = time.time()\n",
    "bf2 = pd.read_csv(os.path.join(dataOutput, dataName + '.csv'))\n",
    "print(time.time() - stt ) # 52 seconds to read in\n",
    "bf2.head()"
   ]
  },
  {
   "cell_type": "code",
   "execution_count": 163,
   "metadata": {},
   "outputs": [
    {
     "data": {
      "text/plain": [
       "[<matplotlib.lines.Line2D at 0x287b72394e0>]"
      ]
     },
     "execution_count": 163,
     "metadata": {},
     "output_type": "execute_result"
    },
    {
     "data": {
      "image/png": "[encoded data removed]",
      "text/plain": [
       "<matplotlib.figure.Figure at 0x287b6c69438>"
      ]
     },
     "metadata": {},
     "output_type": "display_data"
    }
   ],
   "source": [
    "plt.plot(np.unique(bf2.timestep))"
   ]
  },
  {
   "cell_type": "code",
   "execution_count": 106,
   "metadata": {},
   "outputs": [
    {
     "data": {
      "text/html": [
       "<div>\n",
       "<style scoped>\n",
       "    .dataframe tbody tr th:only-of-type {\n",
       "        vertical-align: middle;\n",
       "    }\n",
       "\n",
       "    .dataframe tbody tr th {\n",
       "        vertical-align: top;\n",
       "    }\n",
       "\n",
       "    .dataframe thead th {\n",
       "        text-align: right;\n",
       "    }\n",
       "</style>\n",
       "<table border=\"1\" class=\"dataframe\">\n",
       "  <thead>\n",
       "    <tr style=\"text-align: right;\">\n",
       "      <th></th>\n",
       "      <th>0</th>\n",
       "      <th>1</th>\n",
       "      <th>2</th>\n",
       "      <th>3</th>\n",
       "      <th>4</th>\n",
       "      <th>5</th>\n",
       "      <th>6</th>\n",
       "      <th>7</th>\n",
       "      <th>8</th>\n",
       "      <th>9</th>\n",
       "      <th>10</th>\n",
       "      <th>11</th>\n",
       "      <th>12</th>\n",
       "    </tr>\n",
       "  </thead>\n",
       "  <tbody>\n",
       "    <tr>\n",
       "      <th>0</th>\n",
       "      <td>-0.676007</td>\n",
       "      <td>-2.506200</td>\n",
       "      <td>0.773379</td>\n",
       "      <td>4.530785</td>\n",
       "      <td>-180.595523</td>\n",
       "      <td>-157.133846</td>\n",
       "      <td>1.828670</td>\n",
       "      <td>4.221191</td>\n",
       "      <td>37551.256598</td>\n",
       "      <td>2.955086</td>\n",
       "      <td>-7033.624638</td>\n",
       "      <td>9.0</td>\n",
       "      <td>99.0</td>\n",
       "    </tr>\n",
       "    <tr>\n",
       "      <th>1</th>\n",
       "      <td>-0.712917</td>\n",
       "      <td>-2.538508</td>\n",
       "      <td>0.774019</td>\n",
       "      <td>4.531628</td>\n",
       "      <td>-185.326751</td>\n",
       "      <td>-162.171404</td>\n",
       "      <td>3.597065</td>\n",
       "      <td>4.177210</td>\n",
       "      <td>37551.256598</td>\n",
       "      <td>2.955086</td>\n",
       "      <td>-7033.624638</td>\n",
       "      <td>9.0</td>\n",
       "      <td>99.0</td>\n",
       "    </tr>\n",
       "    <tr>\n",
       "      <th>2</th>\n",
       "      <td>-0.750936</td>\n",
       "      <td>-2.571685</td>\n",
       "      <td>0.774757</td>\n",
       "      <td>4.532478</td>\n",
       "      <td>-191.018251</td>\n",
       "      <td>-166.243182</td>\n",
       "      <td>3.692371</td>\n",
       "      <td>4.240377</td>\n",
       "      <td>37551.256598</td>\n",
       "      <td>2.955086</td>\n",
       "      <td>-7033.624638</td>\n",
       "      <td>9.0</td>\n",
       "      <td>99.0</td>\n",
       "    </tr>\n",
       "    <tr>\n",
       "      <th>3</th>\n",
       "      <td>-0.790101</td>\n",
       "      <td>-2.605678</td>\n",
       "      <td>0.775509</td>\n",
       "      <td>4.533341</td>\n",
       "      <td>-196.715420</td>\n",
       "      <td>-170.310324</td>\n",
       "      <td>3.772564</td>\n",
       "      <td>4.304521</td>\n",
       "      <td>37551.256598</td>\n",
       "      <td>2.955086</td>\n",
       "      <td>-7033.624638</td>\n",
       "      <td>9.0</td>\n",
       "      <td>99.0</td>\n",
       "    </tr>\n",
       "    <tr>\n",
       "      <th>4</th>\n",
       "      <td>-0.830416</td>\n",
       "      <td>-2.640492</td>\n",
       "      <td>0.776276</td>\n",
       "      <td>4.534217</td>\n",
       "      <td>-202.430507</td>\n",
       "      <td>-174.360654</td>\n",
       "      <td>3.816357</td>\n",
       "      <td>4.371004</td>\n",
       "      <td>37551.256598</td>\n",
       "      <td>2.955086</td>\n",
       "      <td>-7033.624638</td>\n",
       "      <td>9.0</td>\n",
       "      <td>99.0</td>\n",
       "    </tr>\n",
       "  </tbody>\n",
       "</table>\n",
       "</div>"
      ],
      "text/plain": [
       "         0         1         2         3           4           5         6   \\\n",
       "0 -0.676007 -2.506200  0.773379  4.530785 -180.595523 -157.133846  1.828670   \n",
       "1 -0.712917 -2.538508  0.774019  4.531628 -185.326751 -162.171404  3.597065   \n",
       "2 -0.750936 -2.571685  0.774757  4.532478 -191.018251 -166.243182  3.692371   \n",
       "3 -0.790101 -2.605678  0.775509  4.533341 -196.715420 -170.310324  3.772564   \n",
       "4 -0.830416 -2.640492  0.776276  4.534217 -202.430507 -174.360654  3.816357   \n",
       "\n",
       "         7             8         9            10   11    12  \n",
       "0  4.221191  37551.256598  2.955086 -7033.624638  9.0  99.0  \n",
       "1  4.177210  37551.256598  2.955086 -7033.624638  9.0  99.0  \n",
       "2  4.240377  37551.256598  2.955086 -7033.624638  9.0  99.0  \n",
       "3  4.304521  37551.256598  2.955086 -7033.624638  9.0  99.0  \n",
       "4  4.371004  37551.256598  2.955086 -7033.624638  9.0  99.0  "
      ]
     },
     "execution_count": 106,
     "metadata": {},
     "output_type": "execute_result"
    }
   ],
   "source": [
    "bigF[0:100, :] = tt\n",
    "pd.DataFrame(bigF).head()"
   ]
  },
  {
   "cell_type": "code",
   "execution_count": 32,
   "metadata": {},
   "outputs": [],
   "source": [
    "simNum = 2 # can go up to 2500\n",
    "timestep = 99 # can go up to 99\n",
    "vals = Qmat['Qstore'][timestep,0] #<-- set the array you want to access. \n",
    "keys = Qmat['Qstore'][timestep,0].dtype.descr\n",
    "keys = np.array(keys)[:, 0]\n",
    "\n",
    "# Assemble the keys and values into variables with the same name as that used in MATLAB\n",
    "for i in range(len(keys)):\n",
    "    key = keys[i]\n",
    "    val = np.squeeze(vals[key][0])  # squeeze is used to covert matlat (1,n) arrays into numpy (1,) arrays. \n",
    "    exec(key + '=val')"
   ]
  },
  {
   "cell_type": "code",
   "execution_count": 91,
   "metadata": {},
   "outputs": [
    {
     "data": {
      "text/html": [
       "<div>\n",
       "<style scoped>\n",
       "    .dataframe tbody tr th:only-of-type {\n",
       "        vertical-align: middle;\n",
       "    }\n",
       "\n",
       "    .dataframe tbody tr th {\n",
       "        vertical-align: top;\n",
       "    }\n",
       "\n",
       "    .dataframe thead th {\n",
       "        text-align: right;\n",
       "    }\n",
       "</style>\n",
       "<table border=\"1\" class=\"dataframe\">\n",
       "  <thead>\n",
       "    <tr style=\"text-align: right;\">\n",
       "      <th></th>\n",
       "      <th>0</th>\n",
       "      <th>1</th>\n",
       "      <th>2</th>\n",
       "      <th>3</th>\n",
       "      <th>4</th>\n",
       "      <th>5</th>\n",
       "      <th>6</th>\n",
       "      <th>7</th>\n",
       "      <th>8</th>\n",
       "      <th>9</th>\n",
       "      <th>10</th>\n",
       "      <th>11</th>\n",
       "      <th>12</th>\n",
       "    </tr>\n",
       "  </thead>\n",
       "  <tbody>\n",
       "    <tr>\n",
       "      <th>0</th>\n",
       "      <td>-0.676007</td>\n",
       "      <td>-2.506200</td>\n",
       "      <td>0.773379</td>\n",
       "      <td>4.530785</td>\n",
       "      <td>-180.595523</td>\n",
       "      <td>-157.133846</td>\n",
       "      <td>1.828670</td>\n",
       "      <td>4.221191</td>\n",
       "      <td>37551.256598</td>\n",
       "      <td>2.955086</td>\n",
       "      <td>-7033.624638</td>\n",
       "      <td>9.0</td>\n",
       "      <td>99.0</td>\n",
       "    </tr>\n",
       "    <tr>\n",
       "      <th>1</th>\n",
       "      <td>-0.712917</td>\n",
       "      <td>-2.538508</td>\n",
       "      <td>0.774019</td>\n",
       "      <td>4.531628</td>\n",
       "      <td>-185.326751</td>\n",
       "      <td>-162.171404</td>\n",
       "      <td>3.597065</td>\n",
       "      <td>4.177210</td>\n",
       "      <td>37551.256598</td>\n",
       "      <td>2.955086</td>\n",
       "      <td>-7033.624638</td>\n",
       "      <td>9.0</td>\n",
       "      <td>99.0</td>\n",
       "    </tr>\n",
       "    <tr>\n",
       "      <th>2</th>\n",
       "      <td>-0.750936</td>\n",
       "      <td>-2.571685</td>\n",
       "      <td>0.774757</td>\n",
       "      <td>4.532478</td>\n",
       "      <td>-191.018251</td>\n",
       "      <td>-166.243182</td>\n",
       "      <td>3.692371</td>\n",
       "      <td>4.240377</td>\n",
       "      <td>37551.256598</td>\n",
       "      <td>2.955086</td>\n",
       "      <td>-7033.624638</td>\n",
       "      <td>9.0</td>\n",
       "      <td>99.0</td>\n",
       "    </tr>\n",
       "    <tr>\n",
       "      <th>3</th>\n",
       "      <td>-0.790101</td>\n",
       "      <td>-2.605678</td>\n",
       "      <td>0.775509</td>\n",
       "      <td>4.533341</td>\n",
       "      <td>-196.715420</td>\n",
       "      <td>-170.310324</td>\n",
       "      <td>3.772564</td>\n",
       "      <td>4.304521</td>\n",
       "      <td>37551.256598</td>\n",
       "      <td>2.955086</td>\n",
       "      <td>-7033.624638</td>\n",
       "      <td>9.0</td>\n",
       "      <td>99.0</td>\n",
       "    </tr>\n",
       "    <tr>\n",
       "      <th>4</th>\n",
       "      <td>-0.830416</td>\n",
       "      <td>-2.640492</td>\n",
       "      <td>0.776276</td>\n",
       "      <td>4.534217</td>\n",
       "      <td>-202.430507</td>\n",
       "      <td>-174.360654</td>\n",
       "      <td>3.816357</td>\n",
       "      <td>4.371004</td>\n",
       "      <td>37551.256598</td>\n",
       "      <td>2.955086</td>\n",
       "      <td>-7033.624638</td>\n",
       "      <td>9.0</td>\n",
       "      <td>99.0</td>\n",
       "    </tr>\n",
       "  </tbody>\n",
       "</table>\n",
       "</div>"
      ],
      "text/plain": [
       "         0         1         2         3           4           5         6   \\\n",
       "0 -0.676007 -2.506200  0.773379  4.530785 -180.595523 -157.133846  1.828670   \n",
       "1 -0.712917 -2.538508  0.774019  4.531628 -185.326751 -162.171404  3.597065   \n",
       "2 -0.750936 -2.571685  0.774757  4.532478 -191.018251 -166.243182  3.692371   \n",
       "3 -0.790101 -2.605678  0.775509  4.533341 -196.715420 -170.310324  3.772564   \n",
       "4 -0.830416 -2.640492  0.776276  4.534217 -202.430507 -174.360654  3.816357   \n",
       "\n",
       "         7             8         9            10   11    12  \n",
       "0  4.221191  37551.256598  2.955086 -7033.624638  9.0  99.0  \n",
       "1  4.177210  37551.256598  2.955086 -7033.624638  9.0  99.0  \n",
       "2  4.240377  37551.256598  2.955086 -7033.624638  9.0  99.0  \n",
       "3  4.304521  37551.256598  2.955086 -7033.624638  9.0  99.0  \n",
       "4  4.371004  37551.256598  2.955086 -7033.624638  9.0  99.0  "
      ]
     },
     "execution_count": 91,
     "metadata": {},
     "output_type": "execute_result"
    }
   ],
   "source": []
  },
  {
   "cell_type": "code",
   "execution_count": 92,
   "metadata": {},
   "outputs": [
    {
     "data": {
      "text/html": [
       "<div>\n",
       "<style scoped>\n",
       "    .dataframe tbody tr th:only-of-type {\n",
       "        vertical-align: middle;\n",
       "    }\n",
       "\n",
       "    .dataframe tbody tr th {\n",
       "        vertical-align: top;\n",
       "    }\n",
       "\n",
       "    .dataframe thead th {\n",
       "        text-align: right;\n",
       "    }\n",
       "</style>\n",
       "<table border=\"1\" class=\"dataframe\">\n",
       "  <thead>\n",
       "    <tr style=\"text-align: right;\">\n",
       "      <th></th>\n",
       "      <th>0</th>\n",
       "      <th>1</th>\n",
       "      <th>2</th>\n",
       "      <th>3</th>\n",
       "      <th>4</th>\n",
       "      <th>5</th>\n",
       "      <th>6</th>\n",
       "      <th>7</th>\n",
       "      <th>8</th>\n",
       "      <th>9</th>\n",
       "      <th>10</th>\n",
       "      <th>11</th>\n",
       "      <th>12</th>\n",
       "    </tr>\n",
       "  </thead>\n",
       "  <tbody>\n",
       "    <tr>\n",
       "      <th>0</th>\n",
       "      <td>-0.676007</td>\n",
       "      <td>-2.506200</td>\n",
       "      <td>0.773379</td>\n",
       "      <td>4.530785</td>\n",
       "      <td>-180.595523</td>\n",
       "      <td>-157.133846</td>\n",
       "      <td>1.828670</td>\n",
       "      <td>4.221191</td>\n",
       "      <td>37551.256598</td>\n",
       "      <td>2.955086</td>\n",
       "      <td>-7033.624638</td>\n",
       "      <td>9.0</td>\n",
       "      <td>99.0</td>\n",
       "    </tr>\n",
       "    <tr>\n",
       "      <th>1</th>\n",
       "      <td>-0.712917</td>\n",
       "      <td>-2.538508</td>\n",
       "      <td>0.774019</td>\n",
       "      <td>4.531628</td>\n",
       "      <td>-185.326751</td>\n",
       "      <td>-162.171404</td>\n",
       "      <td>3.597065</td>\n",
       "      <td>4.177210</td>\n",
       "      <td>37551.256598</td>\n",
       "      <td>2.955086</td>\n",
       "      <td>-7033.624638</td>\n",
       "      <td>9.0</td>\n",
       "      <td>99.0</td>\n",
       "    </tr>\n",
       "    <tr>\n",
       "      <th>2</th>\n",
       "      <td>-0.750936</td>\n",
       "      <td>-2.571685</td>\n",
       "      <td>0.774757</td>\n",
       "      <td>4.532478</td>\n",
       "      <td>-191.018251</td>\n",
       "      <td>-166.243182</td>\n",
       "      <td>3.692371</td>\n",
       "      <td>4.240377</td>\n",
       "      <td>37551.256598</td>\n",
       "      <td>2.955086</td>\n",
       "      <td>-7033.624638</td>\n",
       "      <td>9.0</td>\n",
       "      <td>99.0</td>\n",
       "    </tr>\n",
       "    <tr>\n",
       "      <th>3</th>\n",
       "      <td>-0.790101</td>\n",
       "      <td>-2.605678</td>\n",
       "      <td>0.775509</td>\n",
       "      <td>4.533341</td>\n",
       "      <td>-196.715420</td>\n",
       "      <td>-170.310324</td>\n",
       "      <td>3.772564</td>\n",
       "      <td>4.304521</td>\n",
       "      <td>37551.256598</td>\n",
       "      <td>2.955086</td>\n",
       "      <td>-7033.624638</td>\n",
       "      <td>9.0</td>\n",
       "      <td>99.0</td>\n",
       "    </tr>\n",
       "    <tr>\n",
       "      <th>4</th>\n",
       "      <td>-0.830416</td>\n",
       "      <td>-2.640492</td>\n",
       "      <td>0.776276</td>\n",
       "      <td>4.534217</td>\n",
       "      <td>-202.430507</td>\n",
       "      <td>-174.360654</td>\n",
       "      <td>3.816357</td>\n",
       "      <td>4.371004</td>\n",
       "      <td>37551.256598</td>\n",
       "      <td>2.955086</td>\n",
       "      <td>-7033.624638</td>\n",
       "      <td>9.0</td>\n",
       "      <td>99.0</td>\n",
       "    </tr>\n",
       "    <tr>\n",
       "      <th>5</th>\n",
       "      <td>-0.871888</td>\n",
       "      <td>-2.676129</td>\n",
       "      <td>0.777054</td>\n",
       "      <td>4.535107</td>\n",
       "      <td>-208.125484</td>\n",
       "      <td>-178.432272</td>\n",
       "      <td>3.889507</td>\n",
       "      <td>4.435616</td>\n",
       "      <td>37551.256598</td>\n",
       "      <td>2.955086</td>\n",
       "      <td>-7033.624638</td>\n",
       "      <td>9.0</td>\n",
       "      <td>99.0</td>\n",
       "    </tr>\n",
       "    <tr>\n",
       "      <th>6</th>\n",
       "      <td>-0.914508</td>\n",
       "      <td>-2.712586</td>\n",
       "      <td>0.777847</td>\n",
       "      <td>4.536009</td>\n",
       "      <td>-213.823926</td>\n",
       "      <td>-182.501584</td>\n",
       "      <td>3.951113</td>\n",
       "      <td>4.500976</td>\n",
       "      <td>37551.256598</td>\n",
       "      <td>2.955086</td>\n",
       "      <td>-7033.624638</td>\n",
       "      <td>9.0</td>\n",
       "      <td>99.0</td>\n",
       "    </tr>\n",
       "    <tr>\n",
       "      <th>7</th>\n",
       "      <td>-0.958281</td>\n",
       "      <td>-2.749868</td>\n",
       "      <td>0.778652</td>\n",
       "      <td>4.536925</td>\n",
       "      <td>-219.521891</td>\n",
       "      <td>-186.572569</td>\n",
       "      <td>4.007888</td>\n",
       "      <td>4.566654</td>\n",
       "      <td>37551.256598</td>\n",
       "      <td>2.955086</td>\n",
       "      <td>-7033.624638</td>\n",
       "      <td>9.0</td>\n",
       "      <td>99.0</td>\n",
       "    </tr>\n",
       "    <tr>\n",
       "      <th>8</th>\n",
       "      <td>-1.003202</td>\n",
       "      <td>-2.787973</td>\n",
       "      <td>0.779471</td>\n",
       "      <td>4.537854</td>\n",
       "      <td>-225.210027</td>\n",
       "      <td>-190.654545</td>\n",
       "      <td>4.075906</td>\n",
       "      <td>4.631621</td>\n",
       "      <td>37551.256598</td>\n",
       "      <td>2.955086</td>\n",
       "      <td>-7033.624638</td>\n",
       "      <td>9.0</td>\n",
       "      <td>99.0</td>\n",
       "    </tr>\n",
       "    <tr>\n",
       "      <th>9</th>\n",
       "      <td>-1.049275</td>\n",
       "      <td>-2.826904</td>\n",
       "      <td>0.780302</td>\n",
       "      <td>4.538797</td>\n",
       "      <td>-230.888276</td>\n",
       "      <td>-194.747558</td>\n",
       "      <td>4.155117</td>\n",
       "      <td>4.695881</td>\n",
       "      <td>37551.256598</td>\n",
       "      <td>2.955086</td>\n",
       "      <td>-7033.624638</td>\n",
       "      <td>9.0</td>\n",
       "      <td>99.0</td>\n",
       "    </tr>\n",
       "    <tr>\n",
       "      <th>10</th>\n",
       "      <td>-1.096492</td>\n",
       "      <td>-2.866657</td>\n",
       "      <td>0.781146</td>\n",
       "      <td>4.539752</td>\n",
       "      <td>-236.559887</td>\n",
       "      <td>-198.848355</td>\n",
       "      <td>4.239829</td>\n",
       "      <td>4.759796</td>\n",
       "      <td>37551.256598</td>\n",
       "      <td>2.955086</td>\n",
       "      <td>-7033.624638</td>\n",
       "      <td>9.0</td>\n",
       "      <td>99.0</td>\n",
       "    </tr>\n",
       "    <tr>\n",
       "      <th>11</th>\n",
       "      <td>-1.144858</td>\n",
       "      <td>-2.907239</td>\n",
       "      <td>0.782005</td>\n",
       "      <td>4.540720</td>\n",
       "      <td>-242.253370</td>\n",
       "      <td>-202.928745</td>\n",
       "      <td>4.280815</td>\n",
       "      <td>4.826521</td>\n",
       "      <td>37551.256598</td>\n",
       "      <td>2.955086</td>\n",
       "      <td>-7033.624638</td>\n",
       "      <td>9.0</td>\n",
       "      <td>99.0</td>\n",
       "    </tr>\n",
       "    <tr>\n",
       "      <th>12</th>\n",
       "      <td>-1.194367</td>\n",
       "      <td>-2.948646</td>\n",
       "      <td>0.782876</td>\n",
       "      <td>4.541702</td>\n",
       "      <td>-247.933261</td>\n",
       "      <td>-207.023872</td>\n",
       "      <td>4.339115</td>\n",
       "      <td>4.892145</td>\n",
       "      <td>37551.256598</td>\n",
       "      <td>2.955086</td>\n",
       "      <td>-7033.624638</td>\n",
       "      <td>9.0</td>\n",
       "      <td>99.0</td>\n",
       "    </tr>\n",
       "    <tr>\n",
       "      <th>13</th>\n",
       "      <td>-1.245036</td>\n",
       "      <td>-2.990890</td>\n",
       "      <td>0.783760</td>\n",
       "      <td>4.542697</td>\n",
       "      <td>-253.599637</td>\n",
       "      <td>-211.133638</td>\n",
       "      <td>4.414353</td>\n",
       "      <td>4.956695</td>\n",
       "      <td>37551.256598</td>\n",
       "      <td>2.955086</td>\n",
       "      <td>-7033.624638</td>\n",
       "      <td>9.0</td>\n",
       "      <td>99.0</td>\n",
       "    </tr>\n",
       "    <tr>\n",
       "      <th>14</th>\n",
       "      <td>-1.296840</td>\n",
       "      <td>-3.033957</td>\n",
       "      <td>0.784658</td>\n",
       "      <td>4.543705</td>\n",
       "      <td>-259.270332</td>\n",
       "      <td>-215.240433</td>\n",
       "      <td>4.475892</td>\n",
       "      <td>5.022130</td>\n",
       "      <td>37551.256598</td>\n",
       "      <td>2.955086</td>\n",
       "      <td>-7033.624638</td>\n",
       "      <td>9.0</td>\n",
       "      <td>99.0</td>\n",
       "    </tr>\n",
       "    <tr>\n",
       "      <th>15</th>\n",
       "      <td>-1.349785</td>\n",
       "      <td>-3.077852</td>\n",
       "      <td>0.785569</td>\n",
       "      <td>4.544726</td>\n",
       "      <td>-264.937063</td>\n",
       "      <td>-219.352465</td>\n",
       "      <td>4.537849</td>\n",
       "      <td>5.087547</td>\n",
       "      <td>37551.256598</td>\n",
       "      <td>2.955086</td>\n",
       "      <td>-7033.624638</td>\n",
       "      <td>9.0</td>\n",
       "      <td>99.0</td>\n",
       "    </tr>\n",
       "    <tr>\n",
       "      <th>16</th>\n",
       "      <td>-1.403879</td>\n",
       "      <td>-3.122582</td>\n",
       "      <td>0.786492</td>\n",
       "      <td>4.545760</td>\n",
       "      <td>-270.598005</td>\n",
       "      <td>-223.471538</td>\n",
       "      <td>4.603199</td>\n",
       "      <td>5.152756</td>\n",
       "      <td>37551.256598</td>\n",
       "      <td>2.955086</td>\n",
       "      <td>-7033.624638</td>\n",
       "      <td>9.0</td>\n",
       "      <td>99.0</td>\n",
       "    </tr>\n",
       "    <tr>\n",
       "      <th>17</th>\n",
       "      <td>-1.459114</td>\n",
       "      <td>-3.168143</td>\n",
       "      <td>0.787430</td>\n",
       "      <td>4.546808</td>\n",
       "      <td>-276.257289</td>\n",
       "      <td>-227.593579</td>\n",
       "      <td>4.664779</td>\n",
       "      <td>5.218216</td>\n",
       "      <td>37551.256598</td>\n",
       "      <td>2.955086</td>\n",
       "      <td>-7033.624638</td>\n",
       "      <td>9.0</td>\n",
       "      <td>99.0</td>\n",
       "    </tr>\n",
       "    <tr>\n",
       "      <th>18</th>\n",
       "      <td>-1.515497</td>\n",
       "      <td>-3.214541</td>\n",
       "      <td>0.788380</td>\n",
       "      <td>4.547868</td>\n",
       "      <td>-281.913395</td>\n",
       "      <td>-231.720114</td>\n",
       "      <td>4.725057</td>\n",
       "      <td>5.283768</td>\n",
       "      <td>37551.256598</td>\n",
       "      <td>2.955086</td>\n",
       "      <td>-7033.624638</td>\n",
       "      <td>9.0</td>\n",
       "      <td>99.0</td>\n",
       "    </tr>\n",
       "    <tr>\n",
       "      <th>19</th>\n",
       "      <td>-1.573019</td>\n",
       "      <td>-3.261773</td>\n",
       "      <td>0.789345</td>\n",
       "      <td>4.548942</td>\n",
       "      <td>-287.576403</td>\n",
       "      <td>-235.841324</td>\n",
       "      <td>4.766757</td>\n",
       "      <td>5.350519</td>\n",
       "      <td>37551.256598</td>\n",
       "      <td>2.955086</td>\n",
       "      <td>-7033.624638</td>\n",
       "      <td>9.0</td>\n",
       "      <td>99.0</td>\n",
       "    </tr>\n",
       "    <tr>\n",
       "      <th>20</th>\n",
       "      <td>-1.631682</td>\n",
       "      <td>-3.309839</td>\n",
       "      <td>0.790320</td>\n",
       "      <td>4.550029</td>\n",
       "      <td>-293.204627</td>\n",
       "      <td>-239.997865</td>\n",
       "      <td>4.861023</td>\n",
       "      <td>5.413913</td>\n",
       "      <td>37551.256598</td>\n",
       "      <td>2.955086</td>\n",
       "      <td>-7033.624638</td>\n",
       "      <td>9.0</td>\n",
       "      <td>99.0</td>\n",
       "    </tr>\n",
       "    <tr>\n",
       "      <th>21</th>\n",
       "      <td>-1.691482</td>\n",
       "      <td>-3.358741</td>\n",
       "      <td>0.791309</td>\n",
       "      <td>4.551130</td>\n",
       "      <td>-298.843827</td>\n",
       "      <td>-244.145103</td>\n",
       "      <td>4.929516</td>\n",
       "      <td>5.478966</td>\n",
       "      <td>37551.256598</td>\n",
       "      <td>2.955086</td>\n",
       "      <td>-7033.624638</td>\n",
       "      <td>9.0</td>\n",
       "      <td>99.0</td>\n",
       "    </tr>\n",
       "    <tr>\n",
       "      <th>22</th>\n",
       "      <td>-1.752428</td>\n",
       "      <td>-3.408486</td>\n",
       "      <td>0.792313</td>\n",
       "      <td>4.552243</td>\n",
       "      <td>-304.483810</td>\n",
       "      <td>-248.293024</td>\n",
       "      <td>4.989525</td>\n",
       "      <td>5.544572</td>\n",
       "      <td>37551.256598</td>\n",
       "      <td>2.955086</td>\n",
       "      <td>-7033.624638</td>\n",
       "      <td>9.0</td>\n",
       "      <td>99.0</td>\n",
       "    </tr>\n",
       "    <tr>\n",
       "      <th>23</th>\n",
       "      <td>-1.814509</td>\n",
       "      <td>-3.459069</td>\n",
       "      <td>0.793330</td>\n",
       "      <td>4.553370</td>\n",
       "      <td>-310.127805</td>\n",
       "      <td>-252.438538</td>\n",
       "      <td>5.035528</td>\n",
       "      <td>5.611084</td>\n",
       "      <td>37551.256598</td>\n",
       "      <td>2.955086</td>\n",
       "      <td>-7033.624638</td>\n",
       "      <td>9.0</td>\n",
       "      <td>99.0</td>\n",
       "    </tr>\n",
       "    <tr>\n",
       "      <th>24</th>\n",
       "      <td>-1.877722</td>\n",
       "      <td>-3.510485</td>\n",
       "      <td>0.794358</td>\n",
       "      <td>4.554509</td>\n",
       "      <td>-315.741162</td>\n",
       "      <td>-256.615146</td>\n",
       "      <td>5.126448</td>\n",
       "      <td>5.674730</td>\n",
       "      <td>37551.256598</td>\n",
       "      <td>2.955086</td>\n",
       "      <td>-7033.624638</td>\n",
       "      <td>9.0</td>\n",
       "      <td>99.0</td>\n",
       "    </tr>\n",
       "    <tr>\n",
       "      <th>25</th>\n",
       "      <td>-1.942079</td>\n",
       "      <td>-3.562749</td>\n",
       "      <td>0.795400</td>\n",
       "      <td>4.555662</td>\n",
       "      <td>-321.360405</td>\n",
       "      <td>-260.787534</td>\n",
       "      <td>5.199876</td>\n",
       "      <td>5.739504</td>\n",
       "      <td>37551.256598</td>\n",
       "      <td>2.955086</td>\n",
       "      <td>-7033.624638</td>\n",
       "      <td>9.0</td>\n",
       "      <td>99.0</td>\n",
       "    </tr>\n",
       "    <tr>\n",
       "      <th>26</th>\n",
       "      <td>-2.007573</td>\n",
       "      <td>-3.615857</td>\n",
       "      <td>0.796455</td>\n",
       "      <td>4.556829</td>\n",
       "      <td>-326.974808</td>\n",
       "      <td>-264.966070</td>\n",
       "      <td>5.274005</td>\n",
       "      <td>5.804243</td>\n",
       "      <td>37551.256598</td>\n",
       "      <td>2.955086</td>\n",
       "      <td>-7033.624638</td>\n",
       "      <td>9.0</td>\n",
       "      <td>99.0</td>\n",
       "    </tr>\n",
       "    <tr>\n",
       "      <th>27</th>\n",
       "      <td>-2.074192</td>\n",
       "      <td>-3.669803</td>\n",
       "      <td>0.797525</td>\n",
       "      <td>4.558008</td>\n",
       "      <td>-332.603906</td>\n",
       "      <td>-269.132013</td>\n",
       "      <td>5.315670</td>\n",
       "      <td>5.871070</td>\n",
       "      <td>37551.256598</td>\n",
       "      <td>2.955086</td>\n",
       "      <td>-7033.624638</td>\n",
       "      <td>9.0</td>\n",
       "      <td>99.0</td>\n",
       "    </tr>\n",
       "    <tr>\n",
       "      <th>28</th>\n",
       "      <td>-2.141953</td>\n",
       "      <td>-3.724598</td>\n",
       "      <td>0.798607</td>\n",
       "      <td>4.559201</td>\n",
       "      <td>-338.209158</td>\n",
       "      <td>-273.322391</td>\n",
       "      <td>5.390049</td>\n",
       "      <td>5.935812</td>\n",
       "      <td>37551.256598</td>\n",
       "      <td>2.955086</td>\n",
       "      <td>-7033.624638</td>\n",
       "      <td>9.0</td>\n",
       "      <td>99.0</td>\n",
       "    </tr>\n",
       "    <tr>\n",
       "      <th>29</th>\n",
       "      <td>-2.210840</td>\n",
       "      <td>-3.780234</td>\n",
       "      <td>0.799701</td>\n",
       "      <td>4.560406</td>\n",
       "      <td>-343.802078</td>\n",
       "      <td>-277.526071</td>\n",
       "      <td>5.477546</td>\n",
       "      <td>5.999723</td>\n",
       "      <td>37551.256598</td>\n",
       "      <td>2.955086</td>\n",
       "      <td>-7033.624638</td>\n",
       "      <td>9.0</td>\n",
       "      <td>99.0</td>\n",
       "    </tr>\n",
       "    <tr>\n",
       "      <th>...</th>\n",
       "      <td>...</td>\n",
       "      <td>...</td>\n",
       "      <td>...</td>\n",
       "      <td>...</td>\n",
       "      <td>...</td>\n",
       "      <td>...</td>\n",
       "      <td>...</td>\n",
       "      <td>...</td>\n",
       "      <td>...</td>\n",
       "      <td>...</td>\n",
       "      <td>...</td>\n",
       "      <td>...</td>\n",
       "      <td>...</td>\n",
       "    </tr>\n",
       "    <tr>\n",
       "      <th>70</th>\n",
       "      <td>-5.997735</td>\n",
       "      <td>-6.806540</td>\n",
       "      <td>0.855999</td>\n",
       "      <td>4.621228</td>\n",
       "      <td>-568.866479</td>\n",
       "      <td>-455.307446</td>\n",
       "      <td>8.184405</td>\n",
       "      <td>8.685013</td>\n",
       "      <td>37551.256598</td>\n",
       "      <td>2.955086</td>\n",
       "      <td>-7033.624638</td>\n",
       "      <td>9.0</td>\n",
       "      <td>99.0</td>\n",
       "    </tr>\n",
       "    <tr>\n",
       "      <th>71</th>\n",
       "      <td>-6.113202</td>\n",
       "      <td>-6.898968</td>\n",
       "      <td>0.857649</td>\n",
       "      <td>4.622990</td>\n",
       "      <td>-574.201049</td>\n",
       "      <td>-459.822186</td>\n",
       "      <td>8.279468</td>\n",
       "      <td>8.748870</td>\n",
       "      <td>37551.256598</td>\n",
       "      <td>2.955086</td>\n",
       "      <td>-7033.624638</td>\n",
       "      <td>9.0</td>\n",
       "      <td>99.0</td>\n",
       "    </tr>\n",
       "    <tr>\n",
       "      <th>72</th>\n",
       "      <td>-6.229747</td>\n",
       "      <td>-6.992310</td>\n",
       "      <td>0.859318</td>\n",
       "      <td>4.624765</td>\n",
       "      <td>-579.591594</td>\n",
       "      <td>-464.291698</td>\n",
       "      <td>8.272584</td>\n",
       "      <td>8.819261</td>\n",
       "      <td>37551.256598</td>\n",
       "      <td>2.955086</td>\n",
       "      <td>-7033.624638</td>\n",
       "      <td>9.0</td>\n",
       "      <td>99.0</td>\n",
       "    </tr>\n",
       "    <tr>\n",
       "      <th>73</th>\n",
       "      <td>-6.347376</td>\n",
       "      <td>-7.086563</td>\n",
       "      <td>0.860996</td>\n",
       "      <td>4.626553</td>\n",
       "      <td>-584.933667</td>\n",
       "      <td>-468.804613</td>\n",
       "      <td>8.331308</td>\n",
       "      <td>8.885465</td>\n",
       "      <td>37551.256598</td>\n",
       "      <td>2.955086</td>\n",
       "      <td>-7033.624638</td>\n",
       "      <td>9.0</td>\n",
       "      <td>99.0</td>\n",
       "    </tr>\n",
       "    <tr>\n",
       "      <th>74</th>\n",
       "      <td>-6.466081</td>\n",
       "      <td>-7.181727</td>\n",
       "      <td>0.862686</td>\n",
       "      <td>4.628355</td>\n",
       "      <td>-590.245569</td>\n",
       "      <td>-473.345187</td>\n",
       "      <td>8.426039</td>\n",
       "      <td>8.949377</td>\n",
       "      <td>37551.256598</td>\n",
       "      <td>2.955086</td>\n",
       "      <td>-7033.624638</td>\n",
       "      <td>9.0</td>\n",
       "      <td>99.0</td>\n",
       "    </tr>\n",
       "    <tr>\n",
       "      <th>75</th>\n",
       "      <td>-6.585867</td>\n",
       "      <td>-7.277809</td>\n",
       "      <td>0.864389</td>\n",
       "      <td>4.630170</td>\n",
       "      <td>-595.542357</td>\n",
       "      <td>-477.900610</td>\n",
       "      <td>8.532372</td>\n",
       "      <td>9.012558</td>\n",
       "      <td>37551.256598</td>\n",
       "      <td>2.955086</td>\n",
       "      <td>-7033.624638</td>\n",
       "      <td>9.0</td>\n",
       "      <td>99.0</td>\n",
       "    </tr>\n",
       "    <tr>\n",
       "      <th>76</th>\n",
       "      <td>-6.706722</td>\n",
       "      <td>-7.374807</td>\n",
       "      <td>0.866108</td>\n",
       "      <td>4.631998</td>\n",
       "      <td>-600.868126</td>\n",
       "      <td>-482.434019</td>\n",
       "      <td>8.579942</td>\n",
       "      <td>9.079509</td>\n",
       "      <td>37551.256598</td>\n",
       "      <td>2.955086</td>\n",
       "      <td>-7033.624638</td>\n",
       "      <td>9.0</td>\n",
       "      <td>99.0</td>\n",
       "    </tr>\n",
       "    <tr>\n",
       "      <th>77</th>\n",
       "      <td>-6.828645</td>\n",
       "      <td>-7.472721</td>\n",
       "      <td>0.867842</td>\n",
       "      <td>4.633839</td>\n",
       "      <td>-606.208529</td>\n",
       "      <td>-486.957642</td>\n",
       "      <td>8.591719</td>\n",
       "      <td>9.148762</td>\n",
       "      <td>37551.256598</td>\n",
       "      <td>2.955086</td>\n",
       "      <td>-7033.624638</td>\n",
       "      <td>9.0</td>\n",
       "      <td>99.0</td>\n",
       "    </tr>\n",
       "    <tr>\n",
       "      <th>78</th>\n",
       "      <td>-6.951652</td>\n",
       "      <td>-7.571563</td>\n",
       "      <td>0.869586</td>\n",
       "      <td>4.635694</td>\n",
       "      <td>-611.500288</td>\n",
       "      <td>-491.524121</td>\n",
       "      <td>8.668148</td>\n",
       "      <td>9.213890</td>\n",
       "      <td>37551.256598</td>\n",
       "      <td>2.955086</td>\n",
       "      <td>-7033.624638</td>\n",
       "      <td>9.0</td>\n",
       "      <td>99.0</td>\n",
       "    </tr>\n",
       "    <tr>\n",
       "      <th>79</th>\n",
       "      <td>-7.075720</td>\n",
       "      <td>-7.671319</td>\n",
       "      <td>0.871342</td>\n",
       "      <td>4.637562</td>\n",
       "      <td>-616.769635</td>\n",
       "      <td>-496.111388</td>\n",
       "      <td>8.767413</td>\n",
       "      <td>9.277569</td>\n",
       "      <td>37551.256598</td>\n",
       "      <td>2.955086</td>\n",
       "      <td>-7033.624638</td>\n",
       "      <td>9.0</td>\n",
       "      <td>99.0</td>\n",
       "    </tr>\n",
       "    <tr>\n",
       "      <th>80</th>\n",
       "      <td>-7.200855</td>\n",
       "      <td>-7.772002</td>\n",
       "      <td>0.873115</td>\n",
       "      <td>4.639443</td>\n",
       "      <td>-622.075915</td>\n",
       "      <td>-500.670526</td>\n",
       "      <td>8.795131</td>\n",
       "      <td>9.345836</td>\n",
       "      <td>37551.256598</td>\n",
       "      <td>2.955086</td>\n",
       "      <td>-7033.624638</td>\n",
       "      <td>9.0</td>\n",
       "      <td>99.0</td>\n",
       "    </tr>\n",
       "    <tr>\n",
       "      <th>81</th>\n",
       "      <td>-7.327060</td>\n",
       "      <td>-7.873612</td>\n",
       "      <td>0.874900</td>\n",
       "      <td>4.641338</td>\n",
       "      <td>-627.347354</td>\n",
       "      <td>-505.260779</td>\n",
       "      <td>8.865080</td>\n",
       "      <td>9.411413</td>\n",
       "      <td>37551.256598</td>\n",
       "      <td>2.955086</td>\n",
       "      <td>-7033.624638</td>\n",
       "      <td>9.0</td>\n",
       "      <td>99.0</td>\n",
       "    </tr>\n",
       "    <tr>\n",
       "      <th>82</th>\n",
       "      <td>-7.454332</td>\n",
       "      <td>-7.976152</td>\n",
       "      <td>0.876698</td>\n",
       "      <td>4.643246</td>\n",
       "      <td>-632.618731</td>\n",
       "      <td>-509.853438</td>\n",
       "      <td>8.921955</td>\n",
       "      <td>9.477838</td>\n",
       "      <td>37551.256598</td>\n",
       "      <td>2.955086</td>\n",
       "      <td>-7033.624638</td>\n",
       "      <td>9.0</td>\n",
       "      <td>99.0</td>\n",
       "    </tr>\n",
       "    <tr>\n",
       "      <th>83</th>\n",
       "      <td>-7.582664</td>\n",
       "      <td>-8.079621</td>\n",
       "      <td>0.878511</td>\n",
       "      <td>4.645167</td>\n",
       "      <td>-637.892864</td>\n",
       "      <td>-514.446286</td>\n",
       "      <td>8.961295</td>\n",
       "      <td>9.545396</td>\n",
       "      <td>37551.256598</td>\n",
       "      <td>2.955086</td>\n",
       "      <td>-7033.624638</td>\n",
       "      <td>9.0</td>\n",
       "      <td>99.0</td>\n",
       "    </tr>\n",
       "    <tr>\n",
       "      <th>84</th>\n",
       "      <td>-7.712050</td>\n",
       "      <td>-8.184016</td>\n",
       "      <td>0.880338</td>\n",
       "      <td>4.647101</td>\n",
       "      <td>-643.175355</td>\n",
       "      <td>-519.034843</td>\n",
       "      <td>8.974295</td>\n",
       "      <td>9.614651</td>\n",
       "      <td>37551.256598</td>\n",
       "      <td>2.955086</td>\n",
       "      <td>-7033.624638</td>\n",
       "      <td>9.0</td>\n",
       "      <td>99.0</td>\n",
       "    </tr>\n",
       "    <tr>\n",
       "      <th>85</th>\n",
       "      <td>-7.842506</td>\n",
       "      <td>-8.289347</td>\n",
       "      <td>0.882171</td>\n",
       "      <td>4.649049</td>\n",
       "      <td>-648.362674</td>\n",
       "      <td>-523.703033</td>\n",
       "      <td>9.123780</td>\n",
       "      <td>9.675187</td>\n",
       "      <td>37551.256598</td>\n",
       "      <td>2.955086</td>\n",
       "      <td>-7033.624638</td>\n",
       "      <td>9.0</td>\n",
       "      <td>99.0</td>\n",
       "    </tr>\n",
       "    <tr>\n",
       "      <th>86</th>\n",
       "      <td>-7.974015</td>\n",
       "      <td>-8.395613</td>\n",
       "      <td>0.884022</td>\n",
       "      <td>4.651011</td>\n",
       "      <td>-653.591155</td>\n",
       "      <td>-528.340175</td>\n",
       "      <td>9.194798</td>\n",
       "      <td>9.740754</td>\n",
       "      <td>37551.256598</td>\n",
       "      <td>2.955086</td>\n",
       "      <td>-7033.624638</td>\n",
       "      <td>9.0</td>\n",
       "      <td>99.0</td>\n",
       "    </tr>\n",
       "    <tr>\n",
       "      <th>87</th>\n",
       "      <td>-8.106583</td>\n",
       "      <td>-8.502820</td>\n",
       "      <td>0.885887</td>\n",
       "      <td>4.652985</td>\n",
       "      <td>-658.821420</td>\n",
       "      <td>-532.978319</td>\n",
       "      <td>9.249316</td>\n",
       "      <td>9.807389</td>\n",
       "      <td>37551.256598</td>\n",
       "      <td>2.955086</td>\n",
       "      <td>-7033.624638</td>\n",
       "      <td>9.0</td>\n",
       "      <td>99.0</td>\n",
       "    </tr>\n",
       "    <tr>\n",
       "      <th>88</th>\n",
       "      <td>-8.240204</td>\n",
       "      <td>-8.610965</td>\n",
       "      <td>0.887767</td>\n",
       "      <td>4.654973</td>\n",
       "      <td>-664.054630</td>\n",
       "      <td>-537.616630</td>\n",
       "      <td>9.285516</td>\n",
       "      <td>9.875207</td>\n",
       "      <td>37551.256598</td>\n",
       "      <td>2.955086</td>\n",
       "      <td>-7033.624638</td>\n",
       "      <td>9.0</td>\n",
       "      <td>99.0</td>\n",
       "    </tr>\n",
       "    <tr>\n",
       "      <th>89</th>\n",
       "      <td>-8.374870</td>\n",
       "      <td>-8.720046</td>\n",
       "      <td>0.889660</td>\n",
       "      <td>4.656974</td>\n",
       "      <td>-669.283874</td>\n",
       "      <td>-542.260672</td>\n",
       "      <td>9.314243</td>\n",
       "      <td>9.943515</td>\n",
       "      <td>37551.256598</td>\n",
       "      <td>2.955086</td>\n",
       "      <td>-7033.624638</td>\n",
       "      <td>9.0</td>\n",
       "      <td>99.0</td>\n",
       "    </tr>\n",
       "    <tr>\n",
       "      <th>90</th>\n",
       "      <td>-8.510598</td>\n",
       "      <td>-8.830073</td>\n",
       "      <td>0.891560</td>\n",
       "      <td>4.658988</td>\n",
       "      <td>-674.426905</td>\n",
       "      <td>-546.975790</td>\n",
       "      <td>9.463744</td>\n",
       "      <td>10.004110</td>\n",
       "      <td>37551.256598</td>\n",
       "      <td>2.955086</td>\n",
       "      <td>-7033.624638</td>\n",
       "      <td>9.0</td>\n",
       "      <td>99.0</td>\n",
       "    </tr>\n",
       "    <tr>\n",
       "      <th>91</th>\n",
       "      <td>-8.647373</td>\n",
       "      <td>-8.941048</td>\n",
       "      <td>0.893478</td>\n",
       "      <td>4.661016</td>\n",
       "      <td>-679.615983</td>\n",
       "      <td>-551.656696</td>\n",
       "      <td>9.527080</td>\n",
       "      <td>10.070228</td>\n",
       "      <td>37551.256598</td>\n",
       "      <td>2.955086</td>\n",
       "      <td>-7033.624638</td>\n",
       "      <td>9.0</td>\n",
       "      <td>99.0</td>\n",
       "    </tr>\n",
       "    <tr>\n",
       "      <th>92</th>\n",
       "      <td>-8.785192</td>\n",
       "      <td>-9.052967</td>\n",
       "      <td>0.895409</td>\n",
       "      <td>4.663057</td>\n",
       "      <td>-684.797659</td>\n",
       "      <td>-556.345957</td>\n",
       "      <td>9.587825</td>\n",
       "      <td>10.136524</td>\n",
       "      <td>37551.256598</td>\n",
       "      <td>2.955086</td>\n",
       "      <td>-7033.624638</td>\n",
       "      <td>9.0</td>\n",
       "      <td>99.0</td>\n",
       "    </tr>\n",
       "    <tr>\n",
       "      <th>93</th>\n",
       "      <td>-8.924053</td>\n",
       "      <td>-9.165833</td>\n",
       "      <td>0.897355</td>\n",
       "      <td>4.665111</td>\n",
       "      <td>-689.981188</td>\n",
       "      <td>-561.036307</td>\n",
       "      <td>9.631468</td>\n",
       "      <td>10.203927</td>\n",
       "      <td>37551.256598</td>\n",
       "      <td>2.955086</td>\n",
       "      <td>-7033.624638</td>\n",
       "      <td>9.0</td>\n",
       "      <td>99.0</td>\n",
       "    </tr>\n",
       "    <tr>\n",
       "      <th>94</th>\n",
       "      <td>-9.063965</td>\n",
       "      <td>-9.279654</td>\n",
       "      <td>0.899310</td>\n",
       "      <td>4.667179</td>\n",
       "      <td>-695.116883</td>\n",
       "      <td>-565.766657</td>\n",
       "      <td>9.735003</td>\n",
       "      <td>10.267510</td>\n",
       "      <td>37551.256598</td>\n",
       "      <td>2.955086</td>\n",
       "      <td>-7033.624638</td>\n",
       "      <td>9.0</td>\n",
       "      <td>99.0</td>\n",
       "    </tr>\n",
       "    <tr>\n",
       "      <th>95</th>\n",
       "      <td>-9.204920</td>\n",
       "      <td>-9.394429</td>\n",
       "      <td>0.901280</td>\n",
       "      <td>4.669261</td>\n",
       "      <td>-700.241189</td>\n",
       "      <td>-570.508260</td>\n",
       "      <td>9.841560</td>\n",
       "      <td>10.330913</td>\n",
       "      <td>37551.256598</td>\n",
       "      <td>2.955086</td>\n",
       "      <td>-7033.624638</td>\n",
       "      <td>9.0</td>\n",
       "      <td>99.0</td>\n",
       "    </tr>\n",
       "    <tr>\n",
       "      <th>96</th>\n",
       "      <td>-9.346900</td>\n",
       "      <td>-9.510149</td>\n",
       "      <td>0.903266</td>\n",
       "      <td>4.671355</td>\n",
       "      <td>-705.406333</td>\n",
       "      <td>-575.220688</td>\n",
       "      <td>9.870391</td>\n",
       "      <td>10.399299</td>\n",
       "      <td>37551.256598</td>\n",
       "      <td>2.955086</td>\n",
       "      <td>-7033.624638</td>\n",
       "      <td>9.0</td>\n",
       "      <td>99.0</td>\n",
       "    </tr>\n",
       "    <tr>\n",
       "      <th>97</th>\n",
       "      <td>-9.489930</td>\n",
       "      <td>-9.626837</td>\n",
       "      <td>0.905265</td>\n",
       "      <td>4.673462</td>\n",
       "      <td>-710.553270</td>\n",
       "      <td>-579.949912</td>\n",
       "      <td>9.912621</td>\n",
       "      <td>10.466841</td>\n",
       "      <td>37551.256598</td>\n",
       "      <td>2.955086</td>\n",
       "      <td>-7033.624638</td>\n",
       "      <td>9.0</td>\n",
       "      <td>99.0</td>\n",
       "    </tr>\n",
       "    <tr>\n",
       "      <th>98</th>\n",
       "      <td>-9.633992</td>\n",
       "      <td>-9.744479</td>\n",
       "      <td>0.907276</td>\n",
       "      <td>4.675583</td>\n",
       "      <td>-715.675104</td>\n",
       "      <td>-584.701080</td>\n",
       "      <td>9.978895</td>\n",
       "      <td>10.532858</td>\n",
       "      <td>37551.256598</td>\n",
       "      <td>2.955086</td>\n",
       "      <td>-7033.624638</td>\n",
       "      <td>9.0</td>\n",
       "      <td>99.0</td>\n",
       "    </tr>\n",
       "    <tr>\n",
       "      <th>99</th>\n",
       "      <td>-9.779082</td>\n",
       "      <td>-9.863080</td>\n",
       "      <td>0.909304</td>\n",
       "      <td>4.677718</td>\n",
       "      <td>-720.832820</td>\n",
       "      <td>-589.427431</td>\n",
       "      <td>9.975037</td>\n",
       "      <td>10.603372</td>\n",
       "      <td>37551.256598</td>\n",
       "      <td>2.955086</td>\n",
       "      <td>-7033.624638</td>\n",
       "      <td>9.0</td>\n",
       "      <td>99.0</td>\n",
       "    </tr>\n",
       "  </tbody>\n",
       "</table>\n",
       "<p>100 rows × 13 columns</p>\n",
       "</div>"
      ],
      "text/plain": [
       "          0         1         2         3           4           5         6   \\\n",
       "0  -0.676007 -2.506200  0.773379  4.530785 -180.595523 -157.133846  1.828670   \n",
       "1  -0.712917 -2.538508  0.774019  4.531628 -185.326751 -162.171404  3.597065   \n",
       "2  -0.750936 -2.571685  0.774757  4.532478 -191.018251 -166.243182  3.692371   \n",
       "3  -0.790101 -2.605678  0.775509  4.533341 -196.715420 -170.310324  3.772564   \n",
       "4  -0.830416 -2.640492  0.776276  4.534217 -202.430507 -174.360654  3.816357   \n",
       "5  -0.871888 -2.676129  0.777054  4.535107 -208.125484 -178.432272  3.889507   \n",
       "6  -0.914508 -2.712586  0.777847  4.536009 -213.823926 -182.501584  3.951113   \n",
       "7  -0.958281 -2.749868  0.778652  4.536925 -219.521891 -186.572569  4.007888   \n",
       "8  -1.003202 -2.787973  0.779471  4.537854 -225.210027 -190.654545  4.075906   \n",
       "9  -1.049275 -2.826904  0.780302  4.538797 -230.888276 -194.747558  4.155117   \n",
       "10 -1.096492 -2.866657  0.781146  4.539752 -236.559887 -198.848355  4.239829   \n",
       "11 -1.144858 -2.907239  0.782005  4.540720 -242.253370 -202.928745  4.280815   \n",
       "12 -1.194367 -2.948646  0.782876  4.541702 -247.933261 -207.023872  4.339115   \n",
       "13 -1.245036 -2.990890  0.783760  4.542697 -253.599637 -211.133638  4.414353   \n",
       "14 -1.296840 -3.033957  0.784658  4.543705 -259.270332 -215.240433  4.475892   \n",
       "15 -1.349785 -3.077852  0.785569  4.544726 -264.937063 -219.352465  4.537849   \n",
       "16 -1.403879 -3.122582  0.786492  4.545760 -270.598005 -223.471538  4.603199   \n",
       "17 -1.459114 -3.168143  0.787430  4.546808 -276.257289 -227.593579  4.664779   \n",
       "18 -1.515497 -3.214541  0.788380  4.547868 -281.913395 -231.720114  4.725057   \n",
       "19 -1.573019 -3.261773  0.789345  4.548942 -287.576403 -235.841324  4.766757   \n",
       "20 -1.631682 -3.309839  0.790320  4.550029 -293.204627 -239.997865  4.861023   \n",
       "21 -1.691482 -3.358741  0.791309  4.551130 -298.843827 -244.145103  4.929516   \n",
       "22 -1.752428 -3.408486  0.792313  4.552243 -304.483810 -248.293024  4.989525   \n",
       "23 -1.814509 -3.459069  0.793330  4.553370 -310.127805 -252.438538  5.035528   \n",
       "24 -1.877722 -3.510485  0.794358  4.554509 -315.741162 -256.615146  5.126448   \n",
       "25 -1.942079 -3.562749  0.795400  4.555662 -321.360405 -260.787534  5.199876   \n",
       "26 -2.007573 -3.615857  0.796455  4.556829 -326.974808 -264.966070  5.274005   \n",
       "27 -2.074192 -3.669803  0.797525  4.558008 -332.603906 -269.132013  5.315670   \n",
       "28 -2.141953 -3.724598  0.798607  4.559201 -338.209158 -273.322391  5.390049   \n",
       "29 -2.210840 -3.780234  0.799701  4.560406 -343.802078 -277.526071  5.477546   \n",
       "..       ...       ...       ...       ...         ...         ...       ...   \n",
       "70 -5.997735 -6.806540  0.855999  4.621228 -568.866479 -455.307446  8.184405   \n",
       "71 -6.113202 -6.898968  0.857649  4.622990 -574.201049 -459.822186  8.279468   \n",
       "72 -6.229747 -6.992310  0.859318  4.624765 -579.591594 -464.291698  8.272584   \n",
       "73 -6.347376 -7.086563  0.860996  4.626553 -584.933667 -468.804613  8.331308   \n",
       "74 -6.466081 -7.181727  0.862686  4.628355 -590.245569 -473.345187  8.426039   \n",
       "75 -6.585867 -7.277809  0.864389  4.630170 -595.542357 -477.900610  8.532372   \n",
       "76 -6.706722 -7.374807  0.866108  4.631998 -600.868126 -482.434019  8.579942   \n",
       "77 -6.828645 -7.472721  0.867842  4.633839 -606.208529 -486.957642  8.591719   \n",
       "78 -6.951652 -7.571563  0.869586  4.635694 -611.500288 -491.524121  8.668148   \n",
       "79 -7.075720 -7.671319  0.871342  4.637562 -616.769635 -496.111388  8.767413   \n",
       "80 -7.200855 -7.772002  0.873115  4.639443 -622.075915 -500.670526  8.795131   \n",
       "81 -7.327060 -7.873612  0.874900  4.641338 -627.347354 -505.260779  8.865080   \n",
       "82 -7.454332 -7.976152  0.876698  4.643246 -632.618731 -509.853438  8.921955   \n",
       "83 -7.582664 -8.079621  0.878511  4.645167 -637.892864 -514.446286  8.961295   \n",
       "84 -7.712050 -8.184016  0.880338  4.647101 -643.175355 -519.034843  8.974295   \n",
       "85 -7.842506 -8.289347  0.882171  4.649049 -648.362674 -523.703033  9.123780   \n",
       "86 -7.974015 -8.395613  0.884022  4.651011 -653.591155 -528.340175  9.194798   \n",
       "87 -8.106583 -8.502820  0.885887  4.652985 -658.821420 -532.978319  9.249316   \n",
       "88 -8.240204 -8.610965  0.887767  4.654973 -664.054630 -537.616630  9.285516   \n",
       "89 -8.374870 -8.720046  0.889660  4.656974 -669.283874 -542.260672  9.314243   \n",
       "90 -8.510598 -8.830073  0.891560  4.658988 -674.426905 -546.975790  9.463744   \n",
       "91 -8.647373 -8.941048  0.893478  4.661016 -679.615983 -551.656696  9.527080   \n",
       "92 -8.785192 -9.052967  0.895409  4.663057 -684.797659 -556.345957  9.587825   \n",
       "93 -8.924053 -9.165833  0.897355  4.665111 -689.981188 -561.036307  9.631468   \n",
       "94 -9.063965 -9.279654  0.899310  4.667179 -695.116883 -565.766657  9.735003   \n",
       "95 -9.204920 -9.394429  0.901280  4.669261 -700.241189 -570.508260  9.841560   \n",
       "96 -9.346900 -9.510149  0.903266  4.671355 -705.406333 -575.220688  9.870391   \n",
       "97 -9.489930 -9.626837  0.905265  4.673462 -710.553270 -579.949912  9.912621   \n",
       "98 -9.633992 -9.744479  0.907276  4.675583 -715.675104 -584.701080  9.978895   \n",
       "99 -9.779082 -9.863080  0.909304  4.677718 -720.832820 -589.427431  9.975037   \n",
       "\n",
       "           7             8         9            10   11    12  \n",
       "0    4.221191  37551.256598  2.955086 -7033.624638  9.0  99.0  \n",
       "1    4.177210  37551.256598  2.955086 -7033.624638  9.0  99.0  \n",
       "2    4.240377  37551.256598  2.955086 -7033.624638  9.0  99.0  \n",
       "3    4.304521  37551.256598  2.955086 -7033.624638  9.0  99.0  \n",
       "4    4.371004  37551.256598  2.955086 -7033.624638  9.0  99.0  \n",
       "5    4.435616  37551.256598  2.955086 -7033.624638  9.0  99.0  \n",
       "6    4.500976  37551.256598  2.955086 -7033.624638  9.0  99.0  \n",
       "7    4.566654  37551.256598  2.955086 -7033.624638  9.0  99.0  \n",
       "8    4.631621  37551.256598  2.955086 -7033.624638  9.0  99.0  \n",
       "9    4.695881  37551.256598  2.955086 -7033.624638  9.0  99.0  \n",
       "10   4.759796  37551.256598  2.955086 -7033.624638  9.0  99.0  \n",
       "11   4.826521  37551.256598  2.955086 -7033.624638  9.0  99.0  \n",
       "12   4.892145  37551.256598  2.955086 -7033.624638  9.0  99.0  \n",
       "13   4.956695  37551.256598  2.955086 -7033.624638  9.0  99.0  \n",
       "14   5.022130  37551.256598  2.955086 -7033.624638  9.0  99.0  \n",
       "15   5.087547  37551.256598  2.955086 -7033.624638  9.0  99.0  \n",
       "16   5.152756  37551.256598  2.955086 -7033.624638  9.0  99.0  \n",
       "17   5.218216  37551.256598  2.955086 -7033.624638  9.0  99.0  \n",
       "18   5.283768  37551.256598  2.955086 -7033.624638  9.0  99.0  \n",
       "19   5.350519  37551.256598  2.955086 -7033.624638  9.0  99.0  \n",
       "20   5.413913  37551.256598  2.955086 -7033.624638  9.0  99.0  \n",
       "21   5.478966  37551.256598  2.955086 -7033.624638  9.0  99.0  \n",
       "22   5.544572  37551.256598  2.955086 -7033.624638  9.0  99.0  \n",
       "23   5.611084  37551.256598  2.955086 -7033.624638  9.0  99.0  \n",
       "24   5.674730  37551.256598  2.955086 -7033.624638  9.0  99.0  \n",
       "25   5.739504  37551.256598  2.955086 -7033.624638  9.0  99.0  \n",
       "26   5.804243  37551.256598  2.955086 -7033.624638  9.0  99.0  \n",
       "27   5.871070  37551.256598  2.955086 -7033.624638  9.0  99.0  \n",
       "28   5.935812  37551.256598  2.955086 -7033.624638  9.0  99.0  \n",
       "29   5.999723  37551.256598  2.955086 -7033.624638  9.0  99.0  \n",
       "..        ...           ...       ...          ...  ...   ...  \n",
       "70   8.685013  37551.256598  2.955086 -7033.624638  9.0  99.0  \n",
       "71   8.748870  37551.256598  2.955086 -7033.624638  9.0  99.0  \n",
       "72   8.819261  37551.256598  2.955086 -7033.624638  9.0  99.0  \n",
       "73   8.885465  37551.256598  2.955086 -7033.624638  9.0  99.0  \n",
       "74   8.949377  37551.256598  2.955086 -7033.624638  9.0  99.0  \n",
       "75   9.012558  37551.256598  2.955086 -7033.624638  9.0  99.0  \n",
       "76   9.079509  37551.256598  2.955086 -7033.624638  9.0  99.0  \n",
       "77   9.148762  37551.256598  2.955086 -7033.624638  9.0  99.0  \n",
       "78   9.213890  37551.256598  2.955086 -7033.624638  9.0  99.0  \n",
       "79   9.277569  37551.256598  2.955086 -7033.624638  9.0  99.0  \n",
       "80   9.345836  37551.256598  2.955086 -7033.624638  9.0  99.0  \n",
       "81   9.411413  37551.256598  2.955086 -7033.624638  9.0  99.0  \n",
       "82   9.477838  37551.256598  2.955086 -7033.624638  9.0  99.0  \n",
       "83   9.545396  37551.256598  2.955086 -7033.624638  9.0  99.0  \n",
       "84   9.614651  37551.256598  2.955086 -7033.624638  9.0  99.0  \n",
       "85   9.675187  37551.256598  2.955086 -7033.624638  9.0  99.0  \n",
       "86   9.740754  37551.256598  2.955086 -7033.624638  9.0  99.0  \n",
       "87   9.807389  37551.256598  2.955086 -7033.624638  9.0  99.0  \n",
       "88   9.875207  37551.256598  2.955086 -7033.624638  9.0  99.0  \n",
       "89   9.943515  37551.256598  2.955086 -7033.624638  9.0  99.0  \n",
       "90  10.004110  37551.256598  2.955086 -7033.624638  9.0  99.0  \n",
       "91  10.070228  37551.256598  2.955086 -7033.624638  9.0  99.0  \n",
       "92  10.136524  37551.256598  2.955086 -7033.624638  9.0  99.0  \n",
       "93  10.203927  37551.256598  2.955086 -7033.624638  9.0  99.0  \n",
       "94  10.267510  37551.256598  2.955086 -7033.624638  9.0  99.0  \n",
       "95  10.330913  37551.256598  2.955086 -7033.624638  9.0  99.0  \n",
       "96  10.399299  37551.256598  2.955086 -7033.624638  9.0  99.0  \n",
       "97  10.466841  37551.256598  2.955086 -7033.624638  9.0  99.0  \n",
       "98  10.532858  37551.256598  2.955086 -7033.624638  9.0  99.0  \n",
       "99  10.603372  37551.256598  2.955086 -7033.624638  9.0  99.0  \n",
       "\n",
       "[100 rows x 13 columns]"
      ]
     },
     "execution_count": 92,
     "metadata": {},
     "output_type": "execute_result"
    }
   ],
   "source": [
    "tt = vals[\"bigQ\"][0, simNum]\n",
    "F =  np.repeat(np.concatenate(vals[\"F\"][0]).ravel()[simNum], 100).reshape(-1,1)\n",
    "alpha = np.repeat(np.concatenate(vals[\"alpha\"][0]).ravel()[simNum], 100).reshape(-1,1)\n",
    "tau0 = np.repeat(np.concatenate(vals[\"tau0\"][0]).ravel()[simNum], 100).reshape(-1,1)\n",
    "simNum_ =  np.repeat(simNum, 100).reshape(-1,1)\n",
    "timestep_ = np.repeat(timestep, 100).reshape(-1,1)\n",
    "pd.DataFrame(np.hstack([tt, F, alpha, tau0, simNum_, timestep_]))"
   ]
  },
  {
   "cell_type": "code",
   "execution_count": 48,
   "metadata": {},
   "outputs": [],
   "source": [
    "with open(os.path.join(dataOutput, dataName + '.csv'), 'a') as f:\n",
    "    np.savetxt(f, np.hstack([tt, F, alpha, tau0, simNum_, timestep_]))"
   ]
  },
  {
   "cell_type": "code",
   "execution_count": 43,
   "metadata": {},
   "outputs": [],
   "source": [
    "np.savetxt(os.path.join(dataOutput, dataName + \".csv\"), np.hstack([tt, F, alpha, tau0, simNum_, timestep_]))"
   ]
  },
  {
   "cell_type": "code",
   "execution_count": 40,
   "metadata": {},
   "outputs": [
    {
     "data": {
      "text/html": [
       "<div>\n",
       "<style scoped>\n",
       "    .dataframe tbody tr th:only-of-type {\n",
       "        vertical-align: middle;\n",
       "    }\n",
       "\n",
       "    .dataframe tbody tr th {\n",
       "        vertical-align: top;\n",
       "    }\n",
       "\n",
       "    .dataframe thead th {\n",
       "        text-align: right;\n",
       "    }\n",
       "</style>\n",
       "<table border=\"1\" class=\"dataframe\">\n",
       "  <thead>\n",
       "    <tr style=\"text-align: right;\">\n",
       "      <th></th>\n",
       "      <th>0</th>\n",
       "      <th>1</th>\n",
       "      <th>2</th>\n",
       "      <th>3</th>\n",
       "      <th>4</th>\n",
       "      <th>5</th>\n",
       "      <th>6</th>\n",
       "      <th>7</th>\n",
       "      <th>8</th>\n",
       "      <th>9</th>\n",
       "      <th>10</th>\n",
       "      <th>11</th>\n",
       "      <th>12</th>\n",
       "    </tr>\n",
       "  </thead>\n",
       "  <tbody>\n",
       "    <tr>\n",
       "      <th>0</th>\n",
       "      <td>-0.676007</td>\n",
       "      <td>-2.506200</td>\n",
       "      <td>0.773379</td>\n",
       "      <td>4.530785</td>\n",
       "      <td>-180.595523</td>\n",
       "      <td>-157.133846</td>\n",
       "      <td>1.828670</td>\n",
       "      <td>4.221191</td>\n",
       "      <td>28554.192336</td>\n",
       "      <td>0.47771</td>\n",
       "      <td>1596.250869</td>\n",
       "      <td>2.0</td>\n",
       "      <td>99.0</td>\n",
       "    </tr>\n",
       "    <tr>\n",
       "      <th>1</th>\n",
       "      <td>-0.712122</td>\n",
       "      <td>-2.537663</td>\n",
       "      <td>0.774098</td>\n",
       "      <td>4.531613</td>\n",
       "      <td>-177.646561</td>\n",
       "      <td>-153.657239</td>\n",
       "      <td>4.078843</td>\n",
       "      <td>4.055595</td>\n",
       "      <td>28554.192336</td>\n",
       "      <td>0.47771</td>\n",
       "      <td>1596.250869</td>\n",
       "      <td>2.0</td>\n",
       "      <td>99.0</td>\n",
       "    </tr>\n",
       "    <tr>\n",
       "      <th>2</th>\n",
       "      <td>-0.747840</td>\n",
       "      <td>-2.568223</td>\n",
       "      <td>0.774927</td>\n",
       "      <td>4.532430</td>\n",
       "      <td>-175.983530</td>\n",
       "      <td>-148.888680</td>\n",
       "      <td>4.102263</td>\n",
       "      <td>4.032593</td>\n",
       "      <td>28554.192336</td>\n",
       "      <td>0.47771</td>\n",
       "      <td>1596.250869</td>\n",
       "      <td>2.0</td>\n",
       "      <td>99.0</td>\n",
       "    </tr>\n",
       "    <tr>\n",
       "      <th>3</th>\n",
       "      <td>-0.783226</td>\n",
       "      <td>-2.597812</td>\n",
       "      <td>0.775752</td>\n",
       "      <td>4.533243</td>\n",
       "      <td>-174.342409</td>\n",
       "      <td>-144.101003</td>\n",
       "      <td>4.094896</td>\n",
       "      <td>4.011565</td>\n",
       "      <td>28554.192336</td>\n",
       "      <td>0.47771</td>\n",
       "      <td>1596.250869</td>\n",
       "      <td>2.0</td>\n",
       "      <td>99.0</td>\n",
       "    </tr>\n",
       "    <tr>\n",
       "      <th>4</th>\n",
       "      <td>-0.818286</td>\n",
       "      <td>-2.626444</td>\n",
       "      <td>0.776575</td>\n",
       "      <td>4.534051</td>\n",
       "      <td>-172.716211</td>\n",
       "      <td>-139.301253</td>\n",
       "      <td>4.068801</td>\n",
       "      <td>3.991740</td>\n",
       "      <td>28554.192336</td>\n",
       "      <td>0.47771</td>\n",
       "      <td>1596.250869</td>\n",
       "      <td>2.0</td>\n",
       "      <td>99.0</td>\n",
       "    </tr>\n",
       "    <tr>\n",
       "      <th>5</th>\n",
       "      <td>-0.853014</td>\n",
       "      <td>-2.654099</td>\n",
       "      <td>0.777394</td>\n",
       "      <td>4.534856</td>\n",
       "      <td>-171.097130</td>\n",
       "      <td>-134.497311</td>\n",
       "      <td>4.037625</td>\n",
       "      <td>3.972244</td>\n",
       "      <td>28554.192336</td>\n",
       "      <td>0.47771</td>\n",
       "      <td>1596.250869</td>\n",
       "      <td>2.0</td>\n",
       "      <td>99.0</td>\n",
       "    </tr>\n",
       "    <tr>\n",
       "      <th>6</th>\n",
       "      <td>-0.887414</td>\n",
       "      <td>-2.680784</td>\n",
       "      <td>0.778209</td>\n",
       "      <td>4.535656</td>\n",
       "      <td>-169.479584</td>\n",
       "      <td>-129.694722</td>\n",
       "      <td>4.010938</td>\n",
       "      <td>3.952464</td>\n",
       "      <td>28554.192336</td>\n",
       "      <td>0.47771</td>\n",
       "      <td>1596.250869</td>\n",
       "      <td>2.0</td>\n",
       "      <td>99.0</td>\n",
       "    </tr>\n",
       "    <tr>\n",
       "      <th>7</th>\n",
       "      <td>-0.921488</td>\n",
       "      <td>-2.706504</td>\n",
       "      <td>0.779019</td>\n",
       "      <td>4.536452</td>\n",
       "      <td>-167.868234</td>\n",
       "      <td>-124.888809</td>\n",
       "      <td>3.980608</td>\n",
       "      <td>3.932920</td>\n",
       "      <td>28554.192336</td>\n",
       "      <td>0.47771</td>\n",
       "      <td>1596.250869</td>\n",
       "      <td>2.0</td>\n",
       "      <td>99.0</td>\n",
       "    </tr>\n",
       "    <tr>\n",
       "      <th>8</th>\n",
       "      <td>-0.955236</td>\n",
       "      <td>-2.731251</td>\n",
       "      <td>0.779825</td>\n",
       "      <td>4.537245</td>\n",
       "      <td>-166.245693</td>\n",
       "      <td>-120.096873</td>\n",
       "      <td>3.976671</td>\n",
       "      <td>3.911689</td>\n",
       "      <td>28554.192336</td>\n",
       "      <td>0.47771</td>\n",
       "      <td>1596.250869</td>\n",
       "      <td>2.0</td>\n",
       "      <td>99.0</td>\n",
       "    </tr>\n",
       "    <tr>\n",
       "      <th>9</th>\n",
       "      <td>-0.988658</td>\n",
       "      <td>-2.755027</td>\n",
       "      <td>0.780626</td>\n",
       "      <td>4.538033</td>\n",
       "      <td>-164.633047</td>\n",
       "      <td>-115.297908</td>\n",
       "      <td>3.962668</td>\n",
       "      <td>3.891105</td>\n",
       "      <td>28554.192336</td>\n",
       "      <td>0.47771</td>\n",
       "      <td>1596.250869</td>\n",
       "      <td>2.0</td>\n",
       "      <td>99.0</td>\n",
       "    </tr>\n",
       "    <tr>\n",
       "      <th>10</th>\n",
       "      <td>-1.021755</td>\n",
       "      <td>-2.777833</td>\n",
       "      <td>0.781424</td>\n",
       "      <td>4.538817</td>\n",
       "      <td>-163.031707</td>\n",
       "      <td>-110.490515</td>\n",
       "      <td>3.936126</td>\n",
       "      <td>3.871328</td>\n",
       "      <td>28554.192336</td>\n",
       "      <td>0.47771</td>\n",
       "      <td>1596.250869</td>\n",
       "      <td>2.0</td>\n",
       "      <td>99.0</td>\n",
       "    </tr>\n",
       "    <tr>\n",
       "      <th>11</th>\n",
       "      <td>-1.054527</td>\n",
       "      <td>-2.799667</td>\n",
       "      <td>0.782219</td>\n",
       "      <td>4.539597</td>\n",
       "      <td>-161.435604</td>\n",
       "      <td>-105.680731</td>\n",
       "      <td>3.907516</td>\n",
       "      <td>3.851686</td>\n",
       "      <td>28554.192336</td>\n",
       "      <td>0.47771</td>\n",
       "      <td>1596.250869</td>\n",
       "      <td>2.0</td>\n",
       "      <td>99.0</td>\n",
       "    </tr>\n",
       "    <tr>\n",
       "      <th>12</th>\n",
       "      <td>-1.086979</td>\n",
       "      <td>-2.820539</td>\n",
       "      <td>0.783009</td>\n",
       "      <td>4.540373</td>\n",
       "      <td>-159.848105</td>\n",
       "      <td>-100.865192</td>\n",
       "      <td>3.870939</td>\n",
       "      <td>3.832556</td>\n",
       "      <td>28554.192336</td>\n",
       "      <td>0.47771</td>\n",
       "      <td>1596.250869</td>\n",
       "      <td>2.0</td>\n",
       "      <td>99.0</td>\n",
       "    </tr>\n",
       "    <tr>\n",
       "      <th>13</th>\n",
       "      <td>-1.119108</td>\n",
       "      <td>-2.840431</td>\n",
       "      <td>0.783794</td>\n",
       "      <td>4.541145</td>\n",
       "      <td>-158.239433</td>\n",
       "      <td>-96.073323</td>\n",
       "      <td>3.877696</td>\n",
       "      <td>3.810655</td>\n",
       "      <td>28554.192336</td>\n",
       "      <td>0.47771</td>\n",
       "      <td>1596.250869</td>\n",
       "      <td>2.0</td>\n",
       "      <td>99.0</td>\n",
       "    </tr>\n",
       "    <tr>\n",
       "      <th>14</th>\n",
       "      <td>-1.150914</td>\n",
       "      <td>-2.859352</td>\n",
       "      <td>0.784575</td>\n",
       "      <td>4.541913</td>\n",
       "      <td>-156.648791</td>\n",
       "      <td>-91.266373</td>\n",
       "      <td>3.860246</td>\n",
       "      <td>3.790306</td>\n",
       "      <td>28554.192336</td>\n",
       "      <td>0.47771</td>\n",
       "      <td>1596.250869</td>\n",
       "      <td>2.0</td>\n",
       "      <td>99.0</td>\n",
       "    </tr>\n",
       "    <tr>\n",
       "      <th>15</th>\n",
       "      <td>-1.182400</td>\n",
       "      <td>-2.877305</td>\n",
       "      <td>0.785353</td>\n",
       "      <td>4.542676</td>\n",
       "      <td>-155.066847</td>\n",
       "      <td>-86.453557</td>\n",
       "      <td>3.834605</td>\n",
       "      <td>3.770484</td>\n",
       "      <td>28554.192336</td>\n",
       "      <td>0.47771</td>\n",
       "      <td>1596.250869</td>\n",
       "      <td>2.0</td>\n",
       "      <td>99.0</td>\n",
       "    </tr>\n",
       "    <tr>\n",
       "      <th>16</th>\n",
       "      <td>-1.213565</td>\n",
       "      <td>-2.894282</td>\n",
       "      <td>0.786127</td>\n",
       "      <td>4.543436</td>\n",
       "      <td>-153.491731</td>\n",
       "      <td>-81.636743</td>\n",
       "      <td>3.804021</td>\n",
       "      <td>3.750981</td>\n",
       "      <td>28554.192336</td>\n",
       "      <td>0.47771</td>\n",
       "      <td>1596.250869</td>\n",
       "      <td>2.0</td>\n",
       "      <td>99.0</td>\n",
       "    </tr>\n",
       "    <tr>\n",
       "      <th>17</th>\n",
       "      <td>-1.244414</td>\n",
       "      <td>-2.910295</td>\n",
       "      <td>0.786897</td>\n",
       "      <td>4.544191</td>\n",
       "      <td>-151.920659</td>\n",
       "      <td>-76.818622</td>\n",
       "      <td>3.773154</td>\n",
       "      <td>3.731498</td>\n",
       "      <td>28554.192336</td>\n",
       "      <td>0.47771</td>\n",
       "      <td>1596.250869</td>\n",
       "      <td>2.0</td>\n",
       "      <td>99.0</td>\n",
       "    </tr>\n",
       "    <tr>\n",
       "      <th>18</th>\n",
       "      <td>-1.274943</td>\n",
       "      <td>-2.925328</td>\n",
       "      <td>0.787661</td>\n",
       "      <td>4.544943</td>\n",
       "      <td>-150.331623</td>\n",
       "      <td>-72.020765</td>\n",
       "      <td>3.779774</td>\n",
       "      <td>3.709618</td>\n",
       "      <td>28554.192336</td>\n",
       "      <td>0.47771</td>\n",
       "      <td>1596.250869</td>\n",
       "      <td>2.0</td>\n",
       "      <td>99.0</td>\n",
       "    </tr>\n",
       "    <tr>\n",
       "      <th>19</th>\n",
       "      <td>-1.305154</td>\n",
       "      <td>-2.939390</td>\n",
       "      <td>0.788422</td>\n",
       "      <td>4.545690</td>\n",
       "      <td>-148.762248</td>\n",
       "      <td>-67.206276</td>\n",
       "      <td>3.759310</td>\n",
       "      <td>3.689473</td>\n",
       "      <td>28554.192336</td>\n",
       "      <td>0.47771</td>\n",
       "      <td>1596.250869</td>\n",
       "      <td>2.0</td>\n",
       "      <td>99.0</td>\n",
       "    </tr>\n",
       "    <tr>\n",
       "      <th>20</th>\n",
       "      <td>-1.335050</td>\n",
       "      <td>-2.952485</td>\n",
       "      <td>0.789180</td>\n",
       "      <td>4.546434</td>\n",
       "      <td>-147.199618</td>\n",
       "      <td>-62.387802</td>\n",
       "      <td>3.733850</td>\n",
       "      <td>3.669651</td>\n",
       "      <td>28554.192336</td>\n",
       "      <td>0.47771</td>\n",
       "      <td>1596.250869</td>\n",
       "      <td>2.0</td>\n",
       "      <td>99.0</td>\n",
       "    </tr>\n",
       "    <tr>\n",
       "      <th>21</th>\n",
       "      <td>-1.364628</td>\n",
       "      <td>-2.964598</td>\n",
       "      <td>0.789933</td>\n",
       "      <td>4.547173</td>\n",
       "      <td>-145.644440</td>\n",
       "      <td>-57.564694</td>\n",
       "      <td>3.702257</td>\n",
       "      <td>3.650223</td>\n",
       "      <td>28554.192336</td>\n",
       "      <td>0.47771</td>\n",
       "      <td>1596.250869</td>\n",
       "      <td>2.0</td>\n",
       "      <td>99.0</td>\n",
       "    </tr>\n",
       "    <tr>\n",
       "      <th>22</th>\n",
       "      <td>-1.393892</td>\n",
       "      <td>-2.975744</td>\n",
       "      <td>0.790682</td>\n",
       "      <td>4.547908</td>\n",
       "      <td>-144.085020</td>\n",
       "      <td>-52.748282</td>\n",
       "      <td>3.684377</td>\n",
       "      <td>3.629918</td>\n",
       "      <td>28554.192336</td>\n",
       "      <td>0.47771</td>\n",
       "      <td>1596.250869</td>\n",
       "      <td>2.0</td>\n",
       "      <td>99.0</td>\n",
       "    </tr>\n",
       "    <tr>\n",
       "      <th>23</th>\n",
       "      <td>-1.422843</td>\n",
       "      <td>-2.985917</td>\n",
       "      <td>0.791426</td>\n",
       "      <td>4.548639</td>\n",
       "      <td>-142.520665</td>\n",
       "      <td>-47.939216</td>\n",
       "      <td>3.681372</td>\n",
       "      <td>3.608663</td>\n",
       "      <td>28554.192336</td>\n",
       "      <td>0.47771</td>\n",
       "      <td>1596.250869</td>\n",
       "      <td>2.0</td>\n",
       "      <td>99.0</td>\n",
       "    </tr>\n",
       "    <tr>\n",
       "      <th>24</th>\n",
       "      <td>-1.451477</td>\n",
       "      <td>-2.995109</td>\n",
       "      <td>0.792167</td>\n",
       "      <td>4.549366</td>\n",
       "      <td>-140.970566</td>\n",
       "      <td>-43.118851</td>\n",
       "      <td>3.660501</td>\n",
       "      <td>3.588554</td>\n",
       "      <td>28554.192336</td>\n",
       "      <td>0.47771</td>\n",
       "      <td>1596.250869</td>\n",
       "      <td>2.0</td>\n",
       "      <td>99.0</td>\n",
       "    </tr>\n",
       "    <tr>\n",
       "      <th>25</th>\n",
       "      <td>-1.479800</td>\n",
       "      <td>-3.003334</td>\n",
       "      <td>0.792904</td>\n",
       "      <td>4.550089</td>\n",
       "      <td>-139.424930</td>\n",
       "      <td>-38.296669</td>\n",
       "      <td>3.638368</td>\n",
       "      <td>3.568527</td>\n",
       "      <td>28554.192336</td>\n",
       "      <td>0.47771</td>\n",
       "      <td>1596.250869</td>\n",
       "      <td>2.0</td>\n",
       "      <td>99.0</td>\n",
       "    </tr>\n",
       "    <tr>\n",
       "      <th>26</th>\n",
       "      <td>-1.507811</td>\n",
       "      <td>-3.010585</td>\n",
       "      <td>0.793638</td>\n",
       "      <td>4.550808</td>\n",
       "      <td>-137.891430</td>\n",
       "      <td>-33.465259</td>\n",
       "      <td>3.601919</td>\n",
       "      <td>3.549418</td>\n",
       "      <td>28554.192336</td>\n",
       "      <td>0.47771</td>\n",
       "      <td>1596.250869</td>\n",
       "      <td>2.0</td>\n",
       "      <td>99.0</td>\n",
       "    </tr>\n",
       "    <tr>\n",
       "      <th>27</th>\n",
       "      <td>-1.535512</td>\n",
       "      <td>-3.016863</td>\n",
       "      <td>0.794366</td>\n",
       "      <td>4.551523</td>\n",
       "      <td>-136.344955</td>\n",
       "      <td>-28.648876</td>\n",
       "      <td>3.593859</td>\n",
       "      <td>3.528492</td>\n",
       "      <td>28554.192336</td>\n",
       "      <td>0.47771</td>\n",
       "      <td>1596.250869</td>\n",
       "      <td>2.0</td>\n",
       "      <td>99.0</td>\n",
       "    </tr>\n",
       "    <tr>\n",
       "      <th>28</th>\n",
       "      <td>-1.562901</td>\n",
       "      <td>-3.022164</td>\n",
       "      <td>0.795090</td>\n",
       "      <td>4.552234</td>\n",
       "      <td>-134.804060</td>\n",
       "      <td>-23.829563</td>\n",
       "      <td>3.582575</td>\n",
       "      <td>3.507775</td>\n",
       "      <td>28554.192336</td>\n",
       "      <td>0.47771</td>\n",
       "      <td>1596.250869</td>\n",
       "      <td>2.0</td>\n",
       "      <td>99.0</td>\n",
       "    </tr>\n",
       "    <tr>\n",
       "      <th>29</th>\n",
       "      <td>-1.589978</td>\n",
       "      <td>-3.026484</td>\n",
       "      <td>0.795810</td>\n",
       "      <td>4.552940</td>\n",
       "      <td>-133.269285</td>\n",
       "      <td>-19.006808</td>\n",
       "      <td>3.567152</td>\n",
       "      <td>3.487323</td>\n",
       "      <td>28554.192336</td>\n",
       "      <td>0.47771</td>\n",
       "      <td>1596.250869</td>\n",
       "      <td>2.0</td>\n",
       "      <td>99.0</td>\n",
       "    </tr>\n",
       "    <tr>\n",
       "      <th>...</th>\n",
       "      <td>...</td>\n",
       "      <td>...</td>\n",
       "      <td>...</td>\n",
       "      <td>...</td>\n",
       "      <td>...</td>\n",
       "      <td>...</td>\n",
       "      <td>...</td>\n",
       "      <td>...</td>\n",
       "      <td>...</td>\n",
       "      <td>...</td>\n",
       "      <td>...</td>\n",
       "      <td>...</td>\n",
       "      <td>...</td>\n",
       "    </tr>\n",
       "    <tr>\n",
       "      <th>70</th>\n",
       "      <td>-2.442041</td>\n",
       "      <td>-2.362156</td>\n",
       "      <td>0.821851</td>\n",
       "      <td>4.578413</td>\n",
       "      <td>-73.373995</td>\n",
       "      <td>179.658577</td>\n",
       "      <td>2.729376</td>\n",
       "      <td>2.663375</td>\n",
       "      <td>28554.192336</td>\n",
       "      <td>0.47771</td>\n",
       "      <td>1596.250869</td>\n",
       "      <td>2.0</td>\n",
       "      <td>99.0</td>\n",
       "    </tr>\n",
       "    <tr>\n",
       "      <th>71</th>\n",
       "      <td>-2.456722</td>\n",
       "      <td>-2.325368</td>\n",
       "      <td>0.822401</td>\n",
       "      <td>4.578948</td>\n",
       "      <td>-71.977963</td>\n",
       "      <td>184.520827</td>\n",
       "      <td>2.709084</td>\n",
       "      <td>2.643334</td>\n",
       "      <td>28554.192336</td>\n",
       "      <td>0.47771</td>\n",
       "      <td>1596.250869</td>\n",
       "      <td>2.0</td>\n",
       "      <td>99.0</td>\n",
       "    </tr>\n",
       "    <tr>\n",
       "      <th>72</th>\n",
       "      <td>-2.471121</td>\n",
       "      <td>-2.287601</td>\n",
       "      <td>0.822947</td>\n",
       "      <td>4.579480</td>\n",
       "      <td>-70.591448</td>\n",
       "      <td>189.389869</td>\n",
       "      <td>2.677648</td>\n",
       "      <td>2.624011</td>\n",
       "      <td>28554.192336</td>\n",
       "      <td>0.47771</td>\n",
       "      <td>1596.250869</td>\n",
       "      <td>2.0</td>\n",
       "      <td>99.0</td>\n",
       "    </tr>\n",
       "    <tr>\n",
       "      <th>73</th>\n",
       "      <td>-2.485241</td>\n",
       "      <td>-2.248852</td>\n",
       "      <td>0.823488</td>\n",
       "      <td>4.580008</td>\n",
       "      <td>-69.193348</td>\n",
       "      <td>194.246470</td>\n",
       "      <td>2.670004</td>\n",
       "      <td>2.603169</td>\n",
       "      <td>28554.192336</td>\n",
       "      <td>0.47771</td>\n",
       "      <td>1596.250869</td>\n",
       "      <td>2.0</td>\n",
       "      <td>99.0</td>\n",
       "    </tr>\n",
       "    <tr>\n",
       "      <th>74</th>\n",
       "      <td>-2.499079</td>\n",
       "      <td>-2.209119</td>\n",
       "      <td>0.824026</td>\n",
       "      <td>4.580532</td>\n",
       "      <td>-67.805511</td>\n",
       "      <td>199.110555</td>\n",
       "      <td>2.649933</td>\n",
       "      <td>2.583127</td>\n",
       "      <td>28554.192336</td>\n",
       "      <td>0.47771</td>\n",
       "      <td>1596.250869</td>\n",
       "      <td>2.0</td>\n",
       "      <td>99.0</td>\n",
       "    </tr>\n",
       "    <tr>\n",
       "      <th>75</th>\n",
       "      <td>-2.512637</td>\n",
       "      <td>-2.168406</td>\n",
       "      <td>0.824560</td>\n",
       "      <td>4.581052</td>\n",
       "      <td>-66.422179</td>\n",
       "      <td>203.976890</td>\n",
       "      <td>2.626923</td>\n",
       "      <td>2.563278</td>\n",
       "      <td>28554.192336</td>\n",
       "      <td>0.47771</td>\n",
       "      <td>1596.250869</td>\n",
       "      <td>2.0</td>\n",
       "      <td>99.0</td>\n",
       "    </tr>\n",
       "    <tr>\n",
       "      <th>76</th>\n",
       "      <td>-2.525915</td>\n",
       "      <td>-2.126706</td>\n",
       "      <td>0.825090</td>\n",
       "      <td>4.581568</td>\n",
       "      <td>-65.046755</td>\n",
       "      <td>208.848552</td>\n",
       "      <td>2.595350</td>\n",
       "      <td>2.543983</td>\n",
       "      <td>28554.192336</td>\n",
       "      <td>0.47771</td>\n",
       "      <td>1596.250869</td>\n",
       "      <td>2.0</td>\n",
       "      <td>99.0</td>\n",
       "    </tr>\n",
       "    <tr>\n",
       "      <th>77</th>\n",
       "      <td>-2.538914</td>\n",
       "      <td>-2.084023</td>\n",
       "      <td>0.825615</td>\n",
       "      <td>4.582079</td>\n",
       "      <td>-63.657132</td>\n",
       "      <td>213.705502</td>\n",
       "      <td>2.591701</td>\n",
       "      <td>2.522904</td>\n",
       "      <td>28554.192336</td>\n",
       "      <td>0.47771</td>\n",
       "      <td>1596.250869</td>\n",
       "      <td>2.0</td>\n",
       "      <td>99.0</td>\n",
       "    </tr>\n",
       "    <tr>\n",
       "      <th>78</th>\n",
       "      <td>-2.551635</td>\n",
       "      <td>-2.040357</td>\n",
       "      <td>0.826136</td>\n",
       "      <td>4.582587</td>\n",
       "      <td>-62.278914</td>\n",
       "      <td>218.570983</td>\n",
       "      <td>2.573624</td>\n",
       "      <td>2.502754</td>\n",
       "      <td>28554.192336</td>\n",
       "      <td>0.47771</td>\n",
       "      <td>1596.250869</td>\n",
       "      <td>2.0</td>\n",
       "      <td>99.0</td>\n",
       "    </tr>\n",
       "    <tr>\n",
       "      <th>79</th>\n",
       "      <td>-2.564077</td>\n",
       "      <td>-1.995708</td>\n",
       "      <td>0.826654</td>\n",
       "      <td>4.583091</td>\n",
       "      <td>-60.903828</td>\n",
       "      <td>223.437501</td>\n",
       "      <td>2.554752</td>\n",
       "      <td>2.482660</td>\n",
       "      <td>28554.192336</td>\n",
       "      <td>0.47771</td>\n",
       "      <td>1596.250869</td>\n",
       "      <td>2.0</td>\n",
       "      <td>99.0</td>\n",
       "    </tr>\n",
       "    <tr>\n",
       "      <th>80</th>\n",
       "      <td>-2.576244</td>\n",
       "      <td>-1.950080</td>\n",
       "      <td>0.827168</td>\n",
       "      <td>4.583590</td>\n",
       "      <td>-59.537237</td>\n",
       "      <td>228.309915</td>\n",
       "      <td>2.526189</td>\n",
       "      <td>2.463192</td>\n",
       "      <td>28554.192336</td>\n",
       "      <td>0.47771</td>\n",
       "      <td>1596.250869</td>\n",
       "      <td>2.0</td>\n",
       "      <td>99.0</td>\n",
       "    </tr>\n",
       "    <tr>\n",
       "      <th>81</th>\n",
       "      <td>-2.588133</td>\n",
       "      <td>-1.903468</td>\n",
       "      <td>0.827677</td>\n",
       "      <td>4.584086</td>\n",
       "      <td>-58.163506</td>\n",
       "      <td>233.174093</td>\n",
       "      <td>2.513725</td>\n",
       "      <td>2.442698</td>\n",
       "      <td>28554.192336</td>\n",
       "      <td>0.47771</td>\n",
       "      <td>1596.250869</td>\n",
       "      <td>2.0</td>\n",
       "      <td>99.0</td>\n",
       "    </tr>\n",
       "    <tr>\n",
       "      <th>82</th>\n",
       "      <td>-2.599745</td>\n",
       "      <td>-1.855865</td>\n",
       "      <td>0.828182</td>\n",
       "      <td>4.584577</td>\n",
       "      <td>-56.791163</td>\n",
       "      <td>238.037755</td>\n",
       "      <td>2.503268</td>\n",
       "      <td>2.422081</td>\n",
       "      <td>28554.192336</td>\n",
       "      <td>0.47771</td>\n",
       "      <td>1596.250869</td>\n",
       "      <td>2.0</td>\n",
       "      <td>99.0</td>\n",
       "    </tr>\n",
       "    <tr>\n",
       "      <th>83</th>\n",
       "      <td>-2.611081</td>\n",
       "      <td>-1.807284</td>\n",
       "      <td>0.828683</td>\n",
       "      <td>4.585065</td>\n",
       "      <td>-55.422802</td>\n",
       "      <td>242.903270</td>\n",
       "      <td>2.490460</td>\n",
       "      <td>2.401620</td>\n",
       "      <td>28554.192336</td>\n",
       "      <td>0.47771</td>\n",
       "      <td>1596.250869</td>\n",
       "      <td>2.0</td>\n",
       "      <td>99.0</td>\n",
       "    </tr>\n",
       "    <tr>\n",
       "      <th>84</th>\n",
       "      <td>-2.622143</td>\n",
       "      <td>-1.757721</td>\n",
       "      <td>0.829181</td>\n",
       "      <td>4.585548</td>\n",
       "      <td>-54.070800</td>\n",
       "      <td>247.781774</td>\n",
       "      <td>2.454900</td>\n",
       "      <td>2.382621</td>\n",
       "      <td>28554.192336</td>\n",
       "      <td>0.47771</td>\n",
       "      <td>1596.250869</td>\n",
       "      <td>2.0</td>\n",
       "      <td>99.0</td>\n",
       "    </tr>\n",
       "    <tr>\n",
       "      <th>85</th>\n",
       "      <td>-2.632930</td>\n",
       "      <td>-1.707175</td>\n",
       "      <td>0.829675</td>\n",
       "      <td>4.586027</td>\n",
       "      <td>-52.716135</td>\n",
       "      <td>252.656140</td>\n",
       "      <td>2.427903</td>\n",
       "      <td>2.363080</td>\n",
       "      <td>28554.192336</td>\n",
       "      <td>0.47771</td>\n",
       "      <td>1596.250869</td>\n",
       "      <td>2.0</td>\n",
       "      <td>99.0</td>\n",
       "    </tr>\n",
       "    <tr>\n",
       "      <th>86</th>\n",
       "      <td>-2.643442</td>\n",
       "      <td>-1.655640</td>\n",
       "      <td>0.830163</td>\n",
       "      <td>4.586503</td>\n",
       "      <td>-51.354577</td>\n",
       "      <td>257.522584</td>\n",
       "      <td>2.416403</td>\n",
       "      <td>2.342552</td>\n",
       "      <td>28554.192336</td>\n",
       "      <td>0.47771</td>\n",
       "      <td>1596.250869</td>\n",
       "      <td>2.0</td>\n",
       "      <td>99.0</td>\n",
       "    </tr>\n",
       "    <tr>\n",
       "      <th>87</th>\n",
       "      <td>-2.653681</td>\n",
       "      <td>-1.603124</td>\n",
       "      <td>0.830648</td>\n",
       "      <td>4.586974</td>\n",
       "      <td>-49.993879</td>\n",
       "      <td>262.388109</td>\n",
       "      <td>2.407563</td>\n",
       "      <td>2.321859</td>\n",
       "      <td>28554.192336</td>\n",
       "      <td>0.47771</td>\n",
       "      <td>1596.250869</td>\n",
       "      <td>2.0</td>\n",
       "      <td>99.0</td>\n",
       "    </tr>\n",
       "    <tr>\n",
       "      <th>88</th>\n",
       "      <td>-2.663645</td>\n",
       "      <td>-1.549619</td>\n",
       "      <td>0.831130</td>\n",
       "      <td>4.587441</td>\n",
       "      <td>-48.646239</td>\n",
       "      <td>267.263647</td>\n",
       "      <td>2.381330</td>\n",
       "      <td>2.302286</td>\n",
       "      <td>28554.192336</td>\n",
       "      <td>0.47771</td>\n",
       "      <td>1596.250869</td>\n",
       "      <td>2.0</td>\n",
       "      <td>99.0</td>\n",
       "    </tr>\n",
       "    <tr>\n",
       "      <th>89</th>\n",
       "      <td>-2.673338</td>\n",
       "      <td>-1.495135</td>\n",
       "      <td>0.831607</td>\n",
       "      <td>4.587905</td>\n",
       "      <td>-47.304165</td>\n",
       "      <td>272.142488</td>\n",
       "      <td>2.349960</td>\n",
       "      <td>2.283048</td>\n",
       "      <td>28554.192336</td>\n",
       "      <td>0.47771</td>\n",
       "      <td>1596.250869</td>\n",
       "      <td>2.0</td>\n",
       "      <td>99.0</td>\n",
       "    </tr>\n",
       "    <tr>\n",
       "      <th>90</th>\n",
       "      <td>-2.682757</td>\n",
       "      <td>-1.439662</td>\n",
       "      <td>0.832080</td>\n",
       "      <td>4.588364</td>\n",
       "      <td>-45.957106</td>\n",
       "      <td>277.015182</td>\n",
       "      <td>2.330796</td>\n",
       "      <td>2.263035</td>\n",
       "      <td>28554.192336</td>\n",
       "      <td>0.47771</td>\n",
       "      <td>1596.250869</td>\n",
       "      <td>2.0</td>\n",
       "      <td>99.0</td>\n",
       "    </tr>\n",
       "    <tr>\n",
       "      <th>91</th>\n",
       "      <td>-2.691905</td>\n",
       "      <td>-1.383206</td>\n",
       "      <td>0.832549</td>\n",
       "      <td>4.588819</td>\n",
       "      <td>-44.608346</td>\n",
       "      <td>281.884703</td>\n",
       "      <td>2.318372</td>\n",
       "      <td>2.242596</td>\n",
       "      <td>28554.192336</td>\n",
       "      <td>0.47771</td>\n",
       "      <td>1596.250869</td>\n",
       "      <td>2.0</td>\n",
       "      <td>99.0</td>\n",
       "    </tr>\n",
       "    <tr>\n",
       "      <th>92</th>\n",
       "      <td>-2.700783</td>\n",
       "      <td>-1.325773</td>\n",
       "      <td>0.833015</td>\n",
       "      <td>4.589270</td>\n",
       "      <td>-43.272202</td>\n",
       "      <td>286.763861</td>\n",
       "      <td>2.289131</td>\n",
       "      <td>2.223239</td>\n",
       "      <td>28554.192336</td>\n",
       "      <td>0.47771</td>\n",
       "      <td>1596.250869</td>\n",
       "      <td>2.0</td>\n",
       "      <td>99.0</td>\n",
       "    </tr>\n",
       "    <tr>\n",
       "      <th>93</th>\n",
       "      <td>-2.709389</td>\n",
       "      <td>-1.267345</td>\n",
       "      <td>0.833476</td>\n",
       "      <td>4.589717</td>\n",
       "      <td>-41.930827</td>\n",
       "      <td>291.636692</td>\n",
       "      <td>2.272398</td>\n",
       "      <td>2.203089</td>\n",
       "      <td>28554.192336</td>\n",
       "      <td>0.47771</td>\n",
       "      <td>1596.250869</td>\n",
       "      <td>2.0</td>\n",
       "      <td>99.0</td>\n",
       "    </tr>\n",
       "    <tr>\n",
       "      <th>94</th>\n",
       "      <td>-2.717724</td>\n",
       "      <td>-1.207935</td>\n",
       "      <td>0.833933</td>\n",
       "      <td>4.590160</td>\n",
       "      <td>-40.595132</td>\n",
       "      <td>296.512972</td>\n",
       "      <td>2.250189</td>\n",
       "      <td>2.183295</td>\n",
       "      <td>28554.192336</td>\n",
       "      <td>0.47771</td>\n",
       "      <td>1596.250869</td>\n",
       "      <td>2.0</td>\n",
       "      <td>99.0</td>\n",
       "    </tr>\n",
       "    <tr>\n",
       "      <th>95</th>\n",
       "      <td>-2.725789</td>\n",
       "      <td>-1.147539</td>\n",
       "      <td>0.834386</td>\n",
       "      <td>4.590599</td>\n",
       "      <td>-39.263919</td>\n",
       "      <td>301.391629</td>\n",
       "      <td>2.224453</td>\n",
       "      <td>2.163734</td>\n",
       "      <td>28554.192336</td>\n",
       "      <td>0.47771</td>\n",
       "      <td>1596.250869</td>\n",
       "      <td>2.0</td>\n",
       "      <td>99.0</td>\n",
       "    </tr>\n",
       "    <tr>\n",
       "      <th>96</th>\n",
       "      <td>-2.733586</td>\n",
       "      <td>-1.086163</td>\n",
       "      <td>0.834836</td>\n",
       "      <td>4.591034</td>\n",
       "      <td>-37.938683</td>\n",
       "      <td>306.274007</td>\n",
       "      <td>2.192688</td>\n",
       "      <td>2.144565</td>\n",
       "      <td>28554.192336</td>\n",
       "      <td>0.47771</td>\n",
       "      <td>1596.250869</td>\n",
       "      <td>2.0</td>\n",
       "      <td>99.0</td>\n",
       "    </tr>\n",
       "    <tr>\n",
       "      <th>97</th>\n",
       "      <td>-2.741115</td>\n",
       "      <td>-1.023801</td>\n",
       "      <td>0.835280</td>\n",
       "      <td>4.591465</td>\n",
       "      <td>-36.597755</td>\n",
       "      <td>311.140832</td>\n",
       "      <td>2.190385</td>\n",
       "      <td>2.123516</td>\n",
       "      <td>28554.192336</td>\n",
       "      <td>0.47771</td>\n",
       "      <td>1596.250869</td>\n",
       "      <td>2.0</td>\n",
       "      <td>99.0</td>\n",
       "    </tr>\n",
       "    <tr>\n",
       "      <th>98</th>\n",
       "      <td>-2.748374</td>\n",
       "      <td>-0.960451</td>\n",
       "      <td>0.835720</td>\n",
       "      <td>4.591892</td>\n",
       "      <td>-35.268438</td>\n",
       "      <td>316.016407</td>\n",
       "      <td>2.172777</td>\n",
       "      <td>2.103454</td>\n",
       "      <td>28554.192336</td>\n",
       "      <td>0.47771</td>\n",
       "      <td>1596.250869</td>\n",
       "      <td>2.0</td>\n",
       "      <td>99.0</td>\n",
       "    </tr>\n",
       "    <tr>\n",
       "      <th>99</th>\n",
       "      <td>-2.755366</td>\n",
       "      <td>-0.896120</td>\n",
       "      <td>0.836157</td>\n",
       "      <td>4.592315</td>\n",
       "      <td>-33.943712</td>\n",
       "      <td>320.894503</td>\n",
       "      <td>2.151309</td>\n",
       "      <td>2.083646</td>\n",
       "      <td>28554.192336</td>\n",
       "      <td>0.47771</td>\n",
       "      <td>1596.250869</td>\n",
       "      <td>2.0</td>\n",
       "      <td>99.0</td>\n",
       "    </tr>\n",
       "  </tbody>\n",
       "</table>\n",
       "<p>100 rows × 13 columns</p>\n",
       "</div>"
      ],
      "text/plain": [
       "          0         1         2         3           4           5         6   \\\n",
       "0  -0.676007 -2.506200  0.773379  4.530785 -180.595523 -157.133846  1.828670   \n",
       "1  -0.712122 -2.537663  0.774098  4.531613 -177.646561 -153.657239  4.078843   \n",
       "2  -0.747840 -2.568223  0.774927  4.532430 -175.983530 -148.888680  4.102263   \n",
       "3  -0.783226 -2.597812  0.775752  4.533243 -174.342409 -144.101003  4.094896   \n",
       "4  -0.818286 -2.626444  0.776575  4.534051 -172.716211 -139.301253  4.068801   \n",
       "5  -0.853014 -2.654099  0.777394  4.534856 -171.097130 -134.497311  4.037625   \n",
       "6  -0.887414 -2.680784  0.778209  4.535656 -169.479584 -129.694722  4.010938   \n",
       "7  -0.921488 -2.706504  0.779019  4.536452 -167.868234 -124.888809  3.980608   \n",
       "8  -0.955236 -2.731251  0.779825  4.537245 -166.245693 -120.096873  3.976671   \n",
       "9  -0.988658 -2.755027  0.780626  4.538033 -164.633047 -115.297908  3.962668   \n",
       "10 -1.021755 -2.777833  0.781424  4.538817 -163.031707 -110.490515  3.936126   \n",
       "11 -1.054527 -2.799667  0.782219  4.539597 -161.435604 -105.680731  3.907516   \n",
       "12 -1.086979 -2.820539  0.783009  4.540373 -159.848105 -100.865192  3.870939   \n",
       "13 -1.119108 -2.840431  0.783794  4.541145 -158.239433  -96.073323  3.877696   \n",
       "14 -1.150914 -2.859352  0.784575  4.541913 -156.648791  -91.266373  3.860246   \n",
       "15 -1.182400 -2.877305  0.785353  4.542676 -155.066847  -86.453557  3.834605   \n",
       "16 -1.213565 -2.894282  0.786127  4.543436 -153.491731  -81.636743  3.804021   \n",
       "17 -1.244414 -2.910295  0.786897  4.544191 -151.920659  -76.818622  3.773154   \n",
       "18 -1.274943 -2.925328  0.787661  4.544943 -150.331623  -72.020765  3.779774   \n",
       "19 -1.305154 -2.939390  0.788422  4.545690 -148.762248  -67.206276  3.759310   \n",
       "20 -1.335050 -2.952485  0.789180  4.546434 -147.199618  -62.387802  3.733850   \n",
       "21 -1.364628 -2.964598  0.789933  4.547173 -145.644440  -57.564694  3.702257   \n",
       "22 -1.393892 -2.975744  0.790682  4.547908 -144.085020  -52.748282  3.684377   \n",
       "23 -1.422843 -2.985917  0.791426  4.548639 -142.520665  -47.939216  3.681372   \n",
       "24 -1.451477 -2.995109  0.792167  4.549366 -140.970566  -43.118851  3.660501   \n",
       "25 -1.479800 -3.003334  0.792904  4.550089 -139.424930  -38.296669  3.638368   \n",
       "26 -1.507811 -3.010585  0.793638  4.550808 -137.891430  -33.465259  3.601919   \n",
       "27 -1.535512 -3.016863  0.794366  4.551523 -136.344955  -28.648876  3.593859   \n",
       "28 -1.562901 -3.022164  0.795090  4.552234 -134.804060  -23.829563  3.582575   \n",
       "29 -1.589978 -3.026484  0.795810  4.552940 -133.269285  -19.006808  3.567152   \n",
       "..       ...       ...       ...       ...         ...         ...       ...   \n",
       "70 -2.442041 -2.362156  0.821851  4.578413  -73.373995  179.658577  2.729376   \n",
       "71 -2.456722 -2.325368  0.822401  4.578948  -71.977963  184.520827  2.709084   \n",
       "72 -2.471121 -2.287601  0.822947  4.579480  -70.591448  189.389869  2.677648   \n",
       "73 -2.485241 -2.248852  0.823488  4.580008  -69.193348  194.246470  2.670004   \n",
       "74 -2.499079 -2.209119  0.824026  4.580532  -67.805511  199.110555  2.649933   \n",
       "75 -2.512637 -2.168406  0.824560  4.581052  -66.422179  203.976890  2.626923   \n",
       "76 -2.525915 -2.126706  0.825090  4.581568  -65.046755  208.848552  2.595350   \n",
       "77 -2.538914 -2.084023  0.825615  4.582079  -63.657132  213.705502  2.591701   \n",
       "78 -2.551635 -2.040357  0.826136  4.582587  -62.278914  218.570983  2.573624   \n",
       "79 -2.564077 -1.995708  0.826654  4.583091  -60.903828  223.437501  2.554752   \n",
       "80 -2.576244 -1.950080  0.827168  4.583590  -59.537237  228.309915  2.526189   \n",
       "81 -2.588133 -1.903468  0.827677  4.584086  -58.163506  233.174093  2.513725   \n",
       "82 -2.599745 -1.855865  0.828182  4.584577  -56.791163  238.037755  2.503268   \n",
       "83 -2.611081 -1.807284  0.828683  4.585065  -55.422802  242.903270  2.490460   \n",
       "84 -2.622143 -1.757721  0.829181  4.585548  -54.070800  247.781774  2.454900   \n",
       "85 -2.632930 -1.707175  0.829675  4.586027  -52.716135  252.656140  2.427903   \n",
       "86 -2.643442 -1.655640  0.830163  4.586503  -51.354577  257.522584  2.416403   \n",
       "87 -2.653681 -1.603124  0.830648  4.586974  -49.993879  262.388109  2.407563   \n",
       "88 -2.663645 -1.549619  0.831130  4.587441  -48.646239  267.263647  2.381330   \n",
       "89 -2.673338 -1.495135  0.831607  4.587905  -47.304165  272.142488  2.349960   \n",
       "90 -2.682757 -1.439662  0.832080  4.588364  -45.957106  277.015182  2.330796   \n",
       "91 -2.691905 -1.383206  0.832549  4.588819  -44.608346  281.884703  2.318372   \n",
       "92 -2.700783 -1.325773  0.833015  4.589270  -43.272202  286.763861  2.289131   \n",
       "93 -2.709389 -1.267345  0.833476  4.589717  -41.930827  291.636692  2.272398   \n",
       "94 -2.717724 -1.207935  0.833933  4.590160  -40.595132  296.512972  2.250189   \n",
       "95 -2.725789 -1.147539  0.834386  4.590599  -39.263919  301.391629  2.224453   \n",
       "96 -2.733586 -1.086163  0.834836  4.591034  -37.938683  306.274007  2.192688   \n",
       "97 -2.741115 -1.023801  0.835280  4.591465  -36.597755  311.140832  2.190385   \n",
       "98 -2.748374 -0.960451  0.835720  4.591892  -35.268438  316.016407  2.172777   \n",
       "99 -2.755366 -0.896120  0.836157  4.592315  -33.943712  320.894503  2.151309   \n",
       "\n",
       "          7             8        9            10   11    12  \n",
       "0   4.221191  28554.192336  0.47771  1596.250869  2.0  99.0  \n",
       "1   4.055595  28554.192336  0.47771  1596.250869  2.0  99.0  \n",
       "2   4.032593  28554.192336  0.47771  1596.250869  2.0  99.0  \n",
       "3   4.011565  28554.192336  0.47771  1596.250869  2.0  99.0  \n",
       "4   3.991740  28554.192336  0.47771  1596.250869  2.0  99.0  \n",
       "5   3.972244  28554.192336  0.47771  1596.250869  2.0  99.0  \n",
       "6   3.952464  28554.192336  0.47771  1596.250869  2.0  99.0  \n",
       "7   3.932920  28554.192336  0.47771  1596.250869  2.0  99.0  \n",
       "8   3.911689  28554.192336  0.47771  1596.250869  2.0  99.0  \n",
       "9   3.891105  28554.192336  0.47771  1596.250869  2.0  99.0  \n",
       "10  3.871328  28554.192336  0.47771  1596.250869  2.0  99.0  \n",
       "11  3.851686  28554.192336  0.47771  1596.250869  2.0  99.0  \n",
       "12  3.832556  28554.192336  0.47771  1596.250869  2.0  99.0  \n",
       "13  3.810655  28554.192336  0.47771  1596.250869  2.0  99.0  \n",
       "14  3.790306  28554.192336  0.47771  1596.250869  2.0  99.0  \n",
       "15  3.770484  28554.192336  0.47771  1596.250869  2.0  99.0  \n",
       "16  3.750981  28554.192336  0.47771  1596.250869  2.0  99.0  \n",
       "17  3.731498  28554.192336  0.47771  1596.250869  2.0  99.0  \n",
       "18  3.709618  28554.192336  0.47771  1596.250869  2.0  99.0  \n",
       "19  3.689473  28554.192336  0.47771  1596.250869  2.0  99.0  \n",
       "20  3.669651  28554.192336  0.47771  1596.250869  2.0  99.0  \n",
       "21  3.650223  28554.192336  0.47771  1596.250869  2.0  99.0  \n",
       "22  3.629918  28554.192336  0.47771  1596.250869  2.0  99.0  \n",
       "23  3.608663  28554.192336  0.47771  1596.250869  2.0  99.0  \n",
       "24  3.588554  28554.192336  0.47771  1596.250869  2.0  99.0  \n",
       "25  3.568527  28554.192336  0.47771  1596.250869  2.0  99.0  \n",
       "26  3.549418  28554.192336  0.47771  1596.250869  2.0  99.0  \n",
       "27  3.528492  28554.192336  0.47771  1596.250869  2.0  99.0  \n",
       "28  3.507775  28554.192336  0.47771  1596.250869  2.0  99.0  \n",
       "29  3.487323  28554.192336  0.47771  1596.250869  2.0  99.0  \n",
       "..       ...           ...      ...          ...  ...   ...  \n",
       "70  2.663375  28554.192336  0.47771  1596.250869  2.0  99.0  \n",
       "71  2.643334  28554.192336  0.47771  1596.250869  2.0  99.0  \n",
       "72  2.624011  28554.192336  0.47771  1596.250869  2.0  99.0  \n",
       "73  2.603169  28554.192336  0.47771  1596.250869  2.0  99.0  \n",
       "74  2.583127  28554.192336  0.47771  1596.250869  2.0  99.0  \n",
       "75  2.563278  28554.192336  0.47771  1596.250869  2.0  99.0  \n",
       "76  2.543983  28554.192336  0.47771  1596.250869  2.0  99.0  \n",
       "77  2.522904  28554.192336  0.47771  1596.250869  2.0  99.0  \n",
       "78  2.502754  28554.192336  0.47771  1596.250869  2.0  99.0  \n",
       "79  2.482660  28554.192336  0.47771  1596.250869  2.0  99.0  \n",
       "80  2.463192  28554.192336  0.47771  1596.250869  2.0  99.0  \n",
       "81  2.442698  28554.192336  0.47771  1596.250869  2.0  99.0  \n",
       "82  2.422081  28554.192336  0.47771  1596.250869  2.0  99.0  \n",
       "83  2.401620  28554.192336  0.47771  1596.250869  2.0  99.0  \n",
       "84  2.382621  28554.192336  0.47771  1596.250869  2.0  99.0  \n",
       "85  2.363080  28554.192336  0.47771  1596.250869  2.0  99.0  \n",
       "86  2.342552  28554.192336  0.47771  1596.250869  2.0  99.0  \n",
       "87  2.321859  28554.192336  0.47771  1596.250869  2.0  99.0  \n",
       "88  2.302286  28554.192336  0.47771  1596.250869  2.0  99.0  \n",
       "89  2.283048  28554.192336  0.47771  1596.250869  2.0  99.0  \n",
       "90  2.263035  28554.192336  0.47771  1596.250869  2.0  99.0  \n",
       "91  2.242596  28554.192336  0.47771  1596.250869  2.0  99.0  \n",
       "92  2.223239  28554.192336  0.47771  1596.250869  2.0  99.0  \n",
       "93  2.203089  28554.192336  0.47771  1596.250869  2.0  99.0  \n",
       "94  2.183295  28554.192336  0.47771  1596.250869  2.0  99.0  \n",
       "95  2.163734  28554.192336  0.47771  1596.250869  2.0  99.0  \n",
       "96  2.144565  28554.192336  0.47771  1596.250869  2.0  99.0  \n",
       "97  2.123516  28554.192336  0.47771  1596.250869  2.0  99.0  \n",
       "98  2.103454  28554.192336  0.47771  1596.250869  2.0  99.0  \n",
       "99  2.083646  28554.192336  0.47771  1596.250869  2.0  99.0  \n",
       "\n",
       "[100 rows x 13 columns]"
      ]
     },
     "execution_count": 40,
     "metadata": {},
     "output_type": "execute_result"
    }
   ],
   "source": [
    "pd.DataFrame(np.hstack([tt, F, alpha, tau0, simNum_, timestep_]))"
   ]
  },
  {
   "cell_type": "code",
   "execution_count": 37,
   "metadata": {},
   "outputs": [
    {
     "data": {
      "text/plain": [
       "(100, 8)"
      ]
     },
     "execution_count": 37,
     "metadata": {},
     "output_type": "execute_result"
    }
   ],
   "source": [
    "tt.shape"
   ]
  },
  {
   "cell_type": "code",
   "execution_count": 38,
   "metadata": {},
   "outputs": [
    {
     "data": {
      "text/plain": [
       "28554.192335923824"
      ]
     },
     "execution_count": 38,
     "metadata": {},
     "output_type": "execute_result"
    }
   ],
   "source": [
    "F"
   ]
  },
  {
   "cell_type": "code",
   "execution_count": 28,
   "metadata": {},
   "outputs": [
    {
     "data": {
      "text/plain": [
       "(100, 1)"
      ]
     },
     "execution_count": 28,
     "metadata": {},
     "output_type": "execute_result"
    }
   ],
   "source": [
    "alpha.shape"
   ]
  },
  {
   "cell_type": "code",
   "execution_count": 29,
   "metadata": {},
   "outputs": [
    {
     "data": {
      "text/plain": [
       "(100, 1)"
      ]
     },
     "execution_count": 29,
     "metadata": {},
     "output_type": "execute_result"
    }
   ],
   "source": [
    "tau0.shape"
   ]
  },
  {
   "cell_type": "code",
   "execution_count": 30,
   "metadata": {},
   "outputs": [
    {
     "data": {
      "text/plain": [
       "(10000, 1)"
      ]
     },
     "execution_count": 30,
     "metadata": {},
     "output_type": "execute_result"
    }
   ],
   "source": [
    "simNum.shape"
   ]
  },
  {
   "cell_type": "code",
   "execution_count": 33,
   "metadata": {},
   "outputs": [
    {
     "data": {
      "text/plain": [
       "2"
      ]
     },
     "execution_count": 33,
     "metadata": {},
     "output_type": "execute_result"
    }
   ],
   "source": [
    "simNum"
   ]
  },
  {
   "cell_type": "code",
   "execution_count": null,
   "metadata": {},
   "outputs": [],
   "source": []
  },
  {
   "cell_type": "code",
   "execution_count": null,
   "metadata": {},
   "outputs": [],
   "source": []
  },
  {
   "cell_type": "code",
   "execution_count": null,
   "metadata": {},
   "outputs": [],
   "source": []
  },
  {
   "cell_type": "code",
   "execution_count": null,
   "metadata": {},
   "outputs": [],
   "source": []
  },
  {
   "cell_type": "code",
   "execution_count": null,
   "metadata": {},
   "outputs": [],
   "source": []
  },
  {
   "cell_type": "code",
   "execution_count": null,
   "metadata": {},
   "outputs": [],
   "source": []
  },
  {
   "cell_type": "code",
   "execution_count": null,
   "metadata": {},
   "outputs": [],
   "source": []
  },
  {
   "cell_type": "code",
   "execution_count": null,
   "metadata": {},
   "outputs": [],
   "source": []
  },
  {
   "cell_type": "code",
   "execution_count": null,
   "metadata": {},
   "outputs": [],
   "source": []
  },
  {
   "cell_type": "code",
   "execution_count": null,
   "metadata": {
    "collapsed": true
   },
   "outputs": [],
   "source": [
    "dd['timestep'] = (np.floor(np.arange(0, 100, step = 0.01))).astype(int)\n",
    "cols = dd.columns.tolist()\n",
    "dd = dd[[cols[-1]] + cols[:-1]] "
   ]
  },
  {
   "cell_type": "code",
   "execution_count": null,
   "metadata": {},
   "outputs": [],
   "source": [
    "dd.head()"
   ]
  },
  {
   "cell_type": "code",
   "execution_count": null,
   "metadata": {
    "collapsed": true
   },
   "outputs": [],
   "source": [
    "#%qtconsole"
   ]
  },
  {
   "cell_type": "code",
   "execution_count": null,
   "metadata": {},
   "outputs": [],
   "source": [
    "cc = np.zeros(Qdta.shape).reshape((-1, 100*8))\n",
    "cc.shape"
   ]
  },
  {
   "cell_type": "code",
   "execution_count": null,
   "metadata": {},
   "outputs": [],
   "source": [
    "# another possible way to rearrange the data\n",
    "stt = time.time()\n",
    "\n",
    "ss = 8 # number of columns to repeat\n",
    "cctr = 0 # output row counter\n",
    "\n",
    "\n",
    "rctr = 0 # row counter for input data\n",
    "    \n",
    "while rctr < Qdta.shape[0]:\n",
    "    \n",
    "    ii = 0 # column counter for input data\n",
    "    while ii < Qdta.shape[1]:\n",
    "        a = np.array(dd.iloc[rctr:(rctr + 100), ii + 2:ii + 2 + ss])\n",
    "        bb = np.array(np.zeros(a.shape)).reshape([1, -1])\n",
    "        bb.shape\n",
    "\n",
    "        for kk in np.arange(0, a.shape[0], step = 1):\n",
    "            bb[0, kk*ss:(kk+1)*ss] = a[kk, 0:ss]  \n",
    "\n",
    "        ii += ss\n",
    "    \n",
    "        cc[cctr, :] = bb\n",
    "        cctr += 1\n",
    "    # update row counter\n",
    "    print(str(cctr) + \" of \" + str(cc.shape[0]))\n",
    "    rctr += 100\n",
    "\n",
    "    \n",
    "print(str(np.round(time.time() - stt)) + \" Seconds\")"
   ]
  },
  {
   "cell_type": "code",
   "execution_count": null,
   "metadata": {
    "collapsed": true
   },
   "outputs": [],
   "source": [
    "plt.figure(figsize=(20,100))\n",
    "plt.imshow(cc, cmap='hot', interpolation='nearest')\n",
    "\n",
    "plt.show()"
   ]
  },
  {
   "cell_type": "code",
   "execution_count": null,
   "metadata": {},
   "outputs": [],
   "source": [
    "# double check\n",
    "for ii in np.arange(5000, 10000):\n",
    "    plt.plot(cc[ii, np.arange(0, 800, step = 8)], cc[ii, np.arange(1, 800, step = 8)])"
   ]
  },
  {
   "cell_type": "code",
   "execution_count": null,
   "metadata": {
    "collapsed": true
   },
   "outputs": [],
   "source": [
    "# make data frame and name columns\n",
    "tsDf = pd.DataFrame(cc)"
   ]
  },
  {
   "cell_type": "code",
   "execution_count": null,
   "metadata": {},
   "outputs": [],
   "source": [
    "tsDf[\"timestep\"] = np.floor(np.arange(0,tsDf.shape[0]) / 2500).astype(int)\n",
    "tsDf.head()"
   ]
  },
  {
   "cell_type": "code",
   "execution_count": null,
   "metadata": {
    "collapsed": true
   },
   "outputs": [],
   "source": [
    "new_cols = [\"x\", \"y\", \"theta\", \"phi\", \"x_dot\", \"y_dot\", \"theta_dot\", \"phi_dot\"]"
   ]
  },
  {
   "cell_type": "code",
   "execution_count": null,
   "metadata": {
    "collapsed": true
   },
   "outputs": [],
   "source": [
    "jj = 0\n",
    "hh = []\n",
    "for jj in range(100):\n",
    "    hh.append([new_cols[ii] +\"_\" +str(jj) for ii in range(8)])\n",
    "\n",
    "allCols = np.concatenate(hh)"
   ]
  },
  {
   "cell_type": "code",
   "execution_count": null,
   "metadata": {
    "collapsed": true
   },
   "outputs": [],
   "source": [
    "tsDf.columns = np.append(allCols, \"timestep\")"
   ]
  },
  {
   "cell_type": "code",
   "execution_count": null,
   "metadata": {},
   "outputs": [],
   "source": [
    "tsDf.head()"
   ]
  },
  {
   "cell_type": "code",
   "execution_count": null,
   "metadata": {},
   "outputs": [],
   "source": [
    "forceAngle = np.transpose(Vmat[\"ValSp3\"])\n",
    "fa = forceAngle.reshape((250000, 12), order = \"C\" )\n",
    "fa2=  pd.DataFrame(fa)\n",
    "fa2.columns = np.append([new_cols[ii] +\"_\" +str(99) for ii in range(8)], [\"F\", \"alpha\", \"tau\", \"cost\"])\n",
    "fa2[\"Fx\"] = fa2.F * np.cos(fa2.alpha)\n",
    "fa2[\"Fy\"] = fa2.F * np.sin(fa2.alpha)\n",
    "fa2.shape"
   ]
  },
  {
   "cell_type": "code",
   "execution_count": null,
   "metadata": {
    "collapsed": true
   },
   "outputs": [],
   "source": [
    "combDF = pd.merge(tsDf.dropna(), fa2.dropna(), \n",
    "                  left_on = [new_cols[ii] +\"_\" +str(99) for ii in range(8)], \n",
    "                  right_on = [new_cols[ii] +\"_\" +str(99) for ii in range(8)], \n",
    "                  how = \"inner\")\n"
   ]
  },
  {
   "cell_type": "code",
   "execution_count": null,
   "metadata": {},
   "outputs": [],
   "source": [
    "combDF.head()"
   ]
  },
  {
   "cell_type": "code",
   "execution_count": null,
   "metadata": {},
   "outputs": [],
   "source": [
    "combDF.shape"
   ]
  },
  {
   "cell_type": "code",
   "execution_count": null,
   "metadata": {},
   "outputs": [],
   "source": [
    "# show how many NA's were dropped\n",
    "fa2.shape[0] - fa2.dropna().shape[0]"
   ]
  },
  {
   "cell_type": "code",
   "execution_count": null,
   "metadata": {
    "collapsed": true
   },
   "outputs": [],
   "source": []
  },
  {
   "cell_type": "markdown",
   "metadata": {},
   "source": [
    "### Finished data munging\n",
    "\n",
    "Now fit models"
   ]
  },
  {
   "cell_type": "code",
   "execution_count": null,
   "metadata": {
    "collapsed": true
   },
   "outputs": [],
   "source": [
    "X = combDF.iloc[:, np.concatenate((np.arange(0,8), np.arange(792,800)))].copy()\n",
    "Y = combDF.iloc[:, [803, 805, 806]]\n",
    "\n",
    "# # subtract x_0 and y_0 from everything\n",
    "X.x_99 = X.x_99 - X.x_0\n",
    "X.y_99 = X.y_99 - X.y_0\n",
    "\n",
    "X.x_0 = X.y_0 = 0\n"
   ]
  },
  {
   "cell_type": "code",
   "execution_count": null,
   "metadata": {},
   "outputs": [],
   "source": [
    "Y.head()"
   ]
  },
  {
   "cell_type": "code",
   "execution_count": null,
   "metadata": {},
   "outputs": [],
   "source": [
    "X.tail()"
   ]
  },
  {
   "cell_type": "code",
   "execution_count": null,
   "metadata": {
    "collapsed": true
   },
   "outputs": [],
   "source": [
    "from sklearn.model_selection import train_test_split\n",
    "Xtrain, Xtest, Ytrain, Ytest = train_test_split(X, Y, test_size=0.3, random_state = 123)"
   ]
  },
  {
   "cell_type": "code",
   "execution_count": null,
   "metadata": {
    "collapsed": true
   },
   "outputs": [],
   "source": [
    "# refref: scale test and training separately:\n",
    "from sklearn.preprocessing import StandardScaler  \n",
    "scalerX = StandardScaler()  \n",
    "scalerY = StandardScaler()  \n",
    "\n",
    "# Don't cheat - fit only on training data\n",
    "scalerX.fit(Xtrain)  \n",
    "scalerY.fit(Ytrain) \n",
    "\n",
    "Xtrain_scaled = scalerX.transform(Xtrain)  \n",
    "Ytrain_scaled = scalerY.transform(Ytrain)  \n",
    "\n",
    "# apply same transformation to test data\n",
    "Xtest_scaled = scalerX.transform(Xtest)\n",
    "Ytest_scaled = scalerY.transform(Ytest)"
   ]
  },
  {
   "cell_type": "code",
   "execution_count": null,
   "metadata": {},
   "outputs": [],
   "source": [
    "xcheck = scalerX.inverse_transform(Xtrain_scaled)\n",
    "np.allclose(xcheck, np.array(Xtrain))"
   ]
  },
  {
   "cell_type": "code",
   "execution_count": null,
   "metadata": {
    "collapsed": true
   },
   "outputs": [],
   "source": [
    "# save scalers\n",
    "import pickle\n",
    "\n",
    "# with open(os.path.join(dataDir, \"StandardScaler_zerod.pkl\"), 'wb') as f:  # Python 3: open(..., 'wb')\n",
    "#     pickle.dump([scalerX, scalerY], f)"
   ]
  },
  {
   "cell_type": "code",
   "execution_count": null,
   "metadata": {
    "collapsed": true
   },
   "outputs": [],
   "source": [
    "# del scalerX\n",
    "# del scalerY"
   ]
  },
  {
   "cell_type": "code",
   "execution_count": null,
   "metadata": {
    "collapsed": true
   },
   "outputs": [],
   "source": [
    "# # Getting back the objects:\n",
    "# with open(os.path.join(dataDir, \"StandardScaler_zerod.pkl\"), 'rb') as f:  # Python 3: open(..., 'rb')\n",
    "#     scalerX, scalerY = pickle.load(f)"
   ]
  },
  {
   "cell_type": "code",
   "execution_count": null,
   "metadata": {},
   "outputs": [],
   "source": [
    "# check scaler\n",
    "plt.hist(Xtrain.iloc[:, 3])\n",
    "plt.show()\n",
    "plt.hist(Xtrain_scaled[:,3])\n",
    "plt.show()\n",
    "\n",
    "xcheck = scalerX.inverse_transform(Xtrain_scaled)\n",
    "plt.hist(xcheck[:,3])"
   ]
  },
  {
   "cell_type": "code",
   "execution_count": null,
   "metadata": {},
   "outputs": [],
   "source": [
    "print(Xtrain.shape,  Ytrain.shape, Xtest.shape, Ytest.shape)"
   ]
  },
  {
   "cell_type": "code",
   "execution_count": null,
   "metadata": {
    "collapsed": true
   },
   "outputs": [],
   "source": [
    "from sklearn.multioutput import MultiOutputRegressor\n",
    "from sklearn.ensemble import RandomForestRegressor"
   ]
  },
  {
   "cell_type": "code",
   "execution_count": null,
   "metadata": {
    "collapsed": true
   },
   "outputs": [],
   "source": [
    "# stt = time.time()\n",
    "# mor = MultiOutputRegressor(RandomForestRegressor(500, n_jobs = 4)).fit(Xtrain_scaled, Ytrain_scaled)\n",
    "# print(time.time() - stt) # ~ 13 minutes"
   ]
  },
  {
   "cell_type": "code",
   "execution_count": null,
   "metadata": {
    "collapsed": true
   },
   "outputs": [],
   "source": [
    "# # save RF model\n",
    "# from sklearn.externals import joblib\n",
    "# joblib.dump(mor, os.path.join(dataDir, \"FitRF_Scaled2.pkl\")) "
   ]
  },
  {
   "cell_type": "code",
   "execution_count": null,
   "metadata": {
    "collapsed": true
   },
   "outputs": [],
   "source": [
    "# mpreds = mor.predict(Xtest_scaled)"
   ]
  },
  {
   "cell_type": "code",
   "execution_count": null,
   "metadata": {
    "collapsed": true
   },
   "outputs": [],
   "source": [
    "# plt.close(\"all\")\n",
    "# fig, axs = plt.subplots(1,3, figsize=(15, 5), facecolor='w', edgecolor='k')\n",
    "# fig.subplots_adjust(hspace = 0.1, wspace=0.3)\n",
    "# fig.suptitle('Predicted vs. acutal for Mulit-output Random Forest Regressor (500 trees)', fontsize=14, fontweight='bold')\n",
    "\n",
    "# axs = axs.ravel()\n",
    "# nms = [\"tau\", \"Fx\", \"Fy\"]\n",
    "\n",
    "\n",
    "# for ii in range(3):\n",
    "#     # read in image\n",
    "    \n",
    "#     try:\n",
    "#         axs[ii].scatter(y = Ytest_scaled[:,ii],x = mpreds[:,ii], s = 1, c= 'indianred' )\n",
    "#         axs[ii].set_xlabel(\"Predicted Value (Scaled)\")\n",
    "#         if(ii == 0):\n",
    "#             axs[ii].set_ylabel(\"Actual Value\\n(Scaled)\")\n",
    "#             axs[ii].set_xlim([-10, 5])\n",
    "#         axs[ii].set_title(nms[ii])\n",
    "#         axs[ii].plot(Ytest_scaled[:,ii], Ytest_scaled[:,ii], 'maroon')\n",
    "#     except:\n",
    "#         pass\n",
    "\n",
    "    \n",
    "# fig.savefig(os.path.join(figDir, \"RFpreds_Scaled2.png\"), dpi = 120, bbox_inches='tight')"
   ]
  },
  {
   "cell_type": "markdown",
   "metadata": {},
   "source": [
    "## Multi-output neural network"
   ]
  },
  {
   "cell_type": "code",
   "execution_count": null,
   "metadata": {
    "collapsed": true
   },
   "outputs": [],
   "source": [
    "from sklearn.neural_network import MLPRegressor\n",
    "from sklearn.multioutput import MultiOutputRegressor\n"
   ]
  },
  {
   "cell_type": "code",
   "execution_count": null,
   "metadata": {},
   "outputs": [],
   "source": [
    "# stt = time.time()\n",
    "# nn1 = MLPRegressor(solver='lbfgs', alpha=0,\n",
    "#                   hidden_layer_sizes=(100, 6), max_iter=10000, \n",
    "#                   activation='tanh', verbose = True)\n",
    "# nnMod = MultiOutputRegressor(nn1).fit(Xtrain_scaled, Ytrain_scaled)\n",
    "# print(time.time() - stt) # takes 128 minutes on MBPro"
   ]
  },
  {
   "cell_type": "code",
   "execution_count": null,
   "metadata": {},
   "outputs": [],
   "source": [
    "# # save nn, so I can reload without retraining\n",
    "# from sklearn.externals import joblib\n",
    "# joblib.dump(nnMod, os.path.join(dataDir, \"TrainedNN_scaled_zerod.pkl\")) "
   ]
  },
  {
   "cell_type": "code",
   "execution_count": null,
   "metadata": {
    "collapsed": true
   },
   "outputs": [],
   "source": [
    "# load trained nn"
   ]
  },
  {
   "cell_type": "code",
   "execution_count": null,
   "metadata": {},
   "outputs": [],
   "source": [
    "from sklearn.externals import joblib\n",
    "nnMod = joblib.load(os.path.join(dataDir, \"TrainedNN_scaled_zerod.pkl\")) "
   ]
  },
  {
   "cell_type": "code",
   "execution_count": null,
   "metadata": {
    "collapsed": true
   },
   "outputs": [],
   "source": [
    "nnpreds = nnMod.predict(Xtest_scaled)"
   ]
  },
  {
   "cell_type": "code",
   "execution_count": null,
   "metadata": {},
   "outputs": [],
   "source": [
    "plt.close(\"all\")\n",
    "fig, axs = plt.subplots(1,3, figsize=(15, 5), facecolor='w', edgecolor='k')\n",
    "fig.subplots_adjust(hspace = 0.1, wspace=0.3)\n",
    "fig.suptitle('Predicted vs. acutal for 2-hidden-layer Neural Network', fontsize=14, fontweight='bold')\n",
    "\n",
    "axs = axs.ravel()\n",
    "nms = [\"tau\", \"Fx\", \"Fy\"]\n",
    "\n",
    "\n",
    "for ii in range(3):\n",
    "    # read in image\n",
    "    \n",
    "    try:\n",
    "        axs[ii].scatter(y = Ytest_scaled[:,ii],x = nnpreds[:,ii], s = 1 )\n",
    "        axs[ii].set_xlabel(\"Predicted Value (scaled)\")\n",
    "        if(ii == 0):\n",
    "            axs[ii].set_ylabel(\"Actual Value\\n(scaled)\")\n",
    "        axs[ii].set_title(nms[ii])\n",
    "        axs[ii].plot(Ytest_scaled[:,ii], Ytest_scaled[:,ii], 'b')\n",
    "    except:\n",
    "        pass\n",
    "\n",
    "    \n",
    "fig.savefig(os.path.join(figDir, \"NNPreds2_zerod.png\"), dpi = 120, bbox_inches='tight')"
   ]
  },
  {
   "cell_type": "markdown",
   "metadata": {},
   "source": [
    "# Compare simulation vs. nn preds for test set!"
   ]
  },
  {
   "cell_type": "code",
   "execution_count": null,
   "metadata": {},
   "outputs": [],
   "source": [
    "s1 = pd.concat([Xtest, Ytest], axis = 1).reset_index(drop = True)\n",
    "\n",
    "shuff2 = s1\n",
    "\n",
    "# predictions\n",
    "XX_scaled = scalerX.transform(shuff2.iloc[:, 0:16])\n",
    "nnpreds3 = nnMod.predict(XX_scaled)\n",
    "\n",
    "# add preds back to data frame\n",
    "nn_back = scalerY.inverse_transform(nnpreds3)\n",
    "preds1 = pd.DataFrame(nn_back)\n",
    "preds1.columns = [\"tau_pred\", \"Fx_pred\", \"Fy_pred\"]\n",
    "preds1[\"F_pred\"] = np.sqrt(preds1.Fx_pred **2 + preds1.Fy_pred **2)\n",
    "\n",
    "\n",
    "pre_alpha = np.arctan2(preds1.Fy_pred, preds1.Fx_pred )\n",
    "alpha = pre_alpha.copy()\n",
    "\n",
    "for ii in pre_alpha.index:\n",
    "    if (preds1.Fy_pred[ii] > 0) :\n",
    "        alpha[ii] = pre_alpha[ii]\n",
    "    else:\n",
    "        alpha[ii] = (2*np.pi) + pre_alpha[ii]\n",
    "        \n",
    "preds1[\"alpha_pred\"] = alpha\n",
    "\n",
    "\n",
    "preds1.head()"
   ]
  },
  {
   "cell_type": "code",
   "execution_count": null,
   "metadata": {},
   "outputs": [],
   "source": [
    "s2_1 = pd.concat([shuff2, preds1], axis = 1)\n",
    "s2_1.head()"
   ]
  },
  {
   "cell_type": "code",
   "execution_count": null,
   "metadata": {},
   "outputs": [],
   "source": [
    "s2_1.to_csv(os.path.join(dataDir, \"simulationData5_withFinal_testset.csv\"), index=False)\n",
    "print(dataDir)\n",
    "\n",
    "simSet1 = s2_1.loc[:, ['x_0', 'y_0', 'theta_0', 'phi_0', 'x_dot_0', 'y_dot_0', 'theta_dot_0',\n",
    "       'phi_dot_0', 'tau_pred','F_pred','alpha_pred']]\n",
    "\n",
    "\n",
    "simSet1.to_csv(os.path.join(dataDir, \"simulationDataset5_blinded_testset.csv\"), index=False)\n",
    "simSet1.head()"
   ]
  },
  {
   "cell_type": "code",
   "execution_count": null,
   "metadata": {},
   "outputs": [],
   "source": [
    "simSet1.shape"
   ]
  },
  {
   "cell_type": "markdown",
   "metadata": {},
   "source": [
    "___"
   ]
  },
  {
   "cell_type": "markdown",
   "metadata": {},
   "source": [
    "# Generate a new dataset, that is similar to training set"
   ]
  },
  {
   "cell_type": "code",
   "execution_count": null,
   "metadata": {},
   "outputs": [],
   "source": [
    "stds = Xtrain.std(axis = 0)\n",
    "means = Xtrain.mean(axis = 0)\n",
    "means"
   ]
  },
  {
   "cell_type": "code",
   "execution_count": null,
   "metadata": {},
   "outputs": [],
   "source": [
    "stds.index"
   ]
  },
  {
   "cell_type": "code",
   "execution_count": null,
   "metadata": {},
   "outputs": [],
   "source": [
    "from scipy.stats import norm\n",
    "# Note, arguments are norm.pdf(xvals,mean, std dev))\n",
    "\n",
    "sampList = []\n",
    "\n",
    "ii = 0\n",
    "\n",
    "for ii in range(len(stds.index)):\n",
    "    indd = stds.index[ii]\n",
    "    samps = np.random.normal(loc=means[indd], scale=stds[indd], size=1000)\n",
    "    sampList.append(samps)"
   ]
  },
  {
   "cell_type": "code",
   "execution_count": null,
   "metadata": {},
   "outputs": [],
   "source": [
    "generatedDatset = pd.DataFrame(np.transpose(sampList), columns = stds.index).reset_index(drop = True)\n",
    "generatedDatset.head()\n",
    "generatedDatset.loc[:, ['x_0', 'y_0', 'theta_0', 'phi_0', 'x_dot_0', 'y_dot_0', 'theta_dot_0',\n",
    "       'phi_dot_0']]"
   ]
  },
  {
   "cell_type": "code",
   "execution_count": null,
   "metadata": {},
   "outputs": [],
   "source": [
    "sns.pairplot(Xtrain.sample(5000, random_state = 123).loc[:, ['theta_0', 'phi_0', 'x_dot_0', 'y_dot_0', 'theta_dot_0',\n",
    "       'phi_dot_0']].reset_index(drop = True))"
   ]
  },
  {
   "cell_type": "code",
   "execution_count": null,
   "metadata": {},
   "outputs": [],
   "source": [
    "sns.pairplot(Xtrain.sample(5000, random_state = 123).loc[:, ['x_99', 'y_99','theta_99', 'phi_99', 'x_dot_99', 'y_dot_0', 'theta_dot_99',\n",
    "       'phi_dot_99']].reset_index(drop = True))"
   ]
  },
  {
   "cell_type": "code",
   "execution_count": null,
   "metadata": {},
   "outputs": [],
   "source": [
    "generatedDatset = pd.DataFrame(np.transpose(sampList), columns = stds.index).reset_index(drop = True)\n",
    "generatedDatset.loc[:, ['x_0', 'y_0', 'theta_0', 'phi_0', 'x_dot_0', 'y_dot_0', 'theta_dot_0',\n",
    "       'phi_dot_0']] = Xtrain.sample(1000, random_state = 123).loc[:, ['x_0', 'y_0', 'theta_0', 'phi_0', 'x_dot_0', 'y_dot_0', 'theta_dot_0',\n",
    "       'phi_dot_0']].reset_index(drop = True)\n",
    "\n",
    "generatedDatset = Xtrain.sample(1000, random_state = 123).reset_index(drop = True)\n",
    "generatedDatset.head()"
   ]
  },
  {
   "cell_type": "code",
   "execution_count": null,
   "metadata": {},
   "outputs": [],
   "source": [
    "# make predictions for generated data\n",
    "# predictions\n",
    "XX_scaled = scalerX.transform(generatedDatset)\n",
    "nnpreds3 = nnMod.predict(XX_scaled)\n",
    "\n",
    "# add preds back to data frame\n",
    "nn_back = scalerY.inverse_transform(nnpreds3)\n",
    "preds1 = pd.DataFrame(nn_back)\n",
    "preds1.columns = [\"tau_pred\", \"Fx_pred\", \"Fy_pred\"]\n",
    "preds1[\"F_pred\"] = np.sqrt(preds1.Fx_pred **2 + preds1.Fy_pred **2)\n",
    "\n",
    "\n",
    "pre_alpha = np.arctan2(preds1.Fy_pred, preds1.Fx_pred )\n",
    "alpha = pre_alpha.copy()\n",
    "\n",
    "for ii in pre_alpha.index:\n",
    "    if (preds1.Fy_pred[ii] > 0) :\n",
    "        alpha[ii] = pre_alpha[ii]\n",
    "    else:\n",
    "        alpha[ii] = (2*np.pi) + pre_alpha[ii]\n",
    "        \n",
    "preds1[\"alpha_pred\"] = alpha\n",
    "\n",
    "\n",
    "preds1.head()"
   ]
  },
  {
   "cell_type": "code",
   "execution_count": null,
   "metadata": {},
   "outputs": [],
   "source": [
    "s5 = pd.concat([generatedDatset, preds1], axis = 1)\n",
    "s5.head()"
   ]
  },
  {
   "cell_type": "code",
   "execution_count": null,
   "metadata": {},
   "outputs": [],
   "source": [
    "plt.hist(Ytrain.tau)\n",
    "plt.show()\n",
    "plt.hist(s5.tau_pred)"
   ]
  },
  {
   "cell_type": "code",
   "execution_count": null,
   "metadata": {},
   "outputs": [],
   "source": [
    "s5.to_csv(os.path.join(dataDir, \"simulationData6_withFinal_generatedtestset.csv\"), index=False)\n",
    "print(dataDir)\n",
    "\n",
    "simSet1 = s5.loc[:, ['x_0', 'y_0', 'theta_0', 'phi_0', 'x_dot_0', 'y_dot_0', 'theta_dot_0',\n",
    "       'phi_dot_0', 'tau_pred','F_pred','alpha_pred']]\n",
    "\n",
    "\n",
    "simSet1.to_csv(os.path.join(dataDir, \"simulationDataset6_blinded_generatedtestset.csv\"), index=False)\n",
    "simSet1.head()"
   ]
  },
  {
   "cell_type": "code",
   "execution_count": null,
   "metadata": {},
   "outputs": [],
   "source": [
    "# draw samples from normal dist'n\n",
    "samps = np.random.normal(loc=means['theta_0'], scale=stds['theta_0'], size=10000)\n",
    "sns.kdeplot(samps, bw=.2)"
   ]
  },
  {
   "cell_type": "code",
   "execution_count": null,
   "metadata": {},
   "outputs": [],
   "source": [
    "sns.kdeplot(Xtrain.theta_0, bw=.3)"
   ]
  },
  {
   "cell_type": "code",
   "execution_count": null,
   "metadata": {
    "collapsed": true
   },
   "outputs": [],
   "source": []
  },
  {
   "cell_type": "code",
   "execution_count": null,
   "metadata": {
    "collapsed": true
   },
   "outputs": [],
   "source": [
    "# refref: run simulation vs. nn preds for test set!\n"
   ]
  },
  {
   "cell_type": "markdown",
   "metadata": {},
   "source": [
    "___\n",
    "### Create dataset with same initial conditions and shuffle output conditions"
   ]
  },
  {
   "cell_type": "code",
   "execution_count": null,
   "metadata": {},
   "outputs": [],
   "source": [
    "s1 = combDF.iloc[:, np.hstack([np.arange(0,8),np.arange(792,800), [801, 802, 803]])].sample(1000, random_state = 1234)\n",
    "s1.reset_index(inplace = True)\n",
    "\n",
    "# set x_0 and y_0 to (0,0)  -- refref: may want to do this for training, actually\n",
    "s1.x_99 = s1.x_99 - s1.x_0\n",
    "s1.y_99 = s1.y_99 - s1.y_0\n",
    "\n",
    "s1.x_0 = 0\n",
    "s1.y_0 = 0\n",
    "\n",
    "s1.head()"
   ]
  },
  {
   "cell_type": "code",
   "execution_count": null,
   "metadata": {},
   "outputs": [],
   "source": [
    "s1.columns"
   ]
  },
  {
   "cell_type": "code",
   "execution_count": null,
   "metadata": {},
   "outputs": [],
   "source": [
    "sTemp = s1.loc[:, ['x_99', 'y_99', 'theta_99', 'phi_99',\n",
    "       'x_dot_99', 'y_dot_99', 'theta_dot_99', 'phi_dot_99']]\n",
    "sInit = s1.loc[:, ['index', 'x_0', 'y_0', 'theta_0', 'phi_0', 'x_dot_0', 'y_dot_0',\n",
    "       'theta_dot_0', 'phi_dot_0']]\n",
    "\n",
    "shuff = sTemp.sample(sTemp.shape[0], random_state = 12346)\n",
    "shuff2 = pd.concat([sInit, shuff.reset_index(drop = True)], axis = 1)\n",
    "\n",
    "\n",
    "\n",
    "shuff2.tail()"
   ]
  },
  {
   "cell_type": "code",
   "execution_count": null,
   "metadata": {},
   "outputs": [],
   "source": [
    "# predictions\n",
    "XX_scaled = scalerX.transform(shuff2.iloc[:, 1:17])\n",
    "nnpreds3 = nnMod.predict(XX_scaled)\n",
    "\n",
    "# add preds back to data frame\n",
    "nn_back = scalerY.inverse_transform(nnpreds3)\n",
    "preds1 = pd.DataFrame(nn_back)\n",
    "preds1.columns = [\"tau_pred\", \"Fx_pred\", \"Fy_pred\"]\n",
    "preds1[\"F_pred\"] = np.sqrt(preds1.Fx_pred **2 + preds1.Fy_pred **2)\n",
    "\n",
    "\n",
    "pre_alpha = np.arctan2(preds1.Fy_pred, preds1.Fx_pred )\n",
    "alpha = pre_alpha.copy()\n",
    "\n",
    "for ii in pre_alpha.index:\n",
    "    if (preds1.Fy_pred[ii] > 0) :\n",
    "        alpha[ii] = pre_alpha[ii]\n",
    "    else:\n",
    "        alpha[ii] = (2*np.pi) + pre_alpha[ii]\n",
    "        \n",
    "preds1[\"alpha_pred\"] = alpha\n",
    "\n",
    "\n",
    "preds1.head()"
   ]
  },
  {
   "cell_type": "code",
   "execution_count": null,
   "metadata": {},
   "outputs": [],
   "source": [
    "s2_1 = pd.concat([shuff2, preds1], axis = 1)\n",
    "s2_1.head()"
   ]
  },
  {
   "cell_type": "code",
   "execution_count": null,
   "metadata": {},
   "outputs": [],
   "source": [
    "s2_1.to_csv(os.path.join(dataDir, \"simulationData4_withFinal.csv\"), index=False)\n",
    "print(dataDir)\n",
    "\n",
    "simSet1 = s2_1.loc[:, ['x_0', 'y_0', 'theta_0', 'phi_0', 'x_dot_0', 'y_dot_0', 'theta_dot_0',\n",
    "       'phi_dot_0', 'tau_pred','F_pred','alpha_pred']]\n",
    "\n",
    "\n",
    "simSet1.to_csv(os.path.join(dataDir, \"simulationDataset4_blinded.csv\"), index=False)\n",
    "simSet1.head()"
   ]
  },
  {
   "cell_type": "code",
   "execution_count": null,
   "metadata": {
    "collapsed": true
   },
   "outputs": [],
   "source": [
    "# refref: might get better predictions if we set initial X and Y to (0,0) and\n",
    "# and transform output X and Y relative to the start"
   ]
  },
  {
   "cell_type": "code",
   "execution_count": null,
   "metadata": {
    "collapsed": true
   },
   "outputs": [],
   "source": []
  },
  {
   "cell_type": "code",
   "execution_count": null,
   "metadata": {
    "collapsed": true
   },
   "outputs": [],
   "source": []
  },
  {
   "cell_type": "code",
   "execution_count": null,
   "metadata": {
    "collapsed": true
   },
   "outputs": [],
   "source": []
  },
  {
   "cell_type": "code",
   "execution_count": null,
   "metadata": {
    "collapsed": true
   },
   "outputs": [],
   "source": []
  },
  {
   "cell_type": "code",
   "execution_count": null,
   "metadata": {
    "collapsed": true
   },
   "outputs": [],
   "source": []
  },
  {
   "cell_type": "code",
   "execution_count": null,
   "metadata": {
    "collapsed": true
   },
   "outputs": [],
   "source": []
  },
  {
   "cell_type": "code",
   "execution_count": null,
   "metadata": {
    "collapsed": true
   },
   "outputs": [],
   "source": []
  },
  {
   "cell_type": "code",
   "execution_count": null,
   "metadata": {
    "collapsed": true
   },
   "outputs": [],
   "source": []
  },
  {
   "cell_type": "markdown",
   "metadata": {},
   "source": [
    "--- Dataset to check in Jorge's simulation ---"
   ]
  },
  {
   "cell_type": "code",
   "execution_count": null,
   "metadata": {
    "collapsed": true
   },
   "outputs": [],
   "source": [
    "## generate dataset for Jorge to send to model\n",
    "s1 = combDF.iloc[:, np.hstack([np.arange(0,8),np.arange(792,800), [801, 802, 803]])].sample(1000)\n",
    "s1.head()"
   ]
  },
  {
   "cell_type": "code",
   "execution_count": null,
   "metadata": {
    "collapsed": true
   },
   "outputs": [],
   "source": [
    "# predictions\n",
    "XX_scaled = scalerX.transform(s1.iloc[:, 0:16])\n",
    "nnpreds2 = nnMod.predict(XX_scaled)"
   ]
  },
  {
   "cell_type": "code",
   "execution_count": null,
   "metadata": {
    "collapsed": true
   },
   "outputs": [],
   "source": [
    "s1.iloc[:, 0:16].shape"
   ]
  },
  {
   "cell_type": "code",
   "execution_count": null,
   "metadata": {
    "collapsed": true
   },
   "outputs": [],
   "source": [
    "s1[\"Fx\"] = s1.F * np.cos(s1.alpha)\n",
    "s1[\"Fy\"] = s1.F * np.sin(s1.alpha)\n",
    "s1.head()"
   ]
  },
  {
   "cell_type": "code",
   "execution_count": null,
   "metadata": {
    "collapsed": true
   },
   "outputs": [],
   "source": [
    "# compute F, alpha, to double check\n",
    "s1[\"F_\"] = np.sqrt(s1.Fx **2 + s1.Fy **2)\n",
    "\n",
    "\n",
    "pre_alpha = np.arctan2(s1.Fy, s1.Fx )\n",
    "alpha = pre_alpha.copy()\n",
    "\n",
    "for ii in pre_alpha.index:\n",
    "    if (s1.Fy[ii] > 0) :\n",
    "        alpha[ii] = pre_alpha[ii]\n",
    "    else:\n",
    "        alpha[ii] = (2*np.pi) + pre_alpha[ii]\n",
    "        \n",
    "s1[\"alpha_\"] = alpha\n",
    "s1.head()"
   ]
  },
  {
   "cell_type": "code",
   "execution_count": null,
   "metadata": {
    "collapsed": true
   },
   "outputs": [],
   "source": [
    "YY_scaled = scalerY.transform(s1.iloc[:, [18, 19, 20]])\n",
    "pd.DataFrame(YY_scaled).head()"
   ]
  },
  {
   "cell_type": "code",
   "execution_count": null,
   "metadata": {
    "collapsed": true
   },
   "outputs": [],
   "source": [
    "# plot to double-check\n",
    "plt.close(\"all\")\n",
    "fig, axs = plt.subplots(1,3, figsize=(15, 5), facecolor='w', edgecolor='k')\n",
    "fig.subplots_adjust(hspace = 0.1, wspace=0.3)\n",
    "fig.suptitle('Predicted vs. acutal for subset', fontsize=14, fontweight='bold')\n",
    "\n",
    "axs = axs.ravel()\n",
    "\n",
    "# convert back to original values\n",
    "nn_back = scalerY.inverse_transform(nnpreds2)\n",
    "YY_orig = s1.iloc[:, [18, 19, 20]]\n",
    "\n",
    "\n",
    "for ii in range(3):\n",
    "    # read in image\n",
    "    \n",
    "    try:\n",
    "        axs[ii].scatter(y = YY_orig.iloc[:,ii],x = nn_back[:,ii], s = 1 )\n",
    "        axs[ii].set_xlabel(\"Predicted Value (scaled)\")\n",
    "        if(ii == 0):\n",
    "            axs[ii].set_ylabel(\"Actual Value\\n(scaled)\")\n",
    "        axs[ii].set_title(nms[ii])\n",
    "        axs[ii].plot(nn_back[:,ii], nn_back[:,ii], 'b')\n",
    "    except:\n",
    "        pass"
   ]
  },
  {
   "cell_type": "code",
   "execution_count": null,
   "metadata": {
    "collapsed": true
   },
   "outputs": [],
   "source": [
    "# add predictions to data frame\n",
    "preds1 = pd.DataFrame(nn_back)\n",
    "preds1.columns = [\"tau_pred\", \"Fx_pred\", \"Fy_pred\"]\n",
    "preds1.head()"
   ]
  },
  {
   "cell_type": "code",
   "execution_count": null,
   "metadata": {
    "collapsed": true
   },
   "outputs": [],
   "source": [
    "cc2 = pd.concat([s1.reset_index(drop=True), preds1.reset_index(drop=True)], axis = 1)\n",
    "cc2.head()"
   ]
  },
  {
   "cell_type": "code",
   "execution_count": null,
   "metadata": {
    "collapsed": true
   },
   "outputs": [],
   "source": [
    "cc2[\"F_pred\"] = np.sqrt(cc2.Fx_pred **2 + cc2.Fy_pred **2)\n",
    "\n",
    "\n",
    "pre_alpha = np.arctan2(cc2.Fy_pred, cc2.Fx_pred )\n",
    "alpha = pre_alpha.copy()\n",
    "\n",
    "for ii in pre_alpha.index:\n",
    "    if (cc2.Fy_pred[ii] > 0) :\n",
    "        alpha[ii] = pre_alpha[ii]\n",
    "    else:\n",
    "        alpha[ii] = (2*np.pi) + pre_alpha[ii]\n",
    "        \n",
    "cc2[\"alpha_pred\"] = alpha"
   ]
  },
  {
   "cell_type": "code",
   "execution_count": null,
   "metadata": {
    "collapsed": true
   },
   "outputs": [],
   "source": [
    "cc2.head()"
   ]
  },
  {
   "cell_type": "code",
   "execution_count": null,
   "metadata": {
    "collapsed": true
   },
   "outputs": [],
   "source": [
    "cc2.columns"
   ]
  },
  {
   "cell_type": "code",
   "execution_count": null,
   "metadata": {
    "collapsed": true
   },
   "outputs": [],
   "source": [
    "cc2.to_csv(os.path.join(dataDir, \"simulationData1_withFinal.csv\"), index=False)\n",
    "print(dataDir)"
   ]
  },
  {
   "cell_type": "code",
   "execution_count": null,
   "metadata": {
    "collapsed": true
   },
   "outputs": [],
   "source": [
    "simSet1 = cc2.loc[:, ['x_0', 'y_0', 'theta_0', 'phi_0', 'x_dot_0', 'y_dot_0', 'theta_dot_0',\n",
    "       'phi_dot_0', 'tau_pred','F_pred','alpha_pred']]\n",
    "simSet1.head()"
   ]
  },
  {
   "cell_type": "code",
   "execution_count": null,
   "metadata": {
    "collapsed": true
   },
   "outputs": [],
   "source": [
    "simSet1.to_csv(os.path.join(dataDir, \"simulationDataset1_blinded.csv\"), index=False)\n",
    "print(dataDir)"
   ]
  },
  {
   "cell_type": "markdown",
   "metadata": {},
   "source": [
    "--- Dataset #2 ---"
   ]
  },
  {
   "cell_type": "code",
   "execution_count": null,
   "metadata": {
    "collapsed": true
   },
   "outputs": [],
   "source": [
    "## now build another training dataset, that is random combinations of initial values\n",
    "\n",
    "def shuffle(df, n=1, axis=0):     \n",
    "    df = df.copy()\n",
    "    for _ in range(n):\n",
    "        df.apply(np.random.shuffle, axis=axis)\n",
    "    return df"
   ]
  },
  {
   "cell_type": "code",
   "execution_count": null,
   "metadata": {
    "collapsed": true
   },
   "outputs": [],
   "source": [
    "ss = combDF.iloc[:, np.hstack([np.arange(0,8),np.arange(792,800)])].sample(1500)\n",
    "ss.reset_index(drop = True, inplace = True)\n",
    "ss.head()"
   ]
  },
  {
   "cell_type": "code",
   "execution_count": null,
   "metadata": {
    "collapsed": true
   },
   "outputs": [],
   "source": [
    "s2 = shuffle(ss)\n",
    "s2.head()"
   ]
  },
  {
   "cell_type": "code",
   "execution_count": null,
   "metadata": {
    "collapsed": true
   },
   "outputs": [],
   "source": [
    "# predict on shuffled data\n",
    "s2_scaled = scalerX.transform(s2)\n",
    "nnpreds3 = nnMod.predict(s2_scaled)"
   ]
  },
  {
   "cell_type": "code",
   "execution_count": null,
   "metadata": {
    "collapsed": true
   },
   "outputs": [],
   "source": [
    "# add preds back to data frame\n",
    "nn_back = scalerY.inverse_transform(nnpreds3)\n",
    "preds1 = pd.DataFrame(nn_back)\n",
    "preds1.columns = [\"tau_pred\", \"Fx_pred\", \"Fy_pred\"]\n",
    "preds1[\"F_pred\"] = np.sqrt(preds1.Fx_pred **2 + preds1.Fy_pred **2)\n",
    "\n",
    "\n",
    "pre_alpha = np.arctan2(preds1.Fy_pred, preds1.Fx_pred )\n",
    "alpha = pre_alpha.copy()\n",
    "\n",
    "for ii in pre_alpha.index:\n",
    "    if (preds1.Fy_pred[ii] > 0) :\n",
    "        alpha[ii] = pre_alpha[ii]\n",
    "    else:\n",
    "        alpha[ii] = (2*np.pi) + pre_alpha[ii]\n",
    "        \n",
    "preds1[\"alpha_pred\"] = alpha\n",
    "\n",
    "\n",
    "preds1.head()"
   ]
  },
  {
   "cell_type": "code",
   "execution_count": null,
   "metadata": {
    "collapsed": true
   },
   "outputs": [],
   "source": [
    "s2_1 = pd.concat([s2, preds1], axis = 1)\n",
    "s2_1.head()"
   ]
  },
  {
   "cell_type": "code",
   "execution_count": null,
   "metadata": {
    "collapsed": true
   },
   "outputs": [],
   "source": [
    "s2_1.to_csv(os.path.join(dataDir, \"simulationData2_withFinal.csv\"), index=False)\n",
    "\n",
    "simSet2 = s2_1.loc[:, ['x_0', 'y_0', 'theta_0', 'phi_0', 'x_dot_0', 'y_dot_0', 'theta_dot_0',\n",
    "       'phi_dot_0', 'tau_pred','F_pred','alpha_pred']]\n",
    "\n",
    "simSet2.to_csv(os.path.join(dataDir, \"simulationDataset2_blinded.csv\"), index=False)\n",
    "simSet2.head()"
   ]
  },
  {
   "cell_type": "markdown",
   "metadata": {},
   "source": [
    "___"
   ]
  },
  {
   "cell_type": "markdown",
   "metadata": {},
   "source": [
    "___ Dataset 3 -- Sample initial and get randomized final states \n",
    "\n",
    "#\n",
    "#\n",
    "#\n"
   ]
  },
  {
   "cell_type": "markdown",
   "metadata": {},
   "source": [
    "___"
   ]
  },
  {
   "cell_type": "code",
   "execution_count": null,
   "metadata": {
    "collapsed": true
   },
   "outputs": [],
   "source": [
    "ss = combDF.iloc[:, np.hstack([np.arange(0,8),np.arange(792,800)])].sample(1200)\n",
    "ss.reset_index(drop = True, inplace = True)\n",
    "ss.head()"
   ]
  },
  {
   "cell_type": "code",
   "execution_count": null,
   "metadata": {
    "collapsed": true
   },
   "outputs": [],
   "source": [
    "# only mix up possible output states\n",
    "s3_1 = shuffle(ss.iloc[:, 8:])\n",
    "s3_2 = pd.concat([ss.iloc[:,0:8], s3_1], axis = 1)\n",
    "s3_2.head()"
   ]
  },
  {
   "cell_type": "code",
   "execution_count": null,
   "metadata": {
    "collapsed": true
   },
   "outputs": [],
   "source": [
    "# predict on shuffled data\n",
    "s3_scaled = scalerX.transform(s3_2)\n",
    "nnpreds3_1 = nnMod.predict(s3_scaled)"
   ]
  },
  {
   "cell_type": "code",
   "execution_count": null,
   "metadata": {
    "collapsed": true
   },
   "outputs": [],
   "source": [
    "# add preds back to data frame\n",
    "nn_back = scalerY.inverse_transform(nnpreds3_1)\n",
    "preds1 = pd.DataFrame(nn_back)\n",
    "preds1.columns = [\"tau_pred\", \"Fx_pred\", \"Fy_pred\"]\n",
    "preds1[\"F_pred\"] = np.sqrt(preds1.Fx_pred **2 + preds1.Fy_pred **2)\n",
    "\n",
    "\n",
    "pre_alpha = np.arctan2(preds1.Fy_pred, preds1.Fx_pred )\n",
    "alpha = pre_alpha.copy()\n",
    "\n",
    "for ii in pre_alpha.index:\n",
    "    if (preds1.Fy_pred[ii] > 0) :\n",
    "        alpha[ii] = pre_alpha[ii]\n",
    "    else:\n",
    "        alpha[ii] = (2*np.pi) + pre_alpha[ii]\n",
    "        \n",
    "preds1[\"alpha_pred\"] = alpha\n",
    "\n",
    "\n",
    "preds1.head()"
   ]
  },
  {
   "cell_type": "code",
   "execution_count": null,
   "metadata": {
    "collapsed": true
   },
   "outputs": [],
   "source": [
    "s3_4 = pd.concat([s3_2, preds1], axis = 1)\n",
    "s3_4.head()"
   ]
  },
  {
   "cell_type": "code",
   "execution_count": null,
   "metadata": {
    "collapsed": true
   },
   "outputs": [],
   "source": [
    "s3_4.to_csv(os.path.join(dataDir, \"simulationData3_withFinal.csv\"), index=False)\n",
    "\n",
    "simSet3 = s3_4.loc[:, ['x_0', 'y_0', 'theta_0', 'phi_0', 'x_dot_0', 'y_dot_0', 'theta_dot_0',\n",
    "       'phi_dot_0', 'tau_pred','F_pred','alpha_pred']]\n",
    "\n",
    "simSet3.to_csv(os.path.join(dataDir, \"simulationDataset3_blinded.csv\"), index=False)\n",
    "simSet3.head()"
   ]
  },
  {
   "cell_type": "code",
   "execution_count": null,
   "metadata": {
    "collapsed": true
   },
   "outputs": [],
   "source": []
  },
  {
   "cell_type": "code",
   "execution_count": null,
   "metadata": {
    "collapsed": true
   },
   "outputs": [],
   "source": []
  },
  {
   "cell_type": "code",
   "execution_count": null,
   "metadata": {
    "collapsed": true
   },
   "outputs": [],
   "source": []
  },
  {
   "cell_type": "code",
   "execution_count": null,
   "metadata": {
    "collapsed": true
   },
   "outputs": [],
   "source": []
  },
  {
   "cell_type": "code",
   "execution_count": null,
   "metadata": {
    "collapsed": true
   },
   "outputs": [],
   "source": []
  },
  {
   "cell_type": "code",
   "execution_count": null,
   "metadata": {
    "collapsed": true
   },
   "outputs": [],
   "source": []
  },
  {
   "cell_type": "code",
   "execution_count": null,
   "metadata": {
    "collapsed": true
   },
   "outputs": [],
   "source": [
    "## nn practice\n",
    "\n",
    "Xx = np.transpose(np.array([np.arange(-10, 10, step = 0.001), np.random.uniform(size = 20000)]))\n",
    "Xx_scaled = sklearn.preprocessing.scale(Xx, axis = 0)\n",
    "Yy = np.sin(Xx[:,0]) *4 **2 + 50\n",
    "Yy_scaled = sklearn.preprocessing.scale(Yy, axis = 0)\n",
    "plt.plot(Xx_scaled[:,0], Yy)\n",
    "plt.show()\n",
    "plt.scatter(Xx_scaled[:,1], Yy, s = 1)"
   ]
  },
  {
   "cell_type": "code",
   "execution_count": null,
   "metadata": {
    "collapsed": true
   },
   "outputs": [],
   "source": [
    "plt.hist(Xx_scaled[:,1])"
   ]
  },
  {
   "cell_type": "code",
   "execution_count": null,
   "metadata": {
    "collapsed": true
   },
   "outputs": [],
   "source": [
    "stt = time.time()\n",
    "nn1 = MLPRegressor(solver='lbfgs', alpha=0,\n",
    "                  hidden_layer_sizes=(10,10), max_iter=1000, \n",
    "                  verbose = True, tol=0.0000100,\n",
    "                  activation='tanh')\n",
    "nnMod = nn1.fit(Xx_scaled, Yy)\n",
    "print(time.time() - stt)"
   ]
  },
  {
   "cell_type": "code",
   "execution_count": null,
   "metadata": {
    "collapsed": true
   },
   "outputs": [],
   "source": [
    "nnpreds = nnMod.predict(Xx_scaled)"
   ]
  },
  {
   "cell_type": "code",
   "execution_count": null,
   "metadata": {
    "collapsed": true
   },
   "outputs": [],
   "source": [
    "plt.scatter(x = Xx_scaled[:,0], y = Yy)\n",
    "plt.scatter(x = Xx_scaled[:,0], y = nnpreds)"
   ]
  },
  {
   "cell_type": "code",
   "execution_count": null,
   "metadata": {
    "collapsed": true
   },
   "outputs": [],
   "source": [
    "plt.scatter(x = Xx_scaled[:,0], y = Yy_scaled)\n",
    "plt.scatter(x = Xx_scaled[:,0], y = nnpreds)"
   ]
  },
  {
   "cell_type": "code",
   "execution_count": null,
   "metadata": {
    "collapsed": true,
    "scrolled": true
   },
   "outputs": [],
   "source": [
    "plt.scatter(x = nnpreds, y = Yy)"
   ]
  },
  {
   "cell_type": "code",
   "execution_count": null,
   "metadata": {
    "collapsed": true
   },
   "outputs": [],
   "source": []
  },
  {
   "cell_type": "code",
   "execution_count": null,
   "metadata": {
    "collapsed": true
   },
   "outputs": [],
   "source": []
  },
  {
   "cell_type": "code",
   "execution_count": null,
   "metadata": {
    "collapsed": true
   },
   "outputs": [],
   "source": [
    "# merge with F, alpha, tau\n",
    "Vdta = Vmat[\"ValSp3\"]\n",
    "dd2 = pd.DataFrame(Vdta)\n",
    "dd2.columns = np.append([new_cols[ii] +\"_\" +str(99) for ii in range(8)], [\"F\", \"alpha\", \"tau\"])\n",
    "print(dd2.shape)\n",
    "dd2.head()"
   ]
  },
  {
   "cell_type": "code",
   "execution_count": null,
   "metadata": {
    "collapsed": true
   },
   "outputs": [],
   "source": [
    "ff = dd\n",
    "\n",
    "\n",
    "stp = 8\n",
    "for stp in np.arange(10):\n",
    "    xx = 1\n",
    "    yy = 2\n",
    "    for ii in np.arange(1000):\n",
    "        plt.scatter(ff.iloc[stp*100:(stp+1)*100,xx], ff.iloc[stp*100:(stp+1)*100, yy], s = 1)\n",
    "        xx += 8\n",
    "        yy +=8\n",
    "    plt.show()\n"
   ]
  },
  {
   "cell_type": "code",
   "execution_count": null,
   "metadata": {
    "collapsed": true
   },
   "outputs": [],
   "source": [
    "ii = 200\n",
    "\n",
    "for jj in np.arange(0, dta.shape[0], step = 8):\n",
    "    plt.scatter(dta[ii:ii+100, jj], dta[ii:ii+100, jj + 1], s = 1)"
   ]
  },
  {
   "cell_type": "code",
   "execution_count": null,
   "metadata": {
    "collapsed": true
   },
   "outputs": [],
   "source": []
  },
  {
   "cell_type": "code",
   "execution_count": null,
   "metadata": {
    "collapsed": true
   },
   "outputs": [],
   "source": []
  },
  {
   "cell_type": "code",
   "execution_count": null,
   "metadata": {
    "collapsed": true
   },
   "outputs": [],
   "source": [
    "new_cols = [\"x\", \"y\", \"theta\", \"phi\", \"x_dot\", \"y_dot\", \"theta_dot\", \"phi_dot\"]"
   ]
  },
  {
   "cell_type": "code",
   "execution_count": null,
   "metadata": {
    "collapsed": true
   },
   "outputs": [],
   "source": [
    "# another possible way to rearrange the data\n",
    "ss = 8\n",
    "a = dta\n",
    "bb = np.array(np.zeros(a.shape)).reshape([-1, ss])\n",
    "bb.shape"
   ]
  },
  {
   "cell_type": "code",
   "execution_count": null,
   "metadata": {
    "collapsed": true
   },
   "outputs": [],
   "source": [
    "a.shape[1]\n",
    "a.shape[0]\n",
    "pd.DataFrame(a[0:10, :])"
   ]
  },
  {
   "cell_type": "code",
   "execution_count": null,
   "metadata": {
    "collapsed": true
   },
   "outputs": [],
   "source": []
  },
  {
   "cell_type": "code",
   "execution_count": null,
   "metadata": {
    "collapsed": true
   },
   "outputs": [],
   "source": [
    "for kk in np.arange(0, a.shape[1], step = a.shape[0]):\n",
    "    bb[kk:(kk+a.shape[0]),0:ss] = a[0:, kk:(ss+kk)]  \n",
    "\n",
    "    \n",
    "cc = pd.DataFrame(bb)\n",
    "cc.columns = new_cols\n",
    "cc"
   ]
  },
  {
   "cell_type": "code",
   "execution_count": null,
   "metadata": {
    "collapsed": true
   },
   "outputs": [],
   "source": [
    "for ii in np.arange(0, 10000, step = 100):\n",
    "    plt.scatter(cc.loc[ii:ii+100, \"x\"],cc.loc[ii:ii+100, \"y\"], s = 1)"
   ]
  },
  {
   "cell_type": "code",
   "execution_count": null,
   "metadata": {
    "collapsed": true
   },
   "outputs": [],
   "source": []
  },
  {
   "cell_type": "code",
   "execution_count": null,
   "metadata": {
    "collapsed": true
   },
   "outputs": [],
   "source": []
  },
  {
   "cell_type": "code",
   "execution_count": null,
   "metadata": {
    "collapsed": true
   },
   "outputs": [],
   "source": [
    "dd2 = dta.reshape((-1, 8))\n",
    "dd3 = pd.DataFrame(dd2)"
   ]
  },
  {
   "cell_type": "code",
   "execution_count": null,
   "metadata": {
    "collapsed": true
   },
   "outputs": [],
   "source": [
    "dd3.columns =  [\"x\", \"y\", \"theta\", \"phi\", \"x_dot\", \"y_dot\", \"theta_dot\", \"phi_dot\"]\n",
    "dd3.head()\n",
    "\n",
    "plt.scatter(dd3.loc[1:10000, \"x\"],dd3.loc[1:10000, \"y\"], s = 1 )"
   ]
  },
  {
   "cell_type": "code",
   "execution_count": null,
   "metadata": {
    "collapsed": true
   },
   "outputs": [],
   "source": [
    "dta.shape[1]"
   ]
  },
  {
   "cell_type": "code",
   "execution_count": null,
   "metadata": {
    "collapsed": true
   },
   "outputs": [],
   "source": [
    "new_cols = [\"x\", \"y\", \"theta\", \"phi\", \"x_dot\", \"y_dot\", \"theta_dot\", \"phi_dot\"]"
   ]
  },
  {
   "cell_type": "code",
   "execution_count": null,
   "metadata": {
    "collapsed": true
   },
   "outputs": [],
   "source": [
    "initialCond = dta[np.arange(0, dta.shape[0], step = 100),: ]\n",
    "finalCond = dta[np.arange(99, dta.shape[0], step = 100), :]"
   ]
  },
  {
   "cell_type": "code",
   "execution_count": null,
   "metadata": {
    "collapsed": true
   },
   "outputs": [],
   "source": [
    "# reshape data\n",
    "i2 = initialCond.reshape((250000, 8))\n",
    "f2 = finalCond.reshape((250000, 8))"
   ]
  },
  {
   "cell_type": "code",
   "execution_count": null,
   "metadata": {
    "collapsed": true
   },
   "outputs": [],
   "source": [
    "#pd.DataFrame(i2[2495:2555, ])"
   ]
  },
  {
   "cell_type": "code",
   "execution_count": null,
   "metadata": {
    "collapsed": true
   },
   "outputs": [],
   "source": []
  },
  {
   "cell_type": "code",
   "execution_count": null,
   "metadata": {
    "collapsed": true
   },
   "outputs": [],
   "source": []
  },
  {
   "cell_type": "code",
   "execution_count": null,
   "metadata": {
    "collapsed": true
   },
   "outputs": [],
   "source": []
  },
  {
   "cell_type": "code",
   "execution_count": null,
   "metadata": {
    "collapsed": true
   },
   "outputs": [],
   "source": [
    "conddta = np.hstack((i2, f2))\n",
    "condDta2 = pd.DataFrame(conddta)\n",
    "condDta2.columns = np.concatenate(([ii + \"_i\" for ii in new_cols], [ii + \"\" for ii in new_cols]))\n",
    "print(condDta2.shape)\n",
    "condDta2.head()"
   ]
  },
  {
   "cell_type": "code",
   "execution_count": null,
   "metadata": {
    "collapsed": true
   },
   "outputs": [],
   "source": [
    "Vmat = scipy.io.loadmat(os.path.join(dataDir, \"ValSp3_1_am_con.mat\"))\n",
    "Vmat"
   ]
  },
  {
   "cell_type": "code",
   "execution_count": null,
   "metadata": {
    "collapsed": true
   },
   "outputs": [],
   "source": [
    "# this might work\n",
    "forceAngle = np.transpose(Vmat[\"ValSp3\"])\n",
    "fa = forceAngle.reshape((250000, 12), order = \"C\" )\n",
    "fa2=  pd.DataFrame(fa)\n",
    "fa2.columns = np.concatenate((new_cols, [\"F\", \"alpha\", \"tau\", \"cost\"]))\n",
    "fa2[\"Fx\"] = fa2.F * np.cos(fa2.alpha)\n",
    "fa2[\"Fy\"] = fa2.F * np.sin(fa2.alpha)\n",
    "fa2\n",
    "combDF = pd.merge(condDta2.dropna(), fa2.dropna(), left_on = new_cols, right_on = new_cols, how = \"inner\")\n"
   ]
  },
  {
   "cell_type": "code",
   "execution_count": null,
   "metadata": {
    "collapsed": true
   },
   "outputs": [],
   "source": [
    "combDF"
   ]
  },
  {
   "cell_type": "code",
   "execution_count": null,
   "metadata": {
    "collapsed": true
   },
   "outputs": [],
   "source": [
    "from sklearn.model_selection import train_test_split"
   ]
  },
  {
   "cell_type": "code",
   "execution_count": null,
   "metadata": {
    "collapsed": true
   },
   "outputs": [],
   "source": [
    "combDF.dropna().iloc[:, 0:16]"
   ]
  },
  {
   "cell_type": "code",
   "execution_count": null,
   "metadata": {
    "collapsed": true
   },
   "outputs": [],
   "source": [
    "# drop NA's\n",
    "X = np.array(combDF.dropna().iloc[:, 0:16])\n",
    "Y = np.array(combDF.dropna().iloc[:, [18, 20, 21]])\n",
    "\n",
    "# check: refref: not checked\n",
    "print(all(X[:,9] == Y[:,1]))\n",
    "print(len(X))\n",
    "\n",
    "#Y = Y[:, [10, 12, 13]]\n",
    "Y.shape"
   ]
  },
  {
   "cell_type": "code",
   "execution_count": null,
   "metadata": {
    "collapsed": true
   },
   "outputs": [],
   "source": [
    "from sklearn.model_selection import train_test_split\n",
    "Xtrain, Xtest, Ytrain, Ytest = train_test_split(X, Y, test_size=0.3)"
   ]
  },
  {
   "cell_type": "code",
   "execution_count": null,
   "metadata": {
    "collapsed": true
   },
   "outputs": [],
   "source": [
    "from sklearn.multioutput import MultiOutputRegressor\n",
    "from sklearn.ensemble import RandomForestRegressor\n",
    "\n",
    "mor = MultiOutputRegressor(RandomForestRegressor(1000, n_jobs = 4)).fit(X, Y)"
   ]
  },
  {
   "cell_type": "code",
   "execution_count": null,
   "metadata": {
    "collapsed": true
   },
   "outputs": [],
   "source": [
    "mpreds = mor.predict(Xtest)"
   ]
  },
  {
   "cell_type": "code",
   "execution_count": null,
   "metadata": {
    "collapsed": true
   },
   "outputs": [],
   "source": [
    "\n",
    "nms = [\"tau\", \"Fx\", \"Fy\"]\n",
    "\n",
    "for ii in range(3):\n",
    "    plt.scatter(y = Ytest[:,ii],x = mpreds[:,ii], s = 2 )\n",
    "    plt.xlabel(\"Predicted Value\")\n",
    "    plt.ylabel(\"Actual Value\")\n",
    "    plt.title(nms[ii])\n",
    "    plt.show()\n"
   ]
  },
  {
   "cell_type": "code",
   "execution_count": null,
   "metadata": {
    "collapsed": true
   },
   "outputs": [],
   "source": []
  },
  {
   "cell_type": "code",
   "execution_count": null,
   "metadata": {
    "collapsed": true
   },
   "outputs": [],
   "source": []
  },
  {
   "cell_type": "code",
   "execution_count": null,
   "metadata": {
    "collapsed": true
   },
   "outputs": [],
   "source": []
  },
  {
   "cell_type": "code",
   "execution_count": null,
   "metadata": {
    "collapsed": true
   },
   "outputs": [],
   "source": []
  },
  {
   "cell_type": "code",
   "execution_count": null,
   "metadata": {
    "collapsed": true
   },
   "outputs": [],
   "source": []
  },
  {
   "cell_type": "code",
   "execution_count": null,
   "metadata": {
    "collapsed": true
   },
   "outputs": [],
   "source": []
  },
  {
   "cell_type": "code",
   "execution_count": null,
   "metadata": {
    "collapsed": true
   },
   "outputs": [],
   "source": [
    "combDF.head()"
   ]
  },
  {
   "cell_type": "code",
   "execution_count": null,
   "metadata": {
    "collapsed": true
   },
   "outputs": [],
   "source": [
    "a = np.vstack((np.arange(8), np.arange(7, 15), np.arange(7, 15)))\n",
    "a"
   ]
  },
  {
   "cell_type": "code",
   "execution_count": null,
   "metadata": {
    "collapsed": true
   },
   "outputs": [],
   "source": [
    "ss = 2\n",
    "bb = np.array(np.zeros(a.shape)).reshape([-1, ss])\n",
    "bb"
   ]
  },
  {
   "cell_type": "code",
   "execution_count": null,
   "metadata": {
    "collapsed": true
   },
   "outputs": [],
   "source": [
    "np.arange(0, a.shape[1], step = 2)"
   ]
  },
  {
   "cell_type": "code",
   "execution_count": null,
   "metadata": {
    "collapsed": true
   },
   "outputs": [],
   "source": [
    "a.shape[0]"
   ]
  },
  {
   "cell_type": "code",
   "execution_count": null,
   "metadata": {
    "collapsed": true
   },
   "outputs": [],
   "source": [
    "ss = 2\n",
    "\n",
    "for kk in np.arange(0, a.shape[1], step = a.shape[0]):\n",
    "    bb[kk:(kk+a.shape[0]),0:ss] = a[0:, kk:(ss+kk)]  \n",
    "bb"
   ]
  },
  {
   "cell_type": "code",
   "execution_count": null,
   "metadata": {
    "collapsed": true
   },
   "outputs": [],
   "source": [
    "bb[kk:(kk+ss),0:ss]"
   ]
  },
  {
   "cell_type": "code",
   "execution_count": null,
   "metadata": {
    "collapsed": true
   },
   "outputs": [],
   "source": [
    "ss =2\n",
    "kk = 2\n",
    "\n",
    "a[0:, kk:(ss+kk)]\n",
    "bb[kk:(kk+a.shape[0]),0:ss]\n",
    "\n"
   ]
  },
  {
   "cell_type": "code",
   "execution_count": null,
   "metadata": {
    "collapsed": true
   },
   "outputs": [],
   "source": [
    "pd.DataFrame(a)"
   ]
  },
  {
   "cell_type": "code",
   "execution_count": null,
   "metadata": {
    "collapsed": true
   },
   "outputs": [],
   "source": [
    "# refref: figure out how to reshape this\n",
    "\n",
    "a.reshape((-1, 2), order = \"F\")"
   ]
  },
  {
   "cell_type": "code",
   "execution_count": null,
   "metadata": {
    "collapsed": true
   },
   "outputs": [],
   "source": [
    "np.reshape?"
   ]
  },
  {
   "cell_type": "code",
   "execution_count": null,
   "metadata": {
    "collapsed": true
   },
   "outputs": [],
   "source": [
    "dd = pd.DataFrame(fa)\n",
    "print(dd.shape)\n",
    "dd.head()"
   ]
  },
  {
   "cell_type": "code",
   "execution_count": null,
   "metadata": {
    "collapsed": true
   },
   "outputs": [],
   "source": [
    "fa = dd.transpose()\n",
    "fa.columns = np.concatenate((new_cols, [\"F\", \"alpha\", \"tau\", \"cost\"]))\n",
    "print(fa.shape)\n",
    "fa.head()"
   ]
  },
  {
   "cell_type": "code",
   "execution_count": null,
   "metadata": {
    "collapsed": true
   },
   "outputs": [],
   "source": [
    "# make Fx and Fy\n",
    "fa[\"Fx\"] = fa.F * np.cos(fa.alpha)\n",
    "fa[\"Fy\"] = fa.F * np.sin(fa.alpha)"
   ]
  },
  {
   "cell_type": "code",
   "execution_count": null,
   "metadata": {
    "collapsed": true
   },
   "outputs": [],
   "source": [
    "for ii in np.arange(1, spray.shape[1], step = 8):\n",
    "\n",
    "    tmparr = np.hstack((sparray[0, ii:ii+8], sparray[99, ii:ii+8]))\n",
    "\n",
    "    if ii == 1:\n",
    "        newArr = tmparr\n",
    "    else: \n",
    "        newArr = np.vstack((newArr, tmparr))"
   ]
  },
  {
   "cell_type": "code",
   "execution_count": null,
   "metadata": {
    "collapsed": true
   },
   "outputs": [],
   "source": [
    "newDF = pd.DataFrame(newArr)\n",
    "newDF.head()"
   ]
  },
  {
   "cell_type": "code",
   "execution_count": null,
   "metadata": {
    "collapsed": true
   },
   "outputs": [],
   "source": [
    "newDF.columns = np.concatenate(([ii + \"_i\" for ii in new_cols], [ii + \"\" for ii in new_cols]))"
   ]
  },
  {
   "cell_type": "code",
   "execution_count": null,
   "metadata": {
    "collapsed": true
   },
   "outputs": [],
   "source": [
    "print(newDF.shape)\n",
    "newDF.head()"
   ]
  },
  {
   "cell_type": "code",
   "execution_count": null,
   "metadata": {
    "collapsed": true
   },
   "outputs": [],
   "source": [
    "# drop NA's\n",
    "X = np.array(newDF.dropna())\n",
    "Y = np.array(fa.dropna())\n",
    "\n",
    "# check\n",
    "print(all(X[:,9] == Y[:,1]))\n",
    "print(len(X))\n",
    "\n",
    "Y = Y[:, [10, 12, 13]]\n",
    "Y.shape"
   ]
  },
  {
   "cell_type": "code",
   "execution_count": null,
   "metadata": {
    "collapsed": true
   },
   "outputs": [],
   "source": [
    "Y[0:10, ]"
   ]
  },
  {
   "cell_type": "code",
   "execution_count": null,
   "metadata": {
    "collapsed": true
   },
   "outputs": [],
   "source": [
    "combDF = pd.merge(newDF.dropna(), fa.dropna(), left_on = new_cols, right_on = new_cols, how = \"inner\")\n",
    "print(combDF.shape)\n",
    "combDF.head()"
   ]
  },
  {
   "cell_type": "code",
   "execution_count": null,
   "metadata": {
    "collapsed": true
   },
   "outputs": [],
   "source": [
    "# split into test and training set\n",
    "from sklearn.model_selection import train_test_split"
   ]
  },
  {
   "cell_type": "code",
   "execution_count": null,
   "metadata": {
    "collapsed": true
   },
   "outputs": [],
   "source": [
    "import tensorflow as tf"
   ]
  },
  {
   "cell_type": "code",
   "execution_count": null,
   "metadata": {
    "collapsed": true
   },
   "outputs": [],
   "source": [
    "from sklearn.model_selection import train_test_split\n",
    "Xtrain, Xtest, Ytrain, Ytest = train_test_split(X, Y, test_size=0.3)"
   ]
  },
  {
   "cell_type": "code",
   "execution_count": null,
   "metadata": {
    "collapsed": true
   },
   "outputs": [],
   "source": [
    "from sklearn.ensemble import RandomForestRegressor\n",
    "\n",
    "clf1 = RandomForestRegressor(1000, n_jobs = 4).fit(Xtrain, Ytrain)\n",
    "Ypred1 = clf1.predict(Xtest)\n",
    "\n",
    "fig, ax = plt.subplots()\n",
    "ax.plot(Ypred1[:, 0], Ypred1[:, 1], 'o', alpha=0.5)\n",
    "ax.set_xlabel('$y_1$'); ax.set_ylabel('$y_2$');"
   ]
  },
  {
   "cell_type": "code",
   "execution_count": null,
   "metadata": {
    "collapsed": true
   },
   "outputs": [],
   "source": [
    "for ii in range(3):\n",
    "    plt.scatter(Ytest[:,ii],Ypred1[:,ii] )\n",
    "    plt.show()"
   ]
  },
  {
   "cell_type": "code",
   "execution_count": null,
   "metadata": {
    "collapsed": true
   },
   "outputs": [],
   "source": [
    "class MultiOutputRF(object):\n",
    "    \n",
    "    '''From here: http://astrohackweek.org/blog/multi-output-random-forests.html'''\n",
    "    def __init__(self, *args, **kwargs):\n",
    "        self.args = args\n",
    "        self.kwargs = kwargs\n",
    "        \n",
    "    def fit(self, X, Y):\n",
    "        X, Y = map(np.atleast_2d, (X, Y))\n",
    "        assert X.shape[0] == Y.shape[0]\n",
    "        Ny = Y.shape[1]\n",
    "        \n",
    "        self.clfs = []\n",
    "        for i in range(Ny):\n",
    "            clf = RandomForestRegressor(*self.args, **self.kwargs)\n",
    "            Xi = np.hstack([X, Y[:, :i]])\n",
    "            yi = Y[:, i]\n",
    "            self.clfs.append(clf.fit(Xi, yi))\n",
    "            \n",
    "        return self\n",
    "        \n",
    "    def predict(self, X):\n",
    "        Y = np.empty([X.shape[0], len(self.clfs)])\n",
    "        for i, clf in enumerate(self.clfs):\n",
    "            Y[:, i] = clf.predict(np.hstack([X, Y[:, :i]]))\n",
    "        return Y"
   ]
  },
  {
   "cell_type": "code",
   "execution_count": null,
   "metadata": {
    "collapsed": true
   },
   "outputs": [],
   "source": [
    "clf2 = MultiOutputRF(1000, n_jobs = 4).fit(Xtrain, Ytrain)\n",
    "Ypred2 = clf2.predict(Xtest)"
   ]
  },
  {
   "cell_type": "code",
   "execution_count": null,
   "metadata": {
    "collapsed": true
   },
   "outputs": [],
   "source": [
    "# note: might want to break down into Fx and Fy, b/c radians don't work well with MSE\n",
    "\n",
    "nms = [\"tau\", \"Fx\", \"Fy\"]\n",
    "\n",
    "for ii in range(3):\n",
    "    plt.scatter(y = Ytest[:,ii],x = Ypred2[:,ii], s = 2 )\n",
    "    plt.xlabel(\"Predicted Value\")\n",
    "    plt.ylabel(\"Actual Value\")\n",
    "    plt.title(nms[ii])\n",
    "    plt.show()"
   ]
  },
  {
   "cell_type": "code",
   "execution_count": null,
   "metadata": {
    "collapsed": true
   },
   "outputs": [],
   "source": [
    "# this works surprisingly well\n",
    "\n",
    "from sklearn.multioutput import MultiOutputRegressor\n",
    "\n",
    "mor = MultiOutputRegressor(RandomForestRegressor(1000, n_jobs = 4)).fit(X, Y)"
   ]
  },
  {
   "cell_type": "code",
   "execution_count": null,
   "metadata": {
    "collapsed": true
   },
   "outputs": [],
   "source": [
    "mpreds = mor.predict(Xtest)"
   ]
  },
  {
   "cell_type": "code",
   "execution_count": null,
   "metadata": {
    "collapsed": true
   },
   "outputs": [],
   "source": [
    "nms = [\"tau\", \"Fx\", \"Fy\"]\n",
    "\n",
    "for ii in range(3):\n",
    "    plt.scatter(y = Ytest[:,ii],x = mpreds[:,ii], s = 2 )\n",
    "    plt.xlabel(\"Predicted Value\")\n",
    "    plt.ylabel(\"Actual Value\")\n",
    "    plt.title(nms[ii])\n",
    "    plt.show()"
   ]
  },
  {
   "cell_type": "code",
   "execution_count": null,
   "metadata": {
    "collapsed": true
   },
   "outputs": [],
   "source": [
    "# plot residuals\n",
    "nms = [\"tau\", \"Fx\", \"Fy\"]\n",
    "\n",
    "for ii in range(3):\n",
    "    plt.scatter(y = Ytest[:,ii]- mpreds[:,ii], x = np.arange(len(Ytest[:,ii])), s = 2 )\n",
    "    plt.xlabel(\"Predicted Value\")\n",
    "    plt.ylabel(\"Actual Value\")\n",
    "    plt.title(nms[ii])\n",
    "    plt.show()"
   ]
  },
  {
   "cell_type": "code",
   "execution_count": null,
   "metadata": {
    "collapsed": true
   },
   "outputs": [],
   "source": [
    "# refref: next step -- neural network\n",
    "#from sklearn import cross_validation\n",
    "#from sklearn.neural_network import MLPRegressor\n",
    "\n",
    "#model = MLPRegressor(solver='lbfgs',alpha=0.001,hidden_layer_sizes=(150,)) \n",
    "#cross_validation.cross_val_score(model, X, Y, scoring='mean_squared_error')"
   ]
  },
  {
   "cell_type": "code",
   "execution_count": null,
   "metadata": {
    "collapsed": true
   },
   "outputs": [],
   "source": [
    "# another possible way to rearrange the data\n",
    "ss = 12\n",
    "a = np.transpose(Vmat[\"ValSp3\"])\n",
    "bb = np.array(np.zeros(a.shape)).reshape([-1, ss])\n",
    "bb\n",
    "\n",
    "for kk in np.arange(0, a.shape[1], step = a.shape[0]):\n",
    "    bb[kk:(kk+a.shape[0]),0:ss] = a[0:, kk:(ss+kk)]  \n",
    "\n",
    "    \n",
    "forceAngle = pd.DataFrame(bb)\n",
    "forceAngle.columns = np.concatenate((new_cols, [\"F\", \"alpha\", \"tau\", \"cost\"]))\n",
    "forceAngle"
   ]
  }
 ],
 "metadata": {
  "kernelspec": {
   "display_name": "deeplearning",
   "language": "python",
   "name": "deeplearning"
  },
  "language_info": {
   "codemirror_mode": {
    "name": "ipython",
    "version": 3
   },
   "file_extension": ".py",
   "mimetype": "text/x-python",
   "name": "python",
   "nbconvert_exporter": "python",
   "pygments_lexer": "ipython3",
   "version": "3.6.4"
  }
 },
 "nbformat": 4,
 "nbformat_minor": 2
}
